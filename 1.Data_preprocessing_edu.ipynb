{
 "cells": [
  {
   "cell_type": "code",
   "execution_count": 2,
   "id": "81fa5b7b-0d13-4592-b87c-523fcd4d8714",
   "metadata": {},
   "outputs": [],
   "source": [
    "import pandas as pd\n",
    "import numpy as np\n",
    "\n",
    "import re\n",
    "from itertools import chain\n",
    "from collections import Counter\n",
    "\n",
    "from google.cloud import bigquery\n",
    "from google.oauth2 import service_account\n",
    "\n",
    "from datetime import datetime, timedelta\n",
    "\n",
    "import requests\n",
    "import warnings\n",
    "from requests.packages.urllib3.exceptions import InsecureRequestWarning\n",
    "\n",
    "# InsecureRequestWarning 경고 무시\n",
    "warnings.simplefilter('ignore', InsecureRequestWarning)"
   ]
  },
  {
   "cell_type": "code",
   "execution_count": 3,
   "id": "de7792c0",
   "metadata": {},
   "outputs": [],
   "source": [
    "KEY_PATH = \".config/\"\n",
    "servicekey_path = KEY_PATH + \"serviceKey.json\" ## 빅쿼리 외 다른 API 활용 위해\n",
    "bigquerykey_path = KEY_PATH + \"mido-project-426906-31b49963ac97.json\"\n",
    "\n",
    "warnings.filterwarnings(\"ignore\")"
   ]
  },
  {
   "cell_type": "code",
   "execution_count": 4,
   "id": "e426681b",
   "metadata": {},
   "outputs": [],
   "source": [
    "# BigQuery 클라이언트 생성 함수\n",
    "def create_bigquery_client(key_path):\n",
    "    credentials = service_account.Credentials.from_service_account_file(key_path)\n",
    "    client = bigquery.Client(credentials=credentials, project=credentials.project_id)\n",
    "    return client"
   ]
  },
  {
   "cell_type": "code",
   "execution_count": 5,
   "id": "1ae8163d",
   "metadata": {},
   "outputs": [],
   "source": [
    "def save_dataframe_to_bigquery(df, dataset_id, table_id, key_path):\n",
    "    # BigQuery 클라이언트 객체 생성\n",
    "    client = create_bigquery_client(key_path)\n",
    "\n",
    "    # 테이블 레퍼런스 생성\n",
    "    table_ref = client.dataset(dataset_id).table(table_id)\n",
    "\n",
    "    # 데이터프레임을 BigQuery 테이블에 적재\n",
    "    job_config = bigquery.LoadJobConfig()\n",
    "    job_config.write_disposition = \"WRITE_TRUNCATE\"  # 기존 테이블 내용 삭제 후 삽입\n",
    "\n",
    "    job = client.load_table_from_dataframe(df, table_ref, job_config=job_config)\n",
    "    job.result()  # 작업 완료 대기\n",
    "\n",
    "    print(f\"Data inserted into table {table_id} successfully.\")"
   ]
  },
  {
   "cell_type": "code",
   "execution_count": 6,
   "id": "72805c5d",
   "metadata": {},
   "outputs": [],
   "source": [
    "def get_dataframe_from_bigquery(dataset_id, table_id, key_path):\n",
    "    # BigQuery 클라이언트 생성\n",
    "    client = create_bigquery_client(key_path)\n",
    "\n",
    "    # 테이블 레퍼런스 생성\n",
    "    table_ref = client.dataset(dataset_id).table(table_id)\n",
    "\n",
    "    # 테이블 데이터를 DataFrame으로 변환\n",
    "    df = client.list_rows(table_ref).to_dataframe()\n",
    "\n",
    "    return df"
   ]
  },
  {
   "cell_type": "code",
   "execution_count": 7,
   "id": "c8f939ce",
   "metadata": {},
   "outputs": [],
   "source": [
    "# 오늘 날짜\n",
    "today = datetime.today()#.strftime('%Y%m%d')\n",
    "\n",
    "# 어제 날짜 계산\n",
    "ytday = datetime.today() - timedelta(days=1)\n",
    "\n",
    "# 만약 어제, 오늘이 토요일(5) 또는 일요일(6)이라면, 그 전주 금요일로 변경\n",
    "if ytday.weekday() == 5:  # 토요일\n",
    "    ytday -= timedelta(days=1)\n",
    "elif ytday.weekday() == 6:  # 일요일\n",
    "    ytday -= timedelta(days=2)\n",
    "if today.weekday() == 5:  # 토요일\n",
    "    today -= timedelta(days=1)\n",
    "elif today.weekday() == 6:  # 일요일\n",
    "    today -= timedelta(days=2)\n",
    "\n",
    "# 'YYYYMMDD' 형식으로 변환\n",
    "ytday = ytday.strftime('%Y%m%d')\n",
    "today = today.strftime('%Y%m%d')"
   ]
  },
  {
   "cell_type": "markdown",
   "id": "edba1a69",
   "metadata": {},
   "source": [
    "#### 법정동코드"
   ]
  },
  {
   "cell_type": "code",
   "execution_count": 8,
   "id": "427babe8",
   "metadata": {},
   "outputs": [],
   "source": [
    "dist_code = pd.read_csv('C:\\py_src\\midoproject\\data/법정동코드 전체자료.csv',encoding='cp949')"
   ]
  },
  {
   "cell_type": "code",
   "execution_count": 9,
   "id": "62a39fcd",
   "metadata": {},
   "outputs": [],
   "source": [
    "dist_code_list = []\n",
    "for i in range(dist_code['법정동명'].str.split().apply(len).max()):\n",
    "    dist_code_temp = dist_code[dist_code['법정동명'].str.split().str[i].str[-1].isin(['읍','면','동','리','가','로']).dropna()]\n",
    "    dist_code_list.append([dist_code_temp['법정동명'].str.split().str[i].dropna().unique()])\n",
    "\n",
    "emd_code_list = list(chain(*chain(*dist_code_list)))"
   ]
  },
  {
   "cell_type": "markdown",
   "id": "604a6a0e",
   "metadata": {},
   "source": [
    "#### 종합쇼핑몰 납품상세내역"
   ]
  },
  {
   "cell_type": "code",
   "execution_count": 10,
   "id": "54c3efeb",
   "metadata": {},
   "outputs": [],
   "source": [
    "all_shop_df = get_dataframe_from_bigquery('g2b', 'shop_detail_df_all', bigquerykey_path)"
   ]
  },
  {
   "cell_type": "code",
   "execution_count": 11,
   "id": "a84ea0fe",
   "metadata": {},
   "outputs": [],
   "source": [
    "all_shop_df_fin = all_shop_df[['납품요구접수일자', '수요기관명', '납품요구건명', '업체명', '단가', '단위', '수량', '금액', '수요기관코드', '수요기관구분', '수요기관지역명','납품요구지청명']]\n",
    "all_shop_df_fin = all_shop_df_fin.sort_values(['납품요구접수일자'],ascending=False).reset_index(drop=True)"
   ]
  },
  {
   "cell_type": "code",
   "execution_count": 12,
   "id": "f2310ea0",
   "metadata": {},
   "outputs": [],
   "source": [
    "# 특수문자, 숫자, 영어 제거 함수 (연속된 공백을 단일 공백으로 변환 포함)\n",
    "def clean_text(text):\n",
    "    text = re.sub('[^ㄱ-ㅎㅏ-ㅣ가-힣\\s]', ' ', text)\n",
    "    text = re.sub('\\s+', ' ', text).strip()  # 연속된 공백을 단일 공백으로 변환\n",
    "    return text"
   ]
  },
  {
   "cell_type": "code",
   "execution_count": 13,
   "id": "1a7746b0",
   "metadata": {},
   "outputs": [],
   "source": [
    "# 사업명 전처리\n",
    "all_shop_df_fin['납품요구건명_re'] = all_shop_df_fin['납품요구건명'].apply(clean_text)\n",
    "# all_shop_df_fin['납품요구건명_re'] = all_shop_df_fin['납품요구건명_re'].str.replace('초등학교','').str.replace('중학교','').str.replace('고등학교','')\n",
    "all_shop_df_fin['납품요구건명_re'] = all_shop_df_fin['납품요구건명_re'].str.strip()\n",
    "\n",
    "all_shop_df_fin['납품요구건명_re'] = all_shop_df_fin['납품요구건명_re'].str.split().apply(lambda x: [kw for kw in x if len(kw) > 1]) ## 글자수 1 제외\n",
    "all_shop_df_fin['납품요구건명_re'] = all_shop_df_fin['납품요구건명_re'].apply((' ').join)"
   ]
  },
  {
   "cell_type": "code",
   "execution_count": 14,
   "id": "5b4f42f3",
   "metadata": {},
   "outputs": [],
   "source": [
    "# 수요기관 필터링\n",
    "dist_nm = pd.Series(all_shop_df_fin['수요기관지역명'].str.split().str[1].dropna().unique())\n",
    "dist_nm = np.where(dist_nm.apply(len)<=2,dist_nm,dist_nm.str[:-1])"
   ]
  },
  {
   "cell_type": "markdown",
   "id": "27fb9178",
   "metadata": {},
   "source": [
    "#### 교육청 예산서"
   ]
  },
  {
   "cell_type": "code",
   "execution_count": 15,
   "id": "c803d484",
   "metadata": {},
   "outputs": [],
   "source": [
    "# # 빅쿼리에서 불러오기\n",
    "# edu_budget_df = get_dataframe_from_bigquery('edu','edu_budget',bigquerykey_path)\n",
    "# edu_budget_df.sort_values('시도').reset_index(drop=True)"
   ]
  },
  {
   "cell_type": "code",
   "execution_count": 16,
   "id": "4c861878",
   "metadata": {},
   "outputs": [
    {
     "data": {
      "text/html": [
       "<div>\n",
       "<style scoped>\n",
       "    .dataframe tbody tr th:only-of-type {\n",
       "        vertical-align: middle;\n",
       "    }\n",
       "\n",
       "    .dataframe tbody tr th {\n",
       "        vertical-align: top;\n",
       "    }\n",
       "\n",
       "    .dataframe thead th {\n",
       "        text-align: right;\n",
       "    }\n",
       "</style>\n",
       "<table border=\"1\" class=\"dataframe\">\n",
       "  <thead>\n",
       "    <tr style=\"text-align: right;\">\n",
       "      <th></th>\n",
       "      <th>시도</th>\n",
       "      <th>시군구</th>\n",
       "      <th>구분</th>\n",
       "      <th>과업명</th>\n",
       "      <th>금액</th>\n",
       "      <th>면적</th>\n",
       "      <th>예산집행</th>\n",
       "    </tr>\n",
       "  </thead>\n",
       "  <tbody>\n",
       "    <tr>\n",
       "      <th>0</th>\n",
       "      <td>강원특별자치도</td>\n",
       "      <td>강릉교육지원청</td>\n",
       "      <td>공립</td>\n",
       "      <td>경포중학교 야구장 시설개선</td>\n",
       "      <td>10,900,000</td>\n",
       "      <td>9,298</td>\n",
       "      <td>학교</td>\n",
       "    </tr>\n",
       "    <tr>\n",
       "      <th>1</th>\n",
       "      <td>강원특별자치도</td>\n",
       "      <td>강원특별자치도교육청</td>\n",
       "      <td>사립</td>\n",
       "      <td>동해광희고등학교 인조잔디운동장 보수</td>\n",
       "      <td>51,700,000</td>\n",
       "      <td>None</td>\n",
       "      <td>None</td>\n",
       "    </tr>\n",
       "    <tr>\n",
       "      <th>2</th>\n",
       "      <td>강원특별자치도</td>\n",
       "      <td>교육부</td>\n",
       "      <td>국립</td>\n",
       "      <td>강원대학교사범대학부설고등학교 인조잔디운동장조성 및 환경개선</td>\n",
       "      <td>2,442,350,000</td>\n",
       "      <td>None</td>\n",
       "      <td>None</td>\n",
       "    </tr>\n",
       "    <tr>\n",
       "      <th>3</th>\n",
       "      <td>강원특별자치도</td>\n",
       "      <td>인제교육지원청</td>\n",
       "      <td>공립</td>\n",
       "      <td>상남중학교 개방형 운동장 조성</td>\n",
       "      <td>725,302,000</td>\n",
       "      <td>6,507</td>\n",
       "      <td>교육청</td>\n",
       "    </tr>\n",
       "    <tr>\n",
       "      <th>4</th>\n",
       "      <td>강원특별자치도</td>\n",
       "      <td>강원특별자치도교육청</td>\n",
       "      <td>공립</td>\n",
       "      <td>강릉고등학교 야구장 시설개선</td>\n",
       "      <td>45,930,000</td>\n",
       "      <td>8,812</td>\n",
       "      <td>학교</td>\n",
       "    </tr>\n",
       "    <tr>\n",
       "      <th>...</th>\n",
       "      <td>...</td>\n",
       "      <td>...</td>\n",
       "      <td>...</td>\n",
       "      <td>...</td>\n",
       "      <td>...</td>\n",
       "      <td>...</td>\n",
       "      <td>...</td>\n",
       "    </tr>\n",
       "    <tr>\n",
       "      <th>167</th>\n",
       "      <td>충청남도</td>\n",
       "      <td>부여교육지원청</td>\n",
       "      <td>공립</td>\n",
       "      <td>부여여자중학교 유해운동장 교체</td>\n",
       "      <td>132,948,000</td>\n",
       "      <td>2,720</td>\n",
       "      <td>교육청</td>\n",
       "    </tr>\n",
       "    <tr>\n",
       "      <th>168</th>\n",
       "      <td>충청남도</td>\n",
       "      <td>당진교육지원청</td>\n",
       "      <td>사립</td>\n",
       "      <td>신평중학교 운동장 교체</td>\n",
       "      <td>7,560,000</td>\n",
       "      <td>None</td>\n",
       "      <td>None</td>\n",
       "    </tr>\n",
       "    <tr>\n",
       "      <th>169</th>\n",
       "      <td>충청남도</td>\n",
       "      <td>예산교육지원청</td>\n",
       "      <td>공립</td>\n",
       "      <td>예산여자중학교 유해운동장 교체</td>\n",
       "      <td>259,105,000</td>\n",
       "      <td>2,900</td>\n",
       "      <td>교육청</td>\n",
       "    </tr>\n",
       "    <tr>\n",
       "      <th>170</th>\n",
       "      <td>충청북도</td>\n",
       "      <td>청주교육지원청</td>\n",
       "      <td>공립</td>\n",
       "      <td>석교초등학교 야구부실내연습장증축</td>\n",
       "      <td>1,421,325,000</td>\n",
       "      <td>None</td>\n",
       "      <td>교육청</td>\n",
       "    </tr>\n",
       "    <tr>\n",
       "      <th>171</th>\n",
       "      <td>충청북도</td>\n",
       "      <td>청주교육지원청</td>\n",
       "      <td>공립</td>\n",
       "      <td>서경중학교 운동장 보수 및 바닥교체</td>\n",
       "      <td>602,871,000</td>\n",
       "      <td>3,500</td>\n",
       "      <td>교육청</td>\n",
       "    </tr>\n",
       "  </tbody>\n",
       "</table>\n",
       "<p>172 rows × 7 columns</p>\n",
       "</div>"
      ],
      "text/plain": [
       "          시도         시군구  구분                               과업명             금액  \\\n",
       "0    강원특별자치도     강릉교육지원청  공립                    경포중학교 야구장 시설개선     10,900,000   \n",
       "1    강원특별자치도  강원특별자치도교육청  사립               동해광희고등학교 인조잔디운동장 보수     51,700,000   \n",
       "2    강원특별자치도         교육부  국립  강원대학교사범대학부설고등학교 인조잔디운동장조성 및 환경개선  2,442,350,000   \n",
       "3    강원특별자치도     인제교육지원청  공립                  상남중학교 개방형 운동장 조성    725,302,000   \n",
       "4    강원특별자치도  강원특별자치도교육청  공립                   강릉고등학교 야구장 시설개선     45,930,000   \n",
       "..       ...         ...  ..                               ...            ...   \n",
       "167     충청남도     부여교육지원청  공립                  부여여자중학교 유해운동장 교체    132,948,000   \n",
       "168     충청남도     당진교육지원청  사립                      신평중학교 운동장 교체      7,560,000   \n",
       "169     충청남도     예산교육지원청  공립                  예산여자중학교 유해운동장 교체    259,105,000   \n",
       "170     충청북도     청주교육지원청  공립                 석교초등학교 야구부실내연습장증축  1,421,325,000   \n",
       "171     충청북도     청주교육지원청  공립               서경중학교 운동장 보수 및 바닥교체    602,871,000   \n",
       "\n",
       "        면적  예산집행  \n",
       "0    9,298    학교  \n",
       "1     None  None  \n",
       "2     None  None  \n",
       "3    6,507   교육청  \n",
       "4    8,812    학교  \n",
       "..     ...   ...  \n",
       "167  2,720   교육청  \n",
       "168   None  None  \n",
       "169  2,900   교육청  \n",
       "170   None   교육청  \n",
       "171  3,500   교육청  \n",
       "\n",
       "[172 rows x 7 columns]"
      ]
     },
     "execution_count": 16,
     "metadata": {},
     "output_type": "execute_result"
    }
   ],
   "source": [
    "# 빅쿼리에서 불러오기\n",
    "edu_budget_df = get_dataframe_from_bigquery('edu','edu_budget_listup',bigquerykey_path)\n",
    "edu_budget_df.sort_values('시도').reset_index(drop=True)"
   ]
  },
  {
   "cell_type": "code",
   "execution_count": 17,
   "id": "524fd559",
   "metadata": {},
   "outputs": [],
   "source": [
    "# 전처리\n",
    "edu_budget_df['과업명_re'] = edu_budget_df['과업명'].apply(clean_text)\n",
    "# edu_budget_df['과업명_re'] = edu_budget_df['과업명_re'].str.replace('초등학교','').str.replace('중학교','').str.replace('고등학교','')\n",
    "edu_budget_df['과업명_re'] = edu_budget_df['과업명_re'].str.strip()"
   ]
  },
  {
   "cell_type": "code",
   "execution_count": 18,
   "id": "04aff3c9",
   "metadata": {},
   "outputs": [],
   "source": [
    "# 교육청 기준 지역명, 교육청명 종합쇼핑몰 형식과 통일\n",
    "# Define the replacements\n",
    "replacements = {\n",
    "    '전라북도': '전북',\n",
    "    '전라남도': '전남',\n",
    "    '경상북도': '경북',\n",
    "    '경상남도': '경남',\n",
    "    '충청북도': '충북',\n",
    "    '충청남도': '충남'\n",
    "}\n",
    "\n",
    "# Apply the replacements\n",
    "edu_budget_df['시도_re'] = edu_budget_df['시도'].replace(replacements)\n",
    "edu_budget_df['시도_re'] = edu_budget_df['시도_re'].str[:2]\n",
    "\n",
    "edu_budget_df['시군구_re'] = np.where(edu_budget_df['시군구'].str.contains('교육지원청'),\n",
    "                                   edu_budget_df['시도'] + edu_budget_df['시군구'].str.replace('교육지원청',''), edu_budget_df['시군구']) "
   ]
  },
  {
   "cell_type": "code",
   "execution_count": 19,
   "id": "a358b970",
   "metadata": {},
   "outputs": [],
   "source": [
    "# 학교 관련 키워드 및 데이터 추출\n",
    "edu_budget_df['교육청_키워드'] = edu_budget_df['과업명'].apply(lambda x: ''.join(re.findall('\\\\w+초|\\\\w+초등학교|\\\\w+중|\\\\w+중학교|\\\\w+고|\\\\w+고등학교|\\\\w+학교', x)))\n",
    "\n",
    "edu_budget_df['교육청_키워드2'] = edu_budget_df['교육청_키워드'].str.split('초|중|고|학교').str[0] ## 학교명 추출\n",
    "\n",
    "# 일반고 외 학교명 전처리\n",
    "replacements = {\n",
    "    '여자': '여',\n",
    "    '공업': '공',\n",
    "    '상업': '상',\n",
    "    '농업': '농',\n",
    "    '과학': '과'\n",
    "}\n",
    "edu_budget_df['교육청_키워드2'] = edu_budget_df['교육청_키워드2'].replace(replacements, regex=True)"
   ]
  },
  {
   "cell_type": "code",
   "execution_count": 20,
   "id": "df624b9e",
   "metadata": {},
   "outputs": [],
   "source": [
    "# 학교명 등 필요키워드 추출\n",
    "edu_kwd_temp = edu_budget_df['교육청_키워드2'].dropna().unique()\n",
    "edu_kwd = edu_kwd_temp[edu_kwd_temp!='']"
   ]
  },
  {
   "cell_type": "code",
   "execution_count": 21,
   "id": "d737beef",
   "metadata": {},
   "outputs": [],
   "source": [
    "# 해당 필요키워드 추출\n",
    "edu_budget_df['키워드'] = edu_budget_df['교육청_키워드2'].apply(lambda x: ''.join(re.findall('|'.join(edu_kwd), x))) ## 학교명\n",
    "edu_budget_df['키워드2'] = edu_budget_df['교육청_키워드'].apply(lambda x: ''.join(re.findall('초|중|고', x)))"
   ]
  },
  {
   "cell_type": "markdown",
   "id": "13b0c4a4",
   "metadata": {},
   "source": [
    "#### 교육청 종합쇼핑몰 전처리"
   ]
  },
  {
   "cell_type": "code",
   "execution_count": 22,
   "id": "64279628",
   "metadata": {},
   "outputs": [],
   "source": [
    "all_shop_df_fin['키워드'] = all_shop_df_fin['납품요구건명'].apply(lambda x: ''.join(re.findall('|'.join(edu_kwd), x)))\n",
    "all_shop_df_fin['키워드2'] = all_shop_df_fin['납품요구건명'].apply(lambda x: ''.join(re.findall('초|중|고', x)))"
   ]
  },
  {
   "cell_type": "code",
   "execution_count": 23,
   "id": "1caf9053",
   "metadata": {},
   "outputs": [],
   "source": [
    "# 종합쇼핑몰 기준 지역명 형식과 통일\n",
    "all_shop_df_fin['수요기관지역명_split1'] = all_shop_df_fin['수요기관지역명'].str.split().str[0]\n",
    "\n",
    "# Define the replacements\n",
    "replacements = {\n",
    "    '전라북도': '전북',\n",
    "    '전라남도': '전남',\n",
    "    '경상북도': '경북',\n",
    "    '경상남도': '경남',\n",
    "    '충청북도': '충북',\n",
    "    '충청남도': '충남'\n",
    "}\n",
    "\n",
    "# Apply the replacements\n",
    "all_shop_df_fin['수요기관지역명_split1'] = all_shop_df_fin['수요기관지역명_split1'].replace(replacements)\n",
    "all_shop_df_fin['수요기관지역명_split1'] = all_shop_df_fin['수요기관지역명_split1'].str[:2]"
   ]
  },
  {
   "cell_type": "code",
   "execution_count": 24,
   "id": "0ef1c1d8",
   "metadata": {},
   "outputs": [],
   "source": [
    "# 지역명 추출2\n",
    "all_shop_df_fin['수요기관지역명_split2'] = all_shop_df_fin['수요기관지역명'].str.split().str[1]\n",
    "\n",
    "all_shop_df_fin['수요기관지역명_split2'] = np.where(all_shop_df_fin['수요기관지역명_split2'].isnull(),\n",
    "                                                  all_shop_df_fin['수요기관지역명_split1'],\n",
    "                                                  all_shop_df_fin['수요기관지역명_split2'])\n",
    "\n",
    "all_shop_df_fin['수요기관지역명_split2'] = np.where(all_shop_df_fin['수요기관지역명_split2'].apply(len)<=2,\n",
    "                                                  all_shop_df_fin['수요기관지역명_split2'],\n",
    "                                                  all_shop_df_fin['수요기관지역명_split2'].str[:-1])\n",
    "\n",
    "dist_sig_pat = '|'.join(all_shop_df_fin['수요기관지역명_split2'].dropna().unique())"
   ]
  },
  {
   "cell_type": "code",
   "execution_count": 25,
   "id": "6cd5b5f2",
   "metadata": {},
   "outputs": [],
   "source": [
    "# 교육청 지역명 추출\n",
    "edu_budget_df['시군구_re2'] = edu_budget_df['시군구_re'].apply(lambda x: ' '.join(re.findall(dist_sig_pat, x)))\n",
    "edu_budget_df['시군구_re2'] = edu_budget_df['시군구_re2'].str.strip()"
   ]
  },
  {
   "cell_type": "code",
   "execution_count": 32,
   "id": "5c36796f",
   "metadata": {},
   "outputs": [],
   "source": [
    "# 학교 키워드 기준 병합\n",
    "mapping_merge_edu_df_fin = pd.merge(edu_budget_df[['시도', '시군구', '과업명', '시도_re', '시군구_re', '시군구_re2', '키워드','키워드2']],\n",
    "                                all_shop_df_fin[['수요기관명', '납품요구건명', '업체명', '수요기관지역명', '납품요구지청명', '수요기관지역명_split1', '수요기관지역명_split2', '키워드','키워드2']],\n",
    "                                how='left', on=['키워드','키워드2'])\n",
    "mapping_merge_edu_df_fin = mapping_merge_edu_df_fin[mapping_merge_edu_df_fin['키워드']!=''].drop_duplicates().reset_index(drop=True)\n",
    "mapping_merge_edu_df_fin = mapping_merge_edu_df_fin[mapping_merge_edu_df_fin['납품요구건명'].notnull()].drop_duplicates().reset_index(drop=True)"
   ]
  },
  {
   "cell_type": "code",
   "execution_count": 33,
   "id": "ccf3b77e",
   "metadata": {},
   "outputs": [
    {
     "data": {
      "text/html": [
       "<div>\n",
       "<style scoped>\n",
       "    .dataframe tbody tr th:only-of-type {\n",
       "        vertical-align: middle;\n",
       "    }\n",
       "\n",
       "    .dataframe tbody tr th {\n",
       "        vertical-align: top;\n",
       "    }\n",
       "\n",
       "    .dataframe thead th {\n",
       "        text-align: right;\n",
       "    }\n",
       "</style>\n",
       "<table border=\"1\" class=\"dataframe\">\n",
       "  <thead>\n",
       "    <tr style=\"text-align: right;\">\n",
       "      <th></th>\n",
       "      <th>시도</th>\n",
       "      <th>시군구</th>\n",
       "      <th>과업명</th>\n",
       "      <th>시도_re</th>\n",
       "      <th>시군구_re</th>\n",
       "      <th>시군구_re2</th>\n",
       "      <th>키워드</th>\n",
       "      <th>키워드2</th>\n",
       "      <th>수요기관명</th>\n",
       "      <th>납품요구건명</th>\n",
       "      <th>업체명</th>\n",
       "      <th>수요기관지역명</th>\n",
       "      <th>납품요구지청명</th>\n",
       "      <th>수요기관지역명_split1</th>\n",
       "      <th>수요기관지역명_split2</th>\n",
       "    </tr>\n",
       "  </thead>\n",
       "  <tbody>\n",
       "    <tr>\n",
       "      <th>0</th>\n",
       "      <td>강원특별자치도</td>\n",
       "      <td>강원특별자치도교육청</td>\n",
       "      <td>강릉고등학교 야구장 시설개선</td>\n",
       "      <td>강원</td>\n",
       "      <td>강원특별자치도교육청</td>\n",
       "      <td></td>\n",
       "      <td>강릉</td>\n",
       "      <td>고</td>\n",
       "      <td>강원특별자치도교육청 강원특별자치도강릉교육지원청</td>\n",
       "      <td>강릉제일고 축구장 인조잔디 교체공사 관급자재(인조잔디) 구입</td>\n",
       "      <td>주식회사 그린에셀</td>\n",
       "      <td>강원특별자치도 강릉시</td>\n",
       "      <td>강원지방조달청</td>\n",
       "      <td>강원</td>\n",
       "      <td>강릉</td>\n",
       "    </tr>\n",
       "    <tr>\n",
       "      <th>1</th>\n",
       "      <td>전라남도</td>\n",
       "      <td>진도교육지원청</td>\n",
       "      <td>석교중학교 운동장 보수</td>\n",
       "      <td>전남</td>\n",
       "      <td>전라남도진도</td>\n",
       "      <td>진도</td>\n",
       "      <td>석교</td>\n",
       "      <td>중</td>\n",
       "      <td>전라남도교육청 전라남도진도교육지원청</td>\n",
       "      <td>석교중 운동장 보수공사 관급자재(인조잔디) 구입</td>\n",
       "      <td>나눔스포텍 주식회사</td>\n",
       "      <td>전라남도 진도군</td>\n",
       "      <td>광주지방조달청</td>\n",
       "      <td>전남</td>\n",
       "      <td>진도</td>\n",
       "    </tr>\n",
       "    <tr>\n",
       "      <th>2</th>\n",
       "      <td>경상북도</td>\n",
       "      <td>영덕교육지원청</td>\n",
       "      <td>강구중학교(축구부 쉼터 증축)</td>\n",
       "      <td>경북</td>\n",
       "      <td>경상북도영덕</td>\n",
       "      <td>영덕</td>\n",
       "      <td>강구</td>\n",
       "      <td>중</td>\n",
       "      <td>경상북도 영덕군 시설체육사업소</td>\n",
       "      <td>강구대게축구장 관중석 하단부 철거공사 관급자재 인조잔디 구입</td>\n",
       "      <td>주식회사 에버그린필드</td>\n",
       "      <td>경상북도 영덕군</td>\n",
       "      <td>대구지방조달청</td>\n",
       "      <td>경북</td>\n",
       "      <td>영덕</td>\n",
       "    </tr>\n",
       "    <tr>\n",
       "      <th>3</th>\n",
       "      <td>대구광역시</td>\n",
       "      <td>대구광역시교육청</td>\n",
       "      <td>대구고등학교 야구장 조명시설교체 및 인조잔디 재조성</td>\n",
       "      <td>대구</td>\n",
       "      <td>대구광역시교육청</td>\n",
       "      <td></td>\n",
       "      <td>대구</td>\n",
       "      <td>고</td>\n",
       "      <td>대구광역시교육청 대구공업고등학교</td>\n",
       "      <td>대구공고 운동장 재조성을 위한 인조잔디(관급자재) 구매</td>\n",
       "      <td>케이앤비준우(주)</td>\n",
       "      <td>대구광역시 동구</td>\n",
       "      <td>대구지방조달청</td>\n",
       "      <td>대구</td>\n",
       "      <td>동구</td>\n",
       "    </tr>\n",
       "  </tbody>\n",
       "</table>\n",
       "</div>"
      ],
      "text/plain": [
       "        시도         시군구                           과업명 시도_re      시군구_re  \\\n",
       "0  강원특별자치도  강원특별자치도교육청               강릉고등학교 야구장 시설개선    강원  강원특별자치도교육청   \n",
       "1     전라남도     진도교육지원청                  석교중학교 운동장 보수    전남      전라남도진도   \n",
       "2     경상북도     영덕교육지원청              강구중학교(축구부 쉼터 증축)    경북      경상북도영덕   \n",
       "3    대구광역시    대구광역시교육청  대구고등학교 야구장 조명시설교체 및 인조잔디 재조성    대구    대구광역시교육청   \n",
       "\n",
       "  시군구_re2 키워드 키워드2                      수요기관명  \\\n",
       "0          강릉    고  강원특별자치도교육청 강원특별자치도강릉교육지원청   \n",
       "1      진도  석교    중        전라남도교육청 전라남도진도교육지원청   \n",
       "2      영덕  강구    중           경상북도 영덕군 시설체육사업소   \n",
       "3          대구    고          대구광역시교육청 대구공업고등학교   \n",
       "\n",
       "                              납품요구건명          업체명      수요기관지역명  납품요구지청명  \\\n",
       "0  강릉제일고 축구장 인조잔디 교체공사 관급자재(인조잔디) 구입    주식회사 그린에셀  강원특별자치도 강릉시  강원지방조달청   \n",
       "1         석교중 운동장 보수공사 관급자재(인조잔디) 구입   나눔스포텍 주식회사     전라남도 진도군  광주지방조달청   \n",
       "2  강구대게축구장 관중석 하단부 철거공사 관급자재 인조잔디 구입  주식회사 에버그린필드     경상북도 영덕군  대구지방조달청   \n",
       "3     대구공고 운동장 재조성을 위한 인조잔디(관급자재) 구매    케이앤비준우(주)     대구광역시 동구  대구지방조달청   \n",
       "\n",
       "  수요기관지역명_split1 수요기관지역명_split2  \n",
       "0             강원             강릉  \n",
       "1             전남             진도  \n",
       "2             경북             영덕  \n",
       "3             대구             동구  "
      ]
     },
     "execution_count": 33,
     "metadata": {},
     "output_type": "execute_result"
    }
   ],
   "source": [
    "# 지역 일치 확인\n",
    "mapping_merge_edu_df_final = mapping_merge_edu_df_fin[mapping_merge_edu_df_fin['시도_re']==mapping_merge_edu_df_fin['수요기관지역명_split1']].drop_duplicates().reset_index(drop=True)\n",
    "mapping_merge_edu_df_final"
   ]
  },
  {
   "cell_type": "code",
   "execution_count": 35,
   "id": "21b02d8f",
   "metadata": {},
   "outputs": [],
   "source": [
    "# 오매칭 확인 및 제거\n",
    "delete_idx = [0,2,3]\n",
    "mapping_merge_edu_df_final.drop(delete_idx, inplace=True)"
   ]
  },
  {
   "cell_type": "code",
   "execution_count": 37,
   "id": "212e2a5b",
   "metadata": {},
   "outputs": [],
   "source": [
    "edu_budget_df_final = edu_budget_df[~edu_budget_df['과업명'].isin(mapping_merge_edu_df_final['과업명'])].reset_index(drop=True)"
   ]
  },
  {
   "cell_type": "code",
   "execution_count": 39,
   "id": "44a3d880",
   "metadata": {},
   "outputs": [
    {
     "name": "stdout",
     "output_type": "stream",
     "text": [
      "Data inserted into table edu_budget_listup successfully.\n"
     ]
    }
   ],
   "source": [
    "save_dataframe_to_bigquery(edu_budget_df_final,'edu','edu_budget_listup',bigquerykey_path)"
   ]
  }
 ],
 "metadata": {
  "kernelspec": {
   "display_name": "Python 3 (ipykernel)",
   "language": "python",
   "name": "python3"
  },
  "language_info": {
   "codemirror_mode": {
    "name": "ipython",
    "version": 3
   },
   "file_extension": ".py",
   "mimetype": "text/x-python",
   "name": "python",
   "nbconvert_exporter": "python",
   "pygments_lexer": "ipython3",
   "version": "3.8.19"
  }
 },
 "nbformat": 4,
 "nbformat_minor": 5
}
