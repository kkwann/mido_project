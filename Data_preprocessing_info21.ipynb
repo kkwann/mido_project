{
 "cells": [
  {
   "cell_type": "code",
   "execution_count": 1,
   "id": "81fa5b7b-0d13-4592-b87c-523fcd4d8714",
   "metadata": {},
   "outputs": [],
   "source": [
    "import pandas as pd\n",
    "import numpy as np\n",
    "\n",
    "import re\n",
    "from itertools import chain\n",
    "from collections import Counter\n",
    "\n",
    "from google.cloud import bigquery\n",
    "from google.oauth2 import service_account\n",
    "\n",
    "from datetime import datetime, timedelta\n",
    "\n",
    "import requests\n",
    "import warnings\n",
    "from requests.packages.urllib3.exceptions import InsecureRequestWarning\n",
    "\n",
    "# InsecureRequestWarning 경고 무시\n",
    "warnings.simplefilter('ignore', InsecureRequestWarning)"
   ]
  },
  {
   "cell_type": "code",
   "execution_count": 3,
   "id": "de7792c0",
   "metadata": {},
   "outputs": [],
   "source": [
    "KEY_PATH = \".config/\"\n",
    "servicekey_path = KEY_PATH + \"serviceKey.json\" ## 빅쿼리 외 다른 API 활용 위해\n",
    "bigquerykey_path = KEY_PATH + \"mido-project-426906-31b49963ac97.json\"\n",
    "\n",
    "warnings.filterwarnings(\"ignore\")"
   ]
  },
  {
   "cell_type": "code",
   "execution_count": 4,
   "id": "e426681b",
   "metadata": {},
   "outputs": [],
   "source": [
    "# BigQuery 클라이언트 생성 함수\n",
    "def create_bigquery_client(key_path):\n",
    "    credentials = service_account.Credentials.from_service_account_file(key_path)\n",
    "    client = bigquery.Client(credentials=credentials, project=credentials.project_id)\n",
    "    return client"
   ]
  },
  {
   "cell_type": "code",
   "execution_count": 5,
   "id": "1ae8163d",
   "metadata": {},
   "outputs": [],
   "source": [
    "def save_dataframe_to_bigquery(df, dataset_id, table_id, key_path):\n",
    "    # BigQuery 클라이언트 객체 생성\n",
    "    client = create_bigquery_client(key_path)\n",
    "\n",
    "    # 테이블 레퍼런스 생성\n",
    "    table_ref = client.dataset(dataset_id).table(table_id)\n",
    "\n",
    "    # 데이터프레임을 BigQuery 테이블에 적재\n",
    "    job_config = bigquery.LoadJobConfig()\n",
    "    job_config.write_disposition = \"WRITE_TRUNCATE\"  # 기존 테이블 내용 삭제 후 삽입\n",
    "\n",
    "    job = client.load_table_from_dataframe(df, table_ref, job_config=job_config)\n",
    "    job.result()  # 작업 완료 대기\n",
    "\n",
    "    print(f\"Data inserted into table {table_id} successfully.\")"
   ]
  },
  {
   "cell_type": "code",
   "execution_count": 6,
   "id": "72805c5d",
   "metadata": {},
   "outputs": [],
   "source": [
    "def get_dataframe_from_bigquery(dataset_id, table_id, key_path):\n",
    "    # BigQuery 클라이언트 생성\n",
    "    client = create_bigquery_client(key_path)\n",
    "\n",
    "    # 테이블 레퍼런스 생성\n",
    "    table_ref = client.dataset(dataset_id).table(table_id)\n",
    "\n",
    "    # 테이블 데이터를 DataFrame으로 변환\n",
    "    df = client.list_rows(table_ref).to_dataframe()\n",
    "\n",
    "    return df"
   ]
  },
  {
   "cell_type": "code",
   "execution_count": 7,
   "id": "c8f939ce",
   "metadata": {},
   "outputs": [],
   "source": [
    "# 오늘 날짜\n",
    "today = datetime.today()#.strftime('%Y%m%d')\n",
    "\n",
    "# 어제 날짜 계산\n",
    "ytday = datetime.today() - timedelta(days=1)\n",
    "\n",
    "# 만약 어제, 오늘이 토요일(5) 또는 일요일(6)이라면, 그 전주 금요일로 변경\n",
    "if ytday.weekday() == 5:  # 토요일\n",
    "    ytday -= timedelta(days=1)\n",
    "elif ytday.weekday() == 6:  # 일요일\n",
    "    ytday -= timedelta(days=2)\n",
    "if today.weekday() == 5:  # 토요일\n",
    "    today -= timedelta(days=1)\n",
    "elif today.weekday() == 6:  # 일요일\n",
    "    today -= timedelta(days=2)\n",
    "\n",
    "# 'YYYYMMDD' 형식으로 변환\n",
    "ytday = ytday.strftime('%Y%m%d')\n",
    "today = today.strftime('%Y%m%d')"
   ]
  },
  {
   "cell_type": "markdown",
   "id": "edba1a69",
   "metadata": {},
   "source": [
    "#### 법정동코드"
   ]
  },
  {
   "cell_type": "code",
   "execution_count": 8,
   "id": "427babe8",
   "metadata": {},
   "outputs": [],
   "source": [
    "dist_code = pd.read_csv('C:\\py_src\\midoproject\\data/법정동코드 전체자료.csv',encoding='cp949')"
   ]
  },
  {
   "cell_type": "code",
   "execution_count": 9,
   "id": "62a39fcd",
   "metadata": {},
   "outputs": [],
   "source": [
    "dist_code_list = []\n",
    "for i in range(dist_code['법정동명'].str.split().apply(len).max()):\n",
    "    dist_code_temp = dist_code[dist_code['법정동명'].str.split().str[i].str[-1].isin(['읍','면','동','리','가','로']).dropna()]\n",
    "    dist_code_list.append([dist_code_temp['법정동명'].str.split().str[i].dropna().unique()])\n",
    "\n",
    "emd_code_list = list(chain(*chain(*dist_code_list)))"
   ]
  },
  {
   "cell_type": "markdown",
   "id": "431762fe",
   "metadata": {},
   "source": [
    "#### 인포21"
   ]
  },
  {
   "cell_type": "code",
   "execution_count": 10,
   "id": "9ea0d852",
   "metadata": {},
   "outputs": [],
   "source": [
    "# '전국'을 제거하고 나머지 두 개를 쉼표로 연결하는 함수 정의\n",
    "def remove_and_join(region):\n",
    "    # '전국'을 제거하고 나머지 두 개를 쉼표로 연결\n",
    "    regions = region.split(',')\n",
    "    regions = [r for r in regions if r != '전국']\n",
    "    return ','.join(regions)"
   ]
  },
  {
   "cell_type": "code",
   "execution_count": 11,
   "id": "67128691",
   "metadata": {},
   "outputs": [
    {
     "ename": "TypeError",
     "evalue": "get_dataframe_from_bigquery() takes 2 positional arguments but 3 were given",
     "output_type": "error",
     "traceback": [
      "\u001b[1;31m---------------------------------------------------------------------------\u001b[0m",
      "\u001b[1;31mTypeError\u001b[0m                                 Traceback (most recent call last)",
      "Cell \u001b[1;32mIn[11], line 4\u001b[0m\n\u001b[0;32m      2\u001b[0m bid_info_dict \u001b[38;5;241m=\u001b[39m {}\n\u001b[0;32m      3\u001b[0m bid_info_dict_fin \u001b[38;5;241m=\u001b[39m {}\n\u001b[1;32m----> 4\u001b[0m bid_info_dict[\u001b[38;5;124m'\u001b[39m\u001b[38;5;124mcon\u001b[39m\u001b[38;5;124m'\u001b[39m] \u001b[38;5;241m=\u001b[39m \u001b[43mget_dataframe_from_bigquery\u001b[49m\u001b[43m(\u001b[49m\u001b[38;5;124;43m'\u001b[39;49m\u001b[38;5;124;43minfo21\u001b[39;49m\u001b[38;5;124;43m'\u001b[39;49m\u001b[43m,\u001b[49m\u001b[38;5;124;43m'\u001b[39;49m\u001b[38;5;124;43mbid_con_df_0\u001b[39;49m\u001b[38;5;124;43m'\u001b[39;49m\u001b[43m \u001b[49m\u001b[38;5;241;43m+\u001b[39;49m\u001b[43m \u001b[49m\u001b[43mtoday\u001b[49m\u001b[43m[\u001b[49m\u001b[38;5;241;43m4\u001b[39;49m\u001b[43m:\u001b[49m\u001b[38;5;241;43m6\u001b[39;49m\u001b[43m]\u001b[49m\u001b[43m,\u001b[49m\u001b[43m \u001b[49m\u001b[43mbigquerykey_path\u001b[49m\u001b[43m)\u001b[49m\n\u001b[0;32m      5\u001b[0m bid_info_dict[\u001b[38;5;124m'\u001b[39m\u001b[38;5;124mser\u001b[39m\u001b[38;5;124m'\u001b[39m] \u001b[38;5;241m=\u001b[39m get_dataframe_from_bigquery(\u001b[38;5;124m'\u001b[39m\u001b[38;5;124minfo21\u001b[39m\u001b[38;5;124m'\u001b[39m,\u001b[38;5;124m'\u001b[39m\u001b[38;5;124mbid_ser_df_0\u001b[39m\u001b[38;5;124m'\u001b[39m \u001b[38;5;241m+\u001b[39m today[\u001b[38;5;241m4\u001b[39m:\u001b[38;5;241m6\u001b[39m], bigquerykey_path)\n\u001b[0;32m      6\u001b[0m bid_info_dict[\u001b[38;5;124m'\u001b[39m\u001b[38;5;124mpur\u001b[39m\u001b[38;5;124m'\u001b[39m] \u001b[38;5;241m=\u001b[39m get_dataframe_from_bigquery(\u001b[38;5;124m'\u001b[39m\u001b[38;5;124minfo21\u001b[39m\u001b[38;5;124m'\u001b[39m,\u001b[38;5;124m'\u001b[39m\u001b[38;5;124mbid_pur_df_0\u001b[39m\u001b[38;5;124m'\u001b[39m \u001b[38;5;241m+\u001b[39m today[\u001b[38;5;241m4\u001b[39m:\u001b[38;5;241m6\u001b[39m], bigquerykey_path)\n",
      "\u001b[1;31mTypeError\u001b[0m: get_dataframe_from_bigquery() takes 2 positional arguments but 3 were given"
     ]
    }
   ],
   "source": [
    "# 빅쿼리에서 불러오기\n",
    "bid_info_dict = {}\n",
    "bid_info_dict_fin = {}\n",
    "bid_info_dict['con'] = get_dataframe_from_bigquery('info21','bid_con_df_0' + today[4:6], bigquerykey_path)\n",
    "bid_info_dict['ser'] = get_dataframe_from_bigquery('info21','bid_ser_df_0' + today[4:6], bigquerykey_path)\n",
    "bid_info_dict['pur'] = get_dataframe_from_bigquery('info21','bid_pur_df_0' + today[4:6], bigquerykey_path)"
   ]
  },
  {
   "cell_type": "code",
   "execution_count": 48,
   "id": "49c78b59",
   "metadata": {},
   "outputs": [],
   "source": [
    "# 필요 데이터 추출\n",
    "for bid in bid_info_dict.keys():\n",
    "\n",
    "    # 필요 정보 추출\n",
    "    filtered_bid_df = bid_info_dict[bid][bid_info_dict[bid]['업종'].fillna('').str.contains('건축|건설|ENG|엔지니어링')].reset_index(drop=True)\n",
    "    filtered_bid_df = filtered_bid_df[~filtered_bid_df['업종'].fillna('').str.contains('폐기물')].reset_index(drop=True)\n",
    "    # filtered_bid_df = filtered_bid_df[~filtered_bid_df['공고명'].str.contains('폐기물')].reset_index(drop=True)\n",
    "\n",
    "    # 날짜 필터링\n",
    "    filtered_bid_df = filtered_bid_df[filtered_bid_df['투찰마감'] > datetime.today().strftime('%y.%m.%d')].reset_index(drop=True) ## 투찰마감일이 오늘보다 지났으면 제거\n",
    "\n",
    "\n",
    "\n",
    "    # 필요키워드1\n",
    "    need_kwd1 = '학교|초등학교|중학교|고등학교|대학교|다목적|운동장|종합운동장|공원|체육공원|체육시설|체육센터|스포츠센터|연병장|구장|축구장|족구장|야구장|풋살장|경기장|배드민턴장|테니스장|게이트볼장|하키장|관급'\n",
    "\n",
    "    # 필요키워드2\n",
    "    need_kwd2 = '개선|교체|보수|공사|구매|구입|설치|정비|조성'\n",
    "\n",
    "    # 필요키워드3\n",
    "    need_kwd3 = '인조잔디'\n",
    "\n",
    "    # 제외키워드\n",
    "    except_kwd = 'CCTV|cctv|LED|led|가로등|가속기|간접등|간판|개방|검진|경관|계단|골프장|관리|광고|교량|교실|교육|교차로|균열|그늘막|그림|급수관|급식|난방기|내진|냉방기|네트워크|노상|노점|농기계|단열|데이터|도로개설|도로방음벽|도로정비|도로확장|도서관|디자인|뚜껑|막구조물|맨홀|모노레일|모니터링|미끄럼|미세먼지|미술|방송|방수|방음|방음벽|배면도로|배수|버스|법률자문|벤치|벽화|보건|보도블럭|보상|보일러|보행자도로|복지|볼라드|분묘|불법|빗물받이|사용료|사워실|살포|생육환경|석면|선홈통|소프트웨어|수도|수로|수목표찰|수영장|스크린|스프링클러|승강기|시계탑|시스템|식수대|신호등|안심벨|안전|약수터|억제제|역량|연결도로|예방|예술|오염|옹벽|요양기관|운영|울타리|위생|위험수목|유아|육교|음성안내|음악|의자|인양기|인터넷|입학|자료|자전거|저장고|저장장치|전광판|전기|전신주|전통시장|정화|정화조|조도|조명|조형물|조화기|주차장|줄눈|진로진학|진입도로|창고|창출|처우|철거|취업|치안|카메라|카약|통학로|파고라|펜스|폐기물|폐열|포충기|풀장|풍차|하수|하수관로|하수도|하천|학습|행사|화장|화장실|활성화|횡단보도|휀스|흡연'\n",
    "\n",
    "    # 키워드 기준 데이터 추출\n",
    "    bid_info_df = bid_info_dict[bid][((bid_info_dict[bid]['공고명'].str.contains(need_kwd1) & \n",
    "                                       bid_info_dict[bid]['공고명'].str.contains(need_kwd2)) &\n",
    "                                       ~bid_info_dict[bid]['공고명'].str.contains(except_kwd)) |\n",
    "                                       bid_info_dict[bid]['공고명'].str.contains(need_kwd3)\n",
    "                                       ].reset_index(drop=True)\n",
    "                    \n",
    "    # 전처리\n",
    "    bid_info_df['구분'] = None\n",
    "    # info_df['담당자'] = None\n",
    "    # info_df['연락처'] = None\n",
    "    if bid!='pur':\n",
    "        bid_info_df_fin = bid_info_df[['입력일','지역','발주기관','구분','공고명','업종','분류']]\n",
    "        bid_info_df_fin.columns = ['공고일','지역','발주처','구분','공고명','업종','분류']\n",
    "\n",
    "        bid_info_df_fin['공고일'] = pd.to_datetime(bid_info_df_fin['공고일'], format='%y.%m.%d').dt.strftime('%Y-%m-%d')\n",
    "        bid_info_df_fin['지역'] = bid_info_df_fin['지역'].apply(remove_and_join)\n",
    "\n",
    "        bid_info_dict_fin[bid] = bid_info_df_fin\n",
    "        \n",
    "    else:\n",
    "        bid_info_df_fin = bid_info_df[['개찰일','공고명','업종','분류']]\n",
    "        bid_info_dict_fin[bid] = bid_info_df_fin"
   ]
  },
  {
   "cell_type": "code",
   "execution_count": 53,
   "id": "76202986",
   "metadata": {},
   "outputs": [
    {
     "name": "stdout",
     "output_type": "stream",
     "text": [
      "Data inserted into table bid_con_df_listup successfully.\n",
      "Data inserted into table bid_ser_df_listup successfully.\n",
      "Data inserted into table bid_pur_df_listup successfully.\n"
     ]
    }
   ],
   "source": [
    "# 빅쿼리에 적재\n",
    "save_dataframe_to_bigquery(bid_info_dict_fin['con'],'info21','bid_con_df_listup',bigquerykey_path)\n",
    "save_dataframe_to_bigquery(bid_info_dict_fin['ser'],'info21','bid_ser_df_listup',bigquerykey_path)\n",
    "save_dataframe_to_bigquery(bid_info_dict_fin['pur'],'info21','bid_pur_df_listup',bigquerykey_path)"
   ]
  }
 ],
 "metadata": {
  "kernelspec": {
   "display_name": "Python 3 (ipykernel)",
   "language": "python",
   "name": "python3"
  },
  "language_info": {
   "codemirror_mode": {
    "name": "ipython",
    "version": 3
   },
   "file_extension": ".py",
   "mimetype": "text/x-python",
   "name": "python",
   "nbconvert_exporter": "python",
   "pygments_lexer": "ipython3",
   "version": "3.8.19"
  }
 },
 "nbformat": 4,
 "nbformat_minor": 5
}
