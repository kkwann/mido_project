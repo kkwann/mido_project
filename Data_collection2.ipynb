{
 "cells": [
  {
   "cell_type": "code",
   "execution_count": 1,
   "id": "81fa5b7b-0d13-4592-b87c-523fcd4d8714",
   "metadata": {},
   "outputs": [],
   "source": [
    "import streamlit as st\n",
    "import pandas as pd\n",
    "import numpy as np\n",
    "import requests\n",
    "import chardet\n",
    "import xmltodict\n",
    "import json\n",
    "from io import BytesIO\n",
    "from tqdm import tqdm\n",
    "import os\n",
    "import re\n",
    "import markdown\n",
    "\n",
    "from google.cloud import bigquery\n",
    "from google.oauth2 import service_account\n",
    "\n",
    "from datetime import datetime, timedelta\n",
    "from dateutil import parser\n",
    "from bs4 import BeautifulSoup\n",
    "\n",
    "from selenium import webdriver\n",
    "from selenium.webdriver.common.by import By\n",
    "from selenium.webdriver.chrome.service import Service\n",
    "from selenium.webdriver.chrome.options import Options\n",
    "from webdriver_manager.chrome import ChromeDriverManager\n",
    "import pandas as pd\n",
    "import time\n",
    "\n",
    "from openpyxl import Workbook\n",
    "from openpyxl.utils.dataframe import dataframe_to_rows\n",
    "from openpyxl.styles import Font\n",
    "\n",
    "import base64\n",
    "\n",
    "import feedparser\n",
    "\n",
    "import requests\n",
    "import warnings\n",
    "from requests.packages.urllib3.exceptions import InsecureRequestWarning\n",
    "\n",
    "# InsecureRequestWarning 경고 무시\n",
    "warnings.simplefilter('ignore', InsecureRequestWarning)"
   ]
  },
  {
   "cell_type": "markdown",
   "id": "f75f1ca8",
   "metadata": {},
   "source": [
    "##### 구글빅쿼리 설정"
   ]
  },
  {
   "cell_type": "code",
   "execution_count": 2,
   "id": "2bfc5d84",
   "metadata": {},
   "outputs": [],
   "source": [
    "KEY_PATH = \".config/\"\n",
    "servicekey_path = KEY_PATH + \"serviceKey.json\" ## 빅쿼리 외 다른 API 활용 위해\n",
    "bigquerykey_path = KEY_PATH + \"mido-project-426906-31b49963ac97.json\"\n",
    "\n",
    "warnings.filterwarnings(\"ignore\")"
   ]
  },
  {
   "cell_type": "code",
   "execution_count": 3,
   "id": "baaf221c",
   "metadata": {},
   "outputs": [],
   "source": [
    "# BigQuery 클라이언트 생성 함수\n",
    "def create_bigquery_client(key_path):\n",
    "    credentials = service_account.Credentials.from_service_account_file(key_path)\n",
    "    client = bigquery.Client(credentials=credentials, project=credentials.project_id)\n",
    "    return client"
   ]
  },
  {
   "cell_type": "code",
   "execution_count": 4,
   "id": "3cb76d55",
   "metadata": {},
   "outputs": [],
   "source": [
    "def save_dataframe_to_bigquery(df, dataset_id, table_id, key_path):\n",
    "    # BigQuery 클라이언트 객체 생성\n",
    "    client = create_bigquery_client(key_path)\n",
    "\n",
    "    # 테이블 레퍼런스 생성\n",
    "    table_ref = client.dataset(dataset_id).table(table_id)\n",
    "\n",
    "    # 데이터프레임을 BigQuery 테이블에 적재\n",
    "    job_config = bigquery.LoadJobConfig()\n",
    "    job_config.write_disposition = \"WRITE_TRUNCATE\"  # 기존 테이블 내용 삭제 후 삽입\n",
    "\n",
    "    job = client.load_table_from_dataframe(df, table_ref, job_config=job_config)\n",
    "    job.result()  # 작업 완료 대기\n",
    "\n",
    "    print(f\"Data inserted into table {table_id} successfully.\")"
   ]
  },
  {
   "cell_type": "code",
   "execution_count": 5,
   "id": "ba55a407",
   "metadata": {},
   "outputs": [],
   "source": [
    "def get_dataframe_from_bigquery(dataset_id, table_id, key_path):\n",
    "    # BigQuery 클라이언트 생성\n",
    "    client = create_bigquery_client(key_path)\n",
    "\n",
    "    # 테이블 레퍼런스 생성\n",
    "    table_ref = client.dataset(dataset_id).table(table_id)\n",
    "\n",
    "    # 테이블 데이터를 DataFrame으로 변환\n",
    "    df = client.list_rows(table_ref).to_dataframe()\n",
    "\n",
    "    return df"
   ]
  },
  {
   "cell_type": "code",
   "execution_count": 6,
   "id": "6257a535",
   "metadata": {},
   "outputs": [],
   "source": [
    "# 오늘 날짜\n",
    "today = datetime.today().strftime('%Y%m%d')\n",
    "\n",
    "# 어제 날짜 계산\n",
    "ytday = datetime.today() - timedelta(days=1)\n",
    "\n",
    "# 만약 어제가 토요일(5) 또는 일요일(6)이라면, 그 전주 금요일로 변경\n",
    "if ytday.weekday() == 5:  # 토요일\n",
    "    ytday -= timedelta(days=1)\n",
    "elif ytday.weekday() == 6:  # 일요일\n",
    "    ytday -= timedelta(days=2)\n",
    "\n",
    "# 'YYYYMMDD' 형식으로 변환\n",
    "ytday = ytday.strftime('%Y%m%d')"
   ]
  },
  {
   "cell_type": "code",
   "execution_count": 7,
   "id": "82971235",
   "metadata": {},
   "outputs": [
    {
     "data": {
      "text/plain": [
       "<google.api_core.page_iterator.HTTPIterator at 0x1b8b8078af0>"
      ]
     },
     "execution_count": 7,
     "metadata": {},
     "output_type": "execute_result"
    }
   ],
   "source": [
    "create_bigquery_client(bigquerykey_path).list_tables(f\"{'mido-project-426906'}.{'g2b'}\")"
   ]
  },
  {
   "cell_type": "markdown",
   "id": "3874ab7d-8c11-4ace-ba8a-42eafbfe6b9e",
   "metadata": {
    "jp-MarkdownHeadingCollapsed": true
   },
   "source": [
    "### 나라장터 입찰공사공고"
   ]
  },
  {
   "cell_type": "code",
   "execution_count": 8,
   "id": "6cb2f093-a7fb-4e07-9671-0526572d19ae",
   "metadata": {
    "scrolled": true
   },
   "outputs": [
    {
     "ename": "KeyboardInterrupt",
     "evalue": "",
     "output_type": "error",
     "traceback": [
      "\u001b[1;31m---------------------------------------------------------------------------\u001b[0m",
      "\u001b[1;31mKeyboardInterrupt\u001b[0m                         Traceback (most recent call last)",
      "Cell \u001b[1;32mIn[8], line 21\u001b[0m\n\u001b[0;32m     19\u001b[0m \u001b[38;5;28;01mwhile\u001b[39;00m \u001b[38;5;28;01mTrue\u001b[39;00m:\n\u001b[0;32m     20\u001b[0m     params[\u001b[38;5;124m'\u001b[39m\u001b[38;5;124mpageNo\u001b[39m\u001b[38;5;124m'\u001b[39m] \u001b[38;5;241m=\u001b[39m \u001b[38;5;28mstr\u001b[39m(page_no)\n\u001b[1;32m---> 21\u001b[0m     response \u001b[38;5;241m=\u001b[39m \u001b[43mrequests\u001b[49m\u001b[38;5;241;43m.\u001b[39;49m\u001b[43mget\u001b[49m\u001b[43m(\u001b[49m\u001b[43murl\u001b[49m\u001b[43m,\u001b[49m\u001b[43m \u001b[49m\u001b[43mparams\u001b[49m\u001b[38;5;241;43m=\u001b[39;49m\u001b[43mparams\u001b[49m\u001b[43m)\u001b[49m\n\u001b[0;32m     22\u001b[0m     data \u001b[38;5;241m=\u001b[39m response\u001b[38;5;241m.\u001b[39mjson()\n\u001b[0;32m     24\u001b[0m     \u001b[38;5;66;03m# 현재 페이지의 items 가져오기\u001b[39;00m\n",
      "File \u001b[1;32mc:\\Users\\kkims\\anaconda3\\envs\\mido\\lib\\site-packages\\requests\\api.py:73\u001b[0m, in \u001b[0;36mget\u001b[1;34m(url, params, **kwargs)\u001b[0m\n\u001b[0;32m     62\u001b[0m \u001b[38;5;28;01mdef\u001b[39;00m \u001b[38;5;21mget\u001b[39m(url, params\u001b[38;5;241m=\u001b[39m\u001b[38;5;28;01mNone\u001b[39;00m, \u001b[38;5;241m*\u001b[39m\u001b[38;5;241m*\u001b[39mkwargs):\n\u001b[0;32m     63\u001b[0m \u001b[38;5;250m    \u001b[39m\u001b[38;5;124mr\u001b[39m\u001b[38;5;124;03m\"\"\"Sends a GET request.\u001b[39;00m\n\u001b[0;32m     64\u001b[0m \n\u001b[0;32m     65\u001b[0m \u001b[38;5;124;03m    :param url: URL for the new :class:`Request` object.\u001b[39;00m\n\u001b[1;32m   (...)\u001b[0m\n\u001b[0;32m     70\u001b[0m \u001b[38;5;124;03m    :rtype: requests.Response\u001b[39;00m\n\u001b[0;32m     71\u001b[0m \u001b[38;5;124;03m    \"\"\"\u001b[39;00m\n\u001b[1;32m---> 73\u001b[0m     \u001b[38;5;28;01mreturn\u001b[39;00m \u001b[43mrequest\u001b[49m\u001b[43m(\u001b[49m\u001b[38;5;124;43m\"\u001b[39;49m\u001b[38;5;124;43mget\u001b[39;49m\u001b[38;5;124;43m\"\u001b[39;49m\u001b[43m,\u001b[49m\u001b[43m \u001b[49m\u001b[43murl\u001b[49m\u001b[43m,\u001b[49m\u001b[43m \u001b[49m\u001b[43mparams\u001b[49m\u001b[38;5;241;43m=\u001b[39;49m\u001b[43mparams\u001b[49m\u001b[43m,\u001b[49m\u001b[43m \u001b[49m\u001b[38;5;241;43m*\u001b[39;49m\u001b[38;5;241;43m*\u001b[39;49m\u001b[43mkwargs\u001b[49m\u001b[43m)\u001b[49m\n",
      "File \u001b[1;32mc:\\Users\\kkims\\anaconda3\\envs\\mido\\lib\\site-packages\\requests\\api.py:59\u001b[0m, in \u001b[0;36mrequest\u001b[1;34m(method, url, **kwargs)\u001b[0m\n\u001b[0;32m     55\u001b[0m \u001b[38;5;66;03m# By using the 'with' statement we are sure the session is closed, thus we\u001b[39;00m\n\u001b[0;32m     56\u001b[0m \u001b[38;5;66;03m# avoid leaving sockets open which can trigger a ResourceWarning in some\u001b[39;00m\n\u001b[0;32m     57\u001b[0m \u001b[38;5;66;03m# cases, and look like a memory leak in others.\u001b[39;00m\n\u001b[0;32m     58\u001b[0m \u001b[38;5;28;01mwith\u001b[39;00m sessions\u001b[38;5;241m.\u001b[39mSession() \u001b[38;5;28;01mas\u001b[39;00m session:\n\u001b[1;32m---> 59\u001b[0m     \u001b[38;5;28;01mreturn\u001b[39;00m \u001b[43msession\u001b[49m\u001b[38;5;241;43m.\u001b[39;49m\u001b[43mrequest\u001b[49m\u001b[43m(\u001b[49m\u001b[43mmethod\u001b[49m\u001b[38;5;241;43m=\u001b[39;49m\u001b[43mmethod\u001b[49m\u001b[43m,\u001b[49m\u001b[43m \u001b[49m\u001b[43murl\u001b[49m\u001b[38;5;241;43m=\u001b[39;49m\u001b[43murl\u001b[49m\u001b[43m,\u001b[49m\u001b[43m \u001b[49m\u001b[38;5;241;43m*\u001b[39;49m\u001b[38;5;241;43m*\u001b[39;49m\u001b[43mkwargs\u001b[49m\u001b[43m)\u001b[49m\n",
      "File \u001b[1;32mc:\\Users\\kkims\\anaconda3\\envs\\mido\\lib\\site-packages\\requests\\sessions.py:589\u001b[0m, in \u001b[0;36mSession.request\u001b[1;34m(self, method, url, params, data, headers, cookies, files, auth, timeout, allow_redirects, proxies, hooks, stream, verify, cert, json)\u001b[0m\n\u001b[0;32m    584\u001b[0m send_kwargs \u001b[38;5;241m=\u001b[39m {\n\u001b[0;32m    585\u001b[0m     \u001b[38;5;124m\"\u001b[39m\u001b[38;5;124mtimeout\u001b[39m\u001b[38;5;124m\"\u001b[39m: timeout,\n\u001b[0;32m    586\u001b[0m     \u001b[38;5;124m\"\u001b[39m\u001b[38;5;124mallow_redirects\u001b[39m\u001b[38;5;124m\"\u001b[39m: allow_redirects,\n\u001b[0;32m    587\u001b[0m }\n\u001b[0;32m    588\u001b[0m send_kwargs\u001b[38;5;241m.\u001b[39mupdate(settings)\n\u001b[1;32m--> 589\u001b[0m resp \u001b[38;5;241m=\u001b[39m \u001b[38;5;28;43mself\u001b[39;49m\u001b[38;5;241;43m.\u001b[39;49m\u001b[43msend\u001b[49m\u001b[43m(\u001b[49m\u001b[43mprep\u001b[49m\u001b[43m,\u001b[49m\u001b[43m \u001b[49m\u001b[38;5;241;43m*\u001b[39;49m\u001b[38;5;241;43m*\u001b[39;49m\u001b[43msend_kwargs\u001b[49m\u001b[43m)\u001b[49m\n\u001b[0;32m    591\u001b[0m \u001b[38;5;28;01mreturn\u001b[39;00m resp\n",
      "File \u001b[1;32mc:\\Users\\kkims\\anaconda3\\envs\\mido\\lib\\site-packages\\requests\\sessions.py:703\u001b[0m, in \u001b[0;36mSession.send\u001b[1;34m(self, request, **kwargs)\u001b[0m\n\u001b[0;32m    700\u001b[0m start \u001b[38;5;241m=\u001b[39m preferred_clock()\n\u001b[0;32m    702\u001b[0m \u001b[38;5;66;03m# Send the request\u001b[39;00m\n\u001b[1;32m--> 703\u001b[0m r \u001b[38;5;241m=\u001b[39m \u001b[43madapter\u001b[49m\u001b[38;5;241;43m.\u001b[39;49m\u001b[43msend\u001b[49m\u001b[43m(\u001b[49m\u001b[43mrequest\u001b[49m\u001b[43m,\u001b[49m\u001b[43m \u001b[49m\u001b[38;5;241;43m*\u001b[39;49m\u001b[38;5;241;43m*\u001b[39;49m\u001b[43mkwargs\u001b[49m\u001b[43m)\u001b[49m\n\u001b[0;32m    705\u001b[0m \u001b[38;5;66;03m# Total elapsed time of the request (approximately)\u001b[39;00m\n\u001b[0;32m    706\u001b[0m elapsed \u001b[38;5;241m=\u001b[39m preferred_clock() \u001b[38;5;241m-\u001b[39m start\n",
      "File \u001b[1;32mc:\\Users\\kkims\\anaconda3\\envs\\mido\\lib\\site-packages\\requests\\adapters.py:589\u001b[0m, in \u001b[0;36mHTTPAdapter.send\u001b[1;34m(self, request, stream, timeout, verify, cert, proxies)\u001b[0m\n\u001b[0;32m    586\u001b[0m     timeout \u001b[38;5;241m=\u001b[39m TimeoutSauce(connect\u001b[38;5;241m=\u001b[39mtimeout, read\u001b[38;5;241m=\u001b[39mtimeout)\n\u001b[0;32m    588\u001b[0m \u001b[38;5;28;01mtry\u001b[39;00m:\n\u001b[1;32m--> 589\u001b[0m     resp \u001b[38;5;241m=\u001b[39m \u001b[43mconn\u001b[49m\u001b[38;5;241;43m.\u001b[39;49m\u001b[43murlopen\u001b[49m\u001b[43m(\u001b[49m\n\u001b[0;32m    590\u001b[0m \u001b[43m        \u001b[49m\u001b[43mmethod\u001b[49m\u001b[38;5;241;43m=\u001b[39;49m\u001b[43mrequest\u001b[49m\u001b[38;5;241;43m.\u001b[39;49m\u001b[43mmethod\u001b[49m\u001b[43m,\u001b[49m\n\u001b[0;32m    591\u001b[0m \u001b[43m        \u001b[49m\u001b[43murl\u001b[49m\u001b[38;5;241;43m=\u001b[39;49m\u001b[43murl\u001b[49m\u001b[43m,\u001b[49m\n\u001b[0;32m    592\u001b[0m \u001b[43m        \u001b[49m\u001b[43mbody\u001b[49m\u001b[38;5;241;43m=\u001b[39;49m\u001b[43mrequest\u001b[49m\u001b[38;5;241;43m.\u001b[39;49m\u001b[43mbody\u001b[49m\u001b[43m,\u001b[49m\n\u001b[0;32m    593\u001b[0m \u001b[43m        \u001b[49m\u001b[43mheaders\u001b[49m\u001b[38;5;241;43m=\u001b[39;49m\u001b[43mrequest\u001b[49m\u001b[38;5;241;43m.\u001b[39;49m\u001b[43mheaders\u001b[49m\u001b[43m,\u001b[49m\n\u001b[0;32m    594\u001b[0m \u001b[43m        \u001b[49m\u001b[43mredirect\u001b[49m\u001b[38;5;241;43m=\u001b[39;49m\u001b[38;5;28;43;01mFalse\u001b[39;49;00m\u001b[43m,\u001b[49m\n\u001b[0;32m    595\u001b[0m \u001b[43m        \u001b[49m\u001b[43massert_same_host\u001b[49m\u001b[38;5;241;43m=\u001b[39;49m\u001b[38;5;28;43;01mFalse\u001b[39;49;00m\u001b[43m,\u001b[49m\n\u001b[0;32m    596\u001b[0m \u001b[43m        \u001b[49m\u001b[43mpreload_content\u001b[49m\u001b[38;5;241;43m=\u001b[39;49m\u001b[38;5;28;43;01mFalse\u001b[39;49;00m\u001b[43m,\u001b[49m\n\u001b[0;32m    597\u001b[0m \u001b[43m        \u001b[49m\u001b[43mdecode_content\u001b[49m\u001b[38;5;241;43m=\u001b[39;49m\u001b[38;5;28;43;01mFalse\u001b[39;49;00m\u001b[43m,\u001b[49m\n\u001b[0;32m    598\u001b[0m \u001b[43m        \u001b[49m\u001b[43mretries\u001b[49m\u001b[38;5;241;43m=\u001b[39;49m\u001b[38;5;28;43mself\u001b[39;49m\u001b[38;5;241;43m.\u001b[39;49m\u001b[43mmax_retries\u001b[49m\u001b[43m,\u001b[49m\n\u001b[0;32m    599\u001b[0m \u001b[43m        \u001b[49m\u001b[43mtimeout\u001b[49m\u001b[38;5;241;43m=\u001b[39;49m\u001b[43mtimeout\u001b[49m\u001b[43m,\u001b[49m\n\u001b[0;32m    600\u001b[0m \u001b[43m        \u001b[49m\u001b[43mchunked\u001b[49m\u001b[38;5;241;43m=\u001b[39;49m\u001b[43mchunked\u001b[49m\u001b[43m,\u001b[49m\n\u001b[0;32m    601\u001b[0m \u001b[43m    \u001b[49m\u001b[43m)\u001b[49m\n\u001b[0;32m    603\u001b[0m \u001b[38;5;28;01mexcept\u001b[39;00m (ProtocolError, \u001b[38;5;167;01mOSError\u001b[39;00m) \u001b[38;5;28;01mas\u001b[39;00m err:\n\u001b[0;32m    604\u001b[0m     \u001b[38;5;28;01mraise\u001b[39;00m \u001b[38;5;167;01mConnectionError\u001b[39;00m(err, request\u001b[38;5;241m=\u001b[39mrequest)\n",
      "File \u001b[1;32mc:\\Users\\kkims\\anaconda3\\envs\\mido\\lib\\site-packages\\urllib3\\connectionpool.py:793\u001b[0m, in \u001b[0;36mHTTPConnectionPool.urlopen\u001b[1;34m(self, method, url, body, headers, retries, redirect, assert_same_host, timeout, pool_timeout, release_conn, chunked, body_pos, preload_content, decode_content, **response_kw)\u001b[0m\n\u001b[0;32m    790\u001b[0m response_conn \u001b[38;5;241m=\u001b[39m conn \u001b[38;5;28;01mif\u001b[39;00m \u001b[38;5;129;01mnot\u001b[39;00m release_conn \u001b[38;5;28;01melse\u001b[39;00m \u001b[38;5;28;01mNone\u001b[39;00m\n\u001b[0;32m    792\u001b[0m \u001b[38;5;66;03m# Make the request on the HTTPConnection object\u001b[39;00m\n\u001b[1;32m--> 793\u001b[0m response \u001b[38;5;241m=\u001b[39m \u001b[38;5;28;43mself\u001b[39;49m\u001b[38;5;241;43m.\u001b[39;49m\u001b[43m_make_request\u001b[49m\u001b[43m(\u001b[49m\n\u001b[0;32m    794\u001b[0m \u001b[43m    \u001b[49m\u001b[43mconn\u001b[49m\u001b[43m,\u001b[49m\n\u001b[0;32m    795\u001b[0m \u001b[43m    \u001b[49m\u001b[43mmethod\u001b[49m\u001b[43m,\u001b[49m\n\u001b[0;32m    796\u001b[0m \u001b[43m    \u001b[49m\u001b[43murl\u001b[49m\u001b[43m,\u001b[49m\n\u001b[0;32m    797\u001b[0m \u001b[43m    \u001b[49m\u001b[43mtimeout\u001b[49m\u001b[38;5;241;43m=\u001b[39;49m\u001b[43mtimeout_obj\u001b[49m\u001b[43m,\u001b[49m\n\u001b[0;32m    798\u001b[0m \u001b[43m    \u001b[49m\u001b[43mbody\u001b[49m\u001b[38;5;241;43m=\u001b[39;49m\u001b[43mbody\u001b[49m\u001b[43m,\u001b[49m\n\u001b[0;32m    799\u001b[0m \u001b[43m    \u001b[49m\u001b[43mheaders\u001b[49m\u001b[38;5;241;43m=\u001b[39;49m\u001b[43mheaders\u001b[49m\u001b[43m,\u001b[49m\n\u001b[0;32m    800\u001b[0m \u001b[43m    \u001b[49m\u001b[43mchunked\u001b[49m\u001b[38;5;241;43m=\u001b[39;49m\u001b[43mchunked\u001b[49m\u001b[43m,\u001b[49m\n\u001b[0;32m    801\u001b[0m \u001b[43m    \u001b[49m\u001b[43mretries\u001b[49m\u001b[38;5;241;43m=\u001b[39;49m\u001b[43mretries\u001b[49m\u001b[43m,\u001b[49m\n\u001b[0;32m    802\u001b[0m \u001b[43m    \u001b[49m\u001b[43mresponse_conn\u001b[49m\u001b[38;5;241;43m=\u001b[39;49m\u001b[43mresponse_conn\u001b[49m\u001b[43m,\u001b[49m\n\u001b[0;32m    803\u001b[0m \u001b[43m    \u001b[49m\u001b[43mpreload_content\u001b[49m\u001b[38;5;241;43m=\u001b[39;49m\u001b[43mpreload_content\u001b[49m\u001b[43m,\u001b[49m\n\u001b[0;32m    804\u001b[0m \u001b[43m    \u001b[49m\u001b[43mdecode_content\u001b[49m\u001b[38;5;241;43m=\u001b[39;49m\u001b[43mdecode_content\u001b[49m\u001b[43m,\u001b[49m\n\u001b[0;32m    805\u001b[0m \u001b[43m    \u001b[49m\u001b[38;5;241;43m*\u001b[39;49m\u001b[38;5;241;43m*\u001b[39;49m\u001b[43mresponse_kw\u001b[49m\u001b[43m,\u001b[49m\n\u001b[0;32m    806\u001b[0m \u001b[43m\u001b[49m\u001b[43m)\u001b[49m\n\u001b[0;32m    808\u001b[0m \u001b[38;5;66;03m# Everything went great!\u001b[39;00m\n\u001b[0;32m    809\u001b[0m clean_exit \u001b[38;5;241m=\u001b[39m \u001b[38;5;28;01mTrue\u001b[39;00m\n",
      "File \u001b[1;32mc:\\Users\\kkims\\anaconda3\\envs\\mido\\lib\\site-packages\\urllib3\\connectionpool.py:537\u001b[0m, in \u001b[0;36mHTTPConnectionPool._make_request\u001b[1;34m(self, conn, method, url, body, headers, retries, timeout, chunked, response_conn, preload_content, decode_content, enforce_content_length)\u001b[0m\n\u001b[0;32m    535\u001b[0m \u001b[38;5;66;03m# Receive the response from the server\u001b[39;00m\n\u001b[0;32m    536\u001b[0m \u001b[38;5;28;01mtry\u001b[39;00m:\n\u001b[1;32m--> 537\u001b[0m     response \u001b[38;5;241m=\u001b[39m \u001b[43mconn\u001b[49m\u001b[38;5;241;43m.\u001b[39;49m\u001b[43mgetresponse\u001b[49m\u001b[43m(\u001b[49m\u001b[43m)\u001b[49m\n\u001b[0;32m    538\u001b[0m \u001b[38;5;28;01mexcept\u001b[39;00m (BaseSSLError, \u001b[38;5;167;01mOSError\u001b[39;00m) \u001b[38;5;28;01mas\u001b[39;00m e:\n\u001b[0;32m    539\u001b[0m     \u001b[38;5;28mself\u001b[39m\u001b[38;5;241m.\u001b[39m_raise_timeout(err\u001b[38;5;241m=\u001b[39me, url\u001b[38;5;241m=\u001b[39murl, timeout_value\u001b[38;5;241m=\u001b[39mread_timeout)\n",
      "File \u001b[1;32mc:\\Users\\kkims\\anaconda3\\envs\\mido\\lib\\site-packages\\urllib3\\connection.py:466\u001b[0m, in \u001b[0;36mHTTPConnection.getresponse\u001b[1;34m(self)\u001b[0m\n\u001b[0;32m    463\u001b[0m \u001b[38;5;28;01mfrom\u001b[39;00m \u001b[38;5;21;01m.\u001b[39;00m\u001b[38;5;21;01mresponse\u001b[39;00m \u001b[38;5;28;01mimport\u001b[39;00m HTTPResponse\n\u001b[0;32m    465\u001b[0m \u001b[38;5;66;03m# Get the response from http.client.HTTPConnection\u001b[39;00m\n\u001b[1;32m--> 466\u001b[0m httplib_response \u001b[38;5;241m=\u001b[39m \u001b[38;5;28;43msuper\u001b[39;49m\u001b[43m(\u001b[49m\u001b[43m)\u001b[49m\u001b[38;5;241;43m.\u001b[39;49m\u001b[43mgetresponse\u001b[49m\u001b[43m(\u001b[49m\u001b[43m)\u001b[49m\n\u001b[0;32m    468\u001b[0m \u001b[38;5;28;01mtry\u001b[39;00m:\n\u001b[0;32m    469\u001b[0m     assert_header_parsing(httplib_response\u001b[38;5;241m.\u001b[39mmsg)\n",
      "File \u001b[1;32mc:\\Users\\kkims\\anaconda3\\envs\\mido\\lib\\http\\client.py:1348\u001b[0m, in \u001b[0;36mHTTPConnection.getresponse\u001b[1;34m(self)\u001b[0m\n\u001b[0;32m   1346\u001b[0m \u001b[38;5;28;01mtry\u001b[39;00m:\n\u001b[0;32m   1347\u001b[0m     \u001b[38;5;28;01mtry\u001b[39;00m:\n\u001b[1;32m-> 1348\u001b[0m         \u001b[43mresponse\u001b[49m\u001b[38;5;241;43m.\u001b[39;49m\u001b[43mbegin\u001b[49m\u001b[43m(\u001b[49m\u001b[43m)\u001b[49m\n\u001b[0;32m   1349\u001b[0m     \u001b[38;5;28;01mexcept\u001b[39;00m \u001b[38;5;167;01mConnectionError\u001b[39;00m:\n\u001b[0;32m   1350\u001b[0m         \u001b[38;5;28mself\u001b[39m\u001b[38;5;241m.\u001b[39mclose()\n",
      "File \u001b[1;32mc:\\Users\\kkims\\anaconda3\\envs\\mido\\lib\\http\\client.py:316\u001b[0m, in \u001b[0;36mHTTPResponse.begin\u001b[1;34m(self)\u001b[0m\n\u001b[0;32m    314\u001b[0m \u001b[38;5;66;03m# read until we get a non-100 response\u001b[39;00m\n\u001b[0;32m    315\u001b[0m \u001b[38;5;28;01mwhile\u001b[39;00m \u001b[38;5;28;01mTrue\u001b[39;00m:\n\u001b[1;32m--> 316\u001b[0m     version, status, reason \u001b[38;5;241m=\u001b[39m \u001b[38;5;28;43mself\u001b[39;49m\u001b[38;5;241;43m.\u001b[39;49m\u001b[43m_read_status\u001b[49m\u001b[43m(\u001b[49m\u001b[43m)\u001b[49m\n\u001b[0;32m    317\u001b[0m     \u001b[38;5;28;01mif\u001b[39;00m status \u001b[38;5;241m!=\u001b[39m CONTINUE:\n\u001b[0;32m    318\u001b[0m         \u001b[38;5;28;01mbreak\u001b[39;00m\n",
      "File \u001b[1;32mc:\\Users\\kkims\\anaconda3\\envs\\mido\\lib\\http\\client.py:277\u001b[0m, in \u001b[0;36mHTTPResponse._read_status\u001b[1;34m(self)\u001b[0m\n\u001b[0;32m    276\u001b[0m \u001b[38;5;28;01mdef\u001b[39;00m \u001b[38;5;21m_read_status\u001b[39m(\u001b[38;5;28mself\u001b[39m):\n\u001b[1;32m--> 277\u001b[0m     line \u001b[38;5;241m=\u001b[39m \u001b[38;5;28mstr\u001b[39m(\u001b[38;5;28;43mself\u001b[39;49m\u001b[38;5;241;43m.\u001b[39;49m\u001b[43mfp\u001b[49m\u001b[38;5;241;43m.\u001b[39;49m\u001b[43mreadline\u001b[49m\u001b[43m(\u001b[49m\u001b[43m_MAXLINE\u001b[49m\u001b[43m \u001b[49m\u001b[38;5;241;43m+\u001b[39;49m\u001b[43m \u001b[49m\u001b[38;5;241;43m1\u001b[39;49m\u001b[43m)\u001b[49m, \u001b[38;5;124m\"\u001b[39m\u001b[38;5;124miso-8859-1\u001b[39m\u001b[38;5;124m\"\u001b[39m)\n\u001b[0;32m    278\u001b[0m     \u001b[38;5;28;01mif\u001b[39;00m \u001b[38;5;28mlen\u001b[39m(line) \u001b[38;5;241m>\u001b[39m _MAXLINE:\n\u001b[0;32m    279\u001b[0m         \u001b[38;5;28;01mraise\u001b[39;00m LineTooLong(\u001b[38;5;124m\"\u001b[39m\u001b[38;5;124mstatus line\u001b[39m\u001b[38;5;124m\"\u001b[39m)\n",
      "File \u001b[1;32mc:\\Users\\kkims\\anaconda3\\envs\\mido\\lib\\socket.py:669\u001b[0m, in \u001b[0;36mSocketIO.readinto\u001b[1;34m(self, b)\u001b[0m\n\u001b[0;32m    667\u001b[0m \u001b[38;5;28;01mwhile\u001b[39;00m \u001b[38;5;28;01mTrue\u001b[39;00m:\n\u001b[0;32m    668\u001b[0m     \u001b[38;5;28;01mtry\u001b[39;00m:\n\u001b[1;32m--> 669\u001b[0m         \u001b[38;5;28;01mreturn\u001b[39;00m \u001b[38;5;28;43mself\u001b[39;49m\u001b[38;5;241;43m.\u001b[39;49m\u001b[43m_sock\u001b[49m\u001b[38;5;241;43m.\u001b[39;49m\u001b[43mrecv_into\u001b[49m\u001b[43m(\u001b[49m\u001b[43mb\u001b[49m\u001b[43m)\u001b[49m\n\u001b[0;32m    670\u001b[0m     \u001b[38;5;28;01mexcept\u001b[39;00m timeout:\n\u001b[0;32m    671\u001b[0m         \u001b[38;5;28mself\u001b[39m\u001b[38;5;241m.\u001b[39m_timeout_occurred \u001b[38;5;241m=\u001b[39m \u001b[38;5;28;01mTrue\u001b[39;00m\n",
      "File \u001b[1;32mc:\\Users\\kkims\\anaconda3\\envs\\mido\\lib\\ssl.py:1274\u001b[0m, in \u001b[0;36mSSLSocket.recv_into\u001b[1;34m(self, buffer, nbytes, flags)\u001b[0m\n\u001b[0;32m   1270\u001b[0m     \u001b[38;5;28;01mif\u001b[39;00m flags \u001b[38;5;241m!=\u001b[39m \u001b[38;5;241m0\u001b[39m:\n\u001b[0;32m   1271\u001b[0m         \u001b[38;5;28;01mraise\u001b[39;00m \u001b[38;5;167;01mValueError\u001b[39;00m(\n\u001b[0;32m   1272\u001b[0m           \u001b[38;5;124m\"\u001b[39m\u001b[38;5;124mnon-zero flags not allowed in calls to recv_into() on \u001b[39m\u001b[38;5;132;01m%s\u001b[39;00m\u001b[38;5;124m\"\u001b[39m \u001b[38;5;241m%\u001b[39m\n\u001b[0;32m   1273\u001b[0m           \u001b[38;5;28mself\u001b[39m\u001b[38;5;241m.\u001b[39m\u001b[38;5;18m__class__\u001b[39m)\n\u001b[1;32m-> 1274\u001b[0m     \u001b[38;5;28;01mreturn\u001b[39;00m \u001b[38;5;28;43mself\u001b[39;49m\u001b[38;5;241;43m.\u001b[39;49m\u001b[43mread\u001b[49m\u001b[43m(\u001b[49m\u001b[43mnbytes\u001b[49m\u001b[43m,\u001b[49m\u001b[43m \u001b[49m\u001b[43mbuffer\u001b[49m\u001b[43m)\u001b[49m\n\u001b[0;32m   1275\u001b[0m \u001b[38;5;28;01melse\u001b[39;00m:\n\u001b[0;32m   1276\u001b[0m     \u001b[38;5;28;01mreturn\u001b[39;00m \u001b[38;5;28msuper\u001b[39m()\u001b[38;5;241m.\u001b[39mrecv_into(buffer, nbytes, flags)\n",
      "File \u001b[1;32mc:\\Users\\kkims\\anaconda3\\envs\\mido\\lib\\ssl.py:1132\u001b[0m, in \u001b[0;36mSSLSocket.read\u001b[1;34m(self, len, buffer)\u001b[0m\n\u001b[0;32m   1130\u001b[0m \u001b[38;5;28;01mtry\u001b[39;00m:\n\u001b[0;32m   1131\u001b[0m     \u001b[38;5;28;01mif\u001b[39;00m buffer \u001b[38;5;129;01mis\u001b[39;00m \u001b[38;5;129;01mnot\u001b[39;00m \u001b[38;5;28;01mNone\u001b[39;00m:\n\u001b[1;32m-> 1132\u001b[0m         \u001b[38;5;28;01mreturn\u001b[39;00m \u001b[38;5;28;43mself\u001b[39;49m\u001b[38;5;241;43m.\u001b[39;49m\u001b[43m_sslobj\u001b[49m\u001b[38;5;241;43m.\u001b[39;49m\u001b[43mread\u001b[49m\u001b[43m(\u001b[49m\u001b[38;5;28;43mlen\u001b[39;49m\u001b[43m,\u001b[49m\u001b[43m \u001b[49m\u001b[43mbuffer\u001b[49m\u001b[43m)\u001b[49m\n\u001b[0;32m   1133\u001b[0m     \u001b[38;5;28;01melse\u001b[39;00m:\n\u001b[0;32m   1134\u001b[0m         \u001b[38;5;28;01mreturn\u001b[39;00m \u001b[38;5;28mself\u001b[39m\u001b[38;5;241m.\u001b[39m_sslobj\u001b[38;5;241m.\u001b[39mread(\u001b[38;5;28mlen\u001b[39m)\n",
      "\u001b[1;31mKeyboardInterrupt\u001b[0m: "
     ]
    }
   ],
   "source": [
    "# API 엔드포인트 및 기본 파라미터 설정\n",
    "url = \"https://apis.data.go.kr/1230000/BidPublicInfoService04/getBidPblancListInfoCnstwkPPSSrch01\"\n",
    "params = {\n",
    "    \"numOfRows\": \"100\",\n",
    "    \"pageNo\": \"1\",\n",
    "    \"ServiceKey\": \"mQ9FwLgvOY3RCjUPiBiGw0ZjjfJW1G5IWVopKvRrp/+e+FCQR8ClAQ2iNB0DFLVZbCjRY+QVE7/Wy8BbCF4O7w==\",\n",
    "    \"inqryDiv\": \"1\",\n",
    "    \"inqryBgnDt\": \"202404010000\",\n",
    "    \"inqryEndDt\": \"202404302359\",\n",
    "    \"bidNtceNm\": \"인조잔디\",\n",
    "    \"type\": \"json\"  # JSON 형식으로 응답을 요청합니다.\n",
    "}\n",
    "\n",
    "# 모든 데이터를 저장할 빈 리스트 초기화\n",
    "all_items = []\n",
    "\n",
    "# 페이지를 바꿔가며 데이터를 가져오기\n",
    "page_no = 1\n",
    "while True:\n",
    "    params['pageNo'] = str(page_no)\n",
    "    response = requests.get(url, params=params)\n",
    "    data = response.json()\n",
    "    \n",
    "    # 현재 페이지의 items 가져오기\n",
    "    items = data['response']['body']['items']\n",
    "    \n",
    "    # items가 비어있으면 반복 종료\n",
    "    if not items:\n",
    "        break\n",
    "    \n",
    "    # 현재 페이지의 items를 all_items에 추가\n",
    "    all_items.extend(items)\n",
    "    \n",
    "    # 다음 페이지로 이동\n",
    "    page_no += 1\n",
    "\n",
    "# 모든 items 데이터를 데이터프레임으로 변환\n",
    "df1 = pd.DataFrame(all_items)\n",
    "\n",
    "# 데이터프레임 출력\n",
    "print(df1)"
   ]
  },
  {
   "cell_type": "markdown",
   "id": "bfa42ba8-15ec-49c0-9339-aa04c2da07a4",
   "metadata": {
    "jp-MarkdownHeadingCollapsed": true
   },
   "source": [
    "### 나라장터 입찰용역공고"
   ]
  },
  {
   "cell_type": "code",
   "execution_count": null,
   "id": "0605f806-8737-43fd-b958-02a571dc06a3",
   "metadata": {
    "scrolled": true
   },
   "outputs": [],
   "source": [
    "# API 엔드포인트 및 기본 파라미터 설정\n",
    "url = \"https://apis.data.go.kr/1230000/BidPublicInfoService04/getBidPblancListInfoServcPPSSrch01\"\n",
    "params = {\n",
    "    \"numOfRows\": \"100\",\n",
    "    \"pageNo\": \"1\",\n",
    "    \"ServiceKey\": \"mQ9FwLgvOY3RCjUPiBiGw0ZjjfJW1G5IWVopKvRrp/+e+FCQR8ClAQ2iNB0DFLVZbCjRY+QVE7/Wy8BbCF4O7w==\",\n",
    "    \"inqryDiv\": \"1\",\n",
    "    \"inqryBgnDt\": \"202404010000\",\n",
    "    \"inqryEndDt\": \"202404302359\",\n",
    "    \"bidNtceNm\": \"인조잔디\",\n",
    "    \"type\": \"json\"  # JSON 형식으로 응답을 요청합니다.\n",
    "}\n",
    "\n",
    "# 모든 데이터를 저장할 빈 리스트 초기화\n",
    "all_items = []\n",
    "\n",
    "# 페이지를 바꿔가며 데이터를 가져오기\n",
    "page_no = 1\n",
    "while True:\n",
    "    params['pageNo'] = str(page_no)\n",
    "    response = requests.get(url, params=params)\n",
    "    data = response.json()\n",
    "    \n",
    "    # 현재 페이지의 items 가져오기\n",
    "    items = data['response']['body']['items']\n",
    "    \n",
    "    # items가 비어있으면 반복 종료\n",
    "    if not items:\n",
    "        break\n",
    "\n",
    "    # 현재 페이지의 items를 all_items에 추가\n",
    "    all_items.extend(items)\n",
    "    \n",
    "    # 다음 페이지로 이동\n",
    "    page_no += 1\n",
    "\n",
    "# 모든 items 데이터를 데이터프레임으로 변환\n",
    "df = pd.DataFrame(all_items)\n",
    "\n",
    "# 데이터프레임 출력\n",
    "print(df)"
   ]
  },
  {
   "cell_type": "code",
   "execution_count": null,
   "id": "44c76bee-9b06-467d-9b4a-5df90a844c24",
   "metadata": {
    "scrolled": true
   },
   "outputs": [],
   "source": [
    "df[['bidNtceNo', 'bidNtceOrd', 'reNtceYn', 'rgstTyNm', 'ntceKindNm',\n",
    "       'intrbidYn', 'bidNtceDt', 'refNo', 'bidNtceNm', 'ntceInsttCd',\n",
    "       'ntceInsttNm', 'dminsttCd', 'dminsttNm', 'bidMethdNm',\n",
    "       'cntrctCnclsMthdNm', 'ntceInsttOfclNm', 'ntceInsttOfclTelNo',\n",
    "       'ntceInsttOfclEmailAdrs', 'exctvNm', 'bidQlfctRgstDt',\n",
    "       'cmmnSpldmdAgrmntRcptdocMethd', 'cmmnSpldmdAgrmntClseDt',\n",
    "       'cmmnSpldmdCorpRgnLmtYn', 'bidBeginDt', 'bidClseDt', 'opengDt',\n",
    "       'ntceSpecDocUrl1', 'ntceSpecFileNm1', 'rbidPermsnYn',\n",
    "       'arsltApplDocRcptMthdNm', 'prearngPrceDcsnMthdNm', 'totPrdprcNum',\n",
    "       'drwtPrdprcNum', 'presmptPrce', 'opengPlce', 'bidNtceDtlUrl',\n",
    "       'bidNtceUrl', 'bidPrtcptFeePaymntYn', 'bidPrtcptFee',\n",
    "       'bidGrntymnyPaymntYn', 'crdtrNm', 'untyNtceNo', 'cmmnSpldmdMethdCd',\n",
    "       'cmmnSpldmdMethdNm', 'stdNtceDocUrl', 'brffcBidprcPermsnYn',\n",
    "       'dsgntCmptYn', 'rsrvtnPrceReMkngMthdNm', 'orderPlanUntyNo',\n",
    "       'sucsfbidLwltRate', 'rgstDt', 'bfSpecRgstNo', 'sucsfbidMthdCd',\n",
    "       'sucsfbidMthdNm', 'chgDt', 'linkInsttNm', 'dminsttOfclEmailAdrs',\n",
    "       'indstrytyLmtYn', 'd2bMngRgnLmtYn', 'd2bMngPblctPlceNm', 'd2bMngBssamt',\n",
    "       'd2bMngRgstEvalExmpYn', 'd2bMngAssmntUplmtRt', 'd2bMngAssmntLwstlmtRt',\n",
    "       'd2bMngProgrsSttusNm', 'd2bMngNgttnPlanDate', 'd2bMngNgttnStleNm',\n",
    "       'd2bMngDmndYear', 'chgNtceRsn', 'rbidOpengDt', 'VAT', 'indutyVAT',\n",
    "       'rgnLmtBidLocplcJdgmBssCd', 'rgnLmtBidLocplcJdgmBssNm']]"
   ]
  },
  {
   "cell_type": "markdown",
   "id": "505c57e3-cea8-4cdc-b5c5-05f7e0d4ff53",
   "metadata": {
    "jp-MarkdownHeadingCollapsed": true
   },
   "source": [
    "### 나라장터 입찰물품공고"
   ]
  },
  {
   "cell_type": "code",
   "execution_count": null,
   "id": "60bf96a8-5cf1-44c3-a991-e96eab697717",
   "metadata": {
    "scrolled": true
   },
   "outputs": [],
   "source": [
    "# API 엔드포인트 및 기본 파라미터 설정\n",
    "url = \"https://apis.data.go.kr/1230000/BidPublicInfoService04/getBidPblancListInfoThngPPSSrch01\"\n",
    "params = {\n",
    "    \"numOfRows\": \"100\",\n",
    "    \"pageNo\": \"1\",\n",
    "    \"ServiceKey\": \"mQ9FwLgvOY3RCjUPiBiGw0ZjjfJW1G5IWVopKvRrp/+e+FCQR8ClAQ2iNB0DFLVZbCjRY+QVE7/Wy8BbCF4O7w==\",\n",
    "    \"inqryDiv\": \"1\",\n",
    "    \"inqryBgnDt\": \"202404010000\",\n",
    "    \"inqryEndDt\": \"202404302359\",\n",
    "    \"bidNtceNm\": \"인조잔디\",\n",
    "    \"type\": \"json\"  # JSON 형식으로 응답을 요청합니다.\n",
    "}\n",
    "\n",
    "# 모든 데이터를 저장할 빈 리스트 초기화\n",
    "all_items = []\n",
    "\n",
    "# 페이지를 바꿔가며 데이터를 가져오기\n",
    "page_no = 1\n",
    "while True:\n",
    "    params['pageNo'] = str(page_no)\n",
    "    response = requests.get(url, params=params)\n",
    "    data = response.json()\n",
    "    \n",
    "    # 현재 페이지의 items 가져오기\n",
    "    items = data['response']['body']['items']\n",
    "    \n",
    "    # items가 비어있으면 반복 종료\n",
    "    if not items:\n",
    "        break\n",
    "    \n",
    "    # 현재 페이지의 items를 all_items에 추가\n",
    "    all_items.extend(items)\n",
    "    \n",
    "    # 다음 페이지로 이동\n",
    "    page_no += 1\n",
    "\n",
    "# 모든 items 데이터를 데이터프레임으로 변환\n",
    "df3 = pd.DataFrame(all_items)\n",
    "\n",
    "# 데이터프레임 출력\n",
    "print(df3)"
   ]
  },
  {
   "cell_type": "code",
   "execution_count": null,
   "id": "f3f54a34-f4c0-4e82-9c49-84158b9a6949",
   "metadata": {},
   "outputs": [],
   "source": [
    "column_mapping = {\n",
    "                # 예시: 'eng_column_name': '한글 컬럼 이름'\n",
    "\t\t\t\t'bidNtceNo' : '공고번호', 'bidNtceOrd' : '공고차수', 'bidNtceNm' : '공고명', \n",
    "\t\t\t\t'reNtceYn' : '재공고여부', 'rgstTyNm' : '연계기관공고건', 'ntceKindNm' : '공고상태명',\n",
    "\t\t\t\t'intrbidYn' : '국제입찰대상여부', 'bidNtceDt' : '입찰공고일시', \n",
    "\t\t\t\t'refNo' : '참조공고번호', 'ntceInsttCd' : '공고기관코드',\n",
    "\t\t\t\t'ntceInsttNm' : '공고기관명', 'dminsttCd' : '수요기관코드', \n",
    "\t\t\t\t'dminsttNm' : '조달방식명', 'bidMethdNm' : '입찰방식명',\n",
    "\t\t\t\t'cntrctCnclsMthdNm' : '계약체결방법', 'ntceInsttOfclNm' : '공고담당자명',\n",
    "\t\t\t\t'ntceInsttOfclTelNo' : '공고담당자전화번호',\n",
    "\t\t\t\t'ntceInsttOfclEmailAdrs' : '공고담당자이메일', 'exctvNm' : '공고집행관명', \n",
    "\t\t\t\t'bidQlfctRgstDt' : '입찰참가자격등록완료시점',\n",
    "\t\t\t\t'cmmnSpldmdAgrmntRcptdocMethd' : '접수방식', \n",
    "\t\t\t\t'cmmnSpldmdAgrmntClseDt' : '공동수급협정서등록마감시점',\n",
    "\t\t\t\t'cmmnSpldmdCorpRgnLmtYn' : '공동수급협정시구성원지역제한여부', \n",
    "\t\t\t\t'bidBeginDt' : '입찰서제출개시일시', 'bidClseDt' : '평가비율', \n",
    "\t\t\t\t'opengDt' : '개찰수행시작일시',\n",
    "\t\t\t\t'ntceSpecDocUrl1' : '공고규격서URL', \t\t\t\t\n",
    "\t\t\t\t'ntceSpecFileNm1' : '공고규격파일명', \n",
    "\t\t\t\t'rbidPermsnYn' : '재공고없이재입찰여부',\n",
    "\t\t\t\t'arsltApplDocRcptMthdNm' : '실적신청서접수방법명', \n",
    "\t\t\t\t'prearngPrceDcsnMthdNm' : '예정가격결정방식', 'totPrdprcNum' : '총예가건수',\n",
    "\t\t\t\t'drwtPrdprcNum' : '추첨예가건', 'presmptPrce' : '예정가격결정전부가가치세제외금액',\n",
    "\t\t\t\t'opengPlce' : '개찰장소', 'bidNtceDtlUrl' : '입찰공고상세링크',\n",
    "\t\t\t\t'bidNtceUrl' : '입찰공고확인링크', 'bidPrtcptFeePaymntYn' : '입찰참가납부수수료유무',\n",
    "\t\t\t\t'bidPrtcptFee' : '입찰참가납부수수료',\n",
    "\t\t\t\t'bidGrntymnyPaymntYn' : '입찰보증금전자납부여부', \n",
    "\t\t\t\t'crdtrNm' : '입찰보증금항목명', 'untyNtceNo' : '입찰공고구분번호',\n",
    "\t\t\t\t'cmmnSpldmdMethdCd' : '공동수급이행구분코드',\n",
    "\t\t\t\t'cmmnSpldmdMethdNm' : '공동수급이행구분명', \n",
    "\t\t\t\t'stdNtceDocUrl' : '표준공고문URL', 'brffcBidprcPermsnYn' : '공종별지분율목록',\n",
    "\t\t\t\t'dsgntCmptYn' : '지명경쟁여부', 'rsrvtnPrceReMkngMthdNm' : '예비가격재작성방법명',\n",
    "\t\t\t\t'orderPlanUntyNo' : '공고구분코드','sucsfbidLwltRate' : '낙찰하한율', \n",
    "\t\t\t\t'rgstDt' : '공고등록일시', 'bfSpecRgstNo' : '사전규격등록번호', \n",
    "\t\t\t\t'sucsfbidMthdCd' : '낙찰방법코드','sucsfbidMthdNm' : '낙찰방법', \n",
    "\t\t\t\t'chgDt' : '공고변경일시', 'linkInsttNm' : '전자조달시스템운영기관명',\n",
    "\t\t\t\t'dminsttOfclEmailAdrs' : '수요기관담당자이메일',\n",
    "\t\t\t\t'indstrytyLmtYn' : '공고입찰업종제한여부', 'd2bMngRgnLmtYn' : '공고입찰지역제한여부',\n",
    "\t\t\t\t'd2bMngPblctPlceNm' : '입찰공고게재위치', 'd2bMngBssamt' : '방사청관리기초금액',\n",
    "\t\t\t\t'd2bMngRgstEvalExmpYn' : '방사청관리등록심사면제여부', \n",
    "\t\t\t\t'd2bMngAssmntUplmtRt' : '방사청관리사정상한율', \n",
    "\t\t\t\t'd2bMngAssmntLwstlmtRt' : '방사청관리사정하한율',\n",
    "\t\t\t\t'd2bMngProgrsSttusNm' : '방사청관리진행상태명', \n",
    "\t\t\t\t'd2bMngNgttnPlanDate' : '방사청관리협상계획일자', \n",
    "\t\t\t\t'd2bMngNgttnStleNm' : '방사청관리협상형태명','d2bMngDmndYear' : '방사청관리요구년도',\n",
    "\t\t\t\t'chgNtceRsn' : '공고종류명', 'rbidOpengDt' : '재입찰개찰일시', 'VAT' : '부가가치세',\n",
    "\t\t\t\t'indutyVAT' : '주공종부가가치세'\n",
    "\t\t\t\t\n",
    "                # 필요한 경우 추가\n",
    "            }"
   ]
  },
  {
   "cell_type": "code",
   "execution_count": null,
   "id": "5d104d67-af4a-4453-9351-ec8fb718b47b",
   "metadata": {},
   "outputs": [],
   "source": [
    "len(column_mapping.keys())"
   ]
  },
  {
   "cell_type": "markdown",
   "id": "350bb595-df62-44d4-a359-a29c87298f6c",
   "metadata": {
    "jp-MarkdownHeadingCollapsed": true
   },
   "source": [
    "### 나라장터 입찰기타공고"
   ]
  },
  {
   "cell_type": "code",
   "execution_count": null,
   "id": "bc0530e1-c238-40e5-be1c-0610b2a5e23c",
   "metadata": {},
   "outputs": [],
   "source": [
    "# API 엔드포인트 및 기본 파라미터 설정\n",
    "url = \"https://apis.data.go.kr/1230000/BidPublicInfoService04/getBidPblancListInfoEtcPPSSrch01\"\n",
    "params = {\n",
    "    \"numOfRows\": \"100\",\n",
    "    \"pageNo\": \"1\",\n",
    "    \"ServiceKey\": \"mQ9FwLgvOY3RCjUPiBiGw0ZjjfJW1G5IWVopKvRrp/+e+FCQR8ClAQ2iNB0DFLVZbCjRY+QVE7/Wy8BbCF4O7w==\",\n",
    "    \"inqryDiv\": \"1\",\n",
    "    \"inqryBgnDt\": \"202404010000\",\n",
    "    \"inqryEndDt\": \"202404302359\",\n",
    "    \"bidNtceNm\": \"인조잔디\",\n",
    "    \"type\": \"json\"  # JSON 형식으로 응답을 요청합니다.\n",
    "}\n",
    "\n",
    "# 모든 데이터를 저장할 빈 리스트 초기화\n",
    "all_items = []\n",
    "\n",
    "# 페이지를 바꿔가며 데이터를 가져오기\n",
    "page_no = 1\n",
    "while True:\n",
    "    params['pageNo'] = str(page_no)\n",
    "    response = requests.get(url, params=params)\n",
    "    data = response.json()\n",
    "    \n",
    "    # 현재 페이지의 items 가져오기\n",
    "    items = data['response']['body']['items']\n",
    "    \n",
    "    # items가 비어있으면 반복 종료\n",
    "    if not items:\n",
    "        break\n",
    "    \n",
    "    # 현재 페이지의 items를 all_items에 추가\n",
    "    all_items.extend(items)\n",
    "    \n",
    "    # 다음 페이지로 이동\n",
    "    page_no += 1\n",
    "\n",
    "# 모든 items 데이터를 데이터프레임으로 변환\n",
    "df = pd.DataFrame(all_items)\n",
    "\n",
    "# 데이터프레임 출력\n",
    "print(df)"
   ]
  },
  {
   "cell_type": "code",
   "execution_count": null,
   "id": "4fc29603-e181-474e-ae78-13cdb724150b",
   "metadata": {},
   "outputs": [],
   "source": [
    "data"
   ]
  },
  {
   "cell_type": "markdown",
   "id": "2e4a9490-3cb5-4071-a1cb-19efcb7f612f",
   "metadata": {
    "jp-MarkdownHeadingCollapsed": true
   },
   "source": [
    "### 나라장터 입찰외자공고"
   ]
  },
  {
   "cell_type": "code",
   "execution_count": null,
   "id": "08d37ea4-4337-4fa8-8e05-029bcd328505",
   "metadata": {
    "scrolled": true
   },
   "outputs": [],
   "source": [
    "urls = [\"https://apis.data.go.kr/1230000/BidPublicInfoService04/getBidPblancListInfoCnstwkPPSSrch01\",\n",
    "        \"https://apis.data.go.kr/1230000/BidPublicInfoService04/getBidPblancListInfoServcPPSSrch01\",\n",
    "        \"https://apis.data.go.kr/1230000/BidPublicInfoService04/getBidPblancListInfoThngPPSSrch01\",\n",
    "        \"https://apis.data.go.kr/1230000/BidPublicInfoService04/getBidPblancListInfoEtcPPSSrch01\",\n",
    "        \"https://apis.data.go.kr/1230000/BidPublicInfoService04/getBidPblancListInfoFrgcptPPSSrch01\"]\n",
    "\n",
    "# 모든 데이터를 저장할 빈 리스트 초기화\n",
    "all_items = []\n",
    "\n",
    "for url in tqdm(urls):\n",
    "    try:\n",
    "        params = {\n",
    "            \"numOfRows\": \"100\",\n",
    "            \"pageNo\": \"1\",\n",
    "            \"ServiceKey\": \"mQ9FwLgvOY3RCjUPiBiGw0ZjjfJW1G5IWVopKvRrp/+e+FCQR8ClAQ2iNB0DFLVZbCjRY+QVE7/Wy8BbCF4O7w==\",\n",
    "            \"inqryDiv\": \"1\",\n",
    "            \"inqryBgnDt\": \"202404010000\",\n",
    "            \"inqryEndDt\": \"202404302359\",\n",
    "            \"bidNtceNm\": \"인조잔디\",\n",
    "            \"type\": \"json\"  # JSON 형식으로 응답을 요청합니다.\n",
    "        }\n",
    "    \n",
    "       \n",
    "        # 페이지를 바꿔가며 데이터를 가져오기\n",
    "        page_no = 1\n",
    "        while True:\n",
    "            params['pageNo'] = str(page_no)\n",
    "            response = requests.get(url, params=params)\n",
    "            data = response.json()\n",
    "            \n",
    "            # 현재 페이지의 items 가져오기\n",
    "            items = data['response']['body']['items']\n",
    "            \n",
    "            # items가 비어있으면 반복 종료\n",
    "            if not items:\n",
    "                break\n",
    "            \n",
    "            # 현재 페이지의 items를 all_items에 추가\n",
    "            all_items.extend(items)\n",
    "            \n",
    "            # 다음 페이지로 이동\n",
    "            page_no += 1\n",
    "    except:\n",
    "        pass\n",
    "    \n",
    "# 모든 items 데이터를 데이터프레임으로 변환\n",
    "df = pd.DataFrame(all_items)"
   ]
  },
  {
   "cell_type": "code",
   "execution_count": null,
   "id": "cab97219-7ddd-49a0-9d1c-a9d090c7ef1d",
   "metadata": {},
   "outputs": [],
   "source": [
    "column_mapping = {\n",
    "     'totPrdprcNum': '공고총예가건',\n",
    "     'dlvrReqChgOrd': '납품요구변경차수',\n",
    "     'dlvrReqRcptDate': '납품요구접수일자',\n",
    "     'prdctSno': '물품순번',\n",
    "     'prdctClsfcNo': '물품분류번호',\n",
    "     'prdctClsfcNoNm': '품명',\n",
    "     'dtilPrdctClsfcNo': '세부물품분류번호',\n",
    "     'dtilPrdctClsfcNoNm': '세부품명',\n",
    "     'prdctIdntNo': '물품식별번호',\n",
    "     'prdctIdntNoNm': '품목',\n",
    "     'prdctUprc': '단가',\n",
    "     'prdctUnit': '단위',\n",
    "     'prdctQty': '수량',\n",
    "     'prdctAmt': '금액',\n",
    "     'dlvrTmlmtDate': '납품기한일자',\n",
    "     'cntrctCnclsStleNm': '계약구분',\n",
    "     'exclcProdctYn': '우수제품여부',\n",
    "     'optnDivCdNm': '옵션구분',\n",
    "     'dminsttCd': '수요기관코드',\n",
    "     'dminsttNm': '수요기관명',\n",
    "     'dmndInsttDivNm': '수요기관구분',\n",
    "     'dminsttRgnNm': '수요기관지역명',\n",
    "     'corpNm': '업체명',\n",
    "     'fnlDlvrReqYn': '최종납품요구여부',\n",
    "     'incdecQty': '증감납품요구수량',\n",
    "     'incdecAmt': '증감납품요구금액',\n",
    "     'cntrctCorpBizno': '업체사업자등록번호',\n",
    "     'dlvrReqNm': '납품요구건명',\n",
    "     'cntrctNo': '계약번호',\n",
    "     'cntrctChgOrd': '계약변경차수',\n",
    "     'masYn': '다수공급자계약여부',\n",
    "     'cnstwkMtrlDrctPurchsObjYn': '공사용자재직접구매대상여부',\n",
    "     'smetprCmptProdctYn': '중소기업자간경쟁제품여부',\n",
    "     'IntlCntrctDlvrReqDate': '최초납품요구접수일자',\n",
    "     'dlvrReqQty': '납품요구수량',\n",
    "     'dlvrReqAmt': '납품요구금액',\n",
    "     'corpEntrprsDivNmNm': '업체기업구분명',\n",
    "     'brnofceNm': '납품요구지청명'\n",
    "}"
   ]
  },
  {
   "cell_type": "markdown",
   "id": "0853fe7f-e4c8-4226-a457-3e3f5d54b061",
   "metadata": {
    "jp-MarkdownHeadingCollapsed": true
   },
   "source": [
    "### 나라장터 종합쇼핑몰 납품 상세 내역"
   ]
  },
  {
   "cell_type": "code",
   "execution_count": 8,
   "id": "47ae72c1-a9eb-4ecb-8e06-dffe109da1b5",
   "metadata": {
    "scrolled": true
   },
   "outputs": [],
   "source": [
    "# API 엔드포인트 및 쿼리 파라미터 설정\n",
    "url = 'https://apis.data.go.kr/1230000/ShoppingMallPrdctInfoService06/getDlvrReqDtlInfoList01'\n",
    "params = {\n",
    "    'ServiceKey': 'mQ9FwLgvOY3RCjUPiBiGw0ZjjfJW1G5IWVopKvRrp/+e+FCQR8ClAQ2iNB0DFLVZbCjRY+QVE7/Wy8BbCF4O7w==',\n",
    "    'pageNo': '1',\n",
    "    'numOfRows': '100',\n",
    "    'type': 'json',\n",
    "    'inqryDiv': '1',\n",
    "    'inqryBgnDate': today[:-2]+'01', ## 해당월\n",
    "    'inqryEndDate': today, ## 오늘날짜\n",
    "    'prdctClsfcNoNm': '인조잔디'\n",
    "}\n",
    "\n",
    "\n",
    "# 모든 데이터를 저장할 빈 리스트 초기화\n",
    "all_items = []\n",
    "\n",
    "# 페이지를 바꿔가며 데이터를 가져오기\n",
    "page_no = 1\n",
    "while True:\n",
    "    params['pageNo'] = str(page_no)\n",
    "    response = requests.get(url, params=params)\n",
    "    data = response.json()\n",
    "    \n",
    "    # 현재 페이지의 items 가져오기\n",
    "    items = data['response']['body']['items']\n",
    "    \n",
    "    # items가 비어있으면 반복 종료\n",
    "    if not items:\n",
    "        break\n",
    "    \n",
    "    # 현재 페이지의 items를 all_items에 추가\n",
    "    all_items.extend(items)\n",
    "    \n",
    "    # 다음 페이지로 이동\n",
    "    page_no += 1\n",
    "\n",
    "# 모든 items 데이터를 데이터프레임으로 변환\n",
    "shop_detail_df = pd.DataFrame(all_items)\n",
    "\n",
    "# 컬럼명을 한글로 변경\n",
    "column_mapping = {\n",
    "    'dlvrReqNo': '납품요구번호',\n",
    "    'dlvrReqChgOrd': '납품요구변경차수',\n",
    "    'dlvrReqRcptDate': '납품요구접수일자',\n",
    "    'prdctSno': '물품순번',\n",
    "    'prdctClsfcNo': '물품분류번호',\n",
    "    'prdctClsfcNoNm': '품명',\n",
    "    'dtilPrdctClsfcNo': '세부물품분류번호',\n",
    "    'dtilPrdctClsfcNoNm': '세부품명',\n",
    "    'prdctIdntNo': '물품식별번호',\n",
    "    'prdctIdntNoNm': '품목',\n",
    "    'prdctUprc': '단가',\n",
    "    'prdctUnit': '단위',\n",
    "    'prdctQty': '수량',\n",
    "    'prdctAmt': '금액',\n",
    "    'dlvrTmlmtDate': '납품기한일자',\n",
    "    'cntrctCnclsStleNm': '계약구분',\n",
    "    'exclcProdctYn': '우수제품여부',\n",
    "    'optnDivCdNm': '옵션구분',\n",
    "    'dminsttCd': '수요기관코드',\n",
    "    'dminsttNm': '수요기관명',\n",
    "    'dmndInsttDivNm': '수요기관구분',\n",
    "    'dminsttRgnNm': '수요기관지역명',\n",
    "    'corpNm': '업체명',\n",
    "    'fnlDlvrReqYn': '최종납품요구여부',\n",
    "    'incdecQty': '증감납품요구수량',\n",
    "    'incdecAmt': '증감납품요구금액',\n",
    "    'cntrctCorpBizno': '업체사업자등록번호',\n",
    "    'dlvrReqNm': '납품요구건명',\n",
    "    'cntrctNo': '계약번호',\n",
    "    'cntrctChgOrd': '계약변경차수',\n",
    "    'masYn': '다수공급자계약여부',\n",
    "    'cnstwkMtrlDrctPurchsObjYn': '공사용자재직접구매대상여부',\n",
    "    'smetprCmptProdctYn': '중소기업자간경쟁제품여부',\n",
    "    'IntlCntrctDlvrReqDate': '최초납품요구접수일자',\n",
    "    'dlvrReqQty': '납품요구수량',\n",
    "    'dlvrReqAmt': '납품요구금액',\n",
    "    'corpEntrprsDivNmNm': '업체기업구분명',\n",
    "    'brnofceNm': '납품요구지청명'\n",
    "}\n",
    "\n",
    "shop_detail_df.rename(columns=column_mapping, inplace=True)\n",
    "\n",
    "# 필터링\n",
    "shop_detail_df = shop_detail_df[shop_detail_df['품명'] == '인조잔디']\n",
    "shop_detail_df = shop_detail_df[shop_detail_df['최종납품요구여부'] == 'Y'].reset_index(drop=True)\n",
    "\n",
    "# 숫자형 컬럼 변환\n",
    "numeric_columns = ['단가', '수량', '금액', '납품요구수량', '납품요구금액', '증감납품요구수량', '증감납품요구금액']\n",
    "shop_detail_df[numeric_columns] = shop_detail_df[numeric_columns].apply(pd.to_numeric, errors='coerce')\n",
    "\n",
    "# 최종데이터셋\n",
    "shop_detail_df = shop_detail_df[['납품요구번호', '납품요구변경차수', '물품순번', '수요기관명', '납품요구접수일자', '납품요구건명', '업체명', '물품분류번호', '품명', '세부물품분류번호', '세부품명', \n",
    "                                 '물품식별번호', '품목', '단가', '단위', '수량', '금액', '납품기한일자', '계약구분', '계약번호', '계약변경차수', '다수공급자계약여부', '공사용자재직접구매대상여부', \n",
    "                                 '중소기업자간경쟁제품여부', '우수제품여부', '옵션구분', '최종납품요구여부', '최초납품요구접수일자', '납품요구수량',  '납품요구금액', '증감납품요구수량', '증감납품요구금액', \n",
    "                                 '수요기관코드', '수요기관구분', '수요기관지역명', '업체사업자등록번호', '업체기업구분명', '납품요구지청명']]"
   ]
  },
  {
   "cell_type": "code",
   "execution_count": 9,
   "id": "56f1e7ee",
   "metadata": {},
   "outputs": [
    {
     "name": "stdout",
     "output_type": "stream",
     "text": [
      "Data inserted into table shop_detail_df_007 successfully.\n"
     ]
    }
   ],
   "source": [
    "# 빅쿼리 적재\n",
    "save_dataframe_to_bigquery(shop_detail_df,'g2b','shop_detail_df_007',bigquerykey_path)"
   ]
  },
  {
   "cell_type": "code",
   "execution_count": 10,
   "id": "415139dc",
   "metadata": {},
   "outputs": [],
   "source": [
    "# 전체 종합쇼핑몰 데이터 가져오기\n",
    "tables = create_bigquery_client(bigquerykey_path).list_tables(f\"{'mido-project-426906'}.{'g2b'}\")\n",
    "table_list = [table.table_id for table in tables if 'shop_detail_df' in table.table_id and 'all' not in table.table_id]\n",
    "\n",
    "shop_df_list = []\n",
    "for tb_nm in table_list:\n",
    "    data = get_dataframe_from_bigquery('g2b', tb_nm,bigquerykey_path)\n",
    "    shop_df_list.extend(data.to_dict('records'))"
   ]
  },
  {
   "cell_type": "code",
   "execution_count": 11,
   "id": "19ab6efd",
   "metadata": {},
   "outputs": [],
   "source": [
    "all_shop_df = pd.DataFrame(shop_df_list)"
   ]
  },
  {
   "cell_type": "code",
   "execution_count": 12,
   "id": "3c2070c3",
   "metadata": {},
   "outputs": [
    {
     "name": "stdout",
     "output_type": "stream",
     "text": [
      "Data inserted into table shop_detail_df_all successfully.\n"
     ]
    }
   ],
   "source": [
    "# 빅쿼리 적재\n",
    "save_dataframe_to_bigquery(all_shop_df,'g2b','shop_detail_df_all',bigquerykey_path)"
   ]
  },
  {
   "cell_type": "markdown",
   "id": "fadcb0bb-d130-4390-b4c3-39a0c4d30f8a",
   "metadata": {
    "jp-MarkdownHeadingCollapsed": true
   },
   "source": [
    "### LH 전자조달"
   ]
  },
  {
   "cell_type": "code",
   "execution_count": null,
   "id": "15d06755-9f06-40d5-aa2a-5c8092a67ec0",
   "metadata": {
    "scrolled": true
   },
   "outputs": [],
   "source": [
    "# API 엔드포인트 및 쿼리 파라미터 설정\n",
    "url = 'http://openapi.ebid.lh.or.kr/ebid.com.openapi.service.OpenBidInfoList.dev'\n",
    "params = {\n",
    "    'ServiceKey': 'mQ9FwLgvOY3RCjUPiBiGw0ZjjfJW1G5IWVopKvRrp/+e+FCQR8ClAQ2iNB0DFLVZbCjRY+QVE7/Wy8BbCF4O7w==',\n",
    "    'pageNo': '1',\n",
    "    'numOfRows': '100',\n",
    "    # 'type': 'json',\n",
    "    # 'inqryDiv': '1',\n",
    "    'tndrbidRegDtStart': '20240501',\n",
    "    'tndrbidRegDtEnd': '20240531',\n",
    "    # 'prdctClsfcNoNm': '인조잔디'\n",
    "}\n",
    "\n",
    "\n",
    "# 모든 데이터를 저장할 빈 리스트 초기화\n",
    "all_items = []\n",
    "\n",
    "# 페이지를 바꿔가며 데이터를 가져오기\n",
    "page_no = 1\n",
    "while True:\n",
    "    params['pageNo'] = str(page_no)\n",
    "    response = requests.get(url, params=params)\n",
    "\n",
    "    if response.status_code == 200:\n",
    "    \n",
    "        # 응답 데이터의 인코딩을 감지\n",
    "        detected_encoding = chardet.detect(response.content)['encoding']\n",
    "        \n",
    "        # 감지된 인코딩으로 데이터를 디코딩\n",
    "        xml_string = response.content.decode(detected_encoding)\n",
    "        \n",
    "        # XML 문자열을 파이썬 dict로 변환\n",
    "        xml_dict = xmltodict.parse(xml_string)\n",
    "        \n",
    "        # 현재 페이지의 items 가져오기\n",
    "        try:\n",
    "            items = xml_dict['response']['body']['item']\n",
    "        except:\n",
    "            break\n",
    "        \n",
    "        # # items가 비어있으면 반복 종료\n",
    "        # if not items:\n",
    "        #     break\n",
    "    \n",
    "    # 현재 페이지의 items를 all_items에 추가\n",
    "    all_items.extend(items)\n",
    "    \n",
    "    # 다음 페이지로 이동\n",
    "    page_no += 1\n",
    "\n",
    "# 모든 items 데이터를 데이터프레임으로 변환\n",
    "df = pd.DataFrame(all_items)"
   ]
  },
  {
   "cell_type": "code",
   "execution_count": null,
   "id": "4d3238ff-2c3e-4301-b3fa-cffb2f5e43f9",
   "metadata": {},
   "outputs": [],
   "source": [
    "column_mapping = {\n",
    "    'bidNum' : '공고번호',\n",
    "    'cstrtnJobGbNm' : '업무구분',\n",
    "    'bidKind' : '공고종류(분류)',\n",
    "    'bidnmKor' : '입찰공고명(국문)',\n",
    "    'bidnmEng' : '입찰공고명(영문)',\n",
    "    'zoneHqCd' : '담당지역본부',\n",
    "    'bidProgrsStatus' : '입찰진행상태현황',\n",
    "    'tndrCtrctMedCd' : '입찰계약방법',\n",
    "    'tndrbidRegDt' : '입찰공고등록일',\n",
    "    'presmtPrc' : '추정가격',\n",
    "    'addtTax' : '부가가치세',\n",
    "    'designPrc' : '설계가격',\n",
    "    'fdmtlAmt' : '기초금액',\n",
    "    'sunjungNm' : '낙찰자선정방법',\n",
    "    'gongdongNm' : '공동수급구성방식',\n",
    "    'cooperdocAcptEndDtm' : '공동수급협정서접수 마감일시',\n",
    "    'tndrdocAcptBgninDtm' : '입찰서접수개시일시',\n",
    "    'tndrdocAcptEndDtm' : '입찰서접수마감일시',\n",
    "    'openDtm' : '개찰일시',\n",
    "    'zoneRstrct1' : '참가지역1',\n",
    "    'zoneRstrct2' : '참가지역2',\n",
    "    'zoneRstrct3' : '참가지역3',\n",
    "    'zoneRstrct4' : '참가지역4',\n",
    "    'vndrrstrctNm1' : '지역의무공동업체제한 참가지역1',\n",
    "    'vndrrstrctNm2' : '지역의무공동업체제한 참가지역2',\n",
    "    'vndrrstrctNm3' : '지역의무공동업체제한 참가지역3',\n",
    "    'vndrrstrctNm4' : '지역의무공동업체제한 참가지역4'\n",
    "}\n",
    "\n",
    "df.rename(columns=column_mapping, inplace=True)"
   ]
  },
  {
   "cell_type": "code",
   "execution_count": null,
   "id": "93bf8232-98e4-4704-a3b3-eec63f7ba00e",
   "metadata": {
    "scrolled": true
   },
   "outputs": [],
   "source": [
    "df = df[['공고번호','업무구분','공고종류(분류)','입찰공고명(국문)','입찰공고명(영문)','담당지역본부','입찰진행상태현황','입찰계약방법','입찰공고등록일',\n",
    "         '추정가격','부가가치세','설계가격','기초금액','낙찰자선정방법','공동수급구성방식','공동수급협정서접수 마감일시','입찰서접수개시일시',\n",
    "         '입찰서접수마감일시','개찰일시','참가지역1','참가지역2','참가지역3','참가지역4','지역의무공동업체제한 참가지역1','지역의무공동업체제한 참가지역2',\n",
    "         '지역의무공동업체제한 참가지역3','지역의무공동업체제한 참가지역4']]"
   ]
  },
  {
   "cell_type": "markdown",
   "id": "2c840ea7-f958-4731-af57-666f1cc73e1f",
   "metadata": {
    "jp-MarkdownHeadingCollapsed": true
   },
   "source": [
    "### 인포21"
   ]
  },
  {
   "cell_type": "code",
   "execution_count": null,
   "id": "11a5cc27-ac9d-4654-ac9b-bf8c068db41d",
   "metadata": {},
   "outputs": [],
   "source": [
    "# 크롬 옵션 설정\n",
    "chrome_options = Options()\n",
    "# chrome_options.add_argument('--headless')  # 브라우저 창을 띄우지 않음\n",
    "chrome_options.add_argument('--disable-gpu')\n",
    "\n",
    "# 크롬 드라이버 서비스 설정\n",
    "service = Service(ChromeDriverManager().install())\n",
    "\n",
    "# 웹 드라이버 초기화\n",
    "driver = webdriver.Chrome(service=service, options=chrome_options)"
   ]
  },
  {
   "cell_type": "code",
   "execution_count": null,
   "id": "8a5892ab-18da-450a-ae91-9b33f151628b",
   "metadata": {},
   "outputs": [],
   "source": [
    "# 웹페이지 접속\n",
    "url = 'https://infose.info21c.net/info21c/bids/list/index?bidtype=con&bid_suc=bid&page=1&per-page=100'\n",
    "driver.get(url)"
   ]
  },
  {
   "cell_type": "code",
   "execution_count": null,
   "id": "b5749946-7c6f-40ca-a9b2-46a0cb74815a",
   "metadata": {},
   "outputs": [],
   "source": [
    "# 로그인\n",
    "driver.find_element(By.CSS_SELECTOR, '#id').send_keys('midoplus') ## ID입력\n",
    "driver.find_element(By.CSS_SELECTOR, '#pass').send_keys('mido6235!!') ## password입력\n",
    "\n",
    "driver.find_element(By.CSS_SELECTOR, '#login_btn').click()"
   ]
  },
  {
   "cell_type": "code",
   "execution_count": null,
   "id": "50f8b31d",
   "metadata": {},
   "outputs": [],
   "source": [
    "# https://infose.info21c.net/info21c/bids/list?bidtype=con&bid_suc=bid ## 공사입찰\n",
    "# https://infose.info21c.net/info21c/bids/list?bidtype=ser&bid_suc=bid ## 용역입찰\n",
    "# https://infose.info21c.net/info21c/bids/list?bidtype=pur&bid_suc=bid ## 구매입찰\n",
    "\n",
    "# https://infose.info21c.net/info21c/bids/list?bidtype=con&bid_suc=suc ## 공사낙찰\n",
    "# https://infose.info21c.net/info21c/bids/list?bidtype=ser&bid_suc=suc ## 용역낙찰\n",
    "# https://infose.info21c.net/info21c/bids/list?bidtype=pur&bid_suc=suc ## 구매낙찰"
   ]
  },
  {
   "cell_type": "markdown",
   "id": "6d617c85",
   "metadata": {},
   "source": [
    "#### 공사입찰"
   ]
  },
  {
   "cell_type": "markdown",
   "id": "02dc1308",
   "metadata": {},
   "source": [
    "#### 용역입찰"
   ]
  },
  {
   "cell_type": "code",
   "execution_count": null,
   "id": "8116c020",
   "metadata": {},
   "outputs": [],
   "source": [
    "# 초기화면\n",
    "pg=1\n",
    "start_date = '2024-06-28'\n",
    "end_date = '2024-06-28'\n",
    "url = 'https://infose.info21c.net/info21c/bids/list/index?mode=&page='+str(pg)+'&bid_suc=bid&division=1&searchtype=&userid=midoplus&searchWord=&bidtype=ser&g2bcode=&itemcode=&mainforce_code=&keyword=&location=&locationLoc=&whereis=&bid_opt=&contract=&delay=&cancel=&ulevel=&contract_sys=&convention=&sort=-writedt&bid_kind=&word_type=&subWord=&itemcodeAll=&keywordAll=&g2bcodeAll=&whereisAll=&locationAll=&bid_optAll=&conlevel=&cdate_column=writedt&cfrom_date='+start_date+'&cto_date='+end_date+'&pageSize=100'\n",
    "# url = 'https://infose.info21c.net/info21c/bids/list/index?mode=&page='+str(pg)+'&bid_suc=bid&division=1&searchtype=&userid=midoplus&searchWord=&bidtype=con&g2bcode=&itemcode=C001%2CC004%2CC021%2CC036%2CC037&mainforce_code=000%2C010&keyword=%EC%95%BC%EA%B5%AC%EC%9E%A5%2C%EC%9A%B4%EB%8F%99%EC%9E%A5%2C%EC%9D%B8%EC%A1%B0%EC%9E%94%EB%94%94%2C%EC%A1%B0%EA%B2%BD%EC%8B%9D%EC%9E%AC%2C%EC%B6%95%EA%B5%AC%EC%9E%A5%2C%ED%92%8B%EC%82%B4%EC%9E%A5&location=0&locationLoc=&whereis=g2b%2Ckepco%2Cd2b%2Clh%2Cpublic%2Cprivate%2Cetc&bid_opt=&contract=&delay=&cancel=&ulevel=&contract_sys=&convention=&sort=-writedt&bid_kind=&word_type=&subWord=&itemcodeAll=Y&keywordAll=Y&g2bcodeAll=&whereisAll=Y&locationAll=Y&bid_optAll=&conlevel=&cdate_column=writedt&cfrom_date='+start_date+'&cto_date='+end_date+'&pageSize=100&conlevel='\n",
    "driver.get(url)"
   ]
  },
  {
   "cell_type": "code",
   "execution_count": null,
   "id": "ee5ee11d-33d6-4f9f-931f-be89f446d73c",
   "metadata": {},
   "outputs": [],
   "source": [
    "total_cnt = int(driver.find_element(By.CLASS_NAME, 'list_top').text.split('\\n')[0].split(' ')[1].replace(',','')) ## 총 입찰공고건수"
   ]
  },
  {
   "cell_type": "code",
   "execution_count": null,
   "id": "054bda65-96e6-4d1d-86d8-54bb0d65eb88",
   "metadata": {},
   "outputs": [],
   "source": [
    "down_page_cnt = (total_cnt // 100) + 1 ## 반복횟수"
   ]
  },
  {
   "cell_type": "markdown",
   "id": "880d972d-b76b-4593-83bf-b8aa497957be",
   "metadata": {},
   "source": [
    "##### elements 기준"
   ]
  },
  {
   "cell_type": "code",
   "execution_count": null,
   "id": "d4016ece-1c2a-41e4-841c-bbb58a1f4dcb",
   "metadata": {},
   "outputs": [],
   "source": [
    "bid_info_list = []"
   ]
  },
  {
   "cell_type": "code",
   "execution_count": null,
   "id": "51ee72f9-fc37-41e3-948e-40dfac34abd9",
   "metadata": {},
   "outputs": [],
   "source": [
    "for i in tqdm(range(1,down_page_cnt+1)):\n",
    "    # 웹페이지 접속\n",
    "    page_no = i\n",
    "    # start_date = '2024-01-01'\n",
    "    # end_date = '2024-06-12'\n",
    "    \n",
    "    url = 'https://infose.info21c.net/info21c/bids/list/index?mode=&page='+str(page_no)+'&bid_suc=bid&division=1&searchtype=&userid=midoplus&searchWord=&bidtype=ser&g2bcode=&itemcode=&mainforce_code=&keyword=&location=&locationLoc=&whereis=&bid_opt=&contract=&delay=&cancel=&ulevel=&contract_sys=&convention=&sort=-writedt&bid_kind=&word_type=&subWord=&itemcodeAll=&keywordAll=&g2bcodeAll=&whereisAll=&locationAll=&bid_optAll=&conlevel=&cdate_column=writedt&cfrom_date='+start_date+'&cto_date='+end_date+'&pageSize=100'\n",
    "    driver.get(url)\n",
    "    time.sleep(1)\n",
    "\n",
    "    rows = driver.find_elements(By.CSS_SELECTOR, '#w0 > table > tbody > tr')\n",
    "    \n",
    "    for j in range(len(rows)):\n",
    "        cells = rows[j].find_elements(By.TAG_NAME, 'td')\n",
    "\n",
    "        bid_nm = cells[1].text\n",
    "        bid_comp = cells[2].text\n",
    "        bid_est_price = cells[3].text\n",
    "        bid_base_price = cells[4].text\n",
    "        bid_open_date = cells[5].text\n",
    "        bid_close_date = cells[6].text\n",
    "        bid_date = cells[7].text\n",
    "        bid_cd = cells[8].text\n",
    "        bid_region = cells[9].text\n",
    "\n",
    "        bid_info_list.append([bid_nm, bid_comp, bid_est_price, bid_base_price, bid_open_date, bid_close_date, bid_date, bid_cd, bid_region])\n",
    "\n",
    "    time.sleep(1)"
   ]
  },
  {
   "cell_type": "code",
   "execution_count": null,
   "id": "83d952df-e412-49d6-84c5-93bc2afe94f5",
   "metadata": {},
   "outputs": [],
   "source": [
    "# DataFrame으로 변환\n",
    "df = pd.DataFrame(bid_info_list)\n",
    "df.columns = ['공고명/공고번호', '발주기관', '추정가격', '기초금액', '개찰일', '투찰마감', '입력일', '업종', '지역']"
   ]
  },
  {
   "cell_type": "code",
   "execution_count": null,
   "id": "056573a1-bba3-4620-b246-e0d646533b32",
   "metadata": {
    "scrolled": true
   },
   "outputs": [],
   "source": [
    "# 전처리\n",
    "df['공고명'] = df['공고명/공고번호'].str.split('[').str[:-1].apply(('[').join)\n",
    "df['공고번호'] = df['공고명/공고번호'].str.split('[').str[-1].str.split(']').str[0]\n",
    "df['개찰일'] = df['개찰일'].str.split('\\n').str[0]\n",
    "df['개찰일'] = pd.to_datetime(df['개찰일'], format='%y.%m.%d').dt.strftime('%y.%m.%d')\n",
    "df['투찰마감'] = df['투찰마감'].str.split('\\n').str[0]\n",
    "df['투찰마감'] = pd.to_datetime(df['투찰마감'], format='%y.%m.%d').dt.strftime('%y.%m.%d')\n",
    "\n",
    "bid_df = df[['공고명', '공고번호', '발주기관', '추정가격', '기초금액', '개찰일', '투찰마감', '입력일', '업종', '지역']]"
   ]
  },
  {
   "cell_type": "code",
   "execution_count": null,
   "id": "5b766820",
   "metadata": {},
   "outputs": [],
   "source": [
    "# 필요 정보 추출\n",
    "filtered_bid_df = bid_df[bid_df['업종'].str.contains('건축|건설|ENG|엔지니어링')].reset_index(drop=True)\n",
    "filtered_bid_df = filtered_bid_df[~filtered_bid_df['업종'].str.contains('폐기물')].reset_index(drop=True)\n",
    "# filtered_bid_df = filtered_bid_df[~filtered_bid_df['공고명'].str.contains('폐기물')].reset_index(drop=True)\n",
    "\n",
    "# 날짜 필터링\n",
    "filtered_bid_df = filtered_bid_df[filtered_bid_df['투찰마감'] > datetime.today().strftime('%y.%m.%d')].reset_index(drop=True) ## 투찰마감일이 오늘보다 지났으면 제거"
   ]
  },
  {
   "cell_type": "code",
   "execution_count": null,
   "id": "7bf7edd8",
   "metadata": {},
   "outputs": [],
   "source": [
    "filtered_bid_df"
   ]
  },
  {
   "cell_type": "code",
   "execution_count": null,
   "id": "db415b61",
   "metadata": {},
   "outputs": [],
   "source": [
    "cond1 = '인조잔디|학교|운동장|종합운동장|공원|체육공원|체육시설|체육센터|스포츠|스포츠센터|경기장|축구장|야구장|풋살장|골프장|배드민턴장|테니스장|게이트볼장|하키장|구장' # 필요키워드\n",
    "cond2 = '개축|공사|용역|조성|실시|설계|계획' # 필요키워드\n",
    "except_kwd = '경관|숲|꽃길|조명|산책로|펜스|운영|복지|교육|학습|보건|행사|예방|안전|치안|창출|활성화|유아|검진|관리|조명|오염|예술|문화|급식|보상|주차장|개방' # 제외키워드"
   ]
  },
  {
   "cell_type": "code",
   "execution_count": null,
   "id": "67513472",
   "metadata": {},
   "outputs": [],
   "source": [
    "info_df = filtered_bid_df[(filtered_bid_df['공고명'].str.contains(cond1) |\n",
    "                           filtered_bid_df['공고명'].str.contains(cond2)) &\n",
    "                           ~filtered_bid_df['공고명'].str.contains(except_kwd)]\n",
    "info_df"
   ]
  },
  {
   "cell_type": "code",
   "execution_count": null,
   "id": "573c6270",
   "metadata": {},
   "outputs": [],
   "source": [
    "info_df['구분'] = None\n",
    "info_df['담당자'] = None\n",
    "info_df['연락처'] = None\n",
    "\n",
    "info_df[['입력일','지역','발주기관','구분','담당자','연락처','공고명']]"
   ]
  },
  {
   "cell_type": "code",
   "execution_count": null,
   "id": "ba5e4762",
   "metadata": {},
   "outputs": [],
   "source": [
    "info_df"
   ]
  },
  {
   "cell_type": "code",
   "execution_count": null,
   "id": "36c63faa",
   "metadata": {},
   "outputs": [],
   "source": [
    "# 빅쿼리에 적재\n",
    "save_dataframe_to_bigquery(info_df,'info21','info_df',bigquerykey_path)"
   ]
  },
  {
   "cell_type": "code",
   "execution_count": null,
   "id": "5e091161",
   "metadata": {},
   "outputs": [],
   "source": [
    "get_dataframe_from_bigquery('info21','info_df',bigquerykey_path)"
   ]
  },
  {
   "cell_type": "markdown",
   "id": "17526e73-d1a6-460e-9cf2-568a1515c3f6",
   "metadata": {},
   "source": [
    "### 지자체 예산서 링크"
   ]
  },
  {
   "cell_type": "code",
   "execution_count": null,
   "id": "4415ce30-bec4-4b43-a69a-b368a509073f",
   "metadata": {},
   "outputs": [],
   "source": [
    "# API 엔드포인트 및 기본 파라미터 설정\n",
    "url = \"https://www.lofin365.go.kr/lf/hub/BUDLK\"\n",
    "\n",
    "api_key = \"UPDXX1000317620240618111320UXQEE\"\n",
    "\n",
    "# 요청 헤더\n",
    "headers = {\n",
    "    \"Authorization\": f\"Bearer {api_key}\"\n",
    "}\n",
    "\n",
    "params = {\n",
    "    \"Key\": api_key,\n",
    "    \"Type\": \"json\",\n",
    "    \"pIndex\": 1,\n",
    "    \"pSize\": 1000,\n",
    "    \"fyr\": 2024,\n",
    "}"
   ]
  },
  {
   "cell_type": "code",
   "execution_count": null,
   "id": "23259ac5-dd69-46b4-b5ac-ad09276bb497",
   "metadata": {
    "scrolled": true
   },
   "outputs": [],
   "source": [
    "response = requests.get(url, headers=headers, params=params, verify=False)\n",
    "data = response.json()"
   ]
  },
  {
   "cell_type": "code",
   "execution_count": null,
   "id": "cce7ee77-2929-4b6f-89d4-a476c86629bf",
   "metadata": {},
   "outputs": [],
   "source": [
    "budget_df = pd.DataFrame(data['BUDLK'][1]['row'])\n",
    "budget_df.columns = ['기준년도', '지역명', '자치단체코드', '자치단체명', '링크명', 'URL']"
   ]
  },
  {
   "cell_type": "code",
   "execution_count": null,
   "id": "08598685",
   "metadata": {},
   "outputs": [],
   "source": [
    "save_dataframe_to_bigquery(budget_df,'budget','budget_link_df',bigquerykey_path)"
   ]
  },
  {
   "cell_type": "markdown",
   "id": "08a7a477-9103-4cf5-b1aa-ee69958945ab",
   "metadata": {},
   "source": [
    "### 지자체 사업별 예산"
   ]
  },
  {
   "cell_type": "code",
   "execution_count": 20,
   "id": "257cdb46-2dab-407b-b990-dd2852aa248a",
   "metadata": {},
   "outputs": [],
   "source": [
    "# API 엔드포인트 및 기본 파라미터 설정\n",
    "url = \"https://www.lofin365.go.kr/lf/hub/QWGJK\"\n",
    "\n",
    "api_key = \"TMGNU1000317620240618111419PWNQE\"\n",
    "\n",
    "# 요청 헤더\n",
    "headers = {\n",
    "    \"Authorization\": f\"Bearer {api_key}\"\n",
    "    }\n",
    "\n",
    "# 데이터 수집을 위한 빈 리스트 생성\n",
    "all_data = []\n",
    "page = 1\n",
    "page_size = 1000\n",
    "\n",
    "while True:\n",
    "    # 요청 파라미터\n",
    "    params = {\n",
    "        \"Key\": api_key,\n",
    "        \"Type\": \"json\",\n",
    "        \"pIndex\": page,\n",
    "        \"pSize\": page_size,\n",
    "        \"fyr\": today[:4],\n",
    "        \"exe_ymd\": today # ex) \"exe_ymd\": '20240628'\n",
    "    }\n",
    "\n",
    "    # API 요청 보내기 (certifi를 사용하여 SSL 인증서 검증)\n",
    "    response = requests.get(url, headers=headers, params=params, verify=False)\n",
    "\n",
    "    # 응답 확인\n",
    "    if response.status_code == 200:\n",
    "        data = response.json()\n",
    "\n",
    "        # 데이터를 리스트에 추가\n",
    "        if data:\n",
    "            all_data.extend(data['QWGJK'][1]['row'])\n",
    "            # 다음 페이지로 이동\n",
    "            page += 1\n",
    "        else:\n",
    "            # 더 이상 데이터가 없으면 중지\n",
    "            break\n",
    "    else:\n",
    "        print(f\"Failed to fetch data for page {page}: {response.status_code}\")\n",
    "        break\n",
    "\n",
    "# # 수집된 모든 데이터 출력\n",
    "# print(all_data)"
   ]
  },
  {
   "cell_type": "code",
   "execution_count": 21,
   "id": "96b21f18-fa2a-463e-b874-1eb9b1b019b9",
   "metadata": {
    "scrolled": true
   },
   "outputs": [
    {
     "data": {
      "text/html": [
       "<div>\n",
       "<style scoped>\n",
       "    .dataframe tbody tr th:only-of-type {\n",
       "        vertical-align: middle;\n",
       "    }\n",
       "\n",
       "    .dataframe tbody tr th {\n",
       "        vertical-align: top;\n",
       "    }\n",
       "\n",
       "    .dataframe thead th {\n",
       "        text-align: right;\n",
       "    }\n",
       "</style>\n",
       "<table border=\"1\" class=\"dataframe\">\n",
       "  <thead>\n",
       "    <tr style=\"text-align: right;\">\n",
       "      <th></th>\n",
       "      <th>fyr</th>\n",
       "      <th>wa_laf_cd</th>\n",
       "      <th>wa_laf_hg_nm</th>\n",
       "      <th>laf_cd</th>\n",
       "      <th>laf_hg_nm</th>\n",
       "      <th>acnt_dv_cd</th>\n",
       "      <th>acnt_dv_nm</th>\n",
       "      <th>dept_cd</th>\n",
       "      <th>dbiz_cd</th>\n",
       "      <th>dbiz_nm</th>\n",
       "      <th>...</th>\n",
       "      <th>capep</th>\n",
       "      <th>sggep</th>\n",
       "      <th>etc_amt</th>\n",
       "      <th>ep_amt</th>\n",
       "      <th>cpl_amt</th>\n",
       "      <th>fld_cd</th>\n",
       "      <th>fld_nm</th>\n",
       "      <th>ane_part_cd</th>\n",
       "      <th>part_nm</th>\n",
       "      <th>padm_laf_cd</th>\n",
       "    </tr>\n",
       "  </thead>\n",
       "  <tbody>\n",
       "    <tr>\n",
       "      <th>0</th>\n",
       "      <td>2024</td>\n",
       "      <td>1100000</td>\n",
       "      <td>서울</td>\n",
       "      <td>1111000</td>\n",
       "      <td>서울종로구</td>\n",
       "      <td>100</td>\n",
       "      <td>일반회계</td>\n",
       "      <td>1105020</td>\n",
       "      <td>3000000200730003</td>\n",
       "      <td>임산부·영유아 건강관리(자체)</td>\n",
       "      <td>...</td>\n",
       "      <td>0</td>\n",
       "      <td>21400000</td>\n",
       "      <td>0</td>\n",
       "      <td>6219000</td>\n",
       "      <td>21400000</td>\n",
       "      <td>090</td>\n",
       "      <td>보건</td>\n",
       "      <td>091</td>\n",
       "      <td>보건의료</td>\n",
       "      <td>3000000</td>\n",
       "    </tr>\n",
       "    <tr>\n",
       "      <th>1</th>\n",
       "      <td>2024</td>\n",
       "      <td>1100000</td>\n",
       "      <td>서울</td>\n",
       "      <td>1111000</td>\n",
       "      <td>서울종로구</td>\n",
       "      <td>100</td>\n",
       "      <td>일반회계</td>\n",
       "      <td>1105030</td>\n",
       "      <td>3000000200730004</td>\n",
       "      <td>의료업소 홍보 및 지도</td>\n",
       "      <td>...</td>\n",
       "      <td>0</td>\n",
       "      <td>8400000</td>\n",
       "      <td>0</td>\n",
       "      <td>5116100</td>\n",
       "      <td>8400000</td>\n",
       "      <td>090</td>\n",
       "      <td>보건</td>\n",
       "      <td>091</td>\n",
       "      <td>보건의료</td>\n",
       "      <td>3000000</td>\n",
       "    </tr>\n",
       "    <tr>\n",
       "      <th>2</th>\n",
       "      <td>2024</td>\n",
       "      <td>1100000</td>\n",
       "      <td>서울</td>\n",
       "      <td>1111000</td>\n",
       "      <td>서울종로구</td>\n",
       "      <td>100</td>\n",
       "      <td>일반회계</td>\n",
       "      <td>1105030</td>\n",
       "      <td>3000000200730005</td>\n",
       "      <td>응급의료 교육</td>\n",
       "      <td>...</td>\n",
       "      <td>13200000</td>\n",
       "      <td>27900000</td>\n",
       "      <td>0</td>\n",
       "      <td>18660000</td>\n",
       "      <td>54300000</td>\n",
       "      <td>090</td>\n",
       "      <td>보건</td>\n",
       "      <td>091</td>\n",
       "      <td>보건의료</td>\n",
       "      <td>3000000</td>\n",
       "    </tr>\n",
       "    <tr>\n",
       "      <th>3</th>\n",
       "      <td>2024</td>\n",
       "      <td>1100000</td>\n",
       "      <td>서울</td>\n",
       "      <td>1111000</td>\n",
       "      <td>서울종로구</td>\n",
       "      <td>100</td>\n",
       "      <td>일반회계</td>\n",
       "      <td>1105020</td>\n",
       "      <td>3000000200730008</td>\n",
       "      <td>임상병리 검사</td>\n",
       "      <td>...</td>\n",
       "      <td>0</td>\n",
       "      <td>83737000</td>\n",
       "      <td>0</td>\n",
       "      <td>42727640</td>\n",
       "      <td>83737000</td>\n",
       "      <td>090</td>\n",
       "      <td>보건</td>\n",
       "      <td>091</td>\n",
       "      <td>보건의료</td>\n",
       "      <td>3000000</td>\n",
       "    </tr>\n",
       "    <tr>\n",
       "      <th>4</th>\n",
       "      <td>2024</td>\n",
       "      <td>1100000</td>\n",
       "      <td>서울</td>\n",
       "      <td>1111000</td>\n",
       "      <td>서울종로구</td>\n",
       "      <td>100</td>\n",
       "      <td>일반회계</td>\n",
       "      <td>1105020</td>\n",
       "      <td>3000000200730009</td>\n",
       "      <td>방사선 검사</td>\n",
       "      <td>...</td>\n",
       "      <td>0</td>\n",
       "      <td>40544000</td>\n",
       "      <td>0</td>\n",
       "      <td>17216440</td>\n",
       "      <td>40544000</td>\n",
       "      <td>090</td>\n",
       "      <td>보건</td>\n",
       "      <td>091</td>\n",
       "      <td>보건의료</td>\n",
       "      <td>3000000</td>\n",
       "    </tr>\n",
       "    <tr>\n",
       "      <th>...</th>\n",
       "      <td>...</td>\n",
       "      <td>...</td>\n",
       "      <td>...</td>\n",
       "      <td>...</td>\n",
       "      <td>...</td>\n",
       "      <td>...</td>\n",
       "      <td>...</td>\n",
       "      <td>...</td>\n",
       "      <td>...</td>\n",
       "      <td>...</td>\n",
       "      <td>...</td>\n",
       "      <td>...</td>\n",
       "      <td>...</td>\n",
       "      <td>...</td>\n",
       "      <td>...</td>\n",
       "      <td>...</td>\n",
       "      <td>...</td>\n",
       "      <td>...</td>\n",
       "      <td>...</td>\n",
       "      <td>...</td>\n",
       "      <td>...</td>\n",
       "    </tr>\n",
       "    <tr>\n",
       "      <th>453732</th>\n",
       "      <td>2024</td>\n",
       "      <td>4900000</td>\n",
       "      <td>제주</td>\n",
       "      <td>4900000</td>\n",
       "      <td>제주본청</td>\n",
       "      <td>437</td>\n",
       "      <td>예술인복지기금</td>\n",
       "      <td>1035010</td>\n",
       "      <td>6500000202430267</td>\n",
       "      <td>예술인 창작준비금 지원</td>\n",
       "      <td>...</td>\n",
       "      <td>300000000</td>\n",
       "      <td>0</td>\n",
       "      <td>0</td>\n",
       "      <td>0</td>\n",
       "      <td>300000000</td>\n",
       "      <td>060</td>\n",
       "      <td>문화및관광</td>\n",
       "      <td>061</td>\n",
       "      <td>문화예술</td>\n",
       "      <td>6500000</td>\n",
       "    </tr>\n",
       "    <tr>\n",
       "      <th>453733</th>\n",
       "      <td>2024</td>\n",
       "      <td>4900000</td>\n",
       "      <td>제주</td>\n",
       "      <td>4900000</td>\n",
       "      <td>제주본청</td>\n",
       "      <td>232</td>\n",
       "      <td>주차장사업특별회계</td>\n",
       "      <td>1055010</td>\n",
       "      <td>6500000202430269</td>\n",
       "      <td>보전지출</td>\n",
       "      <td>...</td>\n",
       "      <td>223851000</td>\n",
       "      <td>0</td>\n",
       "      <td>0</td>\n",
       "      <td>0</td>\n",
       "      <td>223851000</td>\n",
       "      <td>120</td>\n",
       "      <td>교통및물류</td>\n",
       "      <td>126</td>\n",
       "      <td>대중교통ㆍ물류등기타</td>\n",
       "      <td>6500000</td>\n",
       "    </tr>\n",
       "    <tr>\n",
       "      <th>453734</th>\n",
       "      <td>2024</td>\n",
       "      <td>4900000</td>\n",
       "      <td>제주</td>\n",
       "      <td>4900000</td>\n",
       "      <td>제주본청</td>\n",
       "      <td>232</td>\n",
       "      <td>주차장사업특별회계</td>\n",
       "      <td>1055010</td>\n",
       "      <td>650000020243026A</td>\n",
       "      <td>내부거래지출</td>\n",
       "      <td>...</td>\n",
       "      <td>390000000</td>\n",
       "      <td>0</td>\n",
       "      <td>0</td>\n",
       "      <td>0</td>\n",
       "      <td>390000000</td>\n",
       "      <td>120</td>\n",
       "      <td>교통및물류</td>\n",
       "      <td>126</td>\n",
       "      <td>대중교통ㆍ물류등기타</td>\n",
       "      <td>6500000</td>\n",
       "    </tr>\n",
       "    <tr>\n",
       "      <th>453735</th>\n",
       "      <td>2024</td>\n",
       "      <td>4900000</td>\n",
       "      <td>제주</td>\n",
       "      <td>4900000</td>\n",
       "      <td>제주본청</td>\n",
       "      <td>100</td>\n",
       "      <td>일반회계</td>\n",
       "      <td>1040020</td>\n",
       "      <td>650000020243026B</td>\n",
       "      <td>소상공인 경영지원센터 운영(민관협력형 배달앱)</td>\n",
       "      <td>...</td>\n",
       "      <td>0</td>\n",
       "      <td>0</td>\n",
       "      <td>0</td>\n",
       "      <td>50000000</td>\n",
       "      <td>50000000</td>\n",
       "      <td>110</td>\n",
       "      <td>산업ㆍ중소기업및에너지</td>\n",
       "      <td>114</td>\n",
       "      <td>산업진흥ㆍ고도화</td>\n",
       "      <td>6500000</td>\n",
       "    </tr>\n",
       "    <tr>\n",
       "      <th>453736</th>\n",
       "      <td>2024</td>\n",
       "      <td>4900000</td>\n",
       "      <td>제주</td>\n",
       "      <td>4900000</td>\n",
       "      <td>제주본청</td>\n",
       "      <td>100</td>\n",
       "      <td>일반회계</td>\n",
       "      <td>1030043</td>\n",
       "      <td>650000020243026F</td>\n",
       "      <td>2024 국가-지자체 평생교육이용권(평생교육바우처) 지원사업</td>\n",
       "      <td>...</td>\n",
       "      <td>0</td>\n",
       "      <td>0</td>\n",
       "      <td>0</td>\n",
       "      <td>699965000</td>\n",
       "      <td>699965000</td>\n",
       "      <td>050</td>\n",
       "      <td>교육</td>\n",
       "      <td>053</td>\n",
       "      <td>평생ㆍ직업교육</td>\n",
       "      <td>6500000</td>\n",
       "    </tr>\n",
       "  </tbody>\n",
       "</table>\n",
       "<p>453737 rows × 23 columns</p>\n",
       "</div>"
      ],
      "text/plain": [
       "         fyr wa_laf_cd wa_laf_hg_nm   laf_cd laf_hg_nm acnt_dv_cd acnt_dv_nm  \\\n",
       "0       2024   1100000           서울  1111000     서울종로구        100       일반회계   \n",
       "1       2024   1100000           서울  1111000     서울종로구        100       일반회계   \n",
       "2       2024   1100000           서울  1111000     서울종로구        100       일반회계   \n",
       "3       2024   1100000           서울  1111000     서울종로구        100       일반회계   \n",
       "4       2024   1100000           서울  1111000     서울종로구        100       일반회계   \n",
       "...      ...       ...          ...      ...       ...        ...        ...   \n",
       "453732  2024   4900000           제주  4900000      제주본청        437    예술인복지기금   \n",
       "453733  2024   4900000           제주  4900000      제주본청        232  주차장사업특별회계   \n",
       "453734  2024   4900000           제주  4900000      제주본청        232  주차장사업특별회계   \n",
       "453735  2024   4900000           제주  4900000      제주본청        100       일반회계   \n",
       "453736  2024   4900000           제주  4900000      제주본청        100       일반회계   \n",
       "\n",
       "        dept_cd           dbiz_cd                            dbiz_nm  ...  \\\n",
       "0       1105020  3000000200730003                   임산부·영유아 건강관리(자체)  ...   \n",
       "1       1105030  3000000200730004                       의료업소 홍보 및 지도  ...   \n",
       "2       1105030  3000000200730005                            응급의료 교육  ...   \n",
       "3       1105020  3000000200730008                            임상병리 검사  ...   \n",
       "4       1105020  3000000200730009                             방사선 검사  ...   \n",
       "...         ...               ...                                ...  ...   \n",
       "453732  1035010  6500000202430267                       예술인 창작준비금 지원  ...   \n",
       "453733  1055010  6500000202430269                               보전지출  ...   \n",
       "453734  1055010  650000020243026A                             내부거래지출  ...   \n",
       "453735  1040020  650000020243026B          소상공인 경영지원센터 운영(민관협력형 배달앱)  ...   \n",
       "453736  1030043  650000020243026F  2024 국가-지자체 평생교육이용권(평생교육바우처) 지원사업  ...   \n",
       "\n",
       "            capep     sggep  etc_amt     ep_amt    cpl_amt  fld_cd  \\\n",
       "0               0  21400000        0    6219000   21400000     090   \n",
       "1               0   8400000        0    5116100    8400000     090   \n",
       "2        13200000  27900000        0   18660000   54300000     090   \n",
       "3               0  83737000        0   42727640   83737000     090   \n",
       "4               0  40544000        0   17216440   40544000     090   \n",
       "...           ...       ...      ...        ...        ...     ...   \n",
       "453732  300000000         0        0          0  300000000     060   \n",
       "453733  223851000         0        0          0  223851000     120   \n",
       "453734  390000000         0        0          0  390000000     120   \n",
       "453735          0         0        0   50000000   50000000     110   \n",
       "453736          0         0        0  699965000  699965000     050   \n",
       "\n",
       "             fld_nm  ane_part_cd     part_nm padm_laf_cd  \n",
       "0                보건          091        보건의료     3000000  \n",
       "1                보건          091        보건의료     3000000  \n",
       "2                보건          091        보건의료     3000000  \n",
       "3                보건          091        보건의료     3000000  \n",
       "4                보건          091        보건의료     3000000  \n",
       "...             ...          ...         ...         ...  \n",
       "453732        문화및관광          061        문화예술     6500000  \n",
       "453733        교통및물류          126  대중교통ㆍ물류등기타     6500000  \n",
       "453734        교통및물류          126  대중교통ㆍ물류등기타     6500000  \n",
       "453735  산업ㆍ중소기업및에너지          114    산업진흥ㆍ고도화     6500000  \n",
       "453736           교육          053     평생ㆍ직업교육     6500000  \n",
       "\n",
       "[453737 rows x 23 columns]"
      ]
     },
     "execution_count": 21,
     "metadata": {},
     "output_type": "execute_result"
    }
   ],
   "source": [
    "bid_budget_df = pd.DataFrame(all_data)\n",
    "bid_budget_df"
   ]
  },
  {
   "cell_type": "code",
   "execution_count": 22,
   "id": "f196bd71-59df-4902-8146-1a14ef1575d2",
   "metadata": {},
   "outputs": [],
   "source": [
    "column_mapping = {'acnt_dv_nm':'회계구분명',\n",
    "                  'dept_cd':'부서코드',\n",
    "                  'dbiz_cd':'세부사업코드',\n",
    "                  'dbiz_nm':'세부사업명',\n",
    "                  'exe_ymd':'집행일자',\n",
    "                  'bdg_cash_amt':'예산현액',\n",
    "                  'bdg_ntep':'국비',\n",
    "                  'capep':'시도비',\n",
    "                  'sggep':'시군구비',\n",
    "                  'etc_amt':'기타',\n",
    "                  'ep_amt':'지출액',\n",
    "                  'cpl_amt':'편성액',\n",
    "                  'fld_cd':'분야코드',\n",
    "                  'fld_nm':'분야명',\n",
    "                  'ane_part_cd':'부문코드',\n",
    "                  'part_nm':'부문명',\n",
    "                  'acnt_dv_cd':'회계구분코드',\n",
    "                  'fyr':'회계연도',\n",
    "                  'wa_laf_cd':'지역코드',\n",
    "                  'wa_laf_hg_nm':'지역명',\n",
    "                  'laf_cd':'자치단체코드',\n",
    "                  'laf_hg_nm':'자치단체명',\n",
    "                  'padm_laf_cd':'행정자치단체코드'}"
   ]
  },
  {
   "cell_type": "code",
   "execution_count": 23,
   "id": "1fc434eb-05b4-439e-ac21-1c78587153d9",
   "metadata": {},
   "outputs": [],
   "source": [
    "bid_budget_df.rename(columns=column_mapping,inplace=True)\n",
    "bid_budget_df = bid_budget_df[['회계연도', '지역코드', '지역명', '자치단체코드', '자치단체명', '회계구분명', '세부사업코드', '세부사업명', '집행일자', '예산현액', '지출액', '편성액', '분야명', '부문명', '행정자치단체코드']] # '국비', '시도비', '시군구비', '기타'"
   ]
  },
  {
   "cell_type": "code",
   "execution_count": 21,
   "id": "eb692817",
   "metadata": {},
   "outputs": [],
   "source": [
    "# bid_budget_df_today = bid_budget_df.copy()\n",
    "# bid_budget_df_day7 = bid_budget_df.copy()"
   ]
  },
  {
   "cell_type": "code",
   "execution_count": 24,
   "id": "c5d51013",
   "metadata": {},
   "outputs": [],
   "source": [
    "# 필요키워드1\n",
    "need_kwd1 = '학교|초등학교|중학교|고등학교|대학교|다목적|운동장|종합운동장|공원|체육|체육공원|체육시설|체육센터|스포츠|스포츠센터|놀이시설|연병장|축구장|족구장|야구장|풋살장|배드민턴장|테니스장|게이트볼장|하키장'\n",
    "\n",
    "# 필요키워드2\n",
    "need_kwd2 = '개선|교체|보수|공사|구매|구입|설치|정비|조성'\n",
    "\n",
    "# 필요키워드3\n",
    "need_kwd3 = '인조잔디'\n",
    "\n",
    "# 제외키워드\n",
    "except_kwd = 'CCTV|cctv|LED|led|가로등|가속기|간접등|간판|개방|검진|경관|계단|골프장|관리|광고|교량|교실|교육|교차로|균열|그늘막|그림|급수관|급식|난방기|내진|냉방기|네트워크|노상|노점|농기계|단열|데이터|도로개설|도로방음벽|도로정비|도로확장|도서관|디자인|뚜껑|막구조물|맨홀|모노레일|모니터링|미끄럼|미세먼지|미술|방송|방수|방음|방음벽|배면도로|배수|버스|법률자문|벤치|벽화|보건|보도블럭|보상|보일러|보행자도로|복지|볼라드|분묘|불법|빗물받이|사용료|사워실|살포|생육환경|석면|선홈통|소프트웨어|수도|수로|수목표찰|수영장|스크린|스프링클러|승강기|시계탑|시스템|식수대|신호등|안심벨|안전|약수터|억제제|역량|연결도로|예방|예술|오염|옹벽|요양기관|운영|울타리|위생|위험수목|유아|육교|음성안내|음악|의자|인양기|인터넷|입학|자료|자전거|저장고|저장장치|전광판|전기|전신주|전통시장|정화|정화조|조도|조명|조형물|조화기|주차장|줄눈|진로진학|진입도로|창고|창출|처우|철거|취업|치안|카메라|카약|통학로|파고라|펜스|폐기물|폐열|포충기|풀장|풍차|하수|하수관로|하수도|하천|학습|행사|화장|화장실|활성화|횡단보도|휀스|흡연'"
   ]
  },
  {
   "cell_type": "code",
   "execution_count": 25,
   "id": "190526f5",
   "metadata": {},
   "outputs": [],
   "source": [
    "bid_budget_df_filter = bid_budget_df[((bid_budget_df['세부사업명'].str.contains(need_kwd1) & \n",
    "                                  bid_budget_df['세부사업명'].str.contains(need_kwd2)) &\n",
    "                                  ~bid_budget_df['세부사업명'].str.contains(except_kwd)) |\n",
    "                                  bid_budget_df['세부사업명'].str.contains(need_kwd3)\n",
    "                                  ].reset_index(drop=True)"
   ]
  },
  {
   "cell_type": "code",
   "execution_count": 26,
   "id": "d924fb47",
   "metadata": {},
   "outputs": [
    {
     "name": "stdout",
     "output_type": "stream",
     "text": [
      "Data inserted into table budget_df_020240715 successfully.\n"
     ]
    }
   ],
   "source": [
    "# 빅쿼리에 적재\n",
    "save_dataframe_to_bigquery(bid_budget_df_filter,'budget','budget_df_0'+today,bigquerykey_path)"
   ]
  },
  {
   "cell_type": "markdown",
   "id": "4585779d",
   "metadata": {},
   "source": [
    "### 교육청 예산"
   ]
  },
  {
   "cell_type": "code",
   "execution_count": 21,
   "id": "b0d8ad00",
   "metadata": {},
   "outputs": [],
   "source": [
    "edu_df = pd.read_csv('C:/py_src/midoproject/data/2024년 교육청 본예산 정리.csv')\n",
    "edu_df.columns = ['시도','시군구','구분','과업명','금액','면적','예산집행']"
   ]
  },
  {
   "cell_type": "code",
   "execution_count": 22,
   "id": "64fa77c8",
   "metadata": {},
   "outputs": [
    {
     "name": "stdout",
     "output_type": "stream",
     "text": [
      "Data inserted into table edu_budget successfully.\n"
     ]
    }
   ],
   "source": [
    "save_dataframe_to_bigquery(edu_df,'edu','edu_budget',bigquerykey_path)"
   ]
  },
  {
   "cell_type": "markdown",
   "id": "9922edb8-d29a-4e03-8abe-88aa2b855000",
   "metadata": {},
   "source": [
    "### 뉴스기사스크랩핑"
   ]
  },
  {
   "cell_type": "markdown",
   "id": "69b98138-3b15-4542-9840-5fb4bd92a5e5",
   "metadata": {
    "jp-MarkdownHeadingCollapsed": true
   },
   "source": [
    "#### 네이버뉴스"
   ]
  },
  {
   "cell_type": "code",
   "execution_count": null,
   "id": "2fb613da-8f0a-44b5-974d-2f84ec106456",
   "metadata": {},
   "outputs": [],
   "source": [
    "# 네이버 API 인증 정보\n",
    "client_id = 'AtyNtq218QgbEcjHkYAI'\n",
    "client_secret = 'JDVrsZkBtZ'\n",
    "\n",
    "# 검색 파라미터\n",
    "keyword = ['인조잔디', '학교', '초등학교', '중학교', '고등학교', '대학교', '운동장', '다목적', '종합운동장', '공원', '체육공원', '체육시설', '체육센터', '스포츠센터', '관급', '연병장', '족구장', '축구장',\n",
    "           '야구장', '풋살장', '배드민턴장', '테니스장', '게이트볼장', '하키장']\n",
    "\n",
    "display = 100  # 한 번에 가져올 검색 결과 출력 건수\n",
    "sort = 'date'  # 최신순 정렬\n",
    "max_results = 100  # 원하는 최대 검색 결과 건수\n",
    "\n",
    "\n",
    "# 결과를 저장할 리스트\n",
    "all_news = []\n",
    "\n",
    "for kwd in tqdm(keyword):\n",
    "    # 반복하여 API 요청 보내기\n",
    "    for start in range(1, max_results + 1, display):\n",
    "        url = f\"https://openapi.naver.com/v1/search/news.json?query={kwd}&display={display}&sort={sort}&start={start}\"\n",
    "        headers = {\n",
    "            'X-Naver-Client-Id': client_id,\n",
    "            'X-Naver-Client-Secret': client_secret\n",
    "        }\n",
    "        response = requests.get(url, headers=headers)\n",
    "        if response.status_code == 200:\n",
    "            news_data = response.json()\n",
    "            all_news.extend(news_data['items'])\n",
    "        else:\n",
    "            print(\"Error Code:\", response.status_code)\n",
    "            break"
   ]
  },
  {
   "cell_type": "code",
   "execution_count": null,
   "id": "08d262c5-b9d5-478b-bc76-9ddba4ad4071",
   "metadata": {},
   "outputs": [],
   "source": [
    "# 뉴스 기사 링크에서 제목과 본문을 가져오기 위한 함수\n",
    "def get_article_content(url):\n",
    "    headers = {'User-Agent': 'Mozilla/5.0'}\n",
    "    response = requests.get(url, headers=headers)\n",
    "    if response.status_code == 200:\n",
    "        soup = BeautifulSoup(response.text, 'html.parser')\n",
    "        title = soup.find('meta', property='og:title')['content']\n",
    "        content = soup.find('article', {'id': 'dic_area'}).get_text(strip=True)\n",
    "        return title, content, url\n",
    "    else:\n",
    "        return None, None, url\n",
    "\n",
    "# URL 리스트에서 제목과 본문 가져오기\n",
    "def fetch_news_content(news_links):\n",
    "    results = []\n",
    "    for link in tqdm(news_links):\n",
    "        title, content, url = get_article_content(link)\n",
    "        if title and content:\n",
    "            results.append({'title': title, 'content': content, 'link': url})\n",
    "    return pd.DataFrame(results)"
   ]
  },
  {
   "cell_type": "code",
   "execution_count": null,
   "id": "b6c73646-330e-43ee-8c5e-221a79bd7dcd",
   "metadata": {
    "scrolled": true
   },
   "outputs": [],
   "source": [
    "# 네이버뉴스형식 기사 추출\n",
    "all_news_df = pd.DataFrame(all_news)\n",
    "\n",
    "drop_idx = []\n",
    "for i in range(len(all_news_df['link'])):\n",
    "    if 'n.news.naver.com' not in all_news_df['link'][i]:\n",
    "            drop_idx = drop_idx + [i]\n",
    "\n",
    "news_df = all_news_df.drop(drop_idx).reset_index(drop=True)\n",
    "news_df = news_df.drop_duplicates(['link']).reset_index(drop=True)"
   ]
  },
  {
   "cell_type": "code",
   "execution_count": null,
   "id": "fa499e84-6e65-444e-9de9-47c8c35dcc9b",
   "metadata": {},
   "outputs": [],
   "source": [
    "# 링크가 있는 데이터프레임의 컬럼을 리스트로 변환\n",
    "news_links = news_df['link'].tolist()\n",
    "\n",
    "# 뉴스 기사 내용 가져오기\n",
    "news_links_df = fetch_news_content(news_links)"
   ]
  },
  {
   "cell_type": "code",
   "execution_count": null,
   "id": "fe081384-7ff8-4adb-92f5-df06b6708d0b",
   "metadata": {
    "scrolled": true
   },
   "outputs": [],
   "source": [
    "naver_news_df = pd.merge(news_df,news_links_df,how='left',on='link')"
   ]
  },
  {
   "cell_type": "code",
   "execution_count": null,
   "id": "0b6a5284-b12d-4c65-8a44-44f5269f87ef",
   "metadata": {
    "scrolled": true
   },
   "outputs": [],
   "source": [
    "naver_news_df_fin = naver_news_df[['title_y', 'content','originallink', 'link', 'pubDate']]\n",
    "naver_news_df_fin.columns = ['제목', '본문', '원본링크', '네이버링크', '기사날짜']"
   ]
  },
  {
   "cell_type": "code",
   "execution_count": null,
   "id": "04bd2fb5-7ab4-4230-b8eb-28fb209a1cb8",
   "metadata": {
    "scrolled": true
   },
   "outputs": [],
   "source": [
    "naver_news_df_fin = naver_news_df_fin.drop_duplicates() # 중복제거\n",
    "\n",
    "# 날짜 형식 변경\n",
    "naver_news_df_fin['기사날짜'] = naver_news_df_fin['기사날짜'].apply(lambda x: parser.parse(x).strftime('%Y-%m-%d %H:%M:%S'))\n",
    "naver_news_df_fin = naver_news_df_fin.sort_values(['기사날짜'],ascending=False).reset_index(drop=True)"
   ]
  },
  {
   "cell_type": "code",
   "execution_count": null,
   "id": "63fd253c",
   "metadata": {},
   "outputs": [],
   "source": [
    "cond1 = '인조잔디|학교|운동장|종합운동장|공원|체육공원|체육시설|체육센터|스포츠센터|축구장|야구장|풋살장|배드민턴장|테니스장|게이트볼장|하키장'\n",
    "cond2 = '개축|공사|용역|조성|실시|설계|계획|예산|확보|예정'\n",
    "cond3 = '준공식|개장식|완공|마쳤|성황리|종료' ## 제외할 키워드"
   ]
  },
  {
   "cell_type": "code",
   "execution_count": null,
   "id": "90d5b577",
   "metadata": {},
   "outputs": [],
   "source": [
    "naver_news_df_filter1 = naver_news_df_fin[(naver_news_df_fin['제목'].str.contains(cond1) |\n",
    "                                          naver_news_df_fin['제목'].str.contains(cond2)) &\n",
    "                                          ~naver_news_df_fin['제목'].str.contains(cond3)].reset_index(drop=True)"
   ]
  },
  {
   "cell_type": "code",
   "execution_count": null,
   "id": "69cb6466",
   "metadata": {},
   "outputs": [],
   "source": [
    "naver_news_df_filter2 = naver_news_df_fin[(naver_news_df_fin['본문'].str.contains(cond1) &\n",
    "                                           naver_news_df_fin['본문'].str.contains(cond2)) &\n",
    "                                           ~naver_news_df_fin['본문'].str.contains(cond3)].reset_index(drop=True)"
   ]
  },
  {
   "cell_type": "code",
   "execution_count": null,
   "id": "c716aba2",
   "metadata": {},
   "outputs": [],
   "source": [
    "naver_news_df_filter = pd.concat([naver_news_df_filter1,naver_news_df_filter2],axis=0).drop_duplicates().reset_index(drop=True)"
   ]
  },
  {
   "cell_type": "markdown",
   "id": "3a875cb4-7412-4905-96b6-917c4c27f6c0",
   "metadata": {
    "jp-MarkdownHeadingCollapsed": true
   },
   "source": [
    "#### 구글뉴스"
   ]
  },
  {
   "cell_type": "code",
   "execution_count": null,
   "id": "a353b8f1-4fbe-410f-9c5c-222aef854dd0",
   "metadata": {
    "scrolled": true
   },
   "outputs": [],
   "source": [
    "def fetch_google_news_rss(query, num_pages=3):\n",
    "    articles = []\n",
    "    for page in range(num_pages):\n",
    "        start = page * 10\n",
    "        rss_url = f\"https://news.google.com/rss/search?q={query}&hl=ko&gl=KR&ceid=KR:ko&start={start}\"\n",
    "        news_feed = feedparser.parse(rss_url)\n",
    "        for entry in news_feed.entries:\n",
    "            article = {\n",
    "                'title': entry.title,\n",
    "                'link': entry.link,\n",
    "                'published': entry.published,\n",
    "                'summary': entry.summary\n",
    "            }\n",
    "            articles.append(article)\n",
    "    return articles"
   ]
  },
  {
   "cell_type": "code",
   "execution_count": null,
   "id": "c172e869-6a7e-4288-a874-3f45602f45e4",
   "metadata": {
    "scrolled": true
   },
   "outputs": [],
   "source": [
    "query = \"인조잔디\"\n",
    "articles = fetch_google_news_rss(query,5)\n",
    "if articles:\n",
    "    for article in articles:\n",
    "        print(f\"Title: {article['title']}\")\n",
    "        print(f\"Link: {article['link']}\")\n",
    "        print(f\"Published: {article['published']}\")\n",
    "        print(f\"Summary: {article['summary']}\")\n",
    "        print(\"-------\")\n",
    "else:\n",
    "    print(\"No articles found\")"
   ]
  },
  {
   "cell_type": "code",
   "execution_count": null,
   "id": "ec5202b3",
   "metadata": {},
   "outputs": [],
   "source": [
    "# 데이터셋\n",
    "google_news_df = pd.DataFrame(articles)\n",
    "google_news_df = google_news_df.drop_duplicates() # 중복제거\n",
    "\n",
    "# 날짜형식변경\n",
    "google_news_df['published'] = google_news_df['published'].apply(lambda x: parser.parse(x).strftime('%Y-%m-%d %H:%M:%S'))\n",
    "google_news_df = google_news_df.sort_values(['published'],ascending=False).reset_index(drop=True)\n",
    "\n",
    "# 타이틀 불필요 제거\n",
    "google_news_df['title'] = google_news_df['title'].str.split('-').str[:-1].apply((' ').join)\n",
    "\n",
    "google_news_df.columns = ['제목','원본링크','기사날짜','요약']"
   ]
  },
  {
   "cell_type": "markdown",
   "id": "100f62c5",
   "metadata": {},
   "source": [
    "#### 뉴스 데이터 통합"
   ]
  },
  {
   "cell_type": "code",
   "execution_count": null,
   "id": "cab7255f",
   "metadata": {},
   "outputs": [],
   "source": [
    "# 네이버, 구글 뉴스 통합\n",
    "total_news_df = pd.concat([naver_news_df_filter[['기사날짜','제목','원본링크']], google_news_df[['기사날짜','제목','원본링크']]],axis=0)\n",
    "total_news_df['기사날짜'] = total_news_df['기사날짜'].apply(parser.parse) # 날짜 형식으로 변경\n",
    "\n",
    "total_news_df = total_news_df.sort_values('기사날짜').reset_index(drop=True)"
   ]
  },
  {
   "cell_type": "code",
   "execution_count": null,
   "id": "c7b392d4",
   "metadata": {},
   "outputs": [],
   "source": [
    "total_news_df_filter = total_news_df[total_news_df['기사날짜']>='2024-06-01']\n",
    "total_news_df_filter['기사날짜'] = total_news_df_filter['기사날짜'].astype('str').str.split(' ').str[0] # 연도, 월, 일 추출"
   ]
  },
  {
   "cell_type": "code",
   "execution_count": null,
   "id": "b05ccabc",
   "metadata": {},
   "outputs": [],
   "source": [
    "news_keyword = '운동장|축구장|야구장|게이트볼|배드민턴|테니스|학교|운동시설|스포츠타운|골프|조성|확충|유지|보수|예산|계획|추진|지원|용역'"
   ]
  },
  {
   "cell_type": "code",
   "execution_count": null,
   "id": "4663d9da",
   "metadata": {},
   "outputs": [],
   "source": [
    "total_news_df_filter[(total_news_df_filter['제목'].str.contains(cond1) |\n",
    "                     total_news_df_filter['제목'].str.contains(cond2)) &\n",
    "                     ~total_news_df_filter['제목'].str.contains(cond3)].reset_index(drop=True)"
   ]
  },
  {
   "cell_type": "markdown",
   "id": "20956cec",
   "metadata": {},
   "source": [
    "##### 기사에서 지역 추출"
   ]
  },
  {
   "cell_type": "code",
   "execution_count": null,
   "id": "75202ae8",
   "metadata": {},
   "outputs": [],
   "source": [
    "dist_code = pd.read_csv('C:/py_src/midoproject/data/법정동코드 전체자료.csv',encoding='cp949')"
   ]
  },
  {
   "cell_type": "code",
   "execution_count": null,
   "id": "cec44ffe",
   "metadata": {},
   "outputs": [],
   "source": [
    "dist_code['시도'] = dist_code['법정동명'].str.split(' ').str[0]\n",
    "dist_code['시군구'] = dist_code['법정동명'].str.split(' ').str[1]\n",
    "dist_code['시군구'] = np.where(dist_code['시군구'].isnull(),'',dist_code['시군구'])"
   ]
  },
  {
   "cell_type": "code",
   "execution_count": null,
   "id": "d3f3ea65",
   "metadata": {},
   "outputs": [],
   "source": [
    "dist_code['지역'] = np.where(dist_code['시도']=='충청북도','충북',dist_code['시도'].str[:2])\n",
    "dist_code['지역'] = np.where(dist_code['시도']=='충청남도','충남',dist_code['시도'].str[:2])\n",
    "dist_code['지역'] = np.where(dist_code['시도']=='전라북도','전북',dist_code['시도'].str[:2])\n",
    "dist_code['지역'] = np.where(dist_code['시도']=='전라남도','전남',dist_code['시도'].str[:2])\n",
    "\n",
    "dist_code['지역2'] = np.where(dist_code['시군구'].apply(len)<=2, dist_code['시군구'], dist_code['시군구'].str[:2])"
   ]
  },
  {
   "cell_type": "code",
   "execution_count": null,
   "id": "09135b6b",
   "metadata": {},
   "outputs": [],
   "source": [
    "# 지역 패턴 추출\n",
    "district_pat = ('|').join(dist_code['지역'].unique()) ## 시도\n",
    "district_pat2 = ('|').join(dist_code['지역2'].unique()[1:]) ## 시군구"
   ]
  },
  {
   "cell_type": "code",
   "execution_count": null,
   "id": "e74fcf0a",
   "metadata": {},
   "outputs": [],
   "source": [
    "# 시도를 추출하는 함수\n",
    "def extract_region1(article):\n",
    "    match = re.search(district_pat, article)\n",
    "    return match.group(0) if match else None\n",
    "\n",
    "# 시군구를 추출하는 함수\n",
    "def extract_region2(article):\n",
    "    match = re.search(district_pat2, article)\n",
    "    return match.group(0) if match else None"
   ]
  },
  {
   "cell_type": "code",
   "execution_count": null,
   "id": "56576931",
   "metadata": {},
   "outputs": [],
   "source": [
    "# 각 기사에서 시도, 시군구 추출\n",
    "regions = [extract_region1(article) for article in total_news_df_filter['제목']]\n",
    "total_news_df_filter['지역'] = regions\n",
    "\n",
    "regions2 = [extract_region2(article) for article in total_news_df_filter['제목']]\n",
    "total_news_df_filter['지역2'] = regions2"
   ]
  },
  {
   "cell_type": "code",
   "execution_count": null,
   "id": "cd7f5418",
   "metadata": {},
   "outputs": [],
   "source": [
    "# 지역명 추출\n",
    "total_news_df_filter['지역명'] = np.where(total_news_df_filter['지역'].isnull(),total_news_df_filter['지역2'],total_news_df_filter['지역'])"
   ]
  },
  {
   "cell_type": "code",
   "execution_count": null,
   "id": "2051bf44",
   "metadata": {},
   "outputs": [],
   "source": [
    "total_news_df_filter"
   ]
  },
  {
   "cell_type": "code",
   "execution_count": null,
   "id": "7b51da59",
   "metadata": {},
   "outputs": [],
   "source": [
    "total_news_df_filter_fin = total_news_df_filter[['기사날짜','지역명','제목','원본링크']]\n",
    "total_news_df_filter_fin.columns = ['date','region','title','link']"
   ]
  },
  {
   "cell_type": "code",
   "execution_count": null,
   "id": "3a338f6f",
   "metadata": {},
   "outputs": [],
   "source": [
    "\n",
    "save_dataframe_to_bigquery(total_news_df_filter_fin,'mido_test','news_daily',bigquerykey_path)"
   ]
  },
  {
   "cell_type": "code",
   "execution_count": null,
   "id": "49f6d859",
   "metadata": {},
   "outputs": [],
   "source": [
    "# 엑셀 파일 생성\n",
    "wb = Workbook()\n",
    "ws = wb.active\n",
    "# ws.title = \"Linked Articles\"\n",
    "\n",
    "# 데이터프레임의 헤더를 엑셀 워크시트에 추가\n",
    "for col_num, column_title in enumerate([\"날짜\", '지역', \"제목\", \"링크\"], 1):\n",
    "    cell = ws.cell(row=1, column=col_num)\n",
    "    cell.value = column_title\n",
    "\n",
    "# 데이터프레임의 데이터를 엑셀 워크시트에 추가하며 '제목'에 하이퍼링크 설정\n",
    "for row_num, row_data in enumerate(total_news_df_filter_fin.itertuples(), 2):\n",
    "    ws.cell(row=row_num, column=1, value=row_data.date)  # 날짜\n",
    "    ws.cell(row=row_num, column=2, value=row_data.region)  # 지역\n",
    "    title_cell = ws.cell(row=row_num, column=3, value=row_data.title)  # 제목\n",
    "    title_cell.hyperlink = row_data.link\n",
    "    title_cell.font = Font(color=\"0000FF\", underline=\"single\")\n",
    "    ws.cell(row=row_num, column=4, value=row_data.link)  # 링크\n",
    "\n",
    "# 링크 열 숨기기\n",
    "ws.column_dimensions['D'].hidden = True\n"
   ]
  },
  {
   "cell_type": "code",
   "execution_count": null,
   "id": "5432b6c1",
   "metadata": {},
   "outputs": [],
   "source": [
    "wb.save(\"C:/py_src/midoproject/data/news_data_daily.xlsx\")"
   ]
  }
 ],
 "metadata": {
  "kernelspec": {
   "display_name": "Python 3 (ipykernel)",
   "language": "python",
   "name": "python3"
  },
  "language_info": {
   "codemirror_mode": {
    "name": "ipython",
    "version": 3
   },
   "file_extension": ".py",
   "mimetype": "text/x-python",
   "name": "python",
   "nbconvert_exporter": "python",
   "pygments_lexer": "ipython3",
   "version": "3.8.19"
  }
 },
 "nbformat": 4,
 "nbformat_minor": 5
}
