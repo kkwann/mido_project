{
 "cells": [
  {
   "cell_type": "code",
   "execution_count": 1,
   "id": "81fa5b7b-0d13-4592-b87c-523fcd4d8714",
   "metadata": {},
   "outputs": [],
   "source": [
    "import pandas as pd\n",
    "import numpy as np\n",
    "\n",
    "import re\n",
    "from itertools import chain\n",
    "from collections import Counter\n",
    "\n",
    "from google.cloud import bigquery\n",
    "from google.oauth2 import service_account\n",
    "\n",
    "from datetime import datetime, timedelta\n",
    "\n",
    "import requests\n",
    "import warnings\n",
    "from requests.packages.urllib3.exceptions import InsecureRequestWarning\n",
    "\n",
    "# InsecureRequestWarning 경고 무시\n",
    "warnings.simplefilter('ignore', InsecureRequestWarning)"
   ]
  },
  {
   "cell_type": "code",
   "execution_count": 2,
   "id": "de7792c0",
   "metadata": {},
   "outputs": [],
   "source": [
    "KEY_PATH = \".config/\"\n",
    "servicekey_path = KEY_PATH + \"serviceKey.json\" ## 빅쿼리 외 다른 API 활용 위해\n",
    "bigquerykey_path = KEY_PATH + \"mido-project-426906-31b49963ac97.json\"\n",
    "\n",
    "warnings.filterwarnings(\"ignore\")"
   ]
  },
  {
   "cell_type": "code",
   "execution_count": 3,
   "id": "e426681b",
   "metadata": {},
   "outputs": [],
   "source": [
    "# BigQuery 클라이언트 생성 함수\n",
    "def create_bigquery_client(key_path):\n",
    "    credentials = service_account.Credentials.from_service_account_file(key_path)\n",
    "    client = bigquery.Client(credentials=credentials, project=credentials.project_id)\n",
    "    return client"
   ]
  },
  {
   "cell_type": "code",
   "execution_count": 4,
   "id": "1ae8163d",
   "metadata": {},
   "outputs": [],
   "source": [
    "def save_dataframe_to_bigquery(df, dataset_id, table_id, key_path):\n",
    "    # BigQuery 클라이언트 객체 생성\n",
    "    client = create_bigquery_client(key_path)\n",
    "\n",
    "    # 테이블 레퍼런스 생성\n",
    "    table_ref = client.dataset(dataset_id).table(table_id)\n",
    "\n",
    "    # 데이터프레임을 BigQuery 테이블에 적재\n",
    "    job_config = bigquery.LoadJobConfig()\n",
    "    job_config.write_disposition = \"WRITE_TRUNCATE\"  # 기존 테이블 내용 삭제 후 삽입\n",
    "\n",
    "    job = client.load_table_from_dataframe(df, table_ref, job_config=job_config)\n",
    "    job.result()  # 작업 완료 대기\n",
    "\n",
    "    print(f\"Data inserted into table {table_id} successfully.\")"
   ]
  },
  {
   "cell_type": "code",
   "execution_count": 5,
   "id": "72805c5d",
   "metadata": {},
   "outputs": [],
   "source": [
    "def get_dataframe_from_bigquery(dataset_id, table_id, key_path):\n",
    "    # BigQuery 클라이언트 생성\n",
    "    client = create_bigquery_client(key_path)\n",
    "\n",
    "    # 테이블 레퍼런스 생성\n",
    "    table_ref = client.dataset(dataset_id).table(table_id)\n",
    "\n",
    "    # 테이블 데이터를 DataFrame으로 변환\n",
    "    df = client.list_rows(table_ref).to_dataframe()\n",
    "\n",
    "    return df"
   ]
  },
  {
   "cell_type": "code",
   "execution_count": 6,
   "id": "c8f939ce",
   "metadata": {},
   "outputs": [],
   "source": [
    "# 오늘 날짜\n",
    "today = datetime.today().strftime('%Y%m%d')\n",
    "\n",
    "# 어제 날짜 계산\n",
    "ytday = datetime.today() - timedelta(days=1)\n",
    "\n",
    "# 만약 어제가 토요일(5) 또는 일요일(6)이라면, 그 전주 금요일로 변경\n",
    "if ytday.weekday() == 5:  # 토요일\n",
    "    ytday -= timedelta(days=1)\n",
    "elif ytday.weekday() == 6:  # 일요일\n",
    "    ytday -= timedelta(days=2)\n",
    "\n",
    "# 'YYYYMMDD' 형식으로 변환\n",
    "ytday = ytday.strftime('%Y%m%d')"
   ]
  },
  {
   "cell_type": "markdown",
   "id": "604a6a0e",
   "metadata": {},
   "source": [
    "#### 종합쇼핑몰 납품상세내역"
   ]
  },
  {
   "cell_type": "code",
   "execution_count": 7,
   "id": "54c3efeb",
   "metadata": {},
   "outputs": [],
   "source": [
    "all_shop_df = get_dataframe_from_bigquery('g2b', 'shop_detail_df_all', bigquerykey_path)"
   ]
  },
  {
   "cell_type": "code",
   "execution_count": 8,
   "id": "a84ea0fe",
   "metadata": {},
   "outputs": [],
   "source": [
    "all_shop_df_fin = all_shop_df[['납품요구접수일자', '수요기관명', '납품요구건명', '업체명', '단가', '단위', '수량', '금액', '수요기관코드', '수요기관구분', '수요기관지역명','납품요구지청명']]\n",
    "all_shop_df_fin = all_shop_df_fin.sort_values(['납품요구접수일자'],ascending=False).reset_index(drop=True)"
   ]
  },
  {
   "cell_type": "code",
   "execution_count": 9,
   "id": "f2310ea0",
   "metadata": {},
   "outputs": [],
   "source": [
    "# 특수문자, 숫자, 영어 제거 함수 (연속된 공백을 단일 공백으로 변환 포함)\n",
    "def clean_text(text):\n",
    "    text = re.sub('[^ㄱ-ㅎㅏ-ㅣ가-힣\\s]', '', text)\n",
    "    text = re.sub('\\s+', ' ', text).strip()  # 연속된 공백을 단일 공백으로 변환\n",
    "    return text"
   ]
  },
  {
   "cell_type": "code",
   "execution_count": 10,
   "id": "1a7746b0",
   "metadata": {},
   "outputs": [],
   "source": [
    "# 사업명 전처리\n",
    "all_shop_df_fin['납품요구건명_re'] = all_shop_df_fin['납품요구건명'].apply(clean_text)\n",
    "all_shop_df_fin['납품요구건명_re'] = all_shop_df_fin['납품요구건명_re'].str.replace('초등학교','').str.replace('중학교','').str.replace('고등학교','')\n",
    "all_shop_df_fin['납품요구건명_re'] = all_shop_df_fin['납품요구건명_re'].str.strip()"
   ]
  },
  {
   "cell_type": "code",
   "execution_count": 11,
   "id": "64dd0792",
   "metadata": {},
   "outputs": [],
   "source": [
    "# 수요기관 필터링\n",
    "dist_nm = ('|').join(all_shop_df_fin[all_shop_df_fin['수요기관지역명'].str.split(' ').str[1].notnull()]['수요기관지역명'].str.split(' ').str[1])"
   ]
  },
  {
   "cell_type": "code",
   "execution_count": 12,
   "id": "ea8da66e",
   "metadata": {},
   "outputs": [],
   "source": [
    "# 사업명 split 키워드 필터링\n",
    "mapping_keywd_all = list(chain(*all_shop_df_fin['납품요구건명_re'].str.split(' '))) ## 전체 키워드\n",
    "mapping_keywd_all_filter_cnt = pd.Series(Counter(mapping_keywd_all))\n",
    "\n",
    "mapping_keywd3 = list(chain(*all_shop_df_fin['납품요구건명_re'].str.split(' ').str[:3])) ## split 3개 키워드\n",
    "mapping_keywd3_filter_cnt = pd.Series(Counter(mapping_keywd3))\n",
    "\n",
    "mapping_keywd2 = list(chain(*all_shop_df_fin['납품요구건명_re'].str.split(' ').str[:2])) ## split 2개 키워드\n",
    "mapping_keywd2_filter_cnt = pd.Series(Counter(mapping_keywd2))\n",
    "\n",
    "mapping_keywd1 = list(chain(*all_shop_df_fin['납품요구건명_re'].str.split(' ').str[:1])) ## split 1개 키워드\n",
    "mapping_keywd1_filter_cnt = pd.Series(Counter(mapping_keywd1))\n",
    "\n",
    "mapping_keywd_all_filter_cnt_nm = ('|').join(mapping_keywd_all_filter_cnt[mapping_keywd_all_filter_cnt <= mapping_keywd_all_filter_cnt.mean()].keys())\n",
    "mapping_keywd3_filter_cnt_nm = ('|').join(mapping_keywd3_filter_cnt[mapping_keywd3_filter_cnt <= mapping_keywd3_filter_cnt.mean()].keys())\n",
    "mapping_keywd2_filter_cnt_nm = ('|').join(mapping_keywd2_filter_cnt[mapping_keywd2_filter_cnt <= mapping_keywd2_filter_cnt.mean()].keys())\n",
    "mapping_keywd1_filter_cnt_nm = ('|').join(mapping_keywd1_filter_cnt[mapping_keywd1_filter_cnt <= mapping_keywd1_filter_cnt.mean()].keys())"
   ]
  },
  {
   "cell_type": "code",
   "execution_count": 13,
   "id": "1cb2aa1f",
   "metadata": {},
   "outputs": [
    {
     "data": {
      "text/html": [
       "<div>\n",
       "<style scoped>\n",
       "    .dataframe tbody tr th:only-of-type {\n",
       "        vertical-align: middle;\n",
       "    }\n",
       "\n",
       "    .dataframe tbody tr th {\n",
       "        vertical-align: top;\n",
       "    }\n",
       "\n",
       "    .dataframe thead th {\n",
       "        text-align: right;\n",
       "    }\n",
       "</style>\n",
       "<table border=\"1\" class=\"dataframe\">\n",
       "  <thead>\n",
       "    <tr style=\"text-align: right;\">\n",
       "      <th></th>\n",
       "      <th>키워드</th>\n",
       "      <th>빈도수</th>\n",
       "    </tr>\n",
       "  </thead>\n",
       "  <tbody>\n",
       "    <tr>\n",
       "      <th>9</th>\n",
       "      <td>인조잔디</td>\n",
       "      <td>336</td>\n",
       "    </tr>\n",
       "    <tr>\n",
       "      <th>56</th>\n",
       "      <td>관급자재</td>\n",
       "      <td>217</td>\n",
       "    </tr>\n",
       "    <tr>\n",
       "      <th>18</th>\n",
       "      <td>구입</td>\n",
       "      <td>171</td>\n",
       "    </tr>\n",
       "    <tr>\n",
       "      <th>15</th>\n",
       "      <td>관급자재인조잔디</td>\n",
       "      <td>163</td>\n",
       "    </tr>\n",
       "    <tr>\n",
       "      <th>11</th>\n",
       "      <td>구매</td>\n",
       "      <td>100</td>\n",
       "    </tr>\n",
       "    <tr>\n",
       "      <th>...</th>\n",
       "      <td>...</td>\n",
       "      <td>...</td>\n",
       "    </tr>\n",
       "    <tr>\n",
       "      <th>581</th>\n",
       "      <td>건립공사인조잔디</td>\n",
       "      <td>1</td>\n",
       "    </tr>\n",
       "    <tr>\n",
       "      <th>582</th>\n",
       "      <td>구입이천시설봉공원히딩크드림필드축구장개보수공사</td>\n",
       "      <td>1</td>\n",
       "    </tr>\n",
       "    <tr>\n",
       "      <th>583</th>\n",
       "      <td>효암</td>\n",
       "      <td>1</td>\n",
       "    </tr>\n",
       "    <tr>\n",
       "      <th>586</th>\n",
       "      <td>작은섬공원</td>\n",
       "      <td>1</td>\n",
       "    </tr>\n",
       "    <tr>\n",
       "      <th>1390</th>\n",
       "      <td>배정미래</td>\n",
       "      <td>1</td>\n",
       "    </tr>\n",
       "  </tbody>\n",
       "</table>\n",
       "<p>1391 rows × 2 columns</p>\n",
       "</div>"
      ],
      "text/plain": [
       "                           키워드  빈도수\n",
       "9                         인조잔디  336\n",
       "56                        관급자재  217\n",
       "18                          구입  171\n",
       "15                    관급자재인조잔디  163\n",
       "11                          구매  100\n",
       "...                        ...  ...\n",
       "581                   건립공사인조잔디    1\n",
       "582   구입이천시설봉공원히딩크드림필드축구장개보수공사    1\n",
       "583                         효암    1\n",
       "586                      작은섬공원    1\n",
       "1390                      배정미래    1\n",
       "\n",
       "[1391 rows x 2 columns]"
      ]
     },
     "execution_count": 13,
     "metadata": {},
     "output_type": "execute_result"
    }
   ],
   "source": [
    "# 전체 키워드 데이터셋\n",
    "mapping_keywd_df = pd.DataFrame(Counter(mapping_keywd_all).items(),columns=['키워드','빈도수'])\n",
    "mapping_keywd_df = mapping_keywd_df[mapping_keywd_df['키워드'].apply(len)!=1].reset_index(drop=True)\n",
    "mapping_keywd_df.sort_values('빈도수',ascending=False)"
   ]
  },
  {
   "cell_type": "code",
   "execution_count": 72,
   "id": "c11c5e8a",
   "metadata": {},
   "outputs": [
    {
     "name": "stdout",
     "output_type": "stream",
     "text": [
      "1등급 키워드 :  ['인조잔디', '관급자재', '구입', '관급자재인조잔디', '구매', '운동장', '테니스장', '조성공사', '게이트볼장', '공사', '체육시설']\n",
      "2등급 키워드 :  []\n",
      "3등급 키워드 :  ['정비공사', '조성사업', '교체공사', '설치', '관급인조잔디', '축구장']\n",
      "4등급 키워드 :  ['풋살장', '개선공사', '조성', '족구장', '구입인조잔디', '파크골프장']\n",
      "5등급 키워드 :  ['환경개선공사', '다목적구장', '정비사업', '조성공사인조잔디', '보수공사', '관급', '교체공사인조잔디', '교체', '설치공사', '환경개선', '연병장', '다목적', '부대', '정비공사인조잔디', '체육공원']\n",
      "기타 키워드 :  ['개보수공사', '시설', '개보수', '조달', '시설개선사업', '신축', '생활체육공원', '개선', '조달구매', '교체사업', '생활체육시설', '정비', '노후시설', '어린이공원', '시설개선공사', '시설개선', '추가', '개소', '따른', '사업', '관련', '관급자재조경인조잔디', '실내게이트볼장', '김영훈', '요청', '리모델링', '증설공사', '체육', '트랙조성', '공공하수처리시설', '당진', '위한', '인조잔디운동장', '설치공사인조잔디', '여단', '비가림시설', '공사인조잔디', '그라운드골프장', '일원', '개선사업', '관급자재인조잔디구입', '학교운동장', '보수', '조성사업인조잔디', '배드민턴장', '물품', '구매인조잔디', '본부', '시행', '하부', '조달구입', '근린공원', '야구장', '구매설치', '교체관급인조잔디', '운동공간', '재조성', '환경개선인조잔디', '트랙보수', '사단', '잔디', '수해복구공사', '본원', '시설물', '옥외', '스포츠파크', '수지아르피아', '확장', '소계체육공원', '토목', '보수인조잔디', '설치인조잔디', '울타리', '사령부', '광복공원', '두호', '회전교차로', '외부', '조성단계차', '기타시설공사', '체육관', '건립', '관급자', '구입의', '시설개선사업인조잔디', '관인', '재정비사업인조잔디', '정구장', '고가하부', '개축공사', '종국립수산과학원', '미래학교', '그린스마트', '그라운드', '축구종합센터', '해운대수목원', '교체공사에', '군단', '북방면', '인조잔디구장', '광장', '자재', '구장', '사회인야구장', '대치초', '기타공사', '탄성포장재', '구입우수조달', '노후인조잔디', '충전재', '재정비공사', '풋살경기장', '조달구매정선종합운동장', '트랙', '토목공사', '다목적체육관', '조리마을', '공사토목', '공원시설', '환경개선사업', '창녕국민체육센터', '칠서', '교석관중', '교체공사에따른', '한천', '종합운동장', '둔내종합체육공원', '구입소동', '대보수', '납품', '바닥재', '관급자재삼선초', '구입무주중', '봉무', '하천', '미산면', '화순홍수조절지파크골프장조성사업차분', '정왕동', '하산곡동', '이설', '재정비공사인조잔디', '관급자재토목', '어린이놀이터', '그린스마트스쿨', '목포하당초', '조성사업갑천', '한반도면', '북면', '정비사업인조잔디', '포장', '휀스', '테라스', '우레탄', '장승배기', '외부환경', '보수관급자재', '풍기', '구매노해공원', '재생공사족구장', '주차장', '구입체육시설관리과', '설치사업인조잔디', '건축공사', '보조경기장', '치수과안빈인조잔디파크골프연습장살곶이체육공원시설', '원삼면', '공공체육시설', '포함', '인조잔디포장', '개소인조잔디', '교체공사오성공원', '관급공원', '응봉공원', '노후체육시설', '시설물정비', '증축공사', '육대', '시설개선공사관급자재', '국립공주대학교', '관급자재인조잔디외', '조경공사', '인조운동장', '포곡대교', '조성사업차분', '낭성면', '운동장재조성', '건립건축', '생태공원', '보조구장', '반구전문농공단지', '백운포체육공원', '계약', '사업인조잔디', '함안스포츠타운', '기능보강공사인조잔디', '기로리', '입장', '컨테이너박스', '시설정비사업인조잔디', '잠신중', '개선관급인조잔디', '친환경인조잔디', '한경면', '산양게이트볼장', '시설개선풋살장공사', '인조', '복지대대', '가곡야구장', '교체사업인조잔디', '조달물품', '재조성을', '인조잔디관급자재', '다양한', '일광유원지', '개선사업인조잔디', '운동장환경개선', '개선공사관급인조잔디', '부대공사', '전천후게이트볼장', '코트', '설치사업', '관급자설치관급자재인조잔대', '조성사업이호어린이공원', '아이들파크', '와우코리요공원', '본오', '부산개성', '증평생활야구장', '금강초', '조경공사인조잔디', '조달구매인조잔디', '제스포츠타운', '고창', '신축공사건축기계인조잔디', '주변', '수변공원', '재해복구공사', '기갑여단', '보수공사관급인조잔디', '화채마을', '관급자재설악동', '바닥', '공사관급자관급인조잔디', '시설공사', '토목시설', '인조잔디공사', '다정다감', '서울디지텍', '자율계획사업', '운동부', '포항제철', '교체관련', '잠실야구장', '재정비사업', '체육시설내', '구입실외', '포장공사', '문무아파트관사', '관급자관급', '건축', '실내', '대전제일', '재조성공사', '완산생활체육공원', '평택중', '소향공원', '청주교대', '배수판', '북방리', '학교공간', '헬기레펠', '궁도장', '개보수공사인조잔디', '동림교', '음성', '파주중', '웅천생활체육공원', '기능보강', '인곡산업단지', '전천후', '한내근린공원', '이천세무고', '내야', '부사교', '운동시설설치공사차수토목', '모형탑', '보조', '창고', '기장현대차드림볼파크', '편의시설', '중랑천', '완도군', '개선사업관급자재', '신축공사', '주경기장', '바람근린공원', '시립테니스장', '화명고가교', '체육시설족구장', '희망봉', '둔치', '체육관신축', '구입서상', '활공장', '폴리텍대학', '특공연대', '경주', '구매가재울근린공원', '용안', '대룡산', '통합', '제조설치납품', '주민개방형', '해누리체육공원', '달빛공원', '익산', '교동', '관급자재목도초', '대보수여단본부', '상남게이트볼장', '화촌면', '사회인', '현리광장', '광동중', '관급자재구입평지곡내', '압해게이트볼장', '관급자재인조잔디옥외용벤치', '관급재주문', '관급자재조경석인조잔디', '개선공사관급자재인조잔디', '명천동', '경비단', '파크골프구장', '하대리', '중앙공원', '구입화목개', '설치용', '청소년문화의집', '당산어린이공원', '청도', '배수로마운딩', '재건축공사건축조경', '율면', '공병단', '담양시장', '설악중', '쉼터', '달성보', '루프탑가든형', '충북산업과학고', '석금산어린이공원', '장애인테니스장시설개선공사인조잔디', '청운공원', '게이트봄ㄹ장', '구매장지공원', '구입안평게이트볼장', '양지길공원', '부지조성공사', '다목적체육관건설기계인조잔디', '송정동', '제곡리', '우천면', '인조잔디구입의', '중앙기독', '연일읍민', '남면', '특항단', '바닥교체공사인조잔디', '보수대관급잔디', '경남도립거창대학', '시설개선공사토목', '상번천리', '티박스', '사면', '구입철원여고', '남한산성면', '화북', '교사', '둔포체육공원', '내부정비공사주민숙원사업', '남지국민체육센터', '충격흡수배수판구입', '인조잔디교체공사', '판암차량기지', '성서운동장', '정구', '훈련장', '구입건의삼계리', '맨발산책로', '상도', '죽도', '학동마을', '삼장', '국도호선', '격파장', '설치공사변경', '건의대월면', '칠원읍', '놀이공간', '어린이', '관급자재구입인조잔디혁신도시', '인라인', '시설정비', '야외테니스장', '전면', '구매살곶이체육공원시설', '조경정비', '치수과박해나인조잔디', '개축', '그린스마트미래학교', '부평고', '관급인조잔디진녹색', '인조잔디도산면', '서부리', '관급인조잔디연녹색', '구향공원', '북경주', '계양대교', '장병체력단련시설', '약목면', '인조잔디우곡문화공원', '이리동중', '구성면', '간사교', '송죽리', '주민쉼터', '인조잔디용상족구장', '쌈지공원', '레미콘', '노후', '금성', '여울공원', '스케이트', '구좌읍상도리', '귤현차량기지', '두척동', '규격확장', '정비공사인조잔디변경', '삼정자공원', '공설운동장', '화원', '광주수창초', '본리리', '화산체육공원', '제골프연습장', '페어웨어', '은혜중', '전천파크골프장', '성주파크골프장', '여수캠퍼스', '장명동말고개공원족구장바닥인조잔디구입설치', '차대충주테니스장', '낙동강변', '이유미해미인조잔디', '차대세종테니스장', '차대임실테니스장', '영성도드리놀이공원', '보수공사관급자재', '고잔공원', '신당야구장', '수변공원파크골프장', '남천', '군민운동장', '송정풋살구장', '보드장', '간이골프장', '유원지', '서호', '무한천체육공원', '호우피해', '복구공사', '물향기공원', '펜스', '포항야구장', '랜드마크시티', '시설정비공사', '토목과나병윤인조잔디응봉체육공원', '상남테니스장', '대보수포병여단', '관급인조잔디중리제어린이공원', '조달구매초안산근린공원', '망성면', '변경계약', '구입망성면', '개보수공사토목관급인조잔디추가', '원통생활체육공원', '남계리', '당말멀티파크', '조성사업문화공원', '잔디구장', '문수국제양궁장', '인조구장', '나비', '율현공원', '생활체육과', '산수근린공원', '로그', '학년도', '친환경운동장조성인조잔디관련', '관급자재인조잔디외종물품', '친환경운동장인조조성관련', '구입하청스포츠타운야구장', '광적생활체육공원축구장', '그린', '소양강파크골프장', '문수족구장', '수원북중', '모란야구장', '인조잔디띠잔디', '화산', '체육시설개선사업', '삼성근린공원', '본부대', '자연휴양림', '백운산', '두서미호공공공지조성사업', '백석생활체육공원야구장', '원오교', '목포부주', '판암주공단지', '웅상체육공원', '용소게이트볼장', '대지면', '진영공설운동장', '용동근린공원', '조성사업차', '필드하키장', '구입흙콘크리트', '목포연산초', '골드', '인조잔디구매', '동북', '교성지구', '순창', '연천초', '마정산업단지', '목포영산', '군위소프트테니스장환경개선공사체육진흥팀인조잔디', '설치공사관급자재', '풋살장인조잔디', '단본부', '고창북', '연초중', '구입우수조달제품', '소이생활체육공원', '합일초', '춘양면', '동네체육시설', '장림배수지', '홍윤정', '관급자재공원과', '죽율체육공원', '조교파크골프장', '환경개선공사잔디', '물품조달요청남선공원', '근무지원대', '론볼장', '영월', '불펜연습장', '구입군위군', '구매정정', '은대초', '수정동', '수원농생명과학고', '장계중', '간이체육활동공간조성공사', '구입인조잔디등', '동문동', '부춘동', '관급자재축구장', '관급자재야구장', '목포애향초', '신설대체이전', '목포백련초', '철성', '형곡공원', '힐링파크', '생태', '두륜산', '신설대체이전학교', '이호동', '야음족궂아', '잔여분', '세경', '인조잔디조성공사', '건국', '재조성사업을', '원곡', '내항통', '만경', '함박공원', '소화', '정남', '외삼족구장', '동광초', '불은', '실내운동장', '영광스포티움', '환경개선풋살장', '목포유달', '금일', '이전공사', '아라초', '야구연습장', '춘포다목적운동장개보수공사', '인조잔디조성', '부산외고', '야구연습체육관', '무동풋살장', '효명고', '복지센터', '백운면', '재조성사업', '용호', '백운테니스장', '웅촌덕현마을체육시설설치공사', '산유게이트볼장', '확장공사에', '구축에', '주문건의', '주민공동이용시설', '가양동', '요구', '서울금동초', '아침체인지', '화진중', '신축공사토목', '새뜰마을', '현북', '남노송동', '조성공사를', '울산종합운동장', '관급자재인조잔디구입우수조달', '춘복산', '확충사업', '보강공사', '유소년', '설치공사토목', '조달요청삼사풋살장', '자재구임인조잔디', '동부그린', '동천동', '감곡생활체육공원', '파크골프장용', '공촌유수지', '금호강변야구장', '검단동', '송계마을', '생비량', '차황', '김경욱', '사업인조잔디생태하천과', '우수저류시설', '신천', '정미', '뱃터공원', '조성공사문화체육과', '강림면', '구입관리임대성', '영등공원', '내부', '스포츠존', '경북체육중', '강림리', '현신근린공원', '이우진', '구매건', '동일공고', '보라동', '비산체육공원', '번지', '야탑동', '앙성커뮤니티이음센터신축공사건축관급자재울타리출입문', '물품구입인조잔디', '아동어드벤처', '봉남면', '이원면', '제천체육관', '구수곡자연휴양림', '도시숲', '샘실단지게이트볼장', '녹청공원', '테마원', '물속광장', '청라호수공원', '군지여단', '의뢰', '구입신례원', '콘크리트', '대불체육공원', '홈플레이트', '구룡리', '중앙체육공원', '구입첨단산업단지', '관급자재잔디구매', '조경공사용', '옥상', '구매설치풍향문화관', '선우공원', '구매관악산', '공병대대', '서원구장', '훼손지복구사업송정체육공원', '마산게이트볼연합회', '순천조례', '시설개선공사인조잔디', '반지어울림운동장', '설치사업인조잔디구입', '율곡농공단지', '대율캠핑장', '공간조성사업', '검단파크골프장', '벌교생태공원', '노후잔디', '동구산', '부석면', '여량게이트볼장야외', '개보수공사관급자관급', '구입의뢰청평테니스장', '구입의뢰설악생활체육공원', '재해예방사업', '구매원심천', '삼계야구장', '잔디교체공사', '신도안', '교체공사보차도용콘크리트블록', '기흥동', '현서게이트볼장', '개체공사관급인조잔디', '관급자재인조잔디덕적', '구입의뢰가평야구장', '탄성포장', '자재잔디', '운천', '구입등구정', '조달구매우수조달물품', '노들나루공원', '인더스밸리산업단지', '청호웰빙공원', '원주캠퍼스', '정비시행', '리틀야구장', '팔탄면', '인조잔디관급자', '신축공사관급자재인조잔디', '복합체육관', '풋살장보조구장', '소프트테니스장', '횡성읍', '남가람', '주보조경기장', '물품구매문체', '사업을', '강서개화축구장', '리모델링공사차', '관급매봉공원', '가칭기업', '개보수공사관급자', '구입의뢰설악야구장', '구포생활체육공원', '발주', '확장공사', '송내파크골프장', '포승레포츠공원', '청용리', '신안신의중', '아양근린공원', '정왕테니스장', '부남면', '벌교', '경관시설', '반송정수장', '현풍', '쌍구형', '공운교', '초지리', '개선사업인조잔디체육진흥과', '구입길상면', '방촌갈월놀이공원', '실외체육시설파크골프장조성사업', '신길공원', '인조잔디덕적', '이창환', '탐진강', '인조잔디우곡면', '지붕교체', '고아', '삼진운동장', '관급자설치관급자재인조잔디', '진주', '동부양산', '체육시설관리과', '황산리', '조성용', '교체에', '부곡여중', '노후관광지재상사업화순온천토목공사', '청운파크골프장', '제호어린이공원', '수유중운동장', '강변', '청석게이트볼장', '치수과안빈인조잔디하천변', '구입송정남근린공원', '조성차분', '구매불암산스포츠타운', '무학초', '면보수', '풋살구장', '월드컵경기장', '계약의뢰년', '지천생태공원', '주민편의시설', '삼산고', '태안', '지사울공원', '이서', '조성사업건축공사', '부창동', '옥포', '군산고', '함양읍', '연희', '지세포', '광탄리', '관급자재잔디', '운동기구', '망덕배드민턴장', '구입자혜근린공원', '생활편의관', '응봉아파트', '음성테니스장', '필드', '인조잔디그라운드골프장', '신축공사건축', '장암면', '조성철망잔디휀스플룸관스틸', '주거대호', '화원게이트볼장', '한림족구장', '공병여단', '조성공사토목', '제호체육공원', '동탄', '관급자재조달구매풍납족구장', '군산신풍초', '자주도하', '군산기계공고', '정원', '치수과박해나인조잔디파크골프연습장살곶이체육공원', '당정중', '관급자재구입인조잔디', '전동초', '우기리', '채운면', '부안반다비체육센터', '옥상녹화사업', '영천', '전주공고', '레저스포츠시설', '풋살장시설물', '교육문화센터', '내촌면', '전체부대', '금암', '구매이차산', '가야곡', '개선공사인조잔디구입', '야구시설', '야로', '건설공사', '월드컵대교', '당곡주', '여자축구장', '진선여중', '제파크골프장', '경기장', '구입의뢰상면생활체육공원', '조성사업야탑', '구입명품탄천', '상북면민운동장', '삼계근린공원어린이놀이터포장교체사업관급자재인조잔디구입', '평해월송리', '도민체전', '추가구매', '개선공사관급자재', '제주시청소년야영장', '국립소록도병원', '광양', '구매신림게이트볼장', '인헌고운동장', '강변리틀야구장구장', '하천정비사업', '공릉지구', '마을만들기사업토목인조잔디', '태백중', '조성사업관급자재', '실내족구장', '양주시', '방공단', '송정체육공원', '삼구동마을', '공릉천', '나산면', '덕산', '마을회관', '매호동', '인조야구장', '치수과안빈인조잔디파크골프연습장살곶이체육공원시설전면개선공사', '통폐합', '신축이전공사', '영원면게이트볼장데크공사및인조잔디재설치공사인조잔디', '중전파크골프장', '확장사업차분', '변경구입', '변경인조잔디', '조성관련', '반려동물', '놀이터', '대구공고', '명륜근린공원', '양구읍', '야외게이트볼장', '강릉제일고', '성주호', '생태둔치', '신안공설운동장', '용원족구장', '구매차', '초계대공원', '서울행당초', '담장교체', '충주중', '시설보안공사', '광희', '개보수사업인조잔디구입', '노후시설물게이트볼장', '원주삼육', '시설녹지대', '상대원', '하갈동', '실내놀이터', '혜윰공원', '시설보완공사', '운동장환경개선공사', '삼각산', '관금인조잔디', '정비공사장수공원', '조성사업조경', '내수야구장', '내수읍덕암천', '아주중', '보완사업', '고산자연휴양림', '서북구', '대야동', '대전외국인학교', '남지체육공원', '조성공사차', '조달구매서오릉근린공원갈현지구', '이건형', '구입체육진흥과', '시민개방형체육시설조성사업인조잔디', '토목조경공사인조잔디', '기초생활거점조성사업문화광장', '우수조달물품', '환경조성', '소공원', '관급자재인조잔디테니스', '구매계약체결', '교체를', '용곡', '야구장외야', '부항면', '경북', '해원초', '대연캠퍼스', '동화초', '체육시설파크골프장', '서부지역', '관급자재인조잔디축구', '센트럴파크', '바닥교체', '옥산생활체육공원', '신동초', '이전', '내손체육공원', '건의이천', '광도', '안정', '시민공원', '광남고', '대신', '인조잔디관급', '언남중인조잔디', '명지늘봄스쿨', '모듈러교실', '보수공사대보수', '시흥공원', '성동', '만석공원', '운동장인조잔디', '삽교', '시설보수', '대보수사업사단', '도원체육공원', '정비시설개선', '관급자재토목인조잔디', '공주', '풍각면복합체육시설건립사업', '우수', '남양주체육문화센터', '영북테니스장', '환경친화적', '유성중', '관급자내', '개선사업건축', '석적읍', '설치공사건축관급', '성암공원', '김전분교', '체육장', '실외', '조성공사관급자재인조잔디', '해룡산단', '모충공원', '관급자재인도잔디포장', '전주용와초', '비안면테니스장확장공사', '관급자재퍼걸러', '시설공사토목', '어촌뉴딜사업', '어두항', '줄포자동차공업', '안계고테니스장보수공사', '년게이트볼장보수사업감물전천후게이트볼장인조잔디', '율곡고', '지리산생태체험단지', '구입납품재설치', '제품', '운동장축구장인조잔디', '신림', '조달구매주민건강증진공간', '이리북중', '따른자재', '공공체육시설달천운동장', '화순제일초', '농소운동장', '공릉', '순천금당고', '남율', '사계절썰매장', '한가람고', '창선', '육상트랙', '서울양진', '서울동산', '포곡테니스장', '건대부중', '구매요청건', '광주북성중', '화랑오토캠핑장', '조경시설물', '미래센터', '하도리', '노인정', '공원화', '공사에', '개보수공사관', '삼남', '교량하부', '칠연지구', '관리도로', '조성사업금화어린이공원인조잔디', '관급주민참여형', '바닥보수', '남천면', '관광자원화사업차분', '안성', '추천대공원', '인조잔디교체', '평창중', '신축공사인조잔디', '승봉리', '자월면', '원미공원', '주변정비공사', '스포츠타운', '팔마보조경기장', '화랑공원', '간성게이트볼장', '부안', '물놀이장', '자연휴식체험장', '대황강', '정림리', '조성인조잔디', '축구장구장', '진해야구장', '괴강관광지축구장시설정비공사인조잔디', '구매농산물공영도매시장', '인조잔디관급자재조달', '대비', '전국체전', '양덕게이트볼장', '생활관', '취사식당', '부여종합운동장', '제민천', '송정복합체육센터', '배명', '조성공사건축', '돔구장', '테니스', '천안', '근덕면교가리전천후게이트볼장관급자재인조잔디', '관급자재지구', '어울림체육관', '제천', '석수대림아파트', '녹지개선공사', '골프연습장', '지방하천', '수해복구', '가산중', '송암', '전지훈련', '특화시설에어돔', '관리대대', '개선인조잔디', '김제', '의창테니스장', '시설보수공사인조잔디', '국립김천숲속야영장', '보완공사', '교통섬', '교내', '색달체육공원', '골프장', '금속재울타리', '교체공사관급자재인조잔디', '복합문화센터', '소흘안전센터', '월드컵', '유수지', '건강마당근린공원', '관급보라동', '포중대', '지곡동', '체육시설게이트볼장', '구매스톤네트', '남부사업소', '부산환경공단', '시설개선공사바닥보수관급인조잔디', '환경사업소', '이동형성동전력', '서울본토건토건운영부', '난지체육공원', '메쉬형울타리', '맘쓰허그', '해그늘', '병원', '중산체육공원', '건축공사인조잔디', '구룡포문화복지센터', '현내공설운동장', '구매중평어린이공원인조잔디', '여본', '중면', '뉴딜사업단계', '도시재생', '망월리', '언양게이트볼장설치공사', '목포시', '구입광석', '삼동면민운동장', '동삼동', '철거공사', '신세종빛드림건설본부', '축구전용구장', '구매낙성대지구', '잿골', '홍천읍', '용담동', '구매우수조달', '구입매트', '하단부', '시설보강사업', '보은국민여가캠핑장', '장애인게이트볼장', '물품책장', '도서관', '장난감', '조성사업조경화장실', '임실군', '풋살장조성사업', '서탄금암게이트볼장', '동명대학교', '조성공사에', '당하게이트볼장', '추가분', '신도시', '방림', '대명', '학교체육및안전시설조성사업', '서생체육공원', '맹동체육공원', '단월레포츠공원', '강구대게축구장', '관중석', '건립사업', '삼향농공단지', '청구', '천안야구장', '대학본부', '전북대학교', '도산리', '벌곡면', '장전근린공원', '관급자재차', '정비인조잔디', '포병여단', '활성화사업보조경기장', '농촌중심지', '병곡면', '잔디교체', '구매양오리', '용역', '고흥동초', '고덕생활축구장', '구입경계석', '해안경비단', '부안초', '조달구매전자', '충격흡수배수판', '자원순환센터', '연경장', '해안경비대', '야외공연장', '서울신정고', '안동역사', '인조잔디구', '조성확장공사', '회천', '관급자설치', '소프트볼연습장', '재활용폐기물처리', '인조잔디배수판', '현산중', '대부둑공원', '예방', '중대재해', '기흥레스피아', '상무평화공원', '기능개선공사건축', '노학동', '건립공사', '춘장대사택', '서울주소방서', '범서굴화종합체육시설', '조달구매아리랑마을', '정비공사인조잔디선', '청도천체육시설축구장', '기타', '공원녹지과인조잔디년', '도구머리근린공원', '관광체육과산북게이트볼장', '개선관급자재', '신명', '인조잔디외', '체육시설탄성포장재종', '산토끼', '노래동산', '야외무대', '스탠드', '대산읍', '임석천', '누리길', '일로읍', '서울봉래', '동의고', '바닥개선', '거로마을', '평은면', '힐링', '기초생활거점조성사업인조잔디', '건축토목공사인조잔디', '기초생활거점조성사업', '홍제게이트볼장', '조성사업토목조경', '캠핑장', '고원', '덕아웃', '태백', '완도중', '구매문화체육과', '신호공원', '발안바이오과학고', '조달구', '구의야구장', '유지관리', '강원외국어', '페스타봄', '서울금북', '안덕게이트볼장', '비가림막', '영주', '물품인조잔디', '운영', '구입의뢰자라섬', '조달물품인조잔디', '조성공사파크골프장관급자재인조잔디', '전용체육공간', '조달어르신', '철산게이트볼장', '부대시설', '대마산단', '부안면', '게이트볼장부평리조성건축', '인제', '비가림', '옥곡동', '고삼면', '중구게이트볼장', '봉학지구', '정천면', '생활환경정비사업', '성곡리', '송정배수지공원', '장수면', '야외', '미래관', '노후시설물', '사염공원', '꿈나무근린공원', '시행잔디', '문화근린공원', '보수사업', '구입오리어린이공원', '대대', '지상주차장', '법면', '성남아트센터', '콘서트홀', '설츠', '분성체육공원', '북평', '야구실내연습장', '건립공사인조잔디', '구입이천시설봉공원히딩크드림필드축구장개보수공사', '효암', '작은섬공원', '배정미래']\n"
     ]
    }
   ],
   "source": [
    "# 종합쇼핑몰 기준 중요키워드 추출\n",
    "print('1등급 키워드 : ', list(mapping_keywd_df[mapping_keywd_df['빈도수'] >= 50].sort_values('빈도수',ascending=False)['키워드']))\n",
    "print('2등급 키워드 : ', list(mapping_keywd_df[(mapping_keywd_df['빈도수'] < 50) & (mapping_keywd_df['빈도수'] >= 40)].sort_values('빈도수',ascending=False)['키워드']))\n",
    "print('3등급 키워드 : ', list(mapping_keywd_df[(mapping_keywd_df['빈도수'] < 40) & (mapping_keywd_df['빈도수'] >= 30)].sort_values('빈도수',ascending=False)['키워드']))\n",
    "print('4등급 키워드 : ', list(mapping_keywd_df[(mapping_keywd_df['빈도수'] < 30) & (mapping_keywd_df['빈도수'] >= 20)].sort_values('빈도수',ascending=False)['키워드']))\n",
    "print('5등급 키워드 : ', list(mapping_keywd_df[(mapping_keywd_df['빈도수'] < 20) & (mapping_keywd_df['빈도수'] >= 10)].sort_values('빈도수',ascending=False)['키워드']))\n",
    "print('기타 키워드 : ', list(mapping_keywd_df[(mapping_keywd_df['빈도수'] < 10)].sort_values('빈도수',ascending=False)['키워드']))"
   ]
  },
  {
   "cell_type": "code",
   "execution_count": 73,
   "id": "cb90c100",
   "metadata": {},
   "outputs": [],
   "source": [
    "degree_kwd = pd.DataFrame([list(mapping_keywd_df[mapping_keywd_df['빈도수'] >= 50].sort_values('빈도수',ascending=False)['키워드']),\n",
    "                           list(mapping_keywd_df[(mapping_keywd_df['빈도수'] < 50) & (mapping_keywd_df['빈도수'] >= 40)].sort_values('빈도수',ascending=False)['키워드']),\n",
    "                           list(mapping_keywd_df[(mapping_keywd_df['빈도수'] < 40) & (mapping_keywd_df['빈도수'] >= 30)].sort_values('빈도수',ascending=False)['키워드']),\n",
    "                           list(mapping_keywd_df[(mapping_keywd_df['빈도수'] < 30) & (mapping_keywd_df['빈도수'] >= 20)].sort_values('빈도수',ascending=False)['키워드']),\n",
    "                           list(mapping_keywd_df[(mapping_keywd_df['빈도수'] < 20) & (mapping_keywd_df['빈도수'] >= 10)].sort_values('빈도수',ascending=False)['키워드']),\n",
    "                           list(mapping_keywd_df[(mapping_keywd_df['빈도수'] < 10)].sort_values('빈도수',ascending=False)['키워드'])]).T\n",
    "degree_kwd.columns = ['1등급','2등급','3등급','4등급','5등급','기타']"
   ]
  },
  {
   "cell_type": "code",
   "execution_count": 15,
   "id": "ea85d99c",
   "metadata": {},
   "outputs": [],
   "source": [
    "# 빈도수 키워드\n",
    "freq_kwd = ('|').join(list(mapping_keywd_df[(mapping_keywd_df['빈도수'] < 10)]['키워드']))"
   ]
  },
  {
   "cell_type": "markdown",
   "id": "4875e3bd",
   "metadata": {},
   "source": [
    "#### 지자체 세부사업별 예산서"
   ]
  },
  {
   "cell_type": "code",
   "execution_count": 101,
   "id": "34c530df",
   "metadata": {},
   "outputs": [],
   "source": [
    "# 빅쿼리에서 불러오기\n",
    "budget_df_today = get_dataframe_from_bigquery('budget','budget_df_0' + today,bigquerykey_path)\n",
    "budget_df_ytday = get_dataframe_from_bigquery('budget','budget_df_0' + ytday,bigquerykey_path)"
   ]
  },
  {
   "cell_type": "code",
   "execution_count": 122,
   "id": "57d2a9ec",
   "metadata": {},
   "outputs": [
    {
     "data": {
      "text/html": [
       "<div>\n",
       "<style scoped>\n",
       "    .dataframe tbody tr th:only-of-type {\n",
       "        vertical-align: middle;\n",
       "    }\n",
       "\n",
       "    .dataframe tbody tr th {\n",
       "        vertical-align: top;\n",
       "    }\n",
       "\n",
       "    .dataframe thead th {\n",
       "        text-align: right;\n",
       "    }\n",
       "</style>\n",
       "<table border=\"1\" class=\"dataframe\">\n",
       "  <thead>\n",
       "    <tr style=\"text-align: right;\">\n",
       "      <th></th>\n",
       "      <th>회계연도</th>\n",
       "      <th>지역코드</th>\n",
       "      <th>지역명</th>\n",
       "      <th>자치단체코드</th>\n",
       "      <th>자치단체명</th>\n",
       "      <th>회계구분명</th>\n",
       "      <th>세부사업코드</th>\n",
       "      <th>세부사업명</th>\n",
       "      <th>집행일자</th>\n",
       "      <th>예산현액</th>\n",
       "      <th>지출액</th>\n",
       "      <th>편성액</th>\n",
       "      <th>분야명</th>\n",
       "      <th>부문명</th>\n",
       "      <th>행정자치단체코드</th>\n",
       "      <th>세부사업명_re</th>\n",
       "    </tr>\n",
       "  </thead>\n",
       "  <tbody>\n",
       "  </tbody>\n",
       "</table>\n",
       "</div>"
      ],
      "text/plain": [
       "Empty DataFrame\n",
       "Columns: [회계연도, 지역코드, 지역명, 자치단체코드, 자치단체명, 회계구분명, 세부사업코드, 세부사업명, 집행일자, 예산현액, 지출액, 편성액, 분야명, 부문명, 행정자치단체코드, 세부사업명_re]\n",
       "Index: []"
      ]
     },
     "execution_count": 122,
     "metadata": {},
     "output_type": "execute_result"
    }
   ],
   "source": [
    "# 종료 사업\n",
    "budget_df_delete_temp1 = budget_df_ytday[budget_df_ytday['세부사업코드'].isin(set(budget_df_ytday['세부사업코드']) - set(budget_df_today['세부사업코드']))].reset_index(drop=True)\n",
    "budget_df_delete_temp2 = budget_df_ytday[budget_df_ytday['세부사업명'].isin(set(budget_df_ytday['세부사업명']) - set(budget_df_today['세부사업명']))].reset_index(drop=True)\n",
    "budget_df_delete = pd.concat([budget_df_delete_temp1,budget_df_delete_temp2],axis=0).reset_index(drop=True)\n",
    "budget_df_delete"
   ]
  },
  {
   "cell_type": "code",
   "execution_count": 123,
   "id": "5c58a66c",
   "metadata": {},
   "outputs": [
    {
     "data": {
      "text/html": [
       "<div>\n",
       "<style scoped>\n",
       "    .dataframe tbody tr th:only-of-type {\n",
       "        vertical-align: middle;\n",
       "    }\n",
       "\n",
       "    .dataframe tbody tr th {\n",
       "        vertical-align: top;\n",
       "    }\n",
       "\n",
       "    .dataframe thead th {\n",
       "        text-align: right;\n",
       "    }\n",
       "</style>\n",
       "<table border=\"1\" class=\"dataframe\">\n",
       "  <thead>\n",
       "    <tr style=\"text-align: right;\">\n",
       "      <th></th>\n",
       "      <th>회계연도</th>\n",
       "      <th>지역코드</th>\n",
       "      <th>지역명</th>\n",
       "      <th>자치단체코드</th>\n",
       "      <th>자치단체명</th>\n",
       "      <th>회계구분명</th>\n",
       "      <th>세부사업코드</th>\n",
       "      <th>세부사업명</th>\n",
       "      <th>집행일자</th>\n",
       "      <th>예산현액</th>\n",
       "      <th>지출액</th>\n",
       "      <th>편성액</th>\n",
       "      <th>분야명</th>\n",
       "      <th>부문명</th>\n",
       "      <th>행정자치단체코드</th>\n",
       "      <th>세부사업명_re</th>\n",
       "    </tr>\n",
       "  </thead>\n",
       "  <tbody>\n",
       "  </tbody>\n",
       "</table>\n",
       "</div>"
      ],
      "text/plain": [
       "Empty DataFrame\n",
       "Columns: [회계연도, 지역코드, 지역명, 자치단체코드, 자치단체명, 회계구분명, 세부사업코드, 세부사업명, 집행일자, 예산현액, 지출액, 편성액, 분야명, 부문명, 행정자치단체코드, 세부사업명_re]\n",
       "Index: []"
      ]
     },
     "execution_count": 123,
     "metadata": {},
     "output_type": "execute_result"
    }
   ],
   "source": [
    "# 새로 추가된 사업\n",
    "budget_df_new_temp1 = budget_df_today[~budget_df_today['세부사업코드'].isin(budget_df_ytday['세부사업코드'])].reset_index(drop=True).reset_index(drop=True)\n",
    "budget_df_new_temp2 = budget_df_today[~budget_df_today['세부사업명'].isin(budget_df_ytday['세부사업명'])].reset_index(drop=True).reset_index(drop=True)\n",
    "budget_df_new = pd.concat([budget_df_new_temp1,budget_df_new_temp2],axis=0).reset_index(drop=True)\n",
    "budget_df_new"
   ]
  },
  {
   "cell_type": "code",
   "execution_count": 105,
   "id": "0e639df9",
   "metadata": {},
   "outputs": [],
   "source": [
    "# 사업명 전처리\n",
    "budget_df_today['세부사업명_re'] = budget_df_today['세부사업명'].apply(clean_text)\n",
    "budget_df_today['세부사업명_re'] = budget_df_today['세부사업명_re'].str.replace('초등학교','').str.replace('중학교','').str.replace('고등학교','')\n",
    "budget_df_today['세부사업명_re'] = budget_df_today['세부사업명_re'].str.strip()\n",
    "\n",
    "# budget_df_ytday['세부사업명_re'] = budget_df_ytday['세부사업명'].apply(clean_text)\n",
    "# budget_df_ytday['세부사업명_re'] = budget_df_ytday['세부사업명_re'].str.replace('초등학교','').str.replace('중학교','').str.replace('고등학교','')\n",
    "# budget_df_ytday['세부사업명_re'] = budget_df_ytday['세부사업명_re'].str.strip()"
   ]
  },
  {
   "cell_type": "code",
   "execution_count": 106,
   "id": "447d8aef",
   "metadata": {},
   "outputs": [],
   "source": [
    "# 해당 지역 추출\n",
    "filtered_budget_df_today = budget_df_today[budget_df_today['자치단체명'].str.contains(dist_nm)].reset_index(drop=True)\n",
    "# filtered_budget_df_ytday = budget_df_ytday[budget_df_ytday['자치단체명'].str.contains(dist_nm)].reset_index(drop=True)"
   ]
  },
  {
   "cell_type": "code",
   "execution_count": 107,
   "id": "99d369ba",
   "metadata": {},
   "outputs": [],
   "source": [
    "# split 키워드 필터링\n",
    "filtered_budget_df_today = filtered_budget_df_today[filtered_budget_df_today['세부사업명_re'].str.contains(mapping_keywd_all_filter_cnt_nm)] ## 전체 키워드\n",
    "filtered_budget_df_today = filtered_budget_df_today[filtered_budget_df_today['세부사업명_re'].str.contains(mapping_keywd3_filter_cnt_nm)] ## split 3개 키워드\n",
    "filtered_budget_df_today = filtered_budget_df_today[filtered_budget_df_today['세부사업명_re'].str.contains(mapping_keywd2_filter_cnt_nm)] ## split 2개 키워드\n",
    "filtered_budget_df_today = filtered_budget_df_today[filtered_budget_df_today['세부사업명_re'].str.contains(mapping_keywd1_filter_cnt_nm)] ## split 1개 키워드\n",
    "\n",
    "# filtered_budget_df_ytday = filtered_budget_df_ytday[filtered_budget_df_ytday['세부사업명_re'].str.contains(mapping_keywd_all_filter_cnt_nm)] ## 전체 키워드\n",
    "# filtered_budget_df_ytday = filtered_budget_df_ytday[filtered_budget_df_ytday['세부사업명_re'].str.contains(mapping_keywd3_filter_cnt_nm)] ## split 3개 키워드\n",
    "# filtered_budget_df_ytday = filtered_budget_df_ytday[filtered_budget_df_ytday['세부사업명_re'].str.contains(mapping_keywd2_filter_cnt_nm)] ## split 2개 키워드\n",
    "# filtered_budget_df_ytday = filtered_budget_df_ytday[filtered_budget_df_ytday['세부사업명_re'].str.contains(mapping_keywd1_filter_cnt_nm)] ## split 1개 키워드"
   ]
  },
  {
   "cell_type": "code",
   "execution_count": 108,
   "id": "418b5c02",
   "metadata": {},
   "outputs": [],
   "source": [
    "# 종합쇼핑몰 기준 필터링\n",
    "bid_cd_split_today = list(budget_df_today[budget_df_today['세부사업코드'].isin(filtered_budget_df_today['세부사업코드'])]['세부사업코드']) # split 키워드 필터링\n",
    "bid_cd_freq_today = list(budget_df_today[budget_df_today['세부사업명'].str.contains(freq_kwd)]['세부사업코드']) # 빈도수 키워드 필터링\n",
    "\n",
    "# bid_cd_split_ytday = list(budget_df_ytday[budget_df_ytday['세부사업코드'].isin(filtered_budget_df_ytday['세부사업코드'])]['세부사업코드']) # split 키워드 필터링\n",
    "# bid_cd_freq_ytday = list(budget_df_ytday[budget_df_ytday['세부사업명'].str.contains(freq_kwd)]['세부사업코드']) # 빈도수 키워드 필터링"
   ]
  },
  {
   "cell_type": "code",
   "execution_count": 109,
   "id": "a8b481d4",
   "metadata": {},
   "outputs": [],
   "source": [
    "# 종합쇼핑몰 진행건 제외 & 지출액0(미진행건) 추가\n",
    "budget_df_today_temp1 = budget_df_today[~budget_df_today['세부사업코드'].isin(set(bid_cd_split_today + bid_cd_freq_today))]\n",
    "budget_df_today_temp2 = budget_df_today[budget_df_today['세부사업코드'].isin(set(bid_cd_split_today + bid_cd_freq_today))]\n",
    "budget_df_today_temp2 = budget_df_today_temp2[budget_df_today_temp2['지출액']==0].reset_index(drop=True)\n",
    "budget_df_today_fin = pd.concat([budget_df_today_temp1, budget_df_today_temp2], axis=0).reset_index(drop=True)\n",
    "\n",
    "# budget_df_ytday_temp1 = budget_df_ytday[~budget_df_ytday['세부사업코드'].isin(set(bid_cd_split_ytday + bid_cd_freq_ytday))]\n",
    "# budget_df_ytday_temp2 = budget_df_ytday[budget_df_ytday['세부사업코드'].isin(set(bid_cd_split_ytday + bid_cd_freq_ytday))]\n",
    "# budget_df_ytday_temp2 = budget_df_ytday_temp2[budget_df_ytday_temp2['지출액']==0].reset_index(drop=True)\n",
    "# budget_df_ytday_fin = pd.concat([budget_df_ytday_temp1, budget_df_ytday_temp2], axis=0).reset_index(drop=True)"
   ]
  },
  {
   "cell_type": "code",
   "execution_count": 110,
   "id": "ccfaa85d",
   "metadata": {},
   "outputs": [],
   "source": [
    "# 중요 사업 체크\n",
    "budget_df_today_final = pd.concat([budget_df_today_fin[budget_df_today_fin['세부사업명'].str.contains('인조잔디')],\n",
    "                                   budget_df_today_fin[~budget_df_today_fin['세부사업명'].str.contains('인조잔디')]],axis=0).reset_index(drop=True)\n",
    "\n",
    "# budget_df_ytday_final = pd.concat([budget_df_ytday_fin[budget_df_ytday_fin['세부사업명'].str.contains('인조잔디')],\n",
    "#                                    budget_df_ytday_fin[~budget_df_ytday_fin['세부사업명'].str.contains('인조잔디')]],axis=0).reset_index(drop=True)"
   ]
  },
  {
   "cell_type": "code",
   "execution_count": 128,
   "id": "df586b0e",
   "metadata": {},
   "outputs": [],
   "source": [
    "# 최종데이터셋\n",
    "budget_df_today_final = budget_df_today_final[['회계연도', '집행일자', '지역명', '자치단체명', '회계구분명', '세부사업명','예산현액', '지출액', '편성액', '분야명', '부문명']]\n",
    "budget_df_delete = budget_df_delete[['회계연도', '집행일자', '지역명', '자치단체명', '회계구분명', '세부사업명','예산현액', '지출액', '편성액', '분야명', '부문명']]\n",
    "budget_df_new = budget_df_new[['회계연도', '집행일자', '지역명', '자치단체명', '회계구분명', '세부사업명','예산현액', '지출액', '편성액', '분야명', '부문명']]"
   ]
  },
  {
   "cell_type": "code",
   "execution_count": 129,
   "id": "913d0209",
   "metadata": {},
   "outputs": [
    {
     "name": "stdout",
     "output_type": "stream",
     "text": [
      "Data inserted into table budget_df_listup successfully.\n"
     ]
    }
   ],
   "source": [
    "# 빅쿼리에 적재\n",
    "save_dataframe_to_bigquery(budget_df_today_final,'budget','budget_df_listup',bigquerykey_path)\n",
    "save_dataframe_to_bigquery(budget_df_delete,'budget','budget_df_delete',bigquerykey_path)\n",
    "save_dataframe_to_bigquery(budget_df_new,'budget','budget_df_new',bigquerykey_path)"
   ]
  }
 ],
 "metadata": {
  "kernelspec": {
   "display_name": "Python 3 (ipykernel)",
   "language": "python",
   "name": "python3"
  },
  "language_info": {
   "codemirror_mode": {
    "name": "ipython",
    "version": 3
   },
   "file_extension": ".py",
   "mimetype": "text/x-python",
   "name": "python",
   "nbconvert_exporter": "python",
   "pygments_lexer": "ipython3",
   "version": "3.8.19"
  }
 },
 "nbformat": 4,
 "nbformat_minor": 5
}
