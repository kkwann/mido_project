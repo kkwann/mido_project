{
 "cells": [
  {
   "cell_type": "code",
   "execution_count": 1,
   "id": "c0d21ceb",
   "metadata": {},
   "outputs": [],
   "source": [
    "import pandas as pd\n",
    "from pandas.tseries.offsets import DateOffset\n",
    "import numpy as np\n",
    "from datetime import datetime, timedelta\n",
    "import time\n",
    "\n",
    "import uuid\n",
    "import os\n",
    "import sys\n",
    "\n",
    "from google.cloud import bigquery\n",
    "from google.oauth2 import service_account\n",
    "import gspread\n",
    "from gspread_dataframe import set_with_dataframe\n",
    "from googleapiclient.discovery import build\n",
    "import io\n",
    "from googleapiclient.http import MediaIoBaseDownload\n",
    "\n",
    "import warnings"
   ]
  },
  {
   "cell_type": "code",
   "execution_count": 2,
   "id": "edef5bc1",
   "metadata": {},
   "outputs": [],
   "source": [
    "KEY_PATH = \".config/\"\n",
    "servicekey_path = KEY_PATH + \"serviceKey.json\" ## 빅쿼리 외 다른 API 활용 위해\n",
    "bigquerykey_path = KEY_PATH + \"mido-project-426906-31b49963ac97.json\"\n",
    "sheetskey_path = KEY_PATH + \"mido-project-426906-41a4b6d0e3db.json\"\n",
    "midopluskey_path = KEY_PATH + \"midoplus.json\"\n",
    "\n",
    "warnings.filterwarnings(\"ignore\")"
   ]
  },
  {
   "cell_type": "code",
   "execution_count": 3,
   "id": "9e717214",
   "metadata": {},
   "outputs": [],
   "source": [
    "def get_service_key(servicekey_path):\n",
    "\n",
    "    with open(servicekey_path) as f:\n",
    "        data = json.load(f)\n",
    "    return data"
   ]
  },
  {
   "cell_type": "code",
   "execution_count": 4,
   "id": "84491ec1",
   "metadata": {},
   "outputs": [],
   "source": [
    "# BigQuery 클라이언트 생성 함수\n",
    "def create_bigquery_client(key_path):\n",
    "    credentials = service_account.Credentials.from_service_account_file(key_path)\n",
    "    client = bigquery.Client(credentials=credentials, project=credentials.project_id)\n",
    "    return client"
   ]
  },
  {
   "cell_type": "code",
   "execution_count": 5,
   "id": "f540ac7e",
   "metadata": {},
   "outputs": [
    {
     "data": {
      "text/plain": [
       "<google.cloud.bigquery.client.Client at 0x1e74915fd00>"
      ]
     },
     "execution_count": 5,
     "metadata": {},
     "output_type": "execute_result"
    }
   ],
   "source": [
    "create_bigquery_client(midopluskey_path)"
   ]
  },
  {
   "cell_type": "code",
   "execution_count": 6,
   "id": "a2febc45",
   "metadata": {},
   "outputs": [],
   "source": [
    "def save_dataframe_to_bigquery(df, dataset_id, table_id, key_path):\n",
    "    # BigQuery 클라이언트 객체 생성\n",
    "    client = create_bigquery_client(key_path)\n",
    "\n",
    "    # 테이블 레퍼런스 생성\n",
    "    table_ref = client.dataset(dataset_id).table(table_id)\n",
    "\n",
    "    # 데이터프레임을 BigQuery 테이블에 적재\n",
    "    job_config = bigquery.LoadJobConfig()\n",
    "    job_config.write_disposition = \"WRITE_TRUNCATE\"  # 기존 테이블 내용 삭제 후 삽입\n",
    "\n",
    "    job = client.load_table_from_dataframe(df, table_ref, job_config=job_config)\n",
    "    job.result()  # 작업 완료 대기\n",
    "\n",
    "    print(f\"Data inserted into table {table_id} successfully.\")"
   ]
  },
  {
   "cell_type": "markdown",
   "id": "eb79cce7",
   "metadata": {},
   "source": [
    "#### 구글 스프레드 시트"
   ]
  },
  {
   "cell_type": "code",
   "execution_count": 7,
   "id": "6ef6706d",
   "metadata": {},
   "outputs": [],
   "source": [
    "# Google Sheets 클라이언트 생성\n",
    "sheets_scope = [\"https://spreadsheets.google.com/feeds\", \"https://www.googleapis.com/auth/spreadsheets\",\n",
    "                \"https://www.googleapis.com/auth/drive.file\", \"https://www.googleapis.com/auth/drive\"]\n",
    "\n",
    "sheets_creds = service_account.Credentials.from_service_account_file(midopluskey_path, scopes=sheets_scope)\n",
    "gc = gspread.authorize(sheets_creds)"
   ]
  },
  {
   "cell_type": "markdown",
   "id": "2abae40c",
   "metadata": {},
   "source": [
    "#### 생산일지 \n",
    "- 원본 생산일지 로드해서 백업용 생성\n",
    "- 원본생산일지 추가해서 --> production_report_백업"
   ]
  },
  {
   "cell_type": "markdown",
   "id": "65156e70",
   "metadata": {},
   "source": [
    "##### 미도플러스"
   ]
  },
  {
   "cell_type": "code",
   "execution_count": 8,
   "id": "7c9bc422",
   "metadata": {},
   "outputs": [],
   "source": [
    "doc_path_mido = 'C:/py_src/midoproject/data/production_report/mido/'\n",
    "\n",
    "all_doc_data_mido = []\n",
    "for doc in os.listdir(doc_path_mido):\n",
    "    if '_mido' not in doc:\n",
    "        doc_df = pd.read_excel(doc_path_mido + doc, header=5)\n",
    "\n",
    "        # 불필요데이터 제거\n",
    "        doc_df = doc_df.iloc[:doc_df['R/NO'].last_valid_index()+1]\n",
    "\n",
    "        # 모든 컬럼 NaN 제거\n",
    "        doc_df = doc_df.dropna(how='all')\n",
    "\n",
    "        # 컬럼형식 맞추기\n",
    "        doc_df = doc_df.rename(columns={'날짜':'생산일자', '일자':'생산일자'})\n",
    "        doc_df = doc_df.rename(columns={'제직량 M':'제직량', '입고량 M':'입고량'})\n",
    "\n",
    "        # 일자, 구장명 채우기\n",
    "        # doc_df['계약코드'] = doc_df['계약코드'].ffill()\n",
    "        doc_df['생산일자'] = doc_df['생산일자'].ffill()\n",
    "        doc_df['구장명'] = doc_df['구장명'].ffill()\n",
    "        \n",
    "        # 데이터프레임을 리스트에 추가\n",
    "        all_doc_data_mido.append(doc_df)"
   ]
  },
  {
   "cell_type": "code",
   "execution_count": 9,
   "id": "e9058639",
   "metadata": {},
   "outputs": [],
   "source": [
    "# 리스트의 모든 데이터프레임을 하나로 병합\n",
    "all_doc_df_mido_fin = pd.concat(all_doc_data_mido, ignore_index=True)"
   ]
  },
  {
   "cell_type": "code",
   "execution_count": 11,
   "id": "b971f603",
   "metadata": {},
   "outputs": [],
   "source": [
    "# '일자'부터 'YARN'까지의 컬럼을 '구장명' 기준 첫 행으로 채우기\n",
    "columns_to_fill = ['계약코드','오더량', 'ITEM', 'SPI', 'PH', 'PW', 'T/F TYPE', '기포지', '제직폭', '본수', '입고폭', 'YARN', 'COLOR', '도전사','R/NO']\n",
    "for col in columns_to_fill:\n",
    "    all_doc_df_mido_fin[col] = all_doc_df_mido_fin.groupby(['생산일자','구장명'])[col].transform(lambda x: x.fillna(x.iloc[0]))"
   ]
  },
  {
   "cell_type": "code",
   "execution_count": 12,
   "id": "3c8e25fc",
   "metadata": {},
   "outputs": [],
   "source": [
    "# 제직량, 입고량 없는거 제거\n",
    "all_doc_df_mido_final = all_doc_df_mido_fin[~all_doc_df_mido_fin['제직량'].isnull()].drop_duplicates().reset_index(drop=True)"
   ]
  },
  {
   "cell_type": "code",
   "execution_count": 13,
   "id": "026a0229",
   "metadata": {},
   "outputs": [],
   "source": [
    "# 업체명 컬럼 추가\n",
    "all_doc_df_mido_final['업체명'] = '미도플러스'"
   ]
  },
  {
   "cell_type": "code",
   "execution_count": 15,
   "id": "b7eff55f",
   "metadata": {},
   "outputs": [],
   "source": [
    "# 기존에 있던 생산일지(2023년까지) 불러오기\n",
    "total_production_report_mido_old = pd.read_csv('C:/py_src/midoproject/data/production_report/mido/total_production_report_mido_old.csv',encoding='utf-8-sig')"
   ]
  },
  {
   "cell_type": "code",
   "execution_count": 16,
   "id": "02d2957b",
   "metadata": {},
   "outputs": [],
   "source": [
    "# 새로운 데이터(2024년)와 병합\n",
    "## total_production_report_mido_old, all_doc_df_mido_final 파일 합친거\n",
    "total_production_report_mido_new = pd.concat([total_production_report_mido_old,all_doc_df_mido_final], axis=0).reset_index(drop=True)\n",
    "total_production_report_mido_new = total_production_report_mido_new.fillna('')"
   ]
  },
  {
   "cell_type": "code",
   "execution_count": 18,
   "id": "30b0f1ae",
   "metadata": {},
   "outputs": [],
   "source": [
    "# 기존 데이터에 새로운 데이터 추가해서 업데이트\n",
    "total_production_report_mido_new.to_csv('C:/py_src/midoproject/data/production_report/mido/total_production_report_mido_new.csv',encoding='utf-8-sig',index=False)"
   ]
  },
  {
   "cell_type": "code",
   "execution_count": 19,
   "id": "cd39157a",
   "metadata": {},
   "outputs": [],
   "source": [
    "# 새로운 데이터(2024년)\n",
    "all_doc_df_mido_final.to_csv('C:/py_src/midoproject/data/production_report/mido/all_doc_df_mido_final.csv',encoding='utf-8-sig',index=False)\n",
    "## 원본 생산일지 불러와서 전처리 후 통합\n",
    "## 생산일지 백업용 데이터 생성"
   ]
  },
  {
   "cell_type": "markdown",
   "id": "91ed7576",
   "metadata": {},
   "source": [
    "##### 에코그라운드"
   ]
  },
  {
   "cell_type": "code",
   "execution_count": 20,
   "id": "41d54c49",
   "metadata": {},
   "outputs": [],
   "source": [
    "doc_path_eco = 'C:/py_src/midoproject/data/production_report/eco/'\n",
    "\n",
    "all_doc_data_eco = []\n",
    "for doc in os.listdir(doc_path_eco):\n",
    "    if '_eco' not in doc:\n",
    "        doc_df = pd.read_excel(doc_path_eco + doc, header=5)\n",
    "\n",
    "        # 불필요데이터 제거\n",
    "        doc_df = doc_df.iloc[:doc_df['R/NO'].last_valid_index()+1]\n",
    "\n",
    "        # 모든 컬럼 NaN 제거\n",
    "        doc_df = doc_df.dropna(how='all')\n",
    "\n",
    "        # 컬럼형식 맞추기\n",
    "        doc_df = doc_df.rename(columns={'날짜':'생산일자', '일자':'생산일자'})\n",
    "        doc_df = doc_df.rename(columns={'제직량 M':'제직량', '입고량 M':'입고량'})\n",
    "\n",
    "        # 일자, 구장명 채우기\n",
    "        # doc_df['계약코드'] = doc_df['계약코드'].ffill()\n",
    "        doc_df['생산일자'] = doc_df['생산일자'].ffill()\n",
    "        doc_df['구장명'] = doc_df['구장명'].ffill()\n",
    "        doc_df['구장명'] = doc_df['구장명'].str.replace('\\n',' ')\n",
    "        \n",
    "        # 데이터프레임을 리스트에 추가\n",
    "        all_doc_data_eco.append(doc_df)"
   ]
  },
  {
   "cell_type": "code",
   "execution_count": 21,
   "id": "d7ee50fa",
   "metadata": {},
   "outputs": [],
   "source": [
    "# 리스트의 모든 데이터프레임을 하나로 병합\n",
    "all_doc_df_eco_fin = pd.concat(all_doc_data_eco, ignore_index=True)"
   ]
  },
  {
   "cell_type": "code",
   "execution_count": 22,
   "id": "fa9ebfad",
   "metadata": {},
   "outputs": [],
   "source": [
    "# '일자'부터 'YARN'까지의 컬럼을 '구장명' 기준 첫 행으로 채우기\n",
    "columns_to_fill = ['계약코드','오더량', 'ITEM', 'SPI', 'PH', 'PW', 'T/F TYPE', '기포지', '제직폭', '본수', '입고폭', 'YARN', 'COLOR', '도전사','R/NO']\n",
    "for col in columns_to_fill:\n",
    "    all_doc_df_eco_fin[col] = all_doc_df_eco_fin.groupby(['생산일자','구장명'])[col].transform(lambda x: x.fillna(x.iloc[0]))"
   ]
  },
  {
   "cell_type": "code",
   "execution_count": 23,
   "id": "9dffb513",
   "metadata": {},
   "outputs": [],
   "source": [
    "# 제직량, 입고량 없는거 제거\n",
    "all_doc_df_eco_final = all_doc_df_eco_fin[~all_doc_df_eco_fin['제직량'].isnull()].drop_duplicates().reset_index(drop=True)"
   ]
  },
  {
   "cell_type": "code",
   "execution_count": 24,
   "id": "ff694e9c",
   "metadata": {},
   "outputs": [],
   "source": [
    "# 업체명 컬럼 추가\n",
    "all_doc_df_eco_final['업체명'] = '에코그라운드'"
   ]
  },
  {
   "cell_type": "code",
   "execution_count": 25,
   "id": "c6428194",
   "metadata": {},
   "outputs": [],
   "source": [
    "# 기존에 있던 생산일지 불러오기\n",
    "total_production_report_eco_old = pd.read_csv('C:/py_src/midoproject/data/production_report/eco/total_production_report_eco_old.csv',encoding='utf-8-sig')"
   ]
  },
  {
   "cell_type": "code",
   "execution_count": 26,
   "id": "f321ee3f",
   "metadata": {},
   "outputs": [],
   "source": [
    "# 새로운 데이터(2024년)와 병합\n",
    "## total_production_report_mido_old, all_doc_df_mido_final 파일 합친거\n",
    "total_production_report_eco_new = pd.concat([total_production_report_eco_old,all_doc_df_eco_final], axis=0).reset_index(drop=True)\n",
    "total_production_report_eco_new = total_production_report_eco_new.fillna('')"
   ]
  },
  {
   "cell_type": "code",
   "execution_count": 27,
   "id": "4418a496",
   "metadata": {},
   "outputs": [],
   "source": [
    "# 기존 데이터에 새로운 데이터 추가해서 업데이트\n",
    "total_production_report_eco_new.to_csv('C:/py_src/midoproject/data/production_report/eco/total_production_report_eco_new.csv',encoding='utf-8-sig',index=False)"
   ]
  },
  {
   "cell_type": "code",
   "execution_count": 28,
   "id": "96b68e14",
   "metadata": {},
   "outputs": [],
   "source": [
    "# 새로운 데이터(2024년)\n",
    "all_doc_df_eco_final.to_csv('C:/py_src/midoproject/data/production_report/eco/all_doc_df_eco_final.csv',encoding='utf-8-sig',index=False)\n",
    "## 원본 생산일지 불러와서 전처리 후 통합\n",
    "## 생산일지 백업용 데이터 생성"
   ]
  },
  {
   "cell_type": "code",
   "execution_count": 29,
   "id": "5a4f823d",
   "metadata": {},
   "outputs": [],
   "source": [
    "# 미도, 에코 병합\n",
    "total_production_df = pd.concat([total_production_report_mido_new, total_production_report_eco_new]).reset_index(drop=True)"
   ]
  },
  {
   "cell_type": "markdown",
   "id": "9d606d1b",
   "metadata": {},
   "source": [
    "구글스프레드시트 : 생산일지원본 -> production_report_원본백업"
   ]
  },
  {
   "cell_type": "code",
   "execution_count": 35,
   "id": "48d7a280",
   "metadata": {},
   "outputs": [],
   "source": [
    "# 데이터프레임의 모든 datetime 형식의 열을 일괄적으로 문자열로 변환\n",
    "total_production_df = total_production_df.astype(str)"
   ]
  },
  {
   "cell_type": "code",
   "execution_count": 36,
   "id": "381e15b5",
   "metadata": {},
   "outputs": [
    {
     "data": {
      "text/plain": [
       "{'spreadsheetId': '1dl6GyEkzarfgcKSmT9hwYzR63MhcGDox0z-gCa0_7OI',\n",
       " 'updatedRange': \"'production_report_원본백업'!A1:Y9245\",\n",
       " 'updatedRows': 9245,\n",
       " 'updatedColumns': 25,\n",
       " 'updatedCells': 231125}"
      ]
     },
     "execution_count": 36,
     "metadata": {},
     "output_type": "execute_result"
    }
   ],
   "source": [
    "# 스프레드시트 ID (URL에서 확인 가능)\n",
    "production_sheet_id = '1dl6GyEkzarfgcKSmT9hwYzR63MhcGDox0z-gCa0_7OI' ## midoplus production_report --> 생산일지통합\n",
    "spreadsheet_production = gc.open_by_key(production_sheet_id)\n",
    "\n",
    "# 기존 스프레드시트 및 워크시트 열기\n",
    "WORKSHEET_NAME = 'production_report_원본백업'\n",
    "worksheet_production = spreadsheet_production.worksheet(WORKSHEET_NAME)\n",
    "\n",
    "# 기존 데이터 지우기\n",
    "worksheet_production.clear()\n",
    "\n",
    "# 데이터 프레임을 스프레드 시트에 덮어쓰기\n",
    "worksheet_production.update([total_production_df.columns.values.tolist()] + total_production_df.values.tolist())"
   ]
  },
  {
   "cell_type": "markdown",
   "id": "9e00c590",
   "metadata": {},
   "source": [
    "구글스프레드시트 : production_report_백업 -> production_report"
   ]
  },
  {
   "cell_type": "code",
   "execution_count": 221,
   "id": "7aff3131",
   "metadata": {},
   "outputs": [
    {
     "data": {
      "text/html": [
       "<div>\n",
       "<style scoped>\n",
       "    .dataframe tbody tr th:only-of-type {\n",
       "        vertical-align: middle;\n",
       "    }\n",
       "\n",
       "    .dataframe tbody tr th {\n",
       "        vertical-align: top;\n",
       "    }\n",
       "\n",
       "    .dataframe thead th {\n",
       "        text-align: right;\n",
       "    }\n",
       "</style>\n",
       "<table border=\"1\" class=\"dataframe\">\n",
       "  <thead>\n",
       "    <tr style=\"text-align: right;\">\n",
       "      <th></th>\n",
       "      <th>업체명</th>\n",
       "      <th>납품요구번호</th>\n",
       "      <th>계약코드</th>\n",
       "      <th>생산일자</th>\n",
       "      <th>납품요구접수일자</th>\n",
       "      <th>납품기한일자</th>\n",
       "      <th>납품요구건명</th>\n",
       "      <th>구장명</th>\n",
       "      <th>오더량</th>\n",
       "      <th>ITEM</th>\n",
       "      <th>...</th>\n",
       "      <th>제직폭</th>\n",
       "      <th>본수</th>\n",
       "      <th>입고폭</th>\n",
       "      <th>YARN</th>\n",
       "      <th>COLOR</th>\n",
       "      <th>도전사</th>\n",
       "      <th>R/NO</th>\n",
       "      <th>제직량</th>\n",
       "      <th>입고량</th>\n",
       "      <th>비고</th>\n",
       "    </tr>\n",
       "  </thead>\n",
       "  <tbody>\n",
       "    <tr>\n",
       "      <th>0</th>\n",
       "      <td>미도플러스</td>\n",
       "      <td>2419398300</td>\n",
       "      <td>241940000000.0</td>\n",
       "      <td>2019. 10. 25</td>\n",
       "      <td>2019. 10. 8</td>\n",
       "      <td>2019. 12. 7</td>\n",
       "      <td>승촌게이트볼장 기능보강 공사 관급자재(인조잔디)</td>\n",
       "      <td>승촌게이트 실내</td>\n",
       "      <td>382</td>\n",
       "      <td>MD35</td>\n",
       "      <td>...</td>\n",
       "      <td>414</td>\n",
       "      <td>434.0</td>\n",
       "      <td>400</td>\n",
       "      <td>MONO7800.3500 GBR</td>\n",
       "      <td>VGF</td>\n",
       "      <td>O</td>\n",
       "      <td>1</td>\n",
       "      <td>17.4</td>\n",
       "      <td>15.5</td>\n",
       "      <td></td>\n",
       "    </tr>\n",
       "    <tr>\n",
       "      <th>1</th>\n",
       "      <td>미도플러스</td>\n",
       "      <td>2419398300</td>\n",
       "      <td>241940000000.0</td>\n",
       "      <td>2019. 10. 25</td>\n",
       "      <td>2019. 10. 8</td>\n",
       "      <td>2019. 12. 7</td>\n",
       "      <td>승촌게이트볼장 기능보강 공사 관급자재(인조잔디)</td>\n",
       "      <td>승촌게이트 실내</td>\n",
       "      <td>382</td>\n",
       "      <td>MD35</td>\n",
       "      <td>...</td>\n",
       "      <td>414</td>\n",
       "      <td>434.0</td>\n",
       "      <td>400</td>\n",
       "      <td>MONO7800.3500 GBR</td>\n",
       "      <td>VGF L</td>\n",
       "      <td></td>\n",
       "      <td>101-1</td>\n",
       "      <td>44</td>\n",
       "      <td>40.0</td>\n",
       "      <td></td>\n",
       "    </tr>\n",
       "    <tr>\n",
       "      <th>2</th>\n",
       "      <td>미도플러스</td>\n",
       "      <td>2419398300</td>\n",
       "      <td>241940000000.0</td>\n",
       "      <td>2019. 10. 26</td>\n",
       "      <td>2019. 10. 8</td>\n",
       "      <td>2019. 12. 7</td>\n",
       "      <td>승촌게이트볼장 기능보강 공사 관급자재(인조잔디)</td>\n",
       "      <td>승촌게이트 실외</td>\n",
       "      <td>374</td>\n",
       "      <td>MD35</td>\n",
       "      <td>...</td>\n",
       "      <td>414</td>\n",
       "      <td>434.0</td>\n",
       "      <td>400</td>\n",
       "      <td>MONO7800.3500 GBR</td>\n",
       "      <td>VGF L</td>\n",
       "      <td></td>\n",
       "      <td>101-2</td>\n",
       "      <td>44</td>\n",
       "      <td>40.0</td>\n",
       "      <td>완료</td>\n",
       "    </tr>\n",
       "    <tr>\n",
       "      <th>3</th>\n",
       "      <td>미도플러스</td>\n",
       "      <td>2419398300</td>\n",
       "      <td>241940000000.0</td>\n",
       "      <td>2019. 10. 26</td>\n",
       "      <td>2019. 10. 8</td>\n",
       "      <td>2019. 12. 7</td>\n",
       "      <td>승촌게이트볼장 기능보강 공사 관급자재(인조잔디)</td>\n",
       "      <td>승촌게이트 실외</td>\n",
       "      <td>374</td>\n",
       "      <td>MD35</td>\n",
       "      <td>...</td>\n",
       "      <td>414</td>\n",
       "      <td>434.0</td>\n",
       "      <td>400</td>\n",
       "      <td>MONO7800.3500 GBR</td>\n",
       "      <td>VGF L</td>\n",
       "      <td>O</td>\n",
       "      <td>101-1</td>\n",
       "      <td>44</td>\n",
       "      <td>10.0</td>\n",
       "      <td></td>\n",
       "    </tr>\n",
       "    <tr>\n",
       "      <th>4</th>\n",
       "      <td>미도플러스</td>\n",
       "      <td>2419398300</td>\n",
       "      <td>241940000000.0</td>\n",
       "      <td>2019. 10. 26</td>\n",
       "      <td>2019. 10. 8</td>\n",
       "      <td>2019. 12. 7</td>\n",
       "      <td>승촌게이트볼장 기능보강 공사 관급자재(인조잔디)</td>\n",
       "      <td>승촌게이트 실외</td>\n",
       "      <td>374</td>\n",
       "      <td>MD35</td>\n",
       "      <td>...</td>\n",
       "      <td>414</td>\n",
       "      <td>434.0</td>\n",
       "      <td>400</td>\n",
       "      <td>MONO7800.3500 GBR</td>\n",
       "      <td>VGF L</td>\n",
       "      <td></td>\n",
       "      <td>101-2</td>\n",
       "      <td>44</td>\n",
       "      <td>10.0</td>\n",
       "      <td></td>\n",
       "    </tr>\n",
       "    <tr>\n",
       "      <th>...</th>\n",
       "      <td>...</td>\n",
       "      <td>...</td>\n",
       "      <td>...</td>\n",
       "      <td>...</td>\n",
       "      <td>...</td>\n",
       "      <td>...</td>\n",
       "      <td>...</td>\n",
       "      <td>...</td>\n",
       "      <td>...</td>\n",
       "      <td>...</td>\n",
       "      <td>...</td>\n",
       "      <td>...</td>\n",
       "      <td>...</td>\n",
       "      <td>...</td>\n",
       "      <td>...</td>\n",
       "      <td>...</td>\n",
       "      <td>...</td>\n",
       "      <td>...</td>\n",
       "      <td>...</td>\n",
       "      <td>...</td>\n",
       "      <td>...</td>\n",
       "    </tr>\n",
       "    <tr>\n",
       "      <th>9230</th>\n",
       "      <td>에코그라운드</td>\n",
       "      <td></td>\n",
       "      <td></td>\n",
       "      <td>3.2223</td>\n",
       "      <td></td>\n",
       "      <td></td>\n",
       "      <td></td>\n",
       "      <td>구포테니스6면</td>\n",
       "      <td>4482</td>\n",
       "      <td>EG20</td>\n",
       "      <td>...</td>\n",
       "      <td>408.0</td>\n",
       "      <td>430.0</td>\n",
       "      <td>400.0</td>\n",
       "      <td>13500.0</td>\n",
       "      <td>DGF</td>\n",
       "      <td></td>\n",
       "      <td>103-3</td>\n",
       "      <td>25.0</td>\n",
       "      <td>24.0</td>\n",
       "      <td></td>\n",
       "    </tr>\n",
       "    <tr>\n",
       "      <th>9231</th>\n",
       "      <td>에코그라운드</td>\n",
       "      <td></td>\n",
       "      <td></td>\n",
       "      <td>3.2223</td>\n",
       "      <td></td>\n",
       "      <td></td>\n",
       "      <td></td>\n",
       "      <td>구포테니스6면</td>\n",
       "      <td>4482</td>\n",
       "      <td>EG20</td>\n",
       "      <td>...</td>\n",
       "      <td>408.0</td>\n",
       "      <td>430.0</td>\n",
       "      <td>400.0</td>\n",
       "      <td>13500.0</td>\n",
       "      <td>DGF</td>\n",
       "      <td></td>\n",
       "      <td>103-4</td>\n",
       "      <td>25.0</td>\n",
       "      <td>24.0</td>\n",
       "      <td></td>\n",
       "    </tr>\n",
       "    <tr>\n",
       "      <th>9232</th>\n",
       "      <td>에코그라운드</td>\n",
       "      <td></td>\n",
       "      <td></td>\n",
       "      <td>3.2223</td>\n",
       "      <td></td>\n",
       "      <td></td>\n",
       "      <td></td>\n",
       "      <td>구포테니스6면</td>\n",
       "      <td>4482</td>\n",
       "      <td>EG20</td>\n",
       "      <td>...</td>\n",
       "      <td>408.0</td>\n",
       "      <td>430.0</td>\n",
       "      <td>400.0</td>\n",
       "      <td>13500.0</td>\n",
       "      <td>DGF</td>\n",
       "      <td></td>\n",
       "      <td>103-5</td>\n",
       "      <td>25.0</td>\n",
       "      <td>24.0</td>\n",
       "      <td></td>\n",
       "    </tr>\n",
       "    <tr>\n",
       "      <th>9233</th>\n",
       "      <td>에코그라운드</td>\n",
       "      <td></td>\n",
       "      <td></td>\n",
       "      <td>3.2223</td>\n",
       "      <td></td>\n",
       "      <td></td>\n",
       "      <td></td>\n",
       "      <td>구포테니스6면</td>\n",
       "      <td>4482</td>\n",
       "      <td>EG20</td>\n",
       "      <td>...</td>\n",
       "      <td>408.0</td>\n",
       "      <td>430.0</td>\n",
       "      <td>400.0</td>\n",
       "      <td>13500.0</td>\n",
       "      <td>DGF</td>\n",
       "      <td></td>\n",
       "      <td>103-6</td>\n",
       "      <td>25.0</td>\n",
       "      <td>24.0</td>\n",
       "      <td></td>\n",
       "    </tr>\n",
       "    <tr>\n",
       "      <th>9234</th>\n",
       "      <td>에코그라운드</td>\n",
       "      <td></td>\n",
       "      <td></td>\n",
       "      <td>3.2223</td>\n",
       "      <td></td>\n",
       "      <td></td>\n",
       "      <td></td>\n",
       "      <td>구포테니스6면</td>\n",
       "      <td>4482</td>\n",
       "      <td>EG20</td>\n",
       "      <td>...</td>\n",
       "      <td>408.0</td>\n",
       "      <td>430.0</td>\n",
       "      <td>400.0</td>\n",
       "      <td>13500.0</td>\n",
       "      <td>BROWN</td>\n",
       "      <td></td>\n",
       "      <td>1</td>\n",
       "      <td>52.0</td>\n",
       "      <td>50.0</td>\n",
       "      <td></td>\n",
       "    </tr>\n",
       "  </tbody>\n",
       "</table>\n",
       "<p>9235 rows × 25 columns</p>\n",
       "</div>"
      ],
      "text/plain": [
       "         업체명      납품요구번호            계약코드          생산일자     납품요구접수일자  \\\n",
       "0      미도플러스  2419398300  241940000000.0  2019. 10. 25  2019. 10. 8   \n",
       "1      미도플러스  2419398300  241940000000.0  2019. 10. 25  2019. 10. 8   \n",
       "2      미도플러스  2419398300  241940000000.0  2019. 10. 26  2019. 10. 8   \n",
       "3      미도플러스  2419398300  241940000000.0  2019. 10. 26  2019. 10. 8   \n",
       "4      미도플러스  2419398300  241940000000.0  2019. 10. 26  2019. 10. 8   \n",
       "...      ...         ...             ...           ...          ...   \n",
       "9230  에코그라운드                                    3.2223                \n",
       "9231  에코그라운드                                    3.2223                \n",
       "9232  에코그라운드                                    3.2223                \n",
       "9233  에코그라운드                                    3.2223                \n",
       "9234  에코그라운드                                    3.2223                \n",
       "\n",
       "           납품기한일자                      납품요구건명       구장명   오더량  ITEM  ...  \\\n",
       "0     2019. 12. 7  승촌게이트볼장 기능보강 공사 관급자재(인조잔디)  승촌게이트 실내   382  MD35  ...   \n",
       "1     2019. 12. 7  승촌게이트볼장 기능보강 공사 관급자재(인조잔디)  승촌게이트 실내   382  MD35  ...   \n",
       "2     2019. 12. 7  승촌게이트볼장 기능보강 공사 관급자재(인조잔디)  승촌게이트 실외   374  MD35  ...   \n",
       "3     2019. 12. 7  승촌게이트볼장 기능보강 공사 관급자재(인조잔디)  승촌게이트 실외   374  MD35  ...   \n",
       "4     2019. 12. 7  승촌게이트볼장 기능보강 공사 관급자재(인조잔디)  승촌게이트 실외   374  MD35  ...   \n",
       "...           ...                         ...       ...   ...   ...  ...   \n",
       "9230                                            구포테니스6면  4482  EG20  ...   \n",
       "9231                                            구포테니스6면  4482  EG20  ...   \n",
       "9232                                            구포테니스6면  4482  EG20  ...   \n",
       "9233                                            구포테니스6면  4482  EG20  ...   \n",
       "9234                                            구포테니스6면  4482  EG20  ...   \n",
       "\n",
       "        제직폭     본수    입고폭               YARN  COLOR 도전사   R/NO   제직량   입고량  비고  \n",
       "0       414  434.0    400  MONO7800.3500 GBR    VGF   O      1  17.4  15.5      \n",
       "1       414  434.0    400  MONO7800.3500 GBR  VGF L      101-1    44  40.0      \n",
       "2       414  434.0    400  MONO7800.3500 GBR  VGF L      101-2    44  40.0  완료  \n",
       "3       414  434.0    400  MONO7800.3500 GBR  VGF L   O  101-1    44  10.0      \n",
       "4       414  434.0    400  MONO7800.3500 GBR  VGF L      101-2    44  10.0      \n",
       "...     ...    ...    ...                ...    ...  ..    ...   ...   ...  ..  \n",
       "9230  408.0  430.0  400.0            13500.0    DGF      103-3  25.0  24.0      \n",
       "9231  408.0  430.0  400.0            13500.0    DGF      103-4  25.0  24.0      \n",
       "9232  408.0  430.0  400.0            13500.0    DGF      103-5  25.0  24.0      \n",
       "9233  408.0  430.0  400.0            13500.0    DGF      103-6  25.0  24.0      \n",
       "9234  408.0  430.0  400.0            13500.0  BROWN          1  52.0  50.0      \n",
       "\n",
       "[9235 rows x 25 columns]"
      ]
     },
     "execution_count": 221,
     "metadata": {},
     "output_type": "execute_result"
    }
   ],
   "source": [
    "# 기존 스프레드시트 및 워크시트 열기\n",
    "WORKSHEET_NAME = 'production_report_원본백업'\n",
    "worksheet_production = spreadsheet_production.worksheet(WORKSHEET_NAME)\n",
    "\n",
    "# 구글 시트에서 데이터 읽기\n",
    "data = worksheet_production.get_all_records()\n",
    "production_df_backup = pd.DataFrame(data)\n",
    "production_df_backup"
   ]
  },
  {
   "cell_type": "code",
   "execution_count": 222,
   "id": "e7e9e768",
   "metadata": {},
   "outputs": [],
   "source": [
    "def convert_date_format(date_str):\n",
    "    if isinstance(date_str, str):\n",
    "        if len(date_str.split('.')) == 3:\n",
    "            # 기존 형식이 '연도. 월. 일' 인 경우\n",
    "            return pd.to_datetime(date_str, format='%Y.%m.%d').strftime('%Y-%m-%d')\n",
    "        elif len(date_str.split('.')) == 2:\n",
    "            # 새 형식이 '월.일' 인 경우, 연도를 올해 연도로 가정\n",
    "            return pd.to_datetime(str(datetime.now().year) + '.' + date_str, format='%Y.%m.%d').strftime('%Y-%m-%d')\n",
    "    return date_str  # 변환할 수 없는 경우 또는 비문자형 데이터인 경우 원본 반환\n",
    "\n",
    "def safe_convert(x):\n",
    "    try:\n",
    "        # 공백이나 NaN 처리\n",
    "        if pd.isna(x) or str(x).strip() == '':\n",
    "            return ''\n",
    "        # float 또는 int 값을 int로 변환 후 str로 변환\n",
    "        return str(int(float(x)))\n",
    "    except (ValueError, TypeError):\n",
    "        return ''\n",
    "\n",
    "# 행의 고유한 ID값 적용\n",
    "def generate_unique_id():\n",
    "    return str(uuid.uuid4())"
   ]
  },
  {
   "cell_type": "code",
   "execution_count": 223,
   "id": "6f45f422",
   "metadata": {},
   "outputs": [],
   "source": [
    "# '생산일자' 컬럼에 변환 함수 적용\n",
    "production_df_backup = production_df_backup.astype({'생산일자':str,'납품요구접수일자':str,'납품기한일자':str})\n",
    "production_df_backup['생산일자'] = production_df_backup['생산일자'].str.split('~').str[0] \n",
    "production_df_backup['생산일자'] = production_df_backup['생산일자'].str.replace('00:00:00','').str.replace(' ','').str.replace('0:00','').str.replace('2024-05-078','2024-05-08').str.replace('3.2223','3.23')\n",
    "production_df_backup['생산일자'] = production_df_backup['생산일자'].apply(convert_date_format)\n",
    "production_df_backup['납품요구접수일자'] = production_df_backup['납품요구접수일자'].str.replace(' ','').str.replace('0:00','')\n",
    "production_df_backup['납품요구접수일자'] = production_df_backup['납품요구접수일자'].apply(convert_date_format)\n",
    "production_df_backup['납품기한일자'] = production_df_backup['납품기한일자'].str.replace(' ','').str.replace('0:00','')\n",
    "production_df_backup['납품기한일자'] = production_df_backup['납품기한일자'].apply(convert_date_format)\n",
    "\n",
    "# 구글시트 업데이트 위해 NaN값 대체\n",
    "production_df_backup = production_df_backup.fillna('')\n",
    "\n",
    "# 계약코드 대체\n",
    "production_df_backup['계약코드'] = np.where(production_df_backup['계약코드']=='',production_df_backup['납품요구번호'],production_df_backup['계약코드']) ## 계약코드 없는것 --> 납품요구번호로 대체\n",
    "production_df_backup['계약코드'] = production_df_backup['계약코드'].astype(str)\n",
    "production_df_backup['계약코드'] = production_df_backup['계약코드'].str.replace('-','')\n",
    "production_df_backup['계약코드'] = production_df_backup['계약코드'].str.replace(' ','')\n",
    "production_df_backup['계약코드'] = production_df_backup['계약코드'].str.replace('미정','')\n",
    "production_df_backup['계약코드'] = production_df_backup['계약코드'].str.replace('사급','')\n",
    "production_df_backup['계약코드'] = production_df_backup['계약코드'].str.replace('無','')\n",
    "production_df_backup['계약코드'] = production_df_backup['계약코드'].str.replace('계약서','')\n",
    "# production_df_backup['계약코드'] =production_df_backup['계약코드'].apply(safe_convert)\n",
    "\n",
    "# 제품 오입력 수정\n",
    "production_df_backup['ITEM'] = production_df_backup['ITEM'].str.replace(',','')\n",
    "\n",
    "# 납품요구건명 수정\n",
    "production_df_backup['납품요구건명'] = production_df_backup['납품요구건명'].apply(lambda x: ' '.join(x.split('\\n')[1].strip().split(' ')[1:]) if '\\n' in x else x) ## 납품요구건명 오정보 수정"
   ]
  },
  {
   "cell_type": "code",
   "execution_count": 224,
   "id": "dee1453d",
   "metadata": {},
   "outputs": [],
   "source": [
    "# 모든 행에 대해 새로운 고유 ID 할당\n",
    "production_df_backup['ID'] = ''\n",
    "production_df_backup['ID'] = production_df_backup['ID'].apply(lambda x: generate_unique_id())"
   ]
  },
  {
   "cell_type": "code",
   "execution_count": 225,
   "id": "97eb1eab",
   "metadata": {},
   "outputs": [],
   "source": [
    "# 계약코드 임의 설정\n",
    "production_df_backup['계약코드'] = np.where(production_df_backup['계약코드']=='', production_df_backup['ID'].str.split('-').str[0], production_df_backup['계약코드'])\n",
    "production_df_backup['계약코드'] = production_df_backup.groupby(['업체명','구장명'])['계약코드'].transform('first')"
   ]
  },
  {
   "cell_type": "code",
   "execution_count": 229,
   "id": "5c105e12",
   "metadata": {},
   "outputs": [],
   "source": [
    "# 최종 데이터셋 정리\n",
    "production_df_backup_final = production_df_backup[[production_df_backup.columns[-1]] + list(production_df_backup.columns[:-1])]"
   ]
  },
  {
   "cell_type": "code",
   "execution_count": 231,
   "id": "699b2a67",
   "metadata": {},
   "outputs": [
    {
     "data": {
      "text/plain": [
       "{'spreadsheetId': '1dl6GyEkzarfgcKSmT9hwYzR63MhcGDox0z-gCa0_7OI',\n",
       " 'updatedRange': 'production_report!A1:Z9236',\n",
       " 'updatedRows': 9236,\n",
       " 'updatedColumns': 26,\n",
       " 'updatedCells': 240136}"
      ]
     },
     "execution_count": 231,
     "metadata": {},
     "output_type": "execute_result"
    }
   ],
   "source": [
    "# 기존 스프레드시트 및 워크시트 열기\n",
    "WORKSHEET_NAME = 'production_report'\n",
    "worksheet_production = spreadsheet_production.worksheet(WORKSHEET_NAME)\n",
    "\n",
    "# 기존 데이터 지우기\n",
    "worksheet_production.clear()\n",
    "\n",
    "# 데이터 프레임을 스프레드 시트에 덮어쓰기\n",
    "worksheet_production.update([production_df_backup_final.columns.values.tolist()] + production_df_backup_final.values.tolist())"
   ]
  },
  {
   "cell_type": "markdown",
   "id": "f779c62f",
   "metadata": {},
   "source": [
    "#### 계약현황"
   ]
  },
  {
   "cell_type": "code",
   "execution_count": 193,
   "id": "b33fdd0f",
   "metadata": {},
   "outputs": [],
   "source": [
    "# 생산일지 -> 계약현황\n",
    "contract_df = production_df_backup_final.copy()"
   ]
  },
  {
   "cell_type": "code",
   "execution_count": 194,
   "id": "c57d3848",
   "metadata": {},
   "outputs": [],
   "source": [
    "# 전처리\n",
    "contract_df = contract_df.drop_duplicates(['납품요구번호','계약코드','납품요구건명','구장명']).reset_index(drop=True) ## 중복제거"
   ]
  },
  {
   "cell_type": "code",
   "execution_count": 195,
   "id": "49f0894e",
   "metadata": {},
   "outputs": [],
   "source": [
    "# 날짜 관련 전처리\n",
    "contract_df['납품기한일자'] = pd.to_datetime(contract_df['납품기한일자'])\n",
    "contract_df['생산일자'] = pd.to_datetime(contract_df['생산일자'])\n",
    "\n",
    "contract_df['납품기한일자'] = np.where(contract_df['납품기한일자'].isnull(), contract_df['생산일자'] + DateOffset(months=3), contract_df['납품기한일자'])\n",
    "## 계약코드별 생산일자부터 납품기한일자까지 평균\n",
    "## 생산일자부터 납품기한일자까지 평균 소요일 : 89.31813637293709일\n",
    "\n",
    "# 현재 날짜 기준으로 진행상황 컬럼 추가\n",
    "current_date = datetime.now()\n",
    "contract_df['납품기한일자'] = pd.to_datetime(contract_df['납품기한일자'])\n",
    "contract_df['진행상황'] = contract_df['납품기한일자'].apply(lambda x: '완료' if x < current_date else '진행중')\n",
    "contract_df['납품기한일자'] = contract_df['납품기한일자'].astype(str)"
   ]
  },
  {
   "cell_type": "code",
   "execution_count": 196,
   "id": "a79d79c3",
   "metadata": {},
   "outputs": [],
   "source": [
    "# 계약현황 데이터셋 생성\n",
    "contract_df_fin = contract_df[['납품요구번호', '계약코드', '납품요구접수일자', '납품기한일자', '납품요구건명', '구장명', '진행상황']] # '견적서', '발주서', '도면'\n",
    "contract_df_fin['견적서'] = None\n",
    "contract_df_fin['발주서'] = None\n",
    "contract_df_fin['도면'] = None"
   ]
  },
  {
   "cell_type": "code",
   "execution_count": 199,
   "id": "0c3f0485",
   "metadata": {},
   "outputs": [],
   "source": [
    "# 스프레드시트 ID (URL에서 확인 가능)\n",
    "contracts_sheet_id = '1YEl1Sw_uKw8URp8_nOfmgxBQWJtuiVJcH9ZYMHszGH0' ## midoplus contracts\n",
    "spreadsheet_contracts = gc.open_by_key(contracts_sheet_id)"
   ]
  },
  {
   "cell_type": "code",
   "execution_count": 200,
   "id": "3f14d30f",
   "metadata": {},
   "outputs": [
    {
     "data": {
      "text/plain": [
       "{'spreadsheetId': '1YEl1Sw_uKw8URp8_nOfmgxBQWJtuiVJcH9ZYMHszGH0',\n",
       " 'updatedRange': 'contracts!A1:J884',\n",
       " 'updatedRows': 884,\n",
       " 'updatedColumns': 10,\n",
       " 'updatedCells': 6191}"
      ]
     },
     "execution_count": 200,
     "metadata": {},
     "output_type": "execute_result"
    }
   ],
   "source": [
    "# 기존 스프레드시트 및 워크시트 열기\n",
    "WORKSHEET_NAME = 'contracts'\n",
    "worksheet_contracts = spreadsheet_contracts.worksheet(WORKSHEET_NAME)\n",
    "\n",
    "# 기존 데이터 지우기\n",
    "worksheet_contracts.clear()\n",
    "\n",
    "# 데이터 프레임을 스프레드 시트에 덮어쓰기\n",
    "worksheet_contracts.update([contract_df_fin.columns.values.tolist()] + contract_df_fin.values.tolist())"
   ]
  }
 ],
 "metadata": {
  "kernelspec": {
   "display_name": "Python 3 (ipykernel)",
   "language": "python",
   "name": "python3"
  },
  "language_info": {
   "codemirror_mode": {
    "name": "ipython",
    "version": 3
   },
   "file_extension": ".py",
   "mimetype": "text/x-python",
   "name": "python",
   "nbconvert_exporter": "python",
   "pygments_lexer": "ipython3",
   "version": "3.8.19"
  }
 },
 "nbformat": 4,
 "nbformat_minor": 5
}
