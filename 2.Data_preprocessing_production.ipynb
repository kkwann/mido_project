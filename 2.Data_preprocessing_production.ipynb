{
 "cells": [
  {
   "cell_type": "code",
   "execution_count": 207,
   "id": "c0d21ceb",
   "metadata": {},
   "outputs": [],
   "source": [
    "import pandas as pd\n",
    "from pandas.tseries.offsets import DateOffset\n",
    "import numpy as np\n",
    "from datetime import datetime, timedelta\n",
    "import time\n",
    "\n",
    "import os\n",
    "import sys\n",
    "\n",
    "from google.cloud import bigquery\n",
    "from google.oauth2 import service_account\n",
    "import gspread\n",
    "from gspread_dataframe import set_with_dataframe\n",
    "from googleapiclient.discovery import build\n",
    "import io\n",
    "from googleapiclient.http import MediaIoBaseDownload\n",
    "\n",
    "import warnings"
   ]
  },
  {
   "cell_type": "code",
   "execution_count": 2,
   "id": "edef5bc1",
   "metadata": {},
   "outputs": [],
   "source": [
    "KEY_PATH = \".config/\"\n",
    "servicekey_path = KEY_PATH + \"serviceKey.json\" ## 빅쿼리 외 다른 API 활용 위해\n",
    "bigquerykey_path = KEY_PATH + \"mido-project-426906-31b49963ac97.json\"\n",
    "sheetskey_path = KEY_PATH + \"mido-project-426906-41a4b6d0e3db.json\"\n",
    "midopluskey_path = KEY_PATH + \"midoplus.json\"\n",
    "\n",
    "warnings.filterwarnings(\"ignore\")"
   ]
  },
  {
   "cell_type": "code",
   "execution_count": 3,
   "id": "9e717214",
   "metadata": {},
   "outputs": [],
   "source": [
    "def get_service_key(servicekey_path):\n",
    "\n",
    "    with open(servicekey_path) as f:\n",
    "        data = json.load(f)\n",
    "    return data"
   ]
  },
  {
   "cell_type": "code",
   "execution_count": 5,
   "id": "84491ec1",
   "metadata": {},
   "outputs": [],
   "source": [
    "# BigQuery 클라이언트 생성 함수\n",
    "def create_bigquery_client(key_path):\n",
    "    credentials = service_account.Credentials.from_service_account_file(key_path)\n",
    "    client = bigquery.Client(credentials=credentials, project=credentials.project_id)\n",
    "    return client"
   ]
  },
  {
   "cell_type": "code",
   "execution_count": 6,
   "id": "f540ac7e",
   "metadata": {},
   "outputs": [
    {
     "data": {
      "text/plain": [
       "<google.cloud.bigquery.client.Client at 0x1938221e340>"
      ]
     },
     "execution_count": 6,
     "metadata": {},
     "output_type": "execute_result"
    }
   ],
   "source": [
    "create_bigquery_client(midopluskey_path)"
   ]
  },
  {
   "cell_type": "code",
   "execution_count": 7,
   "id": "a2febc45",
   "metadata": {},
   "outputs": [],
   "source": [
    "def save_dataframe_to_bigquery(df, dataset_id, table_id, key_path):\n",
    "    # BigQuery 클라이언트 객체 생성\n",
    "    client = create_bigquery_client(key_path)\n",
    "\n",
    "    # 테이블 레퍼런스 생성\n",
    "    table_ref = client.dataset(dataset_id).table(table_id)\n",
    "\n",
    "    # 데이터프레임을 BigQuery 테이블에 적재\n",
    "    job_config = bigquery.LoadJobConfig()\n",
    "    job_config.write_disposition = \"WRITE_TRUNCATE\"  # 기존 테이블 내용 삭제 후 삽입\n",
    "\n",
    "    job = client.load_table_from_dataframe(df, table_ref, job_config=job_config)\n",
    "    job.result()  # 작업 완료 대기\n",
    "\n",
    "    print(f\"Data inserted into table {table_id} successfully.\")"
   ]
  },
  {
   "cell_type": "markdown",
   "id": "eb79cce7",
   "metadata": {},
   "source": [
    "#### 구글 스프레드 시트"
   ]
  },
  {
   "cell_type": "code",
   "execution_count": 16,
   "id": "6ef6706d",
   "metadata": {},
   "outputs": [],
   "source": [
    "# Google Sheets 클라이언트 생성\n",
    "sheets_scope = [\"https://spreadsheets.google.com/feeds\", \"https://www.googleapis.com/auth/spreadsheets\",\n",
    "                \"https://www.googleapis.com/auth/drive.file\", \"https://www.googleapis.com/auth/drive\"]\n",
    "\n",
    "sheets_creds = service_account.Credentials.from_service_account_file(midopluskey_path, scopes=sheets_scope)\n",
    "gc = gspread.authorize(sheets_creds)"
   ]
  },
  {
   "cell_type": "markdown",
   "id": "2abae40c",
   "metadata": {},
   "source": [
    "#### 생산일지 \n",
    "- 원본 생산일지 로드해서 백업용 생성\n",
    "- 원본생산일지 추가해서 --> production_report_백업"
   ]
  },
  {
   "cell_type": "code",
   "execution_count": 11,
   "id": "7c9bc422",
   "metadata": {},
   "outputs": [],
   "source": [
    "doc_path = 'C:/py_src/midoproject/data/production_report/'\n",
    "\n",
    "all_doc_data = []\n",
    "for doc in os.listdir(doc_path):\n",
    "    if 'all_doc_df_final' not in doc:\n",
    "        doc_df = pd.read_excel(doc_path + doc, header=5)\n",
    "\n",
    "        # 불필요데이터 제거\n",
    "        doc_df = doc_df.iloc[:doc_df['R/NO'].last_valid_index()+1]\n",
    "\n",
    "        # 모든 컬럼 NaN 제거\n",
    "        doc_df = doc_df.dropna(how='all')\n",
    "\n",
    "        # 컬럼형식 맞추기\n",
    "        doc_df = doc_df.rename(columns={'날짜':'생산일자', '일자':'생산일자'})\n",
    "        doc_df = doc_df.rename(columns={'제직량 M':'제직량', '입고량 M':'입고량'})\n",
    "\n",
    "        # 일자, 구장명 채우기\n",
    "        # doc_df['계약코드'] = doc_df['계약코드'].ffill()\n",
    "        doc_df['생산일자'] = doc_df['생산일자'].ffill()\n",
    "        doc_df['구장명'] = doc_df['구장명'].ffill()\n",
    "        \n",
    "        # 데이터프레임을 리스트에 추가\n",
    "        all_doc_data.append(doc_df)"
   ]
  },
  {
   "cell_type": "code",
   "execution_count": 12,
   "id": "e9058639",
   "metadata": {},
   "outputs": [],
   "source": [
    "# 리스트의 모든 데이터프레임을 하나로 병합\n",
    "all_doc_df_fin = pd.concat(all_doc_data, ignore_index=True)"
   ]
  },
  {
   "cell_type": "code",
   "execution_count": 13,
   "id": "b971f603",
   "metadata": {},
   "outputs": [],
   "source": [
    "# '일자'부터 'YARN'까지의 컬럼을 '구장명' 기준 첫 행으로 채우기\n",
    "columns_to_fill = ['계약코드','오더량', 'ITEM', 'SPI', 'PH', 'PW', 'T/F TYPE', '기포지', '제직폭', '본수', '입고폭', 'YARN', 'COLOR', '도전사','R/NO']\n",
    "for col in columns_to_fill:\n",
    "    all_doc_df_fin[col] = all_doc_df_fin.groupby(['생산일자','구장명'])[col].transform(lambda x: x.fillna(x.iloc[0]))"
   ]
  },
  {
   "cell_type": "code",
   "execution_count": 14,
   "id": "3c8e25fc",
   "metadata": {},
   "outputs": [],
   "source": [
    "# 제직량, 입고량 없는거 제거\n",
    "all_doc_df_final = all_doc_df_fin[~all_doc_df_fin['제직량'].isnull()].drop_duplicates().reset_index(drop=True)"
   ]
  },
  {
   "cell_type": "code",
   "execution_count": null,
   "id": "cd39157a",
   "metadata": {},
   "outputs": [],
   "source": [
    "# all_doc_df_final.to_csv('C:/py_src/midoproject/data/2024/all_doc_df_final.csv',encoding='utf-8-sig',index=False)\n",
    "## 원본 생산일지 불러와서 전처리 후 통합\n",
    "## 생산일지 백업용 데이터 생성\n",
    "## 스프레드시트 'production_report_백업' 시트에 직접 추가"
   ]
  },
  {
   "cell_type": "markdown",
   "id": "9e00c590",
   "metadata": {},
   "source": [
    "구글스프레드시트 : production_report_백업 -> production_report"
   ]
  },
  {
   "cell_type": "code",
   "execution_count": 141,
   "id": "381e15b5",
   "metadata": {},
   "outputs": [],
   "source": [
    "# 스프레드시트 ID (URL에서 확인 가능)\n",
    "production_sheet_id = '1dl6GyEkzarfgcKSmT9hwYzR63MhcGDox0z-gCa0_7OI' ## midoplus production_report --> 생산일지통합\n",
    "spreadsheet_production = gc.open_by_key(production_sheet_id)\n",
    "\n",
    "# 기존 스프레드시트 및 워크시트 열기\n",
    "WORKSHEET_NAME = 'production_report_백업'\n",
    "worksheet_production = spreadsheet_production.worksheet(WORKSHEET_NAME)\n",
    "\n",
    "# 구글 시트에서 데이터 읽기\n",
    "data = worksheet_production.get_all_records()\n",
    "production_df_backup = pd.DataFrame(data)"
   ]
  },
  {
   "cell_type": "code",
   "execution_count": 142,
   "id": "e7e9e768",
   "metadata": {},
   "outputs": [],
   "source": [
    "def convert_date_format(date_str):\n",
    "    if isinstance(date_str, str):\n",
    "        if len(date_str.split('.')) == 3:\n",
    "            # 기존 형식이 '연도. 월. 일' 인 경우\n",
    "            return pd.to_datetime(date_str, format='%Y.%m.%d').strftime('%Y-%m-%d')\n",
    "        elif len(date_str.split('.')) == 2:\n",
    "            # 새 형식이 '월.일' 인 경우, 연도를 '2024'로 가정\n",
    "            return pd.to_datetime('2024.' + date_str, format='%Y.%m.%d').strftime('%Y-%m-%d')\n",
    "    return date_str  # 변환할 수 없는 경우 또는 비문자형 데이터인 경우 원본 반환"
   ]
  },
  {
   "cell_type": "code",
   "execution_count": 143,
   "id": "6f45f422",
   "metadata": {},
   "outputs": [],
   "source": [
    "# '생산일자' 컬럼에 변환 함수 적용\n",
    "production_df_backup = production_df_backup.astype({'생산일자':str,'납품요구접수일자':str,'납품기한일자':str})\n",
    "production_df_backup['생산일자'] = production_df_backup['생산일자'].str.split('~').str[0] \n",
    "production_df_backup['생산일자'] = production_df_backup['생산일자'].str.replace(' ','').str.replace('0:00','').str.replace('2024-05-078','2024-05-08') \n",
    "production_df_backup['생산일자'] = production_df_backup['생산일자'].apply(convert_date_format)\n",
    "production_df_backup['납품요구접수일자'] = production_df_backup['납품요구접수일자'].str.replace(' ','').str.replace('0:00','')\n",
    "production_df_backup['납품요구접수일자'] = production_df_backup['납품요구접수일자'].apply(convert_date_format)\n",
    "production_df_backup['납품기한일자'] = production_df_backup['납품기한일자'].str.replace(' ','').str.replace('0:00','')\n",
    "production_df_backup['납품기한일자'] = production_df_backup['납품기한일자'].apply(convert_date_format)\n",
    "\n",
    "# 구글시트 업데이트 위해 NaN값 대체\n",
    "production_df_backup = production_df_backup.fillna('')\n",
    "\n",
    "# 계약코드 대체\n",
    "production_df_backup['계약코드'] = np.where(production_df_backup['계약코드']=='',production_df_backup['납품요구번호'],production_df_backup['계약코드']) ## 계약코드 없는것 --> 납품요구번호로 대체\n",
    "production_df_backup['계약코드'] = production_df_backup['계약코드'].astype(str)\n",
    "production_df_backup['계약코드'] = production_df_backup['계약코드'].str.replace('-','')\n",
    "\n",
    "# 제품 오입력 수정\n",
    "production_df_backup['ITEM'] = production_df_backup['ITEM'].str.replace(',','')\n",
    "\n",
    "# 납품요구건명 수정\n",
    "production_df_backup['납품요구건명'] = production_df_backup['납품요구건명'].apply(lambda x: ' '.join(x.split('\\n')[1].strip().split(' ')[1:]) if '\\n' in x else x) ## 납품요구건명 오정보 수정"
   ]
  },
  {
   "cell_type": "code",
   "execution_count": 144,
   "id": "97eb1eab",
   "metadata": {},
   "outputs": [],
   "source": [
    "# 계약코드 임의 설정\n",
    "production_df_backup['계약코드'] = np.where(production_df_backup['계약코드']=='',production_df_backup.index,production_df_backup['계약코드'])\n",
    "production_df_backup['계약코드'] = production_df_backup.groupby('구장명')['계약코드'].transform('first')"
   ]
  },
  {
   "cell_type": "code",
   "execution_count": 145,
   "id": "699b2a67",
   "metadata": {},
   "outputs": [
    {
     "data": {
      "text/plain": [
       "{'spreadsheetId': '1dl6GyEkzarfgcKSmT9hwYzR63MhcGDox0z-gCa0_7OI',\n",
       " 'updatedRange': 'production_report!A1:X9040',\n",
       " 'updatedRows': 9040,\n",
       " 'updatedColumns': 24,\n",
       " 'updatedCells': 216960}"
      ]
     },
     "execution_count": 145,
     "metadata": {},
     "output_type": "execute_result"
    }
   ],
   "source": [
    "# 기존 스프레드시트 및 워크시트 열기\n",
    "WORKSHEET_NAME = 'production_report'\n",
    "worksheet_production = spreadsheet_production.worksheet(WORKSHEET_NAME)\n",
    "\n",
    "# 기존 데이터 지우기\n",
    "worksheet_production.clear()\n",
    "\n",
    "# 데이터 프레임을 스프레드 시트에 덮어쓰기\n",
    "worksheet_production.update([production_df_backup.columns.values.tolist()] + production_df_backup.values.tolist())"
   ]
  },
  {
   "cell_type": "markdown",
   "id": "f779c62f",
   "metadata": {},
   "source": [
    "#### 계약현황"
   ]
  },
  {
   "cell_type": "code",
   "execution_count": 193,
   "id": "b33fdd0f",
   "metadata": {},
   "outputs": [],
   "source": [
    "# 생산일지 -> 계약현황\n",
    "contract_df = production_df_backup.copy()"
   ]
  },
  {
   "cell_type": "code",
   "execution_count": 194,
   "id": "c57d3848",
   "metadata": {},
   "outputs": [],
   "source": [
    "# 전처리\n",
    "contract_df = contract_df.drop_duplicates(['납품요구번호','계약코드','납품요구건명','구장명']).reset_index(drop=True) ## 중복제거"
   ]
  },
  {
   "cell_type": "code",
   "execution_count": 195,
   "id": "49f0894e",
   "metadata": {},
   "outputs": [],
   "source": [
    "# 날짜 관련 전처리\n",
    "contract_df['납품기한일자'] = pd.to_datetime(contract_df['납품기한일자'])\n",
    "contract_df['생산일자'] = pd.to_datetime(contract_df['생산일자'])\n",
    "\n",
    "contract_df['납품기한일자'] = np.where(contract_df['납품기한일자'].isnull(), contract_df['생산일자'] + DateOffset(months=3), contract_df['납품기한일자'])\n",
    "## 계약코드별 생산일자부터 납품기한일자까지 평균\n",
    "## 생산일자부터 납품기한일자까지 평균 소요일 : 89.31813637293709일\n",
    "\n",
    "# 현재 날짜 기준으로 진행상황 컬럼 추가\n",
    "current_date = datetime.now()\n",
    "contract_df['납품기한일자'] = pd.to_datetime(contract_df['납품기한일자'])\n",
    "contract_df['진행상황'] = contract_df['납품기한일자'].apply(lambda x: '완료' if x < current_date else '진행중')\n",
    "contract_df['납품기한일자'] = contract_df['납품기한일자'].astype(str)"
   ]
  },
  {
   "cell_type": "code",
   "execution_count": 196,
   "id": "a79d79c3",
   "metadata": {},
   "outputs": [],
   "source": [
    "# 계약현황 데이터셋 생성\n",
    "contract_df_fin = contract_df[['납품요구번호', '계약코드', '납품요구접수일자', '납품기한일자', '납품요구건명', '구장명', '진행상황']] # '견적서', '발주서', '도면'\n",
    "contract_df_fin['견적서'] = None\n",
    "contract_df_fin['발주서'] = None\n",
    "contract_df_fin['도면'] = None"
   ]
  },
  {
   "cell_type": "code",
   "execution_count": 199,
   "id": "0c3f0485",
   "metadata": {},
   "outputs": [],
   "source": [
    "# 스프레드시트 ID (URL에서 확인 가능)\n",
    "contracts_sheet_id = '1YEl1Sw_uKw8URp8_nOfmgxBQWJtuiVJcH9ZYMHszGH0' ## midoplus contracts\n",
    "spreadsheet_contracts = gc.open_by_key(contracts_sheet_id)"
   ]
  },
  {
   "cell_type": "code",
   "execution_count": 200,
   "id": "3f14d30f",
   "metadata": {},
   "outputs": [
    {
     "data": {
      "text/plain": [
       "{'spreadsheetId': '1YEl1Sw_uKw8URp8_nOfmgxBQWJtuiVJcH9ZYMHszGH0',\n",
       " 'updatedRange': 'contracts!A1:J884',\n",
       " 'updatedRows': 884,\n",
       " 'updatedColumns': 10,\n",
       " 'updatedCells': 6191}"
      ]
     },
     "execution_count": 200,
     "metadata": {},
     "output_type": "execute_result"
    }
   ],
   "source": [
    "# 기존 스프레드시트 및 워크시트 열기\n",
    "WORKSHEET_NAME = 'contracts'\n",
    "worksheet_contracts = spreadsheet_contracts.worksheet(WORKSHEET_NAME)\n",
    "\n",
    "# 기존 데이터 지우기\n",
    "worksheet_contracts.clear()\n",
    "\n",
    "# 데이터 프레임을 스프레드 시트에 덮어쓰기\n",
    "worksheet_contracts.update([contract_df_fin.columns.values.tolist()] + contract_df_fin.values.tolist())"
   ]
  }
 ],
 "metadata": {
  "kernelspec": {
   "display_name": "Python 3 (ipykernel)",
   "language": "python",
   "name": "python3"
  },
  "language_info": {
   "codemirror_mode": {
    "name": "ipython",
    "version": 3
   },
   "file_extension": ".py",
   "mimetype": "text/x-python",
   "name": "python",
   "nbconvert_exporter": "python",
   "pygments_lexer": "ipython3",
   "version": "3.8.19"
  }
 },
 "nbformat": 4,
 "nbformat_minor": 5
}
