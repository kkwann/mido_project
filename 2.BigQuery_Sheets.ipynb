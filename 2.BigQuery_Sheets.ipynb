{
 "cells": [
  {
   "cell_type": "code",
   "execution_count": 1,
   "metadata": {},
   "outputs": [],
   "source": [
    "import pandas as pd\n",
    "import numpy as np\n",
    "from datetime import datetime, timedelta\n",
    "import time\n",
    "\n",
    "import requests\n",
    "from bs4 import BeautifulSoup\n",
    "from urllib.parse import urlparse, parse_qs, urlencode\n",
    "import json\n",
    "import lxml\n",
    "import streamlit as st\n",
    "\n",
    "import matplotlib.pyplot as plt\n",
    "\n",
    "import uuid\n",
    "import os\n",
    "import sys\n",
    "from pathlib import Path\n",
    "\n",
    "import fitz  # PyMuPDF, pdf파일 변환\n",
    "\n",
    "import bcrypt\n",
    "\n",
    "from google.cloud import bigquery\n",
    "from google.oauth2 import service_account\n",
    "import gspread\n",
    "from gspread_dataframe import set_with_dataframe\n",
    "from googleapiclient.discovery import build\n",
    "import io\n",
    "from googleapiclient.http import MediaIoBaseDownload\n",
    "\n",
    "import warnings"
   ]
  },
  {
   "cell_type": "code",
   "execution_count": 2,
   "metadata": {},
   "outputs": [],
   "source": [
    "KEY_PATH = \".config/\"\n",
    "servicekey_path = KEY_PATH + \"serviceKey.json\" ## 빅쿼리 외 다른 API 활용 위해\n",
    "bigquerykey_path = KEY_PATH + \"mido-project-426906-31b49963ac97.json\"\n",
    "sheetskey_path = KEY_PATH + \"mido-project-426906-41a4b6d0e3db.json\"\n",
    "midopluskey_path = KEY_PATH + \"midoplus.json\"\n",
    "\n",
    "warnings.filterwarnings(\"ignore\")"
   ]
  },
  {
   "cell_type": "code",
   "execution_count": 3,
   "metadata": {},
   "outputs": [],
   "source": [
    "def get_service_key(servicekey_path):\n",
    "\n",
    "    with open(servicekey_path) as f:\n",
    "        data = json.load(f)\n",
    "    return data"
   ]
  },
  {
   "cell_type": "code",
   "execution_count": 4,
   "metadata": {},
   "outputs": [],
   "source": [
    "# BigQuery 클라이언트 생성 함수\n",
    "def create_bigquery_client(key_path):\n",
    "    credentials = service_account.Credentials.from_service_account_file(key_path)\n",
    "    client = bigquery.Client(credentials=credentials, project=credentials.project_id)\n",
    "    return client"
   ]
  },
  {
   "cell_type": "code",
   "execution_count": 5,
   "metadata": {},
   "outputs": [],
   "source": [
    "def save_dataframe_to_bigquery(df, dataset_id, table_id, key_path):\n",
    "    # BigQuery 클라이언트 객체 생성\n",
    "    client = create_bigquery_client(key_path)\n",
    "\n",
    "    # 테이블 레퍼런스 생성\n",
    "    table_ref = client.dataset(dataset_id).table(table_id)\n",
    "\n",
    "    # 데이터프레임을 BigQuery 테이블에 적재\n",
    "    job_config = bigquery.LoadJobConfig()\n",
    "    job_config.write_disposition = \"WRITE_TRUNCATE\"  # 기존 테이블 내용 삭제 후 삽입\n",
    "\n",
    "    job = client.load_table_from_dataframe(df, table_ref, job_config=job_config)\n",
    "    job.result()  # 작업 완료 대기\n",
    "\n",
    "    print(f\"Data inserted into table {table_id} successfully.\")"
   ]
  },
  {
   "cell_type": "code",
   "execution_count": 6,
   "metadata": {},
   "outputs": [],
   "source": [
    "def get_dataframe_from_bigquery(dataset_id, table_id, key_path):\n",
    "    # BigQuery 클라이언트 생성\n",
    "    client = create_bigquery_client(key_path)\n",
    "\n",
    "    # 테이블 레퍼런스 생성\n",
    "    table_ref = client.dataset(dataset_id).table(table_id)\n",
    "\n",
    "    # 테이블 데이터를 DataFrame으로 변환\n",
    "    df = client.list_rows(table_ref).to_dataframe()\n",
    "\n",
    "    return df"
   ]
  },
  {
   "cell_type": "code",
   "execution_count": 7,
   "metadata": {},
   "outputs": [],
   "source": [
    "# 비밀번호 생성 및 해싱 함수\n",
    "def generate_hashed_password(phone_number):\n",
    "    \n",
    "    # 전화번호의 뒷자리 4자리로 비밀번호 생성\n",
    "    password = phone_number[-4:]\n",
    "    \n",
    "    # # 비밀번호 해싱\n",
    "    # password = bcrypt.hashpw(password.encode('utf-8'), bcrypt.gensalt())\n",
    "    return password"
   ]
  },
  {
   "cell_type": "markdown",
   "metadata": {},
   "source": [
    "### 빅쿼리"
   ]
  },
  {
   "cell_type": "code",
   "execution_count": 8,
   "metadata": {},
   "outputs": [],
   "source": [
    "shopping_df = get_dataframe_from_bigquery('DATA_WAREHOUSE', 'g2b_data', midopluskey_path)\n",
    "shopping_df_fin = shopping_df.drop('collection_Date',axis=1)\n",
    "\n",
    "shopping_prod_df = get_dataframe_from_bigquery('DATA_MARTS', 'g2b_prod_data', midopluskey_path)\n",
    "shopping_prod_df_fin = shopping_prod_df.fillna('')\n",
    "\n",
    "news_df = get_dataframe_from_bigquery('DATA_MARTS', 'news_data', midopluskey_path)\n",
    "news_df_fin = news_df.drop('collection_Date',axis=1)\n",
    "\n",
    "budget_df = get_dataframe_from_bigquery('DATA_MARTS', 'list_up_budget_data_final', midopluskey_path)\n",
    "budget_df_final = budget_df.sort_values(['지역명','자치단체명']).reset_index(drop=True)\n",
    "\n",
    "edu_budget_df_final = get_dataframe_from_bigquery('DATA_MARTS','listup_edu_budget_data_final',midopluskey_path)\n",
    "edu_budget_df_final = edu_budget_df_final.sort_values(['시도','시군구']).reset_index(drop=True)\n",
    "\n",
    "budget_link_df = get_dataframe_from_bigquery('RAW_DATA', 'budget_link', midopluskey_path)\n",
    "budget_link_df = budget_link_df.drop('collection_Date',axis=1)\n",
    "\n",
    "budget_add_df_final = get_dataframe_from_bigquery('DATA_MARTS','budget_add_df_final',midopluskey_path)\n",
    "budget_add_df_final = budget_add_df_final.sort_values(['지역명','자치단체명']).reset_index(drop=True)"
   ]
  },
  {
   "cell_type": "markdown",
   "metadata": {},
   "source": [
    "### 구글 스프레드 시트"
   ]
  },
  {
   "cell_type": "code",
   "execution_count": 9,
   "metadata": {},
   "outputs": [],
   "source": [
    "# Google Sheets 클라이언트 생성\n",
    "sheets_scope = [\"https://spreadsheets.google.com/feeds\", \"https://www.googleapis.com/auth/spreadsheets\",\n",
    "                \"https://www.googleapis.com/auth/drive.file\", \"https://www.googleapis.com/auth/drive\"]\n",
    "\n",
    "sheets_creds = service_account.Credentials.from_service_account_file(midopluskey_path, scopes=sheets_scope)\n",
    "gc = gspread.authorize(sheets_creds)"
   ]
  },
  {
   "cell_type": "markdown",
   "metadata": {},
   "source": [
    "### 지자체 교육청 예산 현황"
   ]
  },
  {
   "cell_type": "code",
   "execution_count": 10,
   "metadata": {},
   "outputs": [],
   "source": [
    "# 스프레드시트 ID (URL에서 확인 가능)\n",
    "business_sheet_id = '166xdkZYI-SDNwdEiI6-Kt-p1wsTwFTAYAVfuCiFly0E' ## 미도플러스 사업현황"
   ]
  },
  {
   "cell_type": "code",
   "execution_count": 11,
   "metadata": {},
   "outputs": [
    {
     "data": {
      "text/plain": [
       "{'spreadsheetId': '166xdkZYI-SDNwdEiI6-Kt-p1wsTwFTAYAVfuCiFly0E',\n",
       " 'updatedRange': \"'지자체'!A1:M2407\",\n",
       " 'updatedRows': 2407,\n",
       " 'updatedColumns': 13,\n",
       " 'updatedCells': 31291}"
      ]
     },
     "execution_count": 11,
     "metadata": {},
     "output_type": "execute_result"
    }
   ],
   "source": [
    "# 기존 스프레드시트 및 워크시트 열기\n",
    "WORKSHEET_NAME = '지자체'\n",
    "spreadsheet_business = gc.open_by_key(business_sheet_id)\n",
    "worksheet_business = spreadsheet_business.worksheet(WORKSHEET_NAME)\n",
    "\n",
    "# 기존 데이터 지우기\n",
    "worksheet_business.clear()\n",
    "\n",
    "\n",
    "# 데이터 프레임을 스프레드 시트에 덮어쓰기\n",
    "worksheet_business.update([budget_df_final.columns.values.tolist()] + budget_df_final.values.tolist())\n",
    "\n",
    "# # 구글 시트에서 데이터 읽기\n",
    "# data = worksheet_business.get_all_records()\n",
    "# pd.DataFrame(data)"
   ]
  },
  {
   "cell_type": "code",
   "execution_count": 20,
   "metadata": {},
   "outputs": [
    {
     "data": {
      "text/plain": [
       "{'spreadsheetId': '166xdkZYI-SDNwdEiI6-Kt-p1wsTwFTAYAVfuCiFly0E',\n",
       " 'updatedRange': \"'추경'!A1:O463\",\n",
       " 'updatedRows': 463,\n",
       " 'updatedColumns': 15,\n",
       " 'updatedCells': 6945}"
      ]
     },
     "execution_count": 20,
     "metadata": {},
     "output_type": "execute_result"
    }
   ],
   "source": [
    "# 기존 스프레드시트 및 워크시트 열기\n",
    "WORKSHEET_NAME = '추경'\n",
    "spreadsheet_business = gc.open_by_key(business_sheet_id)\n",
    "worksheet_business = spreadsheet_business.worksheet(WORKSHEET_NAME)\n",
    "\n",
    "# 구글 시트에서 데이터 읽기\n",
    "data = worksheet_business.get_all_records()\n",
    "budget_add_df = pd.DataFrame(data)\n",
    "\n",
    "# 뉴스 추경 데이터 추출\n",
    "news_add_df = budget_add_df[budget_add_df['확인']=='News'].reset_index(drop=True)\n",
    "\n",
    "# 뉴스 추경 통합\n",
    "budget_add_df_final = pd.concat([news_add_df,budget_add_df_final], axis=0).reset_index(drop=True)\n",
    "\n",
    "# 기존 데이터 지우기\n",
    "worksheet_business.clear()\n",
    "\n",
    "# 데이터 프레임을 스프레드 시트에 덮어쓰기\n",
    "worksheet_business.update([budget_add_df_final.columns.values.tolist()] + budget_add_df_final.values.tolist())\n",
    "\n",
    "# # 구글 시트에서 데이터 읽기\n",
    "# data = worksheet_business.get_all_records()\n",
    "# pd.DataFrame(data)"
   ]
  },
  {
   "cell_type": "code",
   "execution_count": 21,
   "metadata": {},
   "outputs": [
    {
     "data": {
      "text/plain": [
       "{'spreadsheetId': '166xdkZYI-SDNwdEiI6-Kt-p1wsTwFTAYAVfuCiFly0E',\n",
       " 'updatedRange': \"'지자체링크'!A1:C244\",\n",
       " 'updatedRows': 244,\n",
       " 'updatedColumns': 3,\n",
       " 'updatedCells': 732}"
      ]
     },
     "execution_count": 21,
     "metadata": {},
     "output_type": "execute_result"
    }
   ],
   "source": [
    "# 기존 스프레드시트 및 워크시트 열기\n",
    "WORKSHEET_NAME = '지자체링크'\n",
    "spreadsheet_business = gc.open_by_key(business_sheet_id)\n",
    "worksheet_business = spreadsheet_business.worksheet(WORKSHEET_NAME)\n",
    "\n",
    "# 기존 데이터 지우기\n",
    "worksheet_business.clear()\n",
    "\n",
    "\n",
    "# 데이터 프레임을 스프레드 시트에 덮어쓰기\n",
    "worksheet_business.update([budget_link_df.columns.values.tolist()] + budget_link_df.values.tolist())\n",
    "\n",
    "# # 구글 시트에서 데이터 읽기\n",
    "# data = worksheet_business.get_all_records()\n",
    "# pd.DataFrame(data)"
   ]
  },
  {
   "cell_type": "code",
   "execution_count": 22,
   "metadata": {},
   "outputs": [
    {
     "data": {
      "text/plain": [
       "{'spreadsheetId': '166xdkZYI-SDNwdEiI6-Kt-p1wsTwFTAYAVfuCiFly0E',\n",
       " 'updatedRange': \"'교육청'!A1:H154\",\n",
       " 'updatedRows': 154,\n",
       " 'updatedColumns': 8,\n",
       " 'updatedCells': 1232}"
      ]
     },
     "execution_count": 22,
     "metadata": {},
     "output_type": "execute_result"
    }
   ],
   "source": [
    "# 기존 스프레드시트 및 워크시트 열기\n",
    "WORKSHEET_NAME = '교육청'\n",
    "spreadsheet_edu = gc.open_by_key(business_sheet_id)\n",
    "worksheet_edu = spreadsheet_edu.worksheet(WORKSHEET_NAME)\n",
    "\n",
    "# 기존 데이터 지우기\n",
    "worksheet_edu.clear()\n",
    "\n",
    "\n",
    "# 데이터 프레임을 스프레드 시트에 덮어쓰기\n",
    "worksheet_edu.update([edu_budget_df_final.columns.values.tolist()] + edu_budget_df_final.values.tolist())\n",
    "\n",
    "# # 구글 시트에서 데이터 읽기\n",
    "# data = worksheet_edu.get_all_records()\n",
    "# pd.DataFrame(data)"
   ]
  },
  {
   "cell_type": "code",
   "execution_count": 23,
   "metadata": {},
   "outputs": [],
   "source": [
    "# # 새로운 시트 생성\n",
    "# budget_df = pd.DataFrame(data)\n",
    "# new_sheet_name = '지자체백업'\n",
    "# new_sheet = spreadsheet_business.add_worksheet(title=new_sheet_name, rows=len(budget_df), cols=len(budget_df.columns))\n",
    "\n",
    "# set_with_dataframe(new_sheet, budget_df)"
   ]
  },
  {
   "cell_type": "code",
   "execution_count": 24,
   "metadata": {},
   "outputs": [],
   "source": [
    "# # 데이터프레임을 기존 워크시트에 업로드\n",
    "# budget_df = pd.DataFrame(data)\n",
    "# set_with_dataframe(worksheet, budget_df)"
   ]
  },
  {
   "cell_type": "markdown",
   "metadata": {},
   "source": [
    "### 종합쇼핑몰 납품 상세"
   ]
  },
  {
   "cell_type": "code",
   "execution_count": 25,
   "metadata": {},
   "outputs": [],
   "source": [
    "# 스프레드시트 ID (URL에서 확인 가능)\n",
    "shopping_sheet_id = '16vld1WTJwsrWPD_kFcUX1LJb-9WAtY2gnPFG5nGEqZ0' ## 미도플러스 종합쇼핑몰 현황\n",
    "spreadsheet_shopping = gc.open_by_key(shopping_sheet_id)"
   ]
  },
  {
   "cell_type": "markdown",
   "metadata": {},
   "source": [
    "#### 전국 기준"
   ]
  },
  {
   "cell_type": "code",
   "execution_count": 26,
   "metadata": {},
   "outputs": [
    {
     "data": {
      "text/plain": [
       "{'spreadsheetId': '16vld1WTJwsrWPD_kFcUX1LJb-9WAtY2gnPFG5nGEqZ0',\n",
       " 'updatedRange': \"'납품현황'!A1:AL14555\",\n",
       " 'updatedRows': 14555,\n",
       " 'updatedColumns': 38,\n",
       " 'updatedCells': 553090}"
      ]
     },
     "execution_count": 26,
     "metadata": {},
     "output_type": "execute_result"
    }
   ],
   "source": [
    "# 기존 스프레드시트 및 워크시트 열기\n",
    "WORKSHEET_NAME = '납품현황'\n",
    "worksheet_shopping = spreadsheet_shopping.worksheet(WORKSHEET_NAME)\n",
    "\n",
    "# 기존 데이터 지우기\n",
    "worksheet_shopping.clear()\n",
    "\n",
    "# 데이터 프레임을 스프레드 시트에 덮어쓰기\n",
    "worksheet_shopping.update([shopping_df_fin.columns.values.tolist()] + shopping_df_fin.values.tolist())"
   ]
  },
  {
   "cell_type": "markdown",
   "metadata": {},
   "source": [
    "#### 미도플러스, 에코 기준"
   ]
  },
  {
   "cell_type": "code",
   "execution_count": 27,
   "metadata": {},
   "outputs": [],
   "source": [
    "shopping_df_fin_mido = shopping_df_fin[shopping_df_fin['업체명'].str.contains('에코그라운드|미도플러스')].drop_duplicates().reset_index(drop=True)"
   ]
  },
  {
   "cell_type": "code",
   "execution_count": 28,
   "metadata": {},
   "outputs": [
    {
     "data": {
      "text/plain": [
       "{'spreadsheetId': '16vld1WTJwsrWPD_kFcUX1LJb-9WAtY2gnPFG5nGEqZ0',\n",
       " 'updatedRange': \"'납품현황_미도'!A1:AL1119\",\n",
       " 'updatedRows': 1119,\n",
       " 'updatedColumns': 38,\n",
       " 'updatedCells': 42522}"
      ]
     },
     "execution_count": 28,
     "metadata": {},
     "output_type": "execute_result"
    }
   ],
   "source": [
    "# 기존 스프레드시트 및 워크시트 열기\n",
    "WORKSHEET_NAME = '납품현황_미도'\n",
    "worksheet_shopping = spreadsheet_shopping.worksheet(WORKSHEET_NAME)\n",
    "\n",
    "# 기존 데이터 지우기\n",
    "worksheet_shopping.clear()\n",
    "\n",
    "# 데이터 프레임을 스프레드 시트에 덮어쓰기\n",
    "worksheet_shopping.update([shopping_df_fin_mido.columns.values.tolist()] + shopping_df_fin_mido.values.tolist())"
   ]
  },
  {
   "cell_type": "markdown",
   "metadata": {},
   "source": [
    "### 종합쇼핑몰 품목 정보"
   ]
  },
  {
   "cell_type": "code",
   "execution_count": 29,
   "metadata": {},
   "outputs": [],
   "source": [
    "# 스프레드시트 ID (URL에서 확인 가능)\n",
    "shopping_sheet_id = '16vld1WTJwsrWPD_kFcUX1LJb-9WAtY2gnPFG5nGEqZ0' ## 미도플러스 종합쇼핑몰 현황\n",
    "spreadsheet_shopping = gc.open_by_key(shopping_sheet_id)"
   ]
  },
  {
   "cell_type": "code",
   "execution_count": 30,
   "metadata": {},
   "outputs": [
    {
     "data": {
      "text/plain": [
       "{'spreadsheetId': '16vld1WTJwsrWPD_kFcUX1LJb-9WAtY2gnPFG5nGEqZ0',\n",
       " 'updatedRange': \"'품목정보'!A1:AH614\",\n",
       " 'updatedRows': 614,\n",
       " 'updatedColumns': 34,\n",
       " 'updatedCells': 20876}"
      ]
     },
     "execution_count": 30,
     "metadata": {},
     "output_type": "execute_result"
    }
   ],
   "source": [
    "# 기존 스프레드시트 및 워크시트 열기\n",
    "WORKSHEET_NAME = '품목정보'\n",
    "worksheet_shopping_prod = spreadsheet_shopping.worksheet(WORKSHEET_NAME)\n",
    "\n",
    "# 기존 데이터 지우기\n",
    "worksheet_shopping_prod.clear()\n",
    "\n",
    "# 데이터 프레임을 스프레드 시트에 덮어쓰기\n",
    "worksheet_shopping_prod.update([shopping_prod_df_fin.columns.values.tolist()] + shopping_prod_df_fin.values.tolist())"
   ]
  },
  {
   "cell_type": "code",
   "execution_count": 31,
   "metadata": {},
   "outputs": [],
   "source": [
    "# # 데이터프레임을 기존 워크시트에 업로드\n",
    "# budget_df = pd.DataFrame(data)\n",
    "# set_with_dataframe(worksheet, budget_df)"
   ]
  },
  {
   "cell_type": "markdown",
   "metadata": {},
   "source": [
    "### 뉴스스크랩"
   ]
  },
  {
   "cell_type": "code",
   "execution_count": 32,
   "metadata": {},
   "outputs": [],
   "source": [
    "# 스프레드시트 ID (URL에서 확인 가능)\n",
    "news_sheet_id = '1BnbDPv79Y44RpbMmZA2wFiFlM3mNN5xPtyOXFW0ABBk' ## midoplus news\n",
    "spreadsheet_news = gc.open_by_key(news_sheet_id)"
   ]
  },
  {
   "cell_type": "code",
   "execution_count": 33,
   "metadata": {},
   "outputs": [
    {
     "data": {
      "text/plain": [
       "{'spreadsheetId': '1BnbDPv79Y44RpbMmZA2wFiFlM3mNN5xPtyOXFW0ABBk',\n",
       " 'updatedRange': 'news!A1:D116',\n",
       " 'updatedRows': 116,\n",
       " 'updatedColumns': 4,\n",
       " 'updatedCells': 464}"
      ]
     },
     "execution_count": 33,
     "metadata": {},
     "output_type": "execute_result"
    }
   ],
   "source": [
    "# 기존 스프레드시트 및 워크시트 열기\n",
    "WORKSHEET_NAME = 'news'\n",
    "worksheet_news = spreadsheet_news.worksheet(WORKSHEET_NAME)\n",
    "\n",
    "# 기존 데이터 지우기\n",
    "worksheet_news.clear()\n",
    "\n",
    "# 데이터 프레임을 스프레드 시트에 덮어쓰기\n",
    "worksheet_news.update([news_df_fin.columns.values.tolist()] + news_df_fin.values.tolist())"
   ]
  },
  {
   "cell_type": "markdown",
   "metadata": {},
   "source": [
    "### 생산일지\n",
    "- Cloud Functions 함수"
   ]
  },
  {
   "cell_type": "markdown",
   "metadata": {},
   "source": [
    "#### 생산일지 업로드 로그"
   ]
  },
  {
   "cell_type": "code",
   "execution_count": 48,
   "metadata": {},
   "outputs": [],
   "source": [
    "# 스프레드시트 ID (URL에서 확인 가능)\n",
    "upload_sheet_id = '1sTpLxbmOdpGwSQDbvg02Eh1gxjVwSfI5PtMQ9sr-XmM' ## 계약관리, 생산일지 업로드\n",
    "spreadsheet_upload = gc.open_by_key(upload_sheet_id)"
   ]
  },
  {
   "cell_type": "code",
   "execution_count": 49,
   "metadata": {},
   "outputs": [
    {
     "data": {
      "text/html": [
       "<div>\n",
       "<style scoped>\n",
       "    .dataframe tbody tr th:only-of-type {\n",
       "        vertical-align: middle;\n",
       "    }\n",
       "\n",
       "    .dataframe tbody tr th {\n",
       "        vertical-align: top;\n",
       "    }\n",
       "\n",
       "    .dataframe thead th {\n",
       "        text-align: right;\n",
       "    }\n",
       "</style>\n",
       "<table border=\"1\" class=\"dataframe\">\n",
       "  <thead>\n",
       "    <tr style=\"text-align: right;\">\n",
       "      <th></th>\n",
       "      <th>업체명</th>\n",
       "      <th>File Upload</th>\n",
       "      <th>업로드날짜</th>\n",
       "    </tr>\n",
       "  </thead>\n",
       "  <tbody>\n",
       "    <tr>\n",
       "      <th>0</th>\n",
       "      <td>미도플러스</td>\n",
       "      <td>upload_log_production_Files_/202408081ff00.Fil...</td>\n",
       "      <td>2024-09-04</td>\n",
       "    </tr>\n",
       "  </tbody>\n",
       "</table>\n",
       "</div>"
      ],
      "text/plain": [
       "     업체명                                        File Upload       업로드날짜\n",
       "0  미도플러스  upload_log_production_Files_/202408081ff00.Fil...  2024-09-04"
      ]
     },
     "execution_count": 49,
     "metadata": {},
     "output_type": "execute_result"
    }
   ],
   "source": [
    "# 기존 스프레드시트 및 워크시트 열기\n",
    "WORKSHEET_NAME = 'upload_log'\n",
    "worksheet_upload = spreadsheet_upload.worksheet(WORKSHEET_NAME)\n",
    "\n",
    "# 구글 시트에서 데이터 읽기\n",
    "data = worksheet_upload.get_all_records()\n",
    "upload_log_df = pd.DataFrame(data)\n",
    "upload_log_df"
   ]
  },
  {
   "cell_type": "code",
   "execution_count": 50,
   "metadata": {},
   "outputs": [
    {
     "data": {
      "text/html": [
       "<div>\n",
       "<style scoped>\n",
       "    .dataframe tbody tr th:only-of-type {\n",
       "        vertical-align: middle;\n",
       "    }\n",
       "\n",
       "    .dataframe tbody tr th {\n",
       "        vertical-align: top;\n",
       "    }\n",
       "\n",
       "    .dataframe thead th {\n",
       "        text-align: right;\n",
       "    }\n",
       "</style>\n",
       "<table border=\"1\" class=\"dataframe\">\n",
       "  <thead>\n",
       "    <tr style=\"text-align: right;\">\n",
       "      <th></th>\n",
       "      <th>mimeType</th>\n",
       "      <th>id</th>\n",
       "      <th>name</th>\n",
       "      <th>createdTime</th>\n",
       "      <th>modifiedTime</th>\n",
       "    </tr>\n",
       "  </thead>\n",
       "  <tbody>\n",
       "    <tr>\n",
       "      <th>0</th>\n",
       "      <td>application/vnd.openxmlformats-officedocument....</td>\n",
       "      <td>1iCFnpDS4tvtVhMz8X8Dga36ix00ROTRE</td>\n",
       "      <td>202408081ff00.File Upload.012200.xlsx</td>\n",
       "      <td>2024-09-04T01:22:00.823Z</td>\n",
       "      <td>2024-09-04T01:22:07.645Z</td>\n",
       "    </tr>\n",
       "  </tbody>\n",
       "</table>\n",
       "</div>"
      ],
      "text/plain": [
       "                                            mimeType  \\\n",
       "0  application/vnd.openxmlformats-officedocument....   \n",
       "\n",
       "                                  id                                   name  \\\n",
       "0  1iCFnpDS4tvtVhMz8X8Dga36ix00ROTRE  202408081ff00.File Upload.012200.xlsx   \n",
       "\n",
       "                createdTime              modifiedTime  \n",
       "0  2024-09-04T01:22:00.823Z  2024-09-04T01:22:07.645Z  "
      ]
     },
     "execution_count": 50,
     "metadata": {},
     "output_type": "execute_result"
    }
   ],
   "source": [
    "# 폴더 내 파일리스트 확인\n",
    "# 특정 폴더 ID\n",
    "folder_id = '1JdzxjnumAqkWaVEDNPTjiqdvrtQCBuaK' ## 'upload_log_Files_' 폴더id\n",
    "\n",
    "# Google Drive API 클라이언트 생성\n",
    "drive_service = build('drive', 'v3', credentials=sheets_creds)\n",
    "\n",
    "# 폴더 내의 모든 파일 리스트 가져오기\n",
    "results = drive_service.files().list(\n",
    "    q=f\"'{folder_id}' in parents\",\n",
    "    spaces='drive',\n",
    "    fields=\"nextPageToken, files(id, name, mimeType, createdTime, modifiedTime)\",\n",
    "    # pageSize=100  # 한 번에 최대 100개의 파일을 가져옵니다.\n",
    ").execute()\n",
    "\n",
    "items = results.get('files', [])\n",
    "\n",
    "# if not items:\n",
    "#     print('No files found.')\n",
    "# else:\n",
    "#     print(f\"Files in folder '{folder_id}':\")\n",
    "#     for item in items:\n",
    "#         print(f\"File Name: {item['name']}, File ID: {item['id']}, Created Time: {item['createdTime']}, Modified Time: {item['modifiedTime']}\")\n",
    "\n",
    "upload_file_df = pd.DataFrame(items)\n",
    "upload_file_df"
   ]
  },
  {
   "cell_type": "markdown",
   "metadata": {},
   "source": [
    "#### 업로드 생산일지 업데이트"
   ]
  },
  {
   "cell_type": "code",
   "execution_count": 51,
   "metadata": {},
   "outputs": [
    {
     "name": "stdout",
     "output_type": "stream",
     "text": [
      "Download 100% complete.\n"
     ]
    }
   ],
   "source": [
    "# 최근 업로드된 파일 불러오기\n",
    "recent_upload_nm = upload_log_df.iloc[-1]['File Upload'].split('/')[1]\n",
    "file_id = upload_file_df[upload_file_df['name']==recent_upload_nm]['id'].iloc[0] ## 가장 최근 업로드한 파일 id\n",
    "\n",
    "# 파일 다운로드\n",
    "request = drive_service.files().get_media(fileId=file_id)\n",
    "fh = io.BytesIO()\n",
    "downloader = MediaIoBaseDownload(fh, request)\n",
    "done = False\n",
    "\n",
    "while not done:\n",
    "    status, done = downloader.next_chunk()\n",
    "    print(f\"Download {int(status.progress() * 100)}% complete.\")\n",
    "\n",
    "# 메모리에서 파일 읽기\n",
    "fh.seek(0)\n",
    "upload_df = pd.read_excel(fh,header=5) ## 업로드된 생산일지 원본"
   ]
  },
  {
   "cell_type": "code",
   "execution_count": 30,
   "metadata": {},
   "outputs": [
    {
     "ename": "OverflowError",
     "evalue": "cannot convert float infinity to integer",
     "output_type": "error",
     "traceback": [
      "\u001b[1;31m---------------------------------------------------------------------------\u001b[0m",
      "\u001b[1;31mOverflowError\u001b[0m                             Traceback (most recent call last)",
      "Cell \u001b[1;32mIn[30], line 92\u001b[0m\n\u001b[0;32m     90\u001b[0m production_df_fin[\u001b[38;5;124m'\u001b[39m\u001b[38;5;124m계약코드\u001b[39m\u001b[38;5;124m'\u001b[39m] \u001b[38;5;241m=\u001b[39m production_df_fin[\u001b[38;5;124m'\u001b[39m\u001b[38;5;124m계약코드\u001b[39m\u001b[38;5;124m'\u001b[39m]\u001b[38;5;241m.\u001b[39mstr\u001b[38;5;241m.\u001b[39mreplace(\u001b[38;5;124m'\u001b[39m\u001b[38;5;124m無\u001b[39m\u001b[38;5;124m'\u001b[39m,\u001b[38;5;124m'\u001b[39m\u001b[38;5;124m'\u001b[39m)\n\u001b[0;32m     91\u001b[0m production_df_fin[\u001b[38;5;124m'\u001b[39m\u001b[38;5;124m계약코드\u001b[39m\u001b[38;5;124m'\u001b[39m] \u001b[38;5;241m=\u001b[39m production_df_fin[\u001b[38;5;124m'\u001b[39m\u001b[38;5;124m계약코드\u001b[39m\u001b[38;5;124m'\u001b[39m]\u001b[38;5;241m.\u001b[39mstr\u001b[38;5;241m.\u001b[39mreplace(\u001b[38;5;124m'\u001b[39m\u001b[38;5;124m계약서\u001b[39m\u001b[38;5;124m'\u001b[39m,\u001b[38;5;124m'\u001b[39m\u001b[38;5;124m'\u001b[39m)\n\u001b[1;32m---> 92\u001b[0m production_df_fin[\u001b[38;5;124m'\u001b[39m\u001b[38;5;124m계약코드\u001b[39m\u001b[38;5;124m'\u001b[39m] \u001b[38;5;241m=\u001b[39m\u001b[43mproduction_df_fin\u001b[49m\u001b[43m[\u001b[49m\u001b[38;5;124;43m'\u001b[39;49m\u001b[38;5;124;43m계약코드\u001b[39;49m\u001b[38;5;124;43m'\u001b[39;49m\u001b[43m]\u001b[49m\u001b[38;5;241;43m.\u001b[39;49m\u001b[43mapply\u001b[49m\u001b[43m(\u001b[49m\u001b[43msafe_convert\u001b[49m\u001b[43m)\u001b[49m\n\u001b[0;32m     94\u001b[0m \u001b[38;5;66;03m# 제품 오입력 수정\u001b[39;00m\n\u001b[0;32m     95\u001b[0m production_df_fin[\u001b[38;5;124m'\u001b[39m\u001b[38;5;124mITEM\u001b[39m\u001b[38;5;124m'\u001b[39m] \u001b[38;5;241m=\u001b[39m production_df_fin[\u001b[38;5;124m'\u001b[39m\u001b[38;5;124mITEM\u001b[39m\u001b[38;5;124m'\u001b[39m]\u001b[38;5;241m.\u001b[39mstr\u001b[38;5;241m.\u001b[39mreplace(\u001b[38;5;124m'\u001b[39m\u001b[38;5;124m,\u001b[39m\u001b[38;5;124m'\u001b[39m,\u001b[38;5;124m'\u001b[39m\u001b[38;5;124m'\u001b[39m)\n",
      "File \u001b[1;32mc:\\Users\\kkims\\anaconda3\\envs\\mido_venv\\lib\\site-packages\\pandas\\core\\series.py:4630\u001b[0m, in \u001b[0;36mSeries.apply\u001b[1;34m(self, func, convert_dtype, args, **kwargs)\u001b[0m\n\u001b[0;32m   4520\u001b[0m \u001b[38;5;28;01mdef\u001b[39;00m \u001b[38;5;21mapply\u001b[39m(\n\u001b[0;32m   4521\u001b[0m     \u001b[38;5;28mself\u001b[39m,\n\u001b[0;32m   4522\u001b[0m     func: AggFuncType,\n\u001b[1;32m   (...)\u001b[0m\n\u001b[0;32m   4525\u001b[0m     \u001b[38;5;241m*\u001b[39m\u001b[38;5;241m*\u001b[39mkwargs,\n\u001b[0;32m   4526\u001b[0m ) \u001b[38;5;241m-\u001b[39m\u001b[38;5;241m>\u001b[39m DataFrame \u001b[38;5;241m|\u001b[39m Series:\n\u001b[0;32m   4527\u001b[0m \u001b[38;5;250m    \u001b[39m\u001b[38;5;124;03m\"\"\"\u001b[39;00m\n\u001b[0;32m   4528\u001b[0m \u001b[38;5;124;03m    Invoke function on values of Series.\u001b[39;00m\n\u001b[0;32m   4529\u001b[0m \n\u001b[1;32m   (...)\u001b[0m\n\u001b[0;32m   4628\u001b[0m \u001b[38;5;124;03m    dtype: float64\u001b[39;00m\n\u001b[0;32m   4629\u001b[0m \u001b[38;5;124;03m    \"\"\"\u001b[39;00m\n\u001b[1;32m-> 4630\u001b[0m     \u001b[38;5;28;01mreturn\u001b[39;00m \u001b[43mSeriesApply\u001b[49m\u001b[43m(\u001b[49m\u001b[38;5;28;43mself\u001b[39;49m\u001b[43m,\u001b[49m\u001b[43m \u001b[49m\u001b[43mfunc\u001b[49m\u001b[43m,\u001b[49m\u001b[43m \u001b[49m\u001b[43mconvert_dtype\u001b[49m\u001b[43m,\u001b[49m\u001b[43m \u001b[49m\u001b[43margs\u001b[49m\u001b[43m,\u001b[49m\u001b[43m \u001b[49m\u001b[43mkwargs\u001b[49m\u001b[43m)\u001b[49m\u001b[38;5;241;43m.\u001b[39;49m\u001b[43mapply\u001b[49m\u001b[43m(\u001b[49m\u001b[43m)\u001b[49m\n",
      "File \u001b[1;32mc:\\Users\\kkims\\anaconda3\\envs\\mido_venv\\lib\\site-packages\\pandas\\core\\apply.py:1025\u001b[0m, in \u001b[0;36mSeriesApply.apply\u001b[1;34m(self)\u001b[0m\n\u001b[0;32m   1022\u001b[0m     \u001b[38;5;28;01mreturn\u001b[39;00m \u001b[38;5;28mself\u001b[39m\u001b[38;5;241m.\u001b[39mapply_str()\n\u001b[0;32m   1024\u001b[0m \u001b[38;5;66;03m# self.f is Callable\u001b[39;00m\n\u001b[1;32m-> 1025\u001b[0m \u001b[38;5;28;01mreturn\u001b[39;00m \u001b[38;5;28;43mself\u001b[39;49m\u001b[38;5;241;43m.\u001b[39;49m\u001b[43mapply_standard\u001b[49m\u001b[43m(\u001b[49m\u001b[43m)\u001b[49m\n",
      "File \u001b[1;32mc:\\Users\\kkims\\anaconda3\\envs\\mido_venv\\lib\\site-packages\\pandas\\core\\apply.py:1076\u001b[0m, in \u001b[0;36mSeriesApply.apply_standard\u001b[1;34m(self)\u001b[0m\n\u001b[0;32m   1074\u001b[0m     \u001b[38;5;28;01melse\u001b[39;00m:\n\u001b[0;32m   1075\u001b[0m         values \u001b[38;5;241m=\u001b[39m obj\u001b[38;5;241m.\u001b[39mastype(\u001b[38;5;28mobject\u001b[39m)\u001b[38;5;241m.\u001b[39m_values\n\u001b[1;32m-> 1076\u001b[0m         mapped \u001b[38;5;241m=\u001b[39m \u001b[43mlib\u001b[49m\u001b[38;5;241;43m.\u001b[39;49m\u001b[43mmap_infer\u001b[49m\u001b[43m(\u001b[49m\n\u001b[0;32m   1077\u001b[0m \u001b[43m            \u001b[49m\u001b[43mvalues\u001b[49m\u001b[43m,\u001b[49m\n\u001b[0;32m   1078\u001b[0m \u001b[43m            \u001b[49m\u001b[43mf\u001b[49m\u001b[43m,\u001b[49m\n\u001b[0;32m   1079\u001b[0m \u001b[43m            \u001b[49m\u001b[43mconvert\u001b[49m\u001b[38;5;241;43m=\u001b[39;49m\u001b[38;5;28;43mself\u001b[39;49m\u001b[38;5;241;43m.\u001b[39;49m\u001b[43mconvert_dtype\u001b[49m\u001b[43m,\u001b[49m\n\u001b[0;32m   1080\u001b[0m \u001b[43m        \u001b[49m\u001b[43m)\u001b[49m\n\u001b[0;32m   1082\u001b[0m \u001b[38;5;28;01mif\u001b[39;00m \u001b[38;5;28mlen\u001b[39m(mapped) \u001b[38;5;129;01mand\u001b[39;00m \u001b[38;5;28misinstance\u001b[39m(mapped[\u001b[38;5;241m0\u001b[39m], ABCSeries):\n\u001b[0;32m   1083\u001b[0m     \u001b[38;5;66;03m# GH#43986 Need to do list(mapped) in order to get treated as nested\u001b[39;00m\n\u001b[0;32m   1084\u001b[0m     \u001b[38;5;66;03m#  See also GH#25959 regarding EA support\u001b[39;00m\n\u001b[0;32m   1085\u001b[0m     \u001b[38;5;28;01mreturn\u001b[39;00m obj\u001b[38;5;241m.\u001b[39m_constructor_expanddim(\u001b[38;5;28mlist\u001b[39m(mapped), index\u001b[38;5;241m=\u001b[39mobj\u001b[38;5;241m.\u001b[39mindex)\n",
      "File \u001b[1;32mc:\\Users\\kkims\\anaconda3\\envs\\mido_venv\\lib\\site-packages\\pandas\\_libs\\lib.pyx:2834\u001b[0m, in \u001b[0;36mpandas._libs.lib.map_infer\u001b[1;34m()\u001b[0m\n",
      "Cell \u001b[1;32mIn[30], line 62\u001b[0m, in \u001b[0;36msafe_convert\u001b[1;34m(x)\u001b[0m\n\u001b[0;32m     60\u001b[0m         \u001b[38;5;28;01mreturn\u001b[39;00m \u001b[38;5;124m'\u001b[39m\u001b[38;5;124m'\u001b[39m\n\u001b[0;32m     61\u001b[0m     \u001b[38;5;66;03m# float 또는 int 값을 int로 변환 후 str로 변환\u001b[39;00m\n\u001b[1;32m---> 62\u001b[0m     \u001b[38;5;28;01mreturn\u001b[39;00m \u001b[38;5;28mstr\u001b[39m(\u001b[38;5;28;43mint\u001b[39;49m\u001b[43m(\u001b[49m\u001b[38;5;28;43mfloat\u001b[39;49m\u001b[43m(\u001b[49m\u001b[43mx\u001b[49m\u001b[43m)\u001b[49m\u001b[43m)\u001b[49m)\n\u001b[0;32m     63\u001b[0m \u001b[38;5;28;01mexcept\u001b[39;00m (\u001b[38;5;167;01mValueError\u001b[39;00m, \u001b[38;5;167;01mTypeError\u001b[39;00m):\n\u001b[0;32m     64\u001b[0m     \u001b[38;5;28;01mreturn\u001b[39;00m \u001b[38;5;124m'\u001b[39m\u001b[38;5;124m'\u001b[39m\n",
      "\u001b[1;31mOverflowError\u001b[0m: cannot convert float infinity to integer"
     ]
    }
   ],
   "source": [
    "# 업로드된 생산일지 전처리\n",
    "# 불필요데이터 제거\n",
    "upload_df_fin = upload_df.iloc[:upload_df['R/NO'].last_valid_index()+1]\n",
    "\n",
    "# 모든 컬럼 NaN 제거\n",
    "upload_df_fin = upload_df_fin.dropna(how='all')\n",
    "\n",
    "# 컬럼형식 맞추기\n",
    "upload_df_fin = upload_df_fin.rename(columns={'날짜':'생산일자', '일자':'생산일자'})\n",
    "upload_df_fin = upload_df_fin.rename(columns={'제직량 M':'제직량', '입고량 M':'입고량'})\n",
    "\n",
    "# 일자, 구장명 채우기\n",
    "upload_df_fin['생산일자'] = upload_df_fin['생산일자'].ffill()\n",
    "upload_df_fin['구장명'] = upload_df_fin['구장명'].ffill()\n",
    "\n",
    "# '오더량'부터 'YARN'까지의 컬럼을 '구장명' 기준 첫 행으로 채우기\n",
    "if \"계약코드\" in upload_df_fin.columns:\n",
    "    columns_to_fill = ['계약코드','오더량', 'ITEM', 'SPI', 'PH', 'PW', 'T/F TYPE', '기포지', '제직폭', '본수', '입고폭', 'YARN', 'COLOR', '도전사','R/NO']\n",
    "else:\n",
    "    columns_to_fill = ['오더량', 'ITEM', 'SPI', 'PH', 'PW', 'T/F TYPE', '기포지', '제직폭', '본수', '입고폭', 'YARN', 'COLOR', '도전사','R/NO']\n",
    "for col in columns_to_fill:\n",
    "    upload_df_fin[col] = upload_df_fin.groupby(['생산일자','구장명'])[col].transform(lambda x: x.fillna(x.iloc[0]))\n",
    "\n",
    "# 제직량, 입고량 없는거 제거\n",
    "upload_df_fin = upload_df_fin[~upload_df_fin['제직량'].isnull()].drop_duplicates().reset_index(drop=True)\n",
    "\n",
    "# 업체명 컬럼 추가\n",
    "upload_df_fin['업체명'] = upload_log_df.iloc[-1]['업체명']\n",
    "\n",
    "# 스프레드시트 ID (URL에서 확인 가능)\n",
    "production_sheet_id = '1dl6GyEkzarfgcKSmT9hwYzR63MhcGDox0z-gCa0_7OI' ## midoplus production_report --> 생산일지통합\n",
    "spreadsheet_production = gc.open_by_key(production_sheet_id)\n",
    "\n",
    "# 기존 스프레드시트 및 워크시트 열기\n",
    "WORKSHEET_NAME = 'production_report'\n",
    "worksheet_production = spreadsheet_production.worksheet(WORKSHEET_NAME)\n",
    "\n",
    "# 구글 시트에서 데이터 읽기\n",
    "data = worksheet_production.get_all_records()\n",
    "production_df = pd.DataFrame(data)\n",
    "\n",
    "# 기존 생산일지와 병합\n",
    "production_df_fin = pd.concat([production_df,upload_df_fin],axis=0).reset_index(drop=True)\n",
    "production_df_fin = production_df_fin.fillna('')\n",
    "\n",
    "def convert_date_format(date_str):\n",
    "    if isinstance(date_str, str):\n",
    "        if len(date_str.split('.')) == 3:\n",
    "            # 기존 형식이 '연도. 월. 일' 인 경우\n",
    "            return pd.to_datetime(date_str, format='%Y.%m.%d').strftime('%Y-%m-%d')\n",
    "        elif len(date_str.split('.')) == 2:\n",
    "            # 새 형식이 '월.일' 인 경우, 연도를 올해 연도로 가정\n",
    "            return pd.to_datetime(str(datetime.now().year) + '.' + date_str, format='%Y.%m.%d').strftime('%Y-%m-%d')\n",
    "    return date_str  # 변환할 수 없는 경우 또는 비문자형 데이터인 경우 원본 반환\n",
    "\n",
    "def safe_convert(x):\n",
    "    try:\n",
    "        # 공백이나 NaN 처리\n",
    "        if pd.isna(x) or str(x).strip() == '':\n",
    "            return ''\n",
    "        # float 또는 int 값을 int로 변환 후 str로 변환\n",
    "        return str(int(float(x)))\n",
    "    except (ValueError, TypeError):\n",
    "        return ''\n",
    "\n",
    "# 행의 고유한 ID값 적용\n",
    "def generate_unique_id():\n",
    "    return str(uuid.uuid4())\n",
    "\n",
    "# '생산일자' 컬럼에 변환 함수 적용\n",
    "production_df_fin = production_df_fin.astype({'생산일자':str,'납품요구접수일자':str,'납품기한일자':str})\n",
    "production_df_fin['생산일자'] = production_df_fin['생산일자'].str.split('~').str[0] \n",
    "production_df_fin['생산일자'] = production_df_fin['생산일자'].str.replace('00:00:00','').str.replace(' ','').str.replace('0:00','').str.replace('2024-05-078','2024-05-08').str.replace('3.2223','3.23')\n",
    "production_df_fin['생산일자'] = production_df_fin['생산일자'].apply(convert_date_format)\n",
    "production_df_fin['납품요구접수일자'] = production_df_fin['납품요구접수일자'].str.replace(' ','').str.replace('0:00','')\n",
    "production_df_fin['납품요구접수일자'] = production_df_fin['납품요구접수일자'].apply(convert_date_format)\n",
    "production_df_fin['납품기한일자'] = production_df_fin['납품기한일자'].str.replace(' ','').str.replace('0:00','')\n",
    "production_df_fin['납품기한일자'] = production_df_fin['납품기한일자'].apply(convert_date_format)\n",
    "\n",
    "# 구글시트 업데이트 위해 NaN값 대체\n",
    "production_df_fin = production_df_fin.fillna('')\n",
    "\n",
    "# 계약코드 대체\n",
    "production_df_fin['계약코드'] = np.where(production_df_fin['계약코드']=='',production_df_fin['납품요구번호'],production_df_fin['계약코드']) ## 계약코드 없는것 --> 납품요구번호로 대체\n",
    "production_df_fin['계약코드'] = production_df_fin['계약코드'].astype(str)\n",
    "production_df_fin['계약코드'] = production_df_fin['계약코드'].str.replace('-','')\n",
    "production_df_fin['계약코드'] = production_df_fin['계약코드'].str.replace(' ','')\n",
    "production_df_fin['계약코드'] = production_df_fin['계약코드'].str.replace('미정','')\n",
    "production_df_fin['계약코드'] = production_df_fin['계약코드'].str.replace('사급','')\n",
    "production_df_fin['계약코드'] = production_df_fin['계약코드'].str.replace('無','')\n",
    "production_df_fin['계약코드'] = production_df_fin['계약코드'].str.replace('계약서','')\n",
    "# production_df_fin['계약코드'] =production_df_fin['계약코드'].apply(safe_convert)\n",
    "\n",
    "# 제품 오입력 수정\n",
    "production_df_fin['ITEM'] = production_df_fin['ITEM'].str.replace(',','')\n",
    "\n",
    "# 납품요구건명 수정\n",
    "production_df_fin['납품요구건명'] = production_df_fin['납품요구건명'].apply(lambda x: ' '.join(x.split('\\n')[1].strip().split(' ')[1:]) if '\\n' in x else x) ## 납품요구건명 오정보 수정\n",
    "\n",
    "# 모든 행에 대해 새로운 고유 ID 할당\n",
    "production_df_fin['ID'] = ''\n",
    "production_df_fin['ID'] = production_df_fin['ID'].apply(lambda x: generate_unique_id())\n",
    "\n",
    "# 계약코드 임의 설정\n",
    "production_df_fin['계약코드'] = np.where(production_df_fin['계약코드']=='', production_df_fin['ID'].str.split('-').str[0], production_df_fin['계약코드'])\n",
    "production_df_fin['계약코드'] = production_df_fin.groupby(['업체명','구장명'])['계약코드'].transform('first')\n",
    "\n",
    "# # 최종 데이터셋 정리\n",
    "# production_df_fin = production_df_fin[[production_df_fin.columns[-1]] + list(production_df_fin.columns[:-1])] ## 백업데이터에서 가져올때 정리되어있음\n",
    "\n",
    "# 기존 데이터 지우기\n",
    "worksheet_production.clear()\n",
    "\n",
    "# 데이터 프레임을 스프레드 시트에 덮어쓰기\n",
    "worksheet_production.update([production_df_fin.columns.values.tolist()] + production_df_fin.values.tolist())"
   ]
  },
  {
   "cell_type": "markdown",
   "metadata": {},
   "source": [
    "### 인증서\n",
    "- pdf파일 --> image형식으로 변환"
   ]
  },
  {
   "cell_type": "code",
   "execution_count": 16,
   "metadata": {},
   "outputs": [
    {
     "name": "stdout",
     "output_type": "stream",
     "text": [
      "모든 PDF 파일이 이미지로 변환되었습니다.\n"
     ]
    }
   ],
   "source": [
    "# PDF 파일들이 있는 디렉토리 경로\n",
    "pdf_directory = 'C:/py_src/midoproject/data/documents/'\n",
    "\n",
    "# PDF 파일 목록 가져오기\n",
    "pdf_files = [f for f in os.listdir(pdf_directory) if f.endswith('.pdf')]\n",
    "\n",
    "# 각 PDF 파일에 대해 이미지로 변환 및 저장\n",
    "for pdf_file in pdf_files:\n",
    "    # PDF 파일의 전체 경로\n",
    "    pdf_file_path = os.path.join(pdf_directory, pdf_file)\n",
    "\n",
    "    # PDF 파일명만 추출 (확장자 제거)\n",
    "    pdf_filename = os.path.splitext(pdf_file)[0]\n",
    "\n",
    "    # PDF 파일 열기\n",
    "    pdf_document = fitz.open(pdf_file_path)\n",
    "\n",
    "    # 각 페이지를 이미지로 변환 및 저장\n",
    "    for page_number in range(len(pdf_document)):\n",
    "        page = pdf_document.load_page(page_number)  # 페이지 로드\n",
    "        image = page.get_pixmap()  # 페이지를 이미지로 변환\n",
    "\n",
    "        # 이미지 파일 경로 생성\n",
    "        image_filename = f'{pdf_filename}_page_{page_number + 1}.jpg'\n",
    "        image_file_path = os.path.join(pdf_directory, image_filename)\n",
    "\n",
    "        # 이미지 저장\n",
    "        image.save(image_file_path)\n",
    "\n",
    "    # PDF 문서 닫기\n",
    "    pdf_document.close()\n",
    "\n",
    "print(\"모든 PDF 파일이 이미지로 변환되었습니다.\")\n"
   ]
  },
  {
   "cell_type": "markdown",
   "metadata": {},
   "source": [
    "### 창고재고관리"
   ]
  },
  {
   "cell_type": "code",
   "execution_count": 21,
   "metadata": {},
   "outputs": [],
   "source": [
    "# 스프레드시트 ID (URL에서 확인 가능)\n",
    "inventory_sheet_id = '1dTxyA-gk-akC2zvRElX4NRX7I8QRxil0yLJOKso3REs' ## midoplus news\n",
    "spreadsheet_inventory = gc.open_by_key(inventory_sheet_id)"
   ]
  },
  {
   "cell_type": "code",
   "execution_count": 22,
   "metadata": {},
   "outputs": [
    {
     "data": {
      "text/html": [
       "<div>\n",
       "<style scoped>\n",
       "    .dataframe tbody tr th:only-of-type {\n",
       "        vertical-align: middle;\n",
       "    }\n",
       "\n",
       "    .dataframe tbody tr th {\n",
       "        vertical-align: top;\n",
       "    }\n",
       "\n",
       "    .dataframe thead th {\n",
       "        text-align: right;\n",
       "    }\n",
       "</style>\n",
       "<table border=\"1\" class=\"dataframe\">\n",
       "  <thead>\n",
       "    <tr style=\"text-align: right;\">\n",
       "      <th></th>\n",
       "      <th>ID</th>\n",
       "      <th>구분</th>\n",
       "      <th>날짜</th>\n",
       "      <th>제품명</th>\n",
       "      <th>입고량</th>\n",
       "      <th>출고량</th>\n",
       "    </tr>\n",
       "  </thead>\n",
       "  <tbody>\n",
       "    <tr>\n",
       "      <th>0</th>\n",
       "      <td></td>\n",
       "      <td>일반용</td>\n",
       "      <td>2024-01-15</td>\n",
       "      <td>KL20</td>\n",
       "      <td></td>\n",
       "      <td>50</td>\n",
       "    </tr>\n",
       "    <tr>\n",
       "      <th>1</th>\n",
       "      <td></td>\n",
       "      <td>일반용</td>\n",
       "      <td>2024-02-24</td>\n",
       "      <td>KL28</td>\n",
       "      <td></td>\n",
       "      <td>584</td>\n",
       "    </tr>\n",
       "    <tr>\n",
       "      <th>2</th>\n",
       "      <td></td>\n",
       "      <td>일반용</td>\n",
       "      <td>2024-02-26</td>\n",
       "      <td>KL20</td>\n",
       "      <td></td>\n",
       "      <td>350</td>\n",
       "    </tr>\n",
       "    <tr>\n",
       "      <th>3</th>\n",
       "      <td></td>\n",
       "      <td>일반용</td>\n",
       "      <td>2024-03-26</td>\n",
       "      <td>KL20</td>\n",
       "      <td></td>\n",
       "      <td>150</td>\n",
       "    </tr>\n",
       "    <tr>\n",
       "      <th>4</th>\n",
       "      <td></td>\n",
       "      <td>일반용</td>\n",
       "      <td>2024-04-02</td>\n",
       "      <td>KL35</td>\n",
       "      <td></td>\n",
       "      <td>100</td>\n",
       "    </tr>\n",
       "    <tr>\n",
       "      <th>...</th>\n",
       "      <td>...</td>\n",
       "      <td>...</td>\n",
       "      <td>...</td>\n",
       "      <td>...</td>\n",
       "      <td>...</td>\n",
       "      <td>...</td>\n",
       "    </tr>\n",
       "    <tr>\n",
       "      <th>214</th>\n",
       "      <td></td>\n",
       "      <td>쇼핑몰</td>\n",
       "      <td>2024-09-20</td>\n",
       "      <td>CL10</td>\n",
       "      <td></td>\n",
       "      <td>4</td>\n",
       "    </tr>\n",
       "    <tr>\n",
       "      <th>215</th>\n",
       "      <td></td>\n",
       "      <td>쇼핑몰</td>\n",
       "      <td>2024-09-20</td>\n",
       "      <td>KL28</td>\n",
       "      <td></td>\n",
       "      <td>0</td>\n",
       "    </tr>\n",
       "    <tr>\n",
       "      <th>216</th>\n",
       "      <td></td>\n",
       "      <td>쇼핑몰</td>\n",
       "      <td>2024-09-24</td>\n",
       "      <td>KL20</td>\n",
       "      <td></td>\n",
       "      <td>4</td>\n",
       "    </tr>\n",
       "    <tr>\n",
       "      <th>217</th>\n",
       "      <td></td>\n",
       "      <td>쇼핑몰</td>\n",
       "      <td>2024-09-24</td>\n",
       "      <td>KL20</td>\n",
       "      <td></td>\n",
       "      <td>0</td>\n",
       "    </tr>\n",
       "    <tr>\n",
       "      <th>218</th>\n",
       "      <td></td>\n",
       "      <td>쇼핑몰</td>\n",
       "      <td>2024-09-24</td>\n",
       "      <td>KL28</td>\n",
       "      <td></td>\n",
       "      <td>24</td>\n",
       "    </tr>\n",
       "  </tbody>\n",
       "</table>\n",
       "<p>219 rows × 6 columns</p>\n",
       "</div>"
      ],
      "text/plain": [
       "    ID   구분          날짜   제품명 입고량  출고량\n",
       "0       일반용  2024-01-15  KL20       50\n",
       "1       일반용  2024-02-24  KL28      584\n",
       "2       일반용  2024-02-26  KL20      350\n",
       "3       일반용  2024-03-26  KL20      150\n",
       "4       일반용  2024-04-02  KL35      100\n",
       "..  ..  ...         ...   ...  ..  ...\n",
       "214     쇼핑몰  2024-09-20  CL10        4\n",
       "215     쇼핑몰  2024-09-20  KL28        0\n",
       "216     쇼핑몰  2024-09-24  KL20        4\n",
       "217     쇼핑몰  2024-09-24  KL20        0\n",
       "218     쇼핑몰  2024-09-24  KL28       24\n",
       "\n",
       "[219 rows x 6 columns]"
      ]
     },
     "execution_count": 22,
     "metadata": {},
     "output_type": "execute_result"
    }
   ],
   "source": [
    "# 기존 스프레드시트 및 워크시트 열기\n",
    "WORKSHEET_NAME = 'inventory_management'\n",
    "worksheet_inventory = spreadsheet_inventory.worksheet(WORKSHEET_NAME)\n",
    "\n",
    "# 구글 시트에서 데이터 읽기\n",
    "data = worksheet_inventory.get_all_records()\n",
    "inventory_df = pd.DataFrame(data)\n",
    "inventory_df"
   ]
  },
  {
   "cell_type": "code",
   "execution_count": 23,
   "metadata": {},
   "outputs": [],
   "source": [
    "# 행의 고유한 ID값 적용\n",
    "def generate_unique_id():\n",
    "    return str(uuid.uuid4())\n",
    "\n",
    "# 모든 행에 대해 새로운 고유 ID 할당\n",
    "inventory_df['ID'] = ''\n",
    "inventory_df['ID'] = inventory_df['ID'].apply(lambda x: generate_unique_id())\n",
    "\n",
    "inventory_df['ID'] = inventory_df['ID'].str.split('-').str[0]"
   ]
  },
  {
   "cell_type": "code",
   "execution_count": 24,
   "metadata": {},
   "outputs": [
    {
     "data": {
      "text/plain": [
       "{'spreadsheetId': '1dTxyA-gk-akC2zvRElX4NRX7I8QRxil0yLJOKso3REs',\n",
       " 'updatedRange': 'inventory_management!A1:F220',\n",
       " 'updatedRows': 220,\n",
       " 'updatedColumns': 6,\n",
       " 'updatedCells': 1320}"
      ]
     },
     "execution_count": 24,
     "metadata": {},
     "output_type": "execute_result"
    }
   ],
   "source": [
    "# 기존 데이터 지우기\n",
    "worksheet_inventory.clear()\n",
    "\n",
    "# 데이터 프레임을 스프레드 시트에 덮어쓰기\n",
    "worksheet_inventory.update([inventory_df.columns.values.tolist()] + inventory_df.values.tolist())"
   ]
  }
 ],
 "metadata": {
  "kernelspec": {
   "display_name": "mido_venv",
   "language": "python",
   "name": "python3"
  },
  "language_info": {
   "codemirror_mode": {
    "name": "ipython",
    "version": 3
   },
   "file_extension": ".py",
   "mimetype": "text/x-python",
   "name": "python",
   "nbconvert_exporter": "python",
   "pygments_lexer": "ipython3",
   "version": "3.8.19"
  }
 },
 "nbformat": 4,
 "nbformat_minor": 2
}
