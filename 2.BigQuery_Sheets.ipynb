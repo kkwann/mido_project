{
 "cells": [
  {
   "cell_type": "code",
   "execution_count": 1,
   "metadata": {},
   "outputs": [],
   "source": [
    "import pandas as pd\n",
    "import numpy as np\n",
    "from datetime import datetime, timedelta\n",
    "import time\n",
    "\n",
    "import requests\n",
    "from bs4 import BeautifulSoup\n",
    "from urllib.parse import urlparse, parse_qs, urlencode\n",
    "import json\n",
    "import lxml\n",
    "import streamlit as st\n",
    "\n",
    "import matplotlib.pyplot as plt\n",
    "\n",
    "import os\n",
    "import sys\n",
    "from pathlib import Path\n",
    "\n",
    "import fitz  # PyMuPDF, pdf파일 변환\n",
    "\n",
    "import bcrypt\n",
    "\n",
    "from google.cloud import bigquery\n",
    "from google.oauth2 import service_account\n",
    "import gspread\n",
    "from gspread_dataframe import set_with_dataframe\n",
    "from googleapiclient.discovery import build\n",
    "import io\n",
    "from googleapiclient.http import MediaIoBaseDownload\n",
    "\n",
    "import warnings"
   ]
  },
  {
   "cell_type": "code",
   "execution_count": 2,
   "metadata": {},
   "outputs": [],
   "source": [
    "KEY_PATH = \".config/\"\n",
    "servicekey_path = KEY_PATH + \"serviceKey.json\" ## 빅쿼리 외 다른 API 활용 위해\n",
    "bigquerykey_path = KEY_PATH + \"mido-project-426906-31b49963ac97.json\"\n",
    "sheetskey_path = KEY_PATH + \"mido-project-426906-41a4b6d0e3db.json\"\n",
    "midopluskey_path = KEY_PATH + \"midoplus.json\"\n",
    "\n",
    "warnings.filterwarnings(\"ignore\")\n"
   ]
  },
  {
   "cell_type": "code",
   "execution_count": 3,
   "metadata": {},
   "outputs": [],
   "source": [
    "def get_service_key(servicekey_path):\n",
    "\n",
    "    with open(servicekey_path) as f:\n",
    "        data = json.load(f)\n",
    "    return data"
   ]
  },
  {
   "cell_type": "code",
   "execution_count": 4,
   "metadata": {},
   "outputs": [],
   "source": [
    "# BigQuery 클라이언트 생성 함수\n",
    "def create_bigquery_client(key_path):\n",
    "    credentials = service_account.Credentials.from_service_account_file(key_path)\n",
    "    client = bigquery.Client(credentials=credentials, project=credentials.project_id)\n",
    "    return client\n"
   ]
  },
  {
   "cell_type": "code",
   "execution_count": 5,
   "metadata": {},
   "outputs": [
    {
     "data": {
      "text/plain": [
       "<google.cloud.bigquery.client.Client at 0x2073b819700>"
      ]
     },
     "execution_count": 5,
     "metadata": {},
     "output_type": "execute_result"
    }
   ],
   "source": [
    "create_bigquery_client(midopluskey_path)"
   ]
  },
  {
   "cell_type": "code",
   "execution_count": 6,
   "metadata": {},
   "outputs": [],
   "source": [
    "def save_dataframe_to_bigquery(df, dataset_id, table_id, key_path):\n",
    "    # BigQuery 클라이언트 객체 생성\n",
    "    client = create_bigquery_client(key_path)\n",
    "\n",
    "    # 테이블 레퍼런스 생성\n",
    "    table_ref = client.dataset(dataset_id).table(table_id)\n",
    "\n",
    "    # 데이터프레임을 BigQuery 테이블에 적재\n",
    "    job_config = bigquery.LoadJobConfig()\n",
    "    job_config.write_disposition = \"WRITE_TRUNCATE\"  # 기존 테이블 내용 삭제 후 삽입\n",
    "\n",
    "    job = client.load_table_from_dataframe(df, table_ref, job_config=job_config)\n",
    "    job.result()  # 작업 완료 대기\n",
    "\n",
    "    print(f\"Data inserted into table {table_id} successfully.\")"
   ]
  },
  {
   "cell_type": "code",
   "execution_count": 7,
   "metadata": {},
   "outputs": [],
   "source": [
    "def get_dataframe_from_bigquery(dataset_id, table_id, key_path):\n",
    "    # BigQuery 클라이언트 생성\n",
    "    client = create_bigquery_client(key_path)\n",
    "\n",
    "    # 테이블 레퍼런스 생성\n",
    "    table_ref = client.dataset(dataset_id).table(table_id)\n",
    "\n",
    "    # 테이블 데이터를 DataFrame으로 변환\n",
    "    df = client.list_rows(table_ref).to_dataframe()\n",
    "\n",
    "    return df"
   ]
  },
  {
   "cell_type": "code",
   "execution_count": 8,
   "metadata": {},
   "outputs": [],
   "source": [
    "# 비밀번호 생성 및 해싱 함수\n",
    "def generate_hashed_password(phone_number):\n",
    "    \n",
    "    # 전화번호의 뒷자리 4자리로 비밀번호 생성\n",
    "    password = phone_number[-4:]\n",
    "    \n",
    "    # # 비밀번호 해싱\n",
    "    # password = bcrypt.hashpw(password.encode('utf-8'), bcrypt.gensalt())\n",
    "    return password"
   ]
  },
  {
   "cell_type": "markdown",
   "metadata": {},
   "source": [
    "### 빅쿼리"
   ]
  },
  {
   "cell_type": "code",
   "execution_count": 9,
   "metadata": {},
   "outputs": [],
   "source": [
    "shopping_df = get_dataframe_from_bigquery('DATA_WAREHOUSE', 'g2b_data', midopluskey_path)\n",
    "shopping_df_fin = shopping_df.drop('collection_Date',axis=1)\n",
    "\n",
    "shopping_prod_df = get_dataframe_from_bigquery('DATA_MARTS', 'g2b_prod_data', midopluskey_path)\n",
    "shopping_prod_df_fin = shopping_prod_df.fillna('')\n",
    "\n",
    "news_df = get_dataframe_from_bigquery('DATA_MARTS', 'news_data', midopluskey_path)\n",
    "news_df_fin = news_df.drop('collection_Date',axis=1)"
   ]
  },
  {
   "cell_type": "markdown",
   "metadata": {},
   "source": [
    "### 구글 스프레드 시트"
   ]
  },
  {
   "cell_type": "code",
   "execution_count": 10,
   "metadata": {},
   "outputs": [],
   "source": [
    "# Google Sheets 클라이언트 생성\n",
    "sheets_scope = [\"https://spreadsheets.google.com/feeds\", \"https://www.googleapis.com/auth/spreadsheets\",\n",
    "                \"https://www.googleapis.com/auth/drive.file\", \"https://www.googleapis.com/auth/drive\"]\n",
    "\n",
    "sheets_creds = service_account.Credentials.from_service_account_file(midopluskey_path, scopes=sheets_scope)\n",
    "gc = gspread.authorize(sheets_creds)"
   ]
  },
  {
   "cell_type": "markdown",
   "metadata": {},
   "source": [
    "### 지자체 교육청 예산 현황"
   ]
  },
  {
   "cell_type": "code",
   "execution_count": 11,
   "metadata": {},
   "outputs": [],
   "source": [
    "# 스프레드시트 ID (URL에서 확인 가능)\n",
    "business_sheet_id = '166xdkZYI-SDNwdEiI6-Kt-p1wsTwFTAYAVfuCiFly0E' ## 미도플러스 사업현황"
   ]
  },
  {
   "cell_type": "code",
   "execution_count": 12,
   "metadata": {},
   "outputs": [
    {
     "data": {
      "text/html": [
       "<div>\n",
       "<style scoped>\n",
       "    .dataframe tbody tr th:only-of-type {\n",
       "        vertical-align: middle;\n",
       "    }\n",
       "\n",
       "    .dataframe tbody tr th {\n",
       "        vertical-align: top;\n",
       "    }\n",
       "\n",
       "    .dataframe thead th {\n",
       "        text-align: right;\n",
       "    }\n",
       "</style>\n",
       "<table border=\"1\" class=\"dataframe\">\n",
       "  <thead>\n",
       "    <tr style=\"text-align: right;\">\n",
       "      <th></th>\n",
       "      <th>지역명</th>\n",
       "      <th>자치단체명</th>\n",
       "      <th>세부사업명</th>\n",
       "      <th>분야명</th>\n",
       "      <th>부문명</th>\n",
       "      <th>예산현액</th>\n",
       "      <th>국비</th>\n",
       "      <th>시도비</th>\n",
       "      <th>시군구비</th>\n",
       "      <th>기타</th>\n",
       "      <th>지출액</th>\n",
       "      <th>편성액</th>\n",
       "    </tr>\n",
       "  </thead>\n",
       "  <tbody>\n",
       "    <tr>\n",
       "      <th>0</th>\n",
       "      <td>강원특별자치도</td>\n",
       "      <td>동해시</td>\n",
       "      <td>발한게이트볼장 조성사업(전환사업)</td>\n",
       "      <td>문화및관광</td>\n",
       "      <td>체육</td>\n",
       "      <td>700000000</td>\n",
       "      <td>0</td>\n",
       "      <td>455000000</td>\n",
       "      <td>245000000</td>\n",
       "      <td>0</td>\n",
       "      <td>5000000</td>\n",
       "      <td>700000000</td>\n",
       "    </tr>\n",
       "    <tr>\n",
       "      <th>1</th>\n",
       "      <td>강원특별자치도</td>\n",
       "      <td>속초시</td>\n",
       "      <td>체육 진흥시설지원(설악수련원 부지 테니스장 조성)(전환사업)</td>\n",
       "      <td>문화및관광</td>\n",
       "      <td>체육</td>\n",
       "      <td>1500000000</td>\n",
       "      <td>0</td>\n",
       "      <td>975000000</td>\n",
       "      <td>525000000</td>\n",
       "      <td>0</td>\n",
       "      <td>0</td>\n",
       "      <td>1000000000</td>\n",
       "    </tr>\n",
       "    <tr>\n",
       "      <th>2</th>\n",
       "      <td>강원특별자치도</td>\n",
       "      <td>속초시</td>\n",
       "      <td>체육 진흥시설지원(종합운동장 보조축구장 개선사업)(전환사업)</td>\n",
       "      <td>문화및관광</td>\n",
       "      <td>체육</td>\n",
       "      <td>358000390</td>\n",
       "      <td>0</td>\n",
       "      <td>232700253</td>\n",
       "      <td>125300137</td>\n",
       "      <td>0</td>\n",
       "      <td>354733290</td>\n",
       "      <td>0</td>\n",
       "    </tr>\n",
       "    <tr>\n",
       "      <th>3</th>\n",
       "      <td>강원특별자치도</td>\n",
       "      <td>태백시</td>\n",
       "      <td>태백 다목적 전지훈련시설(에어돔) 조성(전환사업)</td>\n",
       "      <td>문화및관광</td>\n",
       "      <td>체육</td>\n",
       "      <td>6608060850</td>\n",
       "      <td>0</td>\n",
       "      <td>3241752052</td>\n",
       "      <td>3366308798</td>\n",
       "      <td>0</td>\n",
       "      <td>436828900</td>\n",
       "      <td>4144500000</td>\n",
       "    </tr>\n",
       "    <tr>\n",
       "      <th>4</th>\n",
       "      <td>강원특별자치도</td>\n",
       "      <td>강릉시</td>\n",
       "      <td>학교체육 육성 지원</td>\n",
       "      <td>문화및관광</td>\n",
       "      <td>체육</td>\n",
       "      <td>430000000</td>\n",
       "      <td>0</td>\n",
       "      <td>0</td>\n",
       "      <td>430000000</td>\n",
       "      <td>0</td>\n",
       "      <td>420000000</td>\n",
       "      <td>430000000</td>\n",
       "    </tr>\n",
       "    <tr>\n",
       "      <th>...</th>\n",
       "      <td>...</td>\n",
       "      <td>...</td>\n",
       "      <td>...</td>\n",
       "      <td>...</td>\n",
       "      <td>...</td>\n",
       "      <td>...</td>\n",
       "      <td>...</td>\n",
       "      <td>...</td>\n",
       "      <td>...</td>\n",
       "      <td>...</td>\n",
       "      <td>...</td>\n",
       "      <td>...</td>\n",
       "    </tr>\n",
       "    <tr>\n",
       "      <th>504</th>\n",
       "      <td>충청북도</td>\n",
       "      <td>진천군</td>\n",
       "      <td>광혜원 생활체육공원 조성</td>\n",
       "      <td>문화및관광</td>\n",
       "      <td>체육</td>\n",
       "      <td>676342290</td>\n",
       "      <td>6682610</td>\n",
       "      <td>22178010</td>\n",
       "      <td>647481670</td>\n",
       "      <td>0</td>\n",
       "      <td>71122270</td>\n",
       "      <td>0</td>\n",
       "    </tr>\n",
       "    <tr>\n",
       "      <th>505</th>\n",
       "      <td>충청북도</td>\n",
       "      <td>진천군</td>\n",
       "      <td>진천스포츠타운 소프트테니스장 조성사업(전환사업)</td>\n",
       "      <td>문화및관광</td>\n",
       "      <td>체육</td>\n",
       "      <td>2465980850</td>\n",
       "      <td>0</td>\n",
       "      <td>1213636370</td>\n",
       "      <td>1252344480</td>\n",
       "      <td>0</td>\n",
       "      <td>2288592200</td>\n",
       "      <td>600000000</td>\n",
       "    </tr>\n",
       "    <tr>\n",
       "      <th>506</th>\n",
       "      <td>충청북도</td>\n",
       "      <td>음성군</td>\n",
       "      <td>삼성생활체육공원 시설 개선사업</td>\n",
       "      <td>문화및관광</td>\n",
       "      <td>체육</td>\n",
       "      <td>100000000</td>\n",
       "      <td>0</td>\n",
       "      <td>0</td>\n",
       "      <td>100000000</td>\n",
       "      <td>0</td>\n",
       "      <td>64161000</td>\n",
       "      <td>0</td>\n",
       "    </tr>\n",
       "    <tr>\n",
       "      <th>507</th>\n",
       "      <td>충청북도</td>\n",
       "      <td>증평군</td>\n",
       "      <td>보강천 체육시설 개선사업</td>\n",
       "      <td>문화및관광</td>\n",
       "      <td>체육</td>\n",
       "      <td>825000000</td>\n",
       "      <td>165000000</td>\n",
       "      <td>110000000</td>\n",
       "      <td>550000000</td>\n",
       "      <td>0</td>\n",
       "      <td>240856460</td>\n",
       "      <td>825000000</td>\n",
       "    </tr>\n",
       "    <tr>\n",
       "      <th>508</th>\n",
       "      <td>충청북도</td>\n",
       "      <td>충북본청</td>\n",
       "      <td>공공체육시설개보수</td>\n",
       "      <td>문화및관광</td>\n",
       "      <td>체육</td>\n",
       "      <td>3444000000</td>\n",
       "      <td>1860000000</td>\n",
       "      <td>1584000000</td>\n",
       "      <td>0</td>\n",
       "      <td>0</td>\n",
       "      <td>3444000000</td>\n",
       "      <td>3444000000</td>\n",
       "    </tr>\n",
       "  </tbody>\n",
       "</table>\n",
       "<p>509 rows × 12 columns</p>\n",
       "</div>"
      ],
      "text/plain": [
       "         지역명 자치단체명                              세부사업명    분야명 부문명        예산현액  \\\n",
       "0    강원특별자치도   동해시                 발한게이트볼장 조성사업(전환사업)  문화및관광  체육   700000000   \n",
       "1    강원특별자치도   속초시  체육 진흥시설지원(설악수련원 부지 테니스장 조성)(전환사업)  문화및관광  체육  1500000000   \n",
       "2    강원특별자치도   속초시  체육 진흥시설지원(종합운동장 보조축구장 개선사업)(전환사업)  문화및관광  체육   358000390   \n",
       "3    강원특별자치도   태백시        태백 다목적 전지훈련시설(에어돔) 조성(전환사업)  문화및관광  체육  6608060850   \n",
       "4    강원특별자치도   강릉시                         학교체육 육성 지원  문화및관광  체육   430000000   \n",
       "..       ...   ...                                ...    ...  ..         ...   \n",
       "504     충청북도   진천군                      광혜원 생활체육공원 조성  문화및관광  체육   676342290   \n",
       "505     충청북도   진천군         진천스포츠타운 소프트테니스장 조성사업(전환사업)  문화및관광  체육  2465980850   \n",
       "506     충청북도   음성군                   삼성생활체육공원 시설 개선사업  문화및관광  체육   100000000   \n",
       "507     충청북도   증평군                      보강천 체육시설 개선사업  문화및관광  체육   825000000   \n",
       "508     충청북도  충북본청                          공공체육시설개보수  문화및관광  체육  3444000000   \n",
       "\n",
       "             국비         시도비        시군구비  기타         지출액         편성액  \n",
       "0             0   455000000   245000000   0     5000000   700000000  \n",
       "1             0   975000000   525000000   0           0  1000000000  \n",
       "2             0   232700253   125300137   0   354733290           0  \n",
       "3             0  3241752052  3366308798   0   436828900  4144500000  \n",
       "4             0           0   430000000   0   420000000   430000000  \n",
       "..          ...         ...         ...  ..         ...         ...  \n",
       "504     6682610    22178010   647481670   0    71122270           0  \n",
       "505           0  1213636370  1252344480   0  2288592200   600000000  \n",
       "506           0           0   100000000   0    64161000           0  \n",
       "507   165000000   110000000   550000000   0   240856460   825000000  \n",
       "508  1860000000  1584000000           0   0  3444000000  3444000000  \n",
       "\n",
       "[509 rows x 12 columns]"
      ]
     },
     "execution_count": 12,
     "metadata": {},
     "output_type": "execute_result"
    }
   ],
   "source": [
    "# 기존 스프레드시트 및 워크시트 열기\n",
    "WORKSHEET_NAME = '지자체'\n",
    "spreadsheet_business = gc.open_by_key(business_sheet_id)\n",
    "worksheet_business = spreadsheet_business.worksheet(WORKSHEET_NAME)\n",
    "\n",
    "# 구글 시트에서 데이터 읽기\n",
    "data = worksheet_business.get_all_records()\n",
    "pd.DataFrame(data)"
   ]
  },
  {
   "cell_type": "code",
   "execution_count": 13,
   "metadata": {},
   "outputs": [
    {
     "data": {
      "text/html": [
       "<div>\n",
       "<style scoped>\n",
       "    .dataframe tbody tr th:only-of-type {\n",
       "        vertical-align: middle;\n",
       "    }\n",
       "\n",
       "    .dataframe tbody tr th {\n",
       "        vertical-align: top;\n",
       "    }\n",
       "\n",
       "    .dataframe thead th {\n",
       "        text-align: right;\n",
       "    }\n",
       "</style>\n",
       "<table border=\"1\" class=\"dataframe\">\n",
       "  <thead>\n",
       "    <tr style=\"text-align: right;\">\n",
       "      <th></th>\n",
       "      <th>시도</th>\n",
       "      <th>시군구</th>\n",
       "      <th>구분</th>\n",
       "      <th>과업명</th>\n",
       "      <th>삭제</th>\n",
       "      <th>금액</th>\n",
       "      <th>면적</th>\n",
       "      <th>예산집행</th>\n",
       "    </tr>\n",
       "  </thead>\n",
       "  <tbody>\n",
       "    <tr>\n",
       "      <th>0</th>\n",
       "      <td>강원특별자치도</td>\n",
       "      <td>강원특별자치도교육청</td>\n",
       "      <td>공립</td>\n",
       "      <td>북평여자고등학교 힐링운동장환경조성</td>\n",
       "      <td>FALSE</td>\n",
       "      <td>330897000.0</td>\n",
       "      <td></td>\n",
       "      <td></td>\n",
       "    </tr>\n",
       "    <tr>\n",
       "      <th>1</th>\n",
       "      <td>강원특별자치도</td>\n",
       "      <td>강원특별자치도교육청</td>\n",
       "      <td>사립</td>\n",
       "      <td>동해광희고등학교 인조잔디운동장 보수</td>\n",
       "      <td>FALSE</td>\n",
       "      <td>51700000.0</td>\n",
       "      <td></td>\n",
       "      <td></td>\n",
       "    </tr>\n",
       "    <tr>\n",
       "      <th>2</th>\n",
       "      <td>강원특별자치도</td>\n",
       "      <td>교육부</td>\n",
       "      <td>국립</td>\n",
       "      <td>강원대학교사범대학부설고등학교 인조잔디운동장조성 및 환경개선</td>\n",
       "      <td>FALSE</td>\n",
       "      <td>2442350000.0</td>\n",
       "      <td></td>\n",
       "      <td></td>\n",
       "    </tr>\n",
       "    <tr>\n",
       "      <th>3</th>\n",
       "      <td>강원특별자치도</td>\n",
       "      <td>춘천교육지원청</td>\n",
       "      <td>공립</td>\n",
       "      <td>봉의초등학교 테니스장교체</td>\n",
       "      <td>FALSE</td>\n",
       "      <td>613290000.0</td>\n",
       "      <td></td>\n",
       "      <td></td>\n",
       "    </tr>\n",
       "    <tr>\n",
       "      <th>4</th>\n",
       "      <td>강원특별자치도</td>\n",
       "      <td>화천교육지원청</td>\n",
       "      <td>공립</td>\n",
       "      <td>상서중학교 운동장 보수</td>\n",
       "      <td>FALSE</td>\n",
       "      <td>89533000.0</td>\n",
       "      <td>4664.0</td>\n",
       "      <td>학교</td>\n",
       "    </tr>\n",
       "    <tr>\n",
       "      <th>...</th>\n",
       "      <td>...</td>\n",
       "      <td>...</td>\n",
       "      <td>...</td>\n",
       "      <td>...</td>\n",
       "      <td>...</td>\n",
       "      <td>...</td>\n",
       "      <td>...</td>\n",
       "      <td>...</td>\n",
       "    </tr>\n",
       "    <tr>\n",
       "      <th>155</th>\n",
       "      <td>충청남도</td>\n",
       "      <td>논산계룡교육지원청</td>\n",
       "      <td>공립</td>\n",
       "      <td>강경여자중학교 인조잔디 교체</td>\n",
       "      <td>FALSE</td>\n",
       "      <td>150144000.0</td>\n",
       "      <td>5770.0</td>\n",
       "      <td>교육청</td>\n",
       "    </tr>\n",
       "    <tr>\n",
       "      <th>156</th>\n",
       "      <td>충청남도</td>\n",
       "      <td>부여교육지원청</td>\n",
       "      <td>공립</td>\n",
       "      <td>부여여자중학교 유해운동장 교체</td>\n",
       "      <td>FALSE</td>\n",
       "      <td>132948000.0</td>\n",
       "      <td>2720.0</td>\n",
       "      <td>교육청</td>\n",
       "    </tr>\n",
       "    <tr>\n",
       "      <th>157</th>\n",
       "      <td>충청남도</td>\n",
       "      <td>예산교육지원청</td>\n",
       "      <td>공립</td>\n",
       "      <td>예산여자중학교 유해운동장 교체</td>\n",
       "      <td>FALSE</td>\n",
       "      <td>259105000.0</td>\n",
       "      <td>2900.0</td>\n",
       "      <td>교육청</td>\n",
       "    </tr>\n",
       "    <tr>\n",
       "      <th>158</th>\n",
       "      <td>충청북도</td>\n",
       "      <td>청주교육지원청</td>\n",
       "      <td>공립</td>\n",
       "      <td>서경중학교 운동장 보수 및 바닥교체</td>\n",
       "      <td>FALSE</td>\n",
       "      <td>602871000.0</td>\n",
       "      <td>3500.0</td>\n",
       "      <td>교육청</td>\n",
       "    </tr>\n",
       "    <tr>\n",
       "      <th>159</th>\n",
       "      <td>충청북도</td>\n",
       "      <td>청주교육지원청</td>\n",
       "      <td>공립</td>\n",
       "      <td>석교초등학교 야구부실내연습장증축</td>\n",
       "      <td>FALSE</td>\n",
       "      <td>1421325000.0</td>\n",
       "      <td></td>\n",
       "      <td>교육청</td>\n",
       "    </tr>\n",
       "  </tbody>\n",
       "</table>\n",
       "<p>160 rows × 8 columns</p>\n",
       "</div>"
      ],
      "text/plain": [
       "          시도         시군구  구분                               과업명     삭제  \\\n",
       "0    강원특별자치도  강원특별자치도교육청  공립                북평여자고등학교 힐링운동장환경조성  FALSE   \n",
       "1    강원특별자치도  강원특별자치도교육청  사립               동해광희고등학교 인조잔디운동장 보수  FALSE   \n",
       "2    강원특별자치도         교육부  국립  강원대학교사범대학부설고등학교 인조잔디운동장조성 및 환경개선  FALSE   \n",
       "3    강원특별자치도     춘천교육지원청  공립                     봉의초등학교 테니스장교체  FALSE   \n",
       "4    강원특별자치도     화천교육지원청  공립                      상서중학교 운동장 보수  FALSE   \n",
       "..       ...         ...  ..                               ...    ...   \n",
       "155     충청남도   논산계룡교육지원청  공립                   강경여자중학교 인조잔디 교체  FALSE   \n",
       "156     충청남도     부여교육지원청  공립                  부여여자중학교 유해운동장 교체  FALSE   \n",
       "157     충청남도     예산교육지원청  공립                  예산여자중학교 유해운동장 교체  FALSE   \n",
       "158     충청북도     청주교육지원청  공립               서경중학교 운동장 보수 및 바닥교체  FALSE   \n",
       "159     충청북도     청주교육지원청  공립                 석교초등학교 야구부실내연습장증축  FALSE   \n",
       "\n",
       "               금액      면적 예산집행  \n",
       "0     330897000.0               \n",
       "1      51700000.0               \n",
       "2    2442350000.0               \n",
       "3     613290000.0               \n",
       "4      89533000.0  4664.0   학교  \n",
       "..            ...     ...  ...  \n",
       "155   150144000.0  5770.0  교육청  \n",
       "156   132948000.0  2720.0  교육청  \n",
       "157   259105000.0  2900.0  교육청  \n",
       "158   602871000.0  3500.0  교육청  \n",
       "159  1421325000.0          교육청  \n",
       "\n",
       "[160 rows x 8 columns]"
      ]
     },
     "execution_count": 13,
     "metadata": {},
     "output_type": "execute_result"
    }
   ],
   "source": [
    "# 기존 스프레드시트 및 워크시트 열기\n",
    "WORKSHEET_NAME = '교육청'\n",
    "spreadsheet_edu = gc.open_by_key(business_sheet_id)\n",
    "worksheet_edu = spreadsheet_edu.worksheet(WORKSHEET_NAME)\n",
    "\n",
    "# 구글 시트에서 데이터 읽기\n",
    "data = worksheet_edu.get_all_records()\n",
    "pd.DataFrame(data)"
   ]
  },
  {
   "cell_type": "code",
   "execution_count": 14,
   "metadata": {},
   "outputs": [],
   "source": [
    "# # 새로운 시트 생성\n",
    "# budget_df = pd.DataFrame(data)\n",
    "# new_sheet_name = '지자체백업'\n",
    "# new_sheet = spreadsheet_business.add_worksheet(title=new_sheet_name, rows=len(budget_df), cols=len(budget_df.columns))\n",
    "\n",
    "# set_with_dataframe(new_sheet, budget_df)"
   ]
  },
  {
   "cell_type": "code",
   "execution_count": 16,
   "metadata": {},
   "outputs": [],
   "source": [
    "# # 데이터프레임을 기존 워크시트에 업로드\n",
    "# budget_df = pd.DataFrame(data)\n",
    "# set_with_dataframe(worksheet, budget_df)"
   ]
  },
  {
   "cell_type": "markdown",
   "metadata": {},
   "source": [
    "### 종합쇼핑몰 납품 상세"
   ]
  },
  {
   "cell_type": "code",
   "execution_count": 15,
   "metadata": {},
   "outputs": [],
   "source": [
    "# 스프레드시트 ID (URL에서 확인 가능)\n",
    "shopping_sheet_id = '16vld1WTJwsrWPD_kFcUX1LJb-9WAtY2gnPFG5nGEqZ0' ## 미도플러스 종합쇼핑몰 현황\n",
    "spreadsheet_shopping = gc.open_by_key(shopping_sheet_id)"
   ]
  },
  {
   "cell_type": "markdown",
   "metadata": {},
   "source": [
    "#### 전국 기준"
   ]
  },
  {
   "cell_type": "code",
   "execution_count": 16,
   "metadata": {},
   "outputs": [
    {
     "data": {
      "text/plain": [
       "{'spreadsheetId': '16vld1WTJwsrWPD_kFcUX1LJb-9WAtY2gnPFG5nGEqZ0',\n",
       " 'updatedRange': \"'납품현황'!A1:AL14399\",\n",
       " 'updatedRows': 14399,\n",
       " 'updatedColumns': 38,\n",
       " 'updatedCells': 547162}"
      ]
     },
     "execution_count": 16,
     "metadata": {},
     "output_type": "execute_result"
    }
   ],
   "source": [
    "# 기존 스프레드시트 및 워크시트 열기\n",
    "WORKSHEET_NAME = '납품현황'\n",
    "worksheet_shopping = spreadsheet_shopping.worksheet(WORKSHEET_NAME)\n",
    "\n",
    "# 기존 데이터 지우기\n",
    "worksheet_shopping.clear()\n",
    "\n",
    "# 데이터 프레임을 스프레드 시트에 덮어쓰기\n",
    "worksheet_shopping.update([shopping_df_fin.columns.values.tolist()] + shopping_df_fin.values.tolist())"
   ]
  },
  {
   "cell_type": "markdown",
   "metadata": {},
   "source": [
    "#### 미도플러스, 에코 기준"
   ]
  },
  {
   "cell_type": "code",
   "execution_count": 17,
   "metadata": {},
   "outputs": [],
   "source": [
    "shopping_df_fin_mido = shopping_df_fin[shopping_df_fin['업체명'].str.contains('에코그라운드|미도플러스')].drop_duplicates().reset_index(drop=True)"
   ]
  },
  {
   "cell_type": "code",
   "execution_count": 18,
   "metadata": {},
   "outputs": [
    {
     "data": {
      "text/plain": [
       "{'spreadsheetId': '16vld1WTJwsrWPD_kFcUX1LJb-9WAtY2gnPFG5nGEqZ0',\n",
       " 'updatedRange': \"'납품현황_미도'!A1:AL1113\",\n",
       " 'updatedRows': 1113,\n",
       " 'updatedColumns': 38,\n",
       " 'updatedCells': 42294}"
      ]
     },
     "execution_count": 18,
     "metadata": {},
     "output_type": "execute_result"
    }
   ],
   "source": [
    "# 기존 스프레드시트 및 워크시트 열기\n",
    "WORKSHEET_NAME = '납품현황_미도'\n",
    "worksheet_shopping = spreadsheet_shopping.worksheet(WORKSHEET_NAME)\n",
    "\n",
    "# 기존 데이터 지우기\n",
    "worksheet_shopping.clear()\n",
    "\n",
    "# 데이터 프레임을 스프레드 시트에 덮어쓰기\n",
    "worksheet_shopping.update([shopping_df_fin_mido.columns.values.tolist()] + shopping_df_fin_mido.values.tolist())"
   ]
  },
  {
   "cell_type": "markdown",
   "metadata": {},
   "source": [
    "### 종합쇼핑몰 품목 정보"
   ]
  },
  {
   "cell_type": "code",
   "execution_count": 19,
   "metadata": {},
   "outputs": [],
   "source": [
    "# 스프레드시트 ID (URL에서 확인 가능)\n",
    "shopping_sheet_id = '16vld1WTJwsrWPD_kFcUX1LJb-9WAtY2gnPFG5nGEqZ0' ## 미도플러스 종합쇼핑몰 현황\n",
    "spreadsheet_shopping = gc.open_by_key(shopping_sheet_id)"
   ]
  },
  {
   "cell_type": "code",
   "execution_count": 20,
   "metadata": {},
   "outputs": [
    {
     "data": {
      "text/plain": [
       "{'spreadsheetId': '16vld1WTJwsrWPD_kFcUX1LJb-9WAtY2gnPFG5nGEqZ0',\n",
       " 'updatedRange': \"'품목정보'!A1:AH614\",\n",
       " 'updatedRows': 614,\n",
       " 'updatedColumns': 34,\n",
       " 'updatedCells': 20876}"
      ]
     },
     "execution_count": 20,
     "metadata": {},
     "output_type": "execute_result"
    }
   ],
   "source": [
    "# 기존 스프레드시트 및 워크시트 열기\n",
    "WORKSHEET_NAME = '품목정보'\n",
    "worksheet_shopping_prod = spreadsheet_shopping.worksheet(WORKSHEET_NAME)\n",
    "\n",
    "# 기존 데이터 지우기\n",
    "worksheet_shopping_prod.clear()\n",
    "\n",
    "# 데이터 프레임을 스프레드 시트에 덮어쓰기\n",
    "worksheet_shopping_prod.update([shopping_prod_df_fin.columns.values.tolist()] + shopping_prod_df_fin.values.tolist())"
   ]
  },
  {
   "cell_type": "code",
   "execution_count": 15,
   "metadata": {},
   "outputs": [],
   "source": [
    "# # 데이터프레임을 기존 워크시트에 업로드\n",
    "# budget_df = pd.DataFrame(data)\n",
    "# set_with_dataframe(worksheet, budget_df)"
   ]
  },
  {
   "cell_type": "markdown",
   "metadata": {},
   "source": [
    "### 뉴스스크랩"
   ]
  },
  {
   "cell_type": "code",
   "execution_count": 21,
   "metadata": {},
   "outputs": [],
   "source": [
    "# 스프레드시트 ID (URL에서 확인 가능)\n",
    "news_sheet_id = '1BnbDPv79Y44RpbMmZA2wFiFlM3mNN5xPtyOXFW0ABBk' ## midoplus news\n",
    "spreadsheet_news = gc.open_by_key(news_sheet_id)"
   ]
  },
  {
   "cell_type": "code",
   "execution_count": 22,
   "metadata": {},
   "outputs": [
    {
     "data": {
      "text/plain": [
       "{'spreadsheetId': '1BnbDPv79Y44RpbMmZA2wFiFlM3mNN5xPtyOXFW0ABBk',\n",
       " 'updatedRange': 'news!A1:D116',\n",
       " 'updatedRows': 116,\n",
       " 'updatedColumns': 4,\n",
       " 'updatedCells': 464}"
      ]
     },
     "execution_count": 22,
     "metadata": {},
     "output_type": "execute_result"
    }
   ],
   "source": [
    "# 기존 스프레드시트 및 워크시트 열기\n",
    "WORKSHEET_NAME = 'news'\n",
    "worksheet_news = spreadsheet_news.worksheet(WORKSHEET_NAME)\n",
    "\n",
    "# 기존 데이터 지우기\n",
    "worksheet_news.clear()\n",
    "\n",
    "# 데이터 프레임을 스프레드 시트에 덮어쓰기\n",
    "worksheet_news.update([news_df_fin.columns.values.tolist()] + news_df_fin.values.tolist())"
   ]
  },
  {
   "cell_type": "markdown",
   "metadata": {},
   "source": [
    "### 생산일지"
   ]
  },
  {
   "cell_type": "markdown",
   "metadata": {},
   "source": [
    "#### 생산일지 업로드 로그"
   ]
  },
  {
   "cell_type": "code",
   "execution_count": 35,
   "metadata": {},
   "outputs": [],
   "source": [
    "# 스프레드시트 ID (URL에서 확인 가능)\n",
    "upload_sheet_id = '1sTpLxbmOdpGwSQDbvg02Eh1gxjVwSfI5PtMQ9sr-XmM' ## 계약관리, 생산일지 업로드\n",
    "spreadsheet_upload = gc.open_by_key(upload_sheet_id)"
   ]
  },
  {
   "cell_type": "code",
   "execution_count": 36,
   "metadata": {},
   "outputs": [
    {
     "data": {
      "text/html": [
       "<div>\n",
       "<style scoped>\n",
       "    .dataframe tbody tr th:only-of-type {\n",
       "        vertical-align: middle;\n",
       "    }\n",
       "\n",
       "    .dataframe tbody tr th {\n",
       "        vertical-align: top;\n",
       "    }\n",
       "\n",
       "    .dataframe thead th {\n",
       "        text-align: right;\n",
       "    }\n",
       "</style>\n",
       "<table border=\"1\" class=\"dataframe\">\n",
       "  <thead>\n",
       "    <tr style=\"text-align: right;\">\n",
       "      <th></th>\n",
       "      <th>업체명</th>\n",
       "      <th>계약코드</th>\n",
       "      <th>File Upload</th>\n",
       "      <th>업로드날짜</th>\n",
       "    </tr>\n",
       "  </thead>\n",
       "  <tbody>\n",
       "    <tr>\n",
       "      <th>0</th>\n",
       "      <td>미도플러스</td>\n",
       "      <td>testtest</td>\n",
       "      <td>upload_log_production_Files_/testtest.File Upl...</td>\n",
       "      <td>2024-09-03</td>\n",
       "    </tr>\n",
       "  </tbody>\n",
       "</table>\n",
       "</div>"
      ],
      "text/plain": [
       "     업체명      계약코드                                        File Upload  \\\n",
       "0  미도플러스  testtest  upload_log_production_Files_/testtest.File Upl...   \n",
       "\n",
       "        업로드날짜  \n",
       "0  2024-09-03  "
      ]
     },
     "execution_count": 36,
     "metadata": {},
     "output_type": "execute_result"
    }
   ],
   "source": [
    "# 기존 스프레드시트 및 워크시트 열기\n",
    "WORKSHEET_NAME = 'upload_log'\n",
    "worksheet_upload = spreadsheet_upload.worksheet(WORKSHEET_NAME)\n",
    "\n",
    "# 구글 시트에서 데이터 읽기\n",
    "data = worksheet_upload.get_all_records()\n",
    "upload_log_df = pd.DataFrame(data)\n",
    "upload_log_df"
   ]
  },
  {
   "cell_type": "code",
   "execution_count": 37,
   "metadata": {},
   "outputs": [
    {
     "data": {
      "text/html": [
       "<div>\n",
       "<style scoped>\n",
       "    .dataframe tbody tr th:only-of-type {\n",
       "        vertical-align: middle;\n",
       "    }\n",
       "\n",
       "    .dataframe tbody tr th {\n",
       "        vertical-align: top;\n",
       "    }\n",
       "\n",
       "    .dataframe thead th {\n",
       "        text-align: right;\n",
       "    }\n",
       "</style>\n",
       "<table border=\"1\" class=\"dataframe\">\n",
       "  <thead>\n",
       "    <tr style=\"text-align: right;\">\n",
       "      <th></th>\n",
       "      <th>mimeType</th>\n",
       "      <th>id</th>\n",
       "      <th>name</th>\n",
       "      <th>createdTime</th>\n",
       "      <th>modifiedTime</th>\n",
       "    </tr>\n",
       "  </thead>\n",
       "  <tbody>\n",
       "    <tr>\n",
       "      <th>0</th>\n",
       "      <td>application/vnd.openxmlformats-officedocument....</td>\n",
       "      <td>10bf7hzv8XKGr6Y6c1DOUwzaLbKmkmQFk</td>\n",
       "      <td>testtest.File Upload.025108.xlsx</td>\n",
       "      <td>2024-09-03T02:51:10.191Z</td>\n",
       "      <td>2024-09-03T02:51:11.746Z</td>\n",
       "    </tr>\n",
       "  </tbody>\n",
       "</table>\n",
       "</div>"
      ],
      "text/plain": [
       "                                            mimeType  \\\n",
       "0  application/vnd.openxmlformats-officedocument....   \n",
       "\n",
       "                                  id                              name  \\\n",
       "0  10bf7hzv8XKGr6Y6c1DOUwzaLbKmkmQFk  testtest.File Upload.025108.xlsx   \n",
       "\n",
       "                createdTime              modifiedTime  \n",
       "0  2024-09-03T02:51:10.191Z  2024-09-03T02:51:11.746Z  "
      ]
     },
     "execution_count": 37,
     "metadata": {},
     "output_type": "execute_result"
    }
   ],
   "source": [
    "# 폴더 내 파일리스트 확인\n",
    "# 특정 폴더 ID\n",
    "folder_id = '1JdzxjnumAqkWaVEDNPTjiqdvrtQCBuaK' ## 'upload_log_Files_' 폴더id\n",
    "\n",
    "# Google Drive API 클라이언트 생성\n",
    "drive_service = build('drive', 'v3', credentials=sheets_creds)\n",
    "\n",
    "# 폴더 내의 모든 파일 리스트 가져오기\n",
    "results = drive_service.files().list(\n",
    "    q=f\"'{folder_id}' in parents\",\n",
    "    spaces='drive',\n",
    "    fields=\"nextPageToken, files(id, name, mimeType, createdTime, modifiedTime)\",\n",
    "    # pageSize=100  # 한 번에 최대 100개의 파일을 가져옵니다.\n",
    ").execute()\n",
    "\n",
    "items = results.get('files', [])\n",
    "\n",
    "# if not items:\n",
    "#     print('No files found.')\n",
    "# else:\n",
    "#     print(f\"Files in folder '{folder_id}':\")\n",
    "#     for item in items:\n",
    "#         print(f\"File Name: {item['name']}, File ID: {item['id']}, Created Time: {item['createdTime']}, Modified Time: {item['modifiedTime']}\")\n",
    "\n",
    "upload_file_df = pd.DataFrame(items)\n",
    "upload_file_df"
   ]
  },
  {
   "cell_type": "markdown",
   "metadata": {},
   "source": [
    "#### 업로드 생산일지 업데이트"
   ]
  },
  {
   "cell_type": "code",
   "execution_count": 38,
   "metadata": {},
   "outputs": [
    {
     "name": "stdout",
     "output_type": "stream",
     "text": [
      "Download 100% complete.\n"
     ]
    }
   ],
   "source": [
    "# 최근 업로드된 파일 불러오기\n",
    "recent_upload_nm = upload_log_df.iloc[-1]['File Upload'].split('/')[1]\n",
    "file_id = upload_file_df[upload_file_df['name']==recent_upload_nm]['id'].iloc[0] ## 가장 최근 업로드한 파일 id\n",
    "\n",
    "# 파일 다운로드\n",
    "request = drive_service.files().get_media(fileId=file_id)\n",
    "fh = io.BytesIO()\n",
    "downloader = MediaIoBaseDownload(fh, request)\n",
    "done = False\n",
    "\n",
    "while not done:\n",
    "    status, done = downloader.next_chunk()\n",
    "    print(f\"Download {int(status.progress() * 100)}% complete.\")\n",
    "\n",
    "# 메모리에서 파일 읽기\n",
    "fh.seek(0)\n",
    "upload_df = pd.read_excel(fh,header=5) ## 업로드된 생산일지 원본"
   ]
  },
  {
   "cell_type": "code",
   "execution_count": 39,
   "metadata": {},
   "outputs": [
    {
     "data": {
      "text/plain": [
       "{'spreadsheetId': '1dl6GyEkzarfgcKSmT9hwYzR63MhcGDox0z-gCa0_7OI',\n",
       " 'updatedRange': 'production_report!A1:Y9242',\n",
       " 'updatedRows': 9242,\n",
       " 'updatedColumns': 25,\n",
       " 'updatedCells': 231050}"
      ]
     },
     "execution_count": 39,
     "metadata": {},
     "output_type": "execute_result"
    }
   ],
   "source": [
    "# 업로드된 생산일지 전처리\n",
    "# 불필요데이터 제거\n",
    "upload_df_fin = upload_df.iloc[:upload_df['R/NO'].last_valid_index()+1]\n",
    "\n",
    "# 모든 컬럼 NaN 제거\n",
    "upload_df_fin = upload_df_fin.dropna(how='all')\n",
    "\n",
    "# 컬럼형식 맞추기\n",
    "upload_df_fin = upload_df_fin.rename(columns={'날짜':'생산일자', '일자':'생산일자'})\n",
    "upload_df_fin = upload_df_fin.rename(columns={'제직량 M':'제직량', '입고량 M':'입고량'})\n",
    "\n",
    "# 일자, 구장명 채우기\n",
    "upload_df_fin['생산일자'] = upload_df_fin['생산일자'].ffill()\n",
    "upload_df_fin['구장명'] = upload_df_fin['구장명'].ffill()\n",
    "\n",
    "# '오더량'부터 'YARN'까지의 컬럼을 '구장명' 기준 첫 행으로 채우기\n",
    "if \"계약코드\" in upload_df_fin.columns:\n",
    "    columns_to_fill = ['계약코드','오더량', 'ITEM', 'SPI', 'PH', 'PW', 'T/F TYPE', '기포지', '제직폭', '본수', '입고폭', 'YARN', 'COLOR', '도전사','R/NO']\n",
    "else:\n",
    "    columns_to_fill = ['오더량', 'ITEM', 'SPI', 'PH', 'PW', 'T/F TYPE', '기포지', '제직폭', '본수', '입고폭', 'YARN', 'COLOR', '도전사','R/NO']\n",
    "for col in columns_to_fill:\n",
    "    upload_df_fin[col] = upload_df_fin.groupby(['생산일자','구장명'])[col].transform(lambda x: x.fillna(x.iloc[0]))\n",
    "\n",
    "# 제직량, 입고량 없는거 제거\n",
    "upload_df_fin = upload_df_fin[~upload_df_fin['제직량'].isnull()].drop_duplicates().reset_index(drop=True)\n",
    "\n",
    "# 업체명 컬럼 추가\n",
    "upload_df_fin['업체명'] = upload_log_df.iloc[-1]['업체명']\n",
    "\n",
    "# 스프레드시트 ID (URL에서 확인 가능)\n",
    "production_sheet_id = '1dl6GyEkzarfgcKSmT9hwYzR63MhcGDox0z-gCa0_7OI' ## midoplus production_report --> 생산일지통합\n",
    "spreadsheet_production = gc.open_by_key(production_sheet_id)\n",
    "\n",
    "# 기존 스프레드시트 및 워크시트 열기\n",
    "WORKSHEET_NAME = 'production_report'\n",
    "worksheet_production = spreadsheet_production.worksheet(WORKSHEET_NAME)\n",
    "\n",
    "# 구글 시트에서 데이터 읽기\n",
    "data = worksheet_production.get_all_records()\n",
    "production_df = pd.DataFrame(data)\n",
    "\n",
    "# 기존 생산일지와 병합\n",
    "production_df_fin = pd.concat([production_df,upload_df_fin],axis=0).reset_index(drop=True)\n",
    "production_df_fin = production_df_fin.fillna('')\n",
    "\n",
    "def convert_date_format(date_str):\n",
    "    if isinstance(date_str, str):\n",
    "        if len(date_str.split('.')) == 3:\n",
    "            # 기존 형식이 '연도. 월. 일' 인 경우\n",
    "            return pd.to_datetime(date_str, format='%Y.%m.%d').strftime('%Y-%m-%d')\n",
    "        elif len(date_str.split('.')) == 2:\n",
    "            # 새 형식이 '월.일' 인 경우, 연도를 '2024'로 가정\n",
    "            return pd.to_datetime('2024.' + date_str, format='%Y.%m.%d').strftime('%Y-%m-%d')\n",
    "    return date_str  # 변환할 수 없는 경우 또는 비문자형 데이터인 경우 원본 반환\n",
    "\n",
    "# '생산일자' 컬럼에 변환 함수 적용\n",
    "production_df_fin = production_df_fin.astype({'생산일자':str,'납품요구접수일자':str,'납품기한일자':str})\n",
    "production_df_fin['생산일자'] = production_df_fin['생산일자'].str.split('~').str[0] \n",
    "production_df_fin['생산일자'] = production_df_fin['생산일자'].str.replace(' ','').str.replace('0:00','').str.replace('2024-05-078','2024-05-08') \n",
    "production_df_fin['생산일자'] = production_df_fin['생산일자'].apply(convert_date_format)\n",
    "production_df_fin['납품요구접수일자'] = production_df_fin['납품요구접수일자'].str.replace(' ','').str.replace('0:00','')\n",
    "production_df_fin['납품요구접수일자'] = production_df_fin['납품요구접수일자'].apply(convert_date_format)\n",
    "production_df_fin['납품기한일자'] = production_df_fin['납품기한일자'].str.replace(' ','').str.replace('0:00','')\n",
    "production_df_fin['납품기한일자'] = production_df_fin['납품기한일자'].apply(convert_date_format)\n",
    "\n",
    "# 구글시트 업데이트 위해 NaN값 대체\n",
    "production_df_fin = production_df_fin.fillna('')\n",
    "\n",
    "# 계약코드 대체\n",
    "production_df_fin['계약코드'] = np.where(production_df_fin['계약코드']=='',production_df_fin['납품요구번호'],production_df_fin['계약코드']) ## 계약코드 없는것 --> 납품요구번호로 대체\n",
    "production_df_fin['계약코드'] = production_df_fin['계약코드'].astype(str)\n",
    "production_df_fin['계약코드'] = production_df_fin['계약코드'].str.replace('-','')\n",
    "\n",
    "# 제품 오입력 수정\n",
    "production_df_fin['ITEM'] = production_df_fin['ITEM'].str.replace(',','')\n",
    "\n",
    "# 납품요구건명 수정\n",
    "production_df_fin['납품요구건명'] = production_df_fin['납품요구건명'].apply(lambda x: ' '.join(x.split('\\n')[1].strip().split(' ')[1:]) if '\\n' in x else x) ## 납품요구건명 오정보 수정\n",
    "\n",
    "# 기존 데이터 지우기\n",
    "worksheet_production.clear()\n",
    "\n",
    "# 데이터 프레임을 스프레드 시트에 덮어쓰기\n",
    "worksheet_production.update([production_df_fin.columns.values.tolist()] + production_df_fin.values.tolist())"
   ]
  },
  {
   "cell_type": "markdown",
   "metadata": {},
   "source": [
    "### 인증서\n",
    "- pdf파일 --> image형식으로 변환"
   ]
  },
  {
   "cell_type": "code",
   "execution_count": 16,
   "metadata": {},
   "outputs": [
    {
     "name": "stdout",
     "output_type": "stream",
     "text": [
      "모든 PDF 파일이 이미지로 변환되었습니다.\n"
     ]
    }
   ],
   "source": [
    "# PDF 파일들이 있는 디렉토리 경로\n",
    "pdf_directory = 'C:/py_src/midoproject/data/documents/'\n",
    "\n",
    "# PDF 파일 목록 가져오기\n",
    "pdf_files = [f for f in os.listdir(pdf_directory) if f.endswith('.pdf')]\n",
    "\n",
    "# 각 PDF 파일에 대해 이미지로 변환 및 저장\n",
    "for pdf_file in pdf_files:\n",
    "    # PDF 파일의 전체 경로\n",
    "    pdf_file_path = os.path.join(pdf_directory, pdf_file)\n",
    "\n",
    "    # PDF 파일명만 추출 (확장자 제거)\n",
    "    pdf_filename = os.path.splitext(pdf_file)[0]\n",
    "\n",
    "    # PDF 파일 열기\n",
    "    pdf_document = fitz.open(pdf_file_path)\n",
    "\n",
    "    # 각 페이지를 이미지로 변환 및 저장\n",
    "    for page_number in range(len(pdf_document)):\n",
    "        page = pdf_document.load_page(page_number)  # 페이지 로드\n",
    "        image = page.get_pixmap()  # 페이지를 이미지로 변환\n",
    "\n",
    "        # 이미지 파일 경로 생성\n",
    "        image_filename = f'{pdf_filename}_page_{page_number + 1}.jpg'\n",
    "        image_file_path = os.path.join(pdf_directory, image_filename)\n",
    "\n",
    "        # 이미지 저장\n",
    "        image.save(image_file_path)\n",
    "\n",
    "    # PDF 문서 닫기\n",
    "    pdf_document.close()\n",
    "\n",
    "print(\"모든 PDF 파일이 이미지로 변환되었습니다.\")\n"
   ]
  }
 ],
 "metadata": {
  "kernelspec": {
   "display_name": "mido_venv",
   "language": "python",
   "name": "python3"
  },
  "language_info": {
   "codemirror_mode": {
    "name": "ipython",
    "version": 3
   },
   "file_extension": ".py",
   "mimetype": "text/x-python",
   "name": "python",
   "nbconvert_exporter": "python",
   "pygments_lexer": "ipython3",
   "version": "3.8.19"
  }
 },
 "nbformat": 4,
 "nbformat_minor": 2
}
