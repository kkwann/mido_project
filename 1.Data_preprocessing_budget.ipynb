{
 "cells": [
  {
   "cell_type": "code",
   "execution_count": 1,
   "id": "81fa5b7b-0d13-4592-b87c-523fcd4d8714",
   "metadata": {},
   "outputs": [],
   "source": [
    "import pandas as pd\n",
    "import numpy as np\n",
    "\n",
    "import re\n",
    "from itertools import chain\n",
    "from collections import Counter\n",
    "\n",
    "from google.cloud import bigquery\n",
    "from google.oauth2 import service_account\n",
    "\n",
    "from datetime import datetime, timedelta\n",
    "\n",
    "import requests\n",
    "import warnings\n",
    "from requests.packages.urllib3.exceptions import InsecureRequestWarning\n",
    "\n",
    "# InsecureRequestWarning 경고 무시\n",
    "warnings.simplefilter('ignore', InsecureRequestWarning)"
   ]
  },
  {
   "cell_type": "code",
   "execution_count": 2,
   "id": "de7792c0",
   "metadata": {},
   "outputs": [],
   "source": [
    "KEY_PATH = \".config/\"\n",
    "servicekey_path = KEY_PATH + \"serviceKey.json\" ## 빅쿼리 외 다른 API 활용 위해\n",
    "bigquerykey_path = KEY_PATH + \"mido-project-426906-31b49963ac97.json\"\n",
    "\n",
    "warnings.filterwarnings(\"ignore\")"
   ]
  },
  {
   "cell_type": "code",
   "execution_count": 3,
   "id": "e426681b",
   "metadata": {},
   "outputs": [],
   "source": [
    "# BigQuery 클라이언트 생성 함수\n",
    "def create_bigquery_client(key_path):\n",
    "    credentials = service_account.Credentials.from_service_account_file(key_path)\n",
    "    client = bigquery.Client(credentials=credentials, project=credentials.project_id)\n",
    "    return client"
   ]
  },
  {
   "cell_type": "code",
   "execution_count": 4,
   "id": "1ae8163d",
   "metadata": {},
   "outputs": [],
   "source": [
    "def save_dataframe_to_bigquery(df, dataset_id, table_id, key_path):\n",
    "    # BigQuery 클라이언트 객체 생성\n",
    "    client = create_bigquery_client(key_path)\n",
    "\n",
    "    # 테이블 레퍼런스 생성\n",
    "    table_ref = client.dataset(dataset_id).table(table_id)\n",
    "\n",
    "    # 데이터프레임을 BigQuery 테이블에 적재\n",
    "    job_config = bigquery.LoadJobConfig()\n",
    "    job_config.write_disposition = \"WRITE_TRUNCATE\"  # 기존 테이블 내용 삭제 후 삽입\n",
    "\n",
    "    job = client.load_table_from_dataframe(df, table_ref, job_config=job_config)\n",
    "    job.result()  # 작업 완료 대기\n",
    "\n",
    "    print(f\"Data inserted into table {table_id} successfully.\")"
   ]
  },
  {
   "cell_type": "code",
   "execution_count": 5,
   "id": "72805c5d",
   "metadata": {},
   "outputs": [],
   "source": [
    "def get_dataframe_from_bigquery(dataset_id, table_id, key_path):\n",
    "    # BigQuery 클라이언트 생성\n",
    "    client = create_bigquery_client(key_path)\n",
    "\n",
    "    # 테이블 레퍼런스 생성\n",
    "    table_ref = client.dataset(dataset_id).table(table_id)\n",
    "\n",
    "    # 테이블 데이터를 DataFrame으로 변환\n",
    "    df = client.list_rows(table_ref).to_dataframe()\n",
    "\n",
    "    return df"
   ]
  },
  {
   "cell_type": "code",
   "execution_count": 6,
   "id": "c8f939ce",
   "metadata": {},
   "outputs": [],
   "source": [
    "# 오늘 날짜\n",
    "today = datetime.today()#.strftime('%Y%m%d')\n",
    "\n",
    "# 어제 날짜 계산\n",
    "ytday = datetime.today() - timedelta(days=1)\n",
    "\n",
    "# 만약 어제, 오늘이 토요일(5) 또는 일요일(6)이라면, 그 전주 금요일로 변경\n",
    "if ytday.weekday() == 5:  # 토요일\n",
    "    ytday -= timedelta(days=1)\n",
    "elif ytday.weekday() == 6:  # 일요일\n",
    "    ytday -= timedelta(days=2)\n",
    "if today.weekday() == 5:  # 토요일\n",
    "    today -= timedelta(days=1)\n",
    "elif today.weekday() == 6:  # 일요일\n",
    "    today -= timedelta(days=2)\n",
    "\n",
    "# 'YYYYMMDD' 형식으로 변환\n",
    "ytday = ytday.strftime('%Y%m%d')\n",
    "today = today.strftime('%Y%m%d')"
   ]
  },
  {
   "cell_type": "markdown",
   "id": "edba1a69",
   "metadata": {},
   "source": [
    "#### 법정동코드"
   ]
  },
  {
   "cell_type": "code",
   "execution_count": 7,
   "id": "427babe8",
   "metadata": {},
   "outputs": [],
   "source": [
    "dist_code = pd.read_csv('C:\\py_src\\midoproject\\data/법정동코드 전체자료.csv',encoding='cp949')"
   ]
  },
  {
   "cell_type": "code",
   "execution_count": 8,
   "id": "62a39fcd",
   "metadata": {},
   "outputs": [],
   "source": [
    "dist_code_list = []\n",
    "for i in range(dist_code['법정동명'].str.split().apply(len).max()):\n",
    "    dist_code_temp = dist_code[dist_code['법정동명'].str.split().str[i].str[-1].isin(['읍','면','동','리','가','로']).dropna()]\n",
    "    dist_code_list.append([dist_code_temp['법정동명'].str.split().str[i].dropna().unique()])\n",
    "\n",
    "emd_code_list = list(chain(*chain(*dist_code_list)))"
   ]
  },
  {
   "cell_type": "markdown",
   "id": "604a6a0e",
   "metadata": {},
   "source": [
    "#### 종합쇼핑몰 납품상세내역"
   ]
  },
  {
   "cell_type": "code",
   "execution_count": 9,
   "id": "54c3efeb",
   "metadata": {},
   "outputs": [],
   "source": [
    "all_shop_df = get_dataframe_from_bigquery('g2b', 'shop_detail_df_all', bigquerykey_path)"
   ]
  },
  {
   "cell_type": "code",
   "execution_count": 10,
   "id": "a84ea0fe",
   "metadata": {},
   "outputs": [],
   "source": [
    "years = today[:-4]\n",
    "all_shop_df = all_shop_df[all_shop_df['납품요구접수일자'].str.split('-').str[0]==years].reset_index(drop=True)\n",
    "all_shop_df_fin = all_shop_df[['납품요구접수일자', '수요기관명', '납품요구건명', '업체명', '단가', '단위', '수량', '금액', '수요기관코드', '수요기관구분', '수요기관지역명','납품요구지청명']]\n",
    "all_shop_df_fin = all_shop_df_fin.sort_values(['납품요구접수일자'],ascending=False).reset_index(drop=True)"
   ]
  },
  {
   "cell_type": "code",
   "execution_count": 11,
   "id": "f2310ea0",
   "metadata": {},
   "outputs": [],
   "source": [
    "# 특수문자, 숫자, 영어 제거 함수 (연속된 공백을 단일 공백으로 변환 포함)\n",
    "def clean_text(text):\n",
    "    text = re.sub('[^ㄱ-ㅎㅏ-ㅣ가-힣\\s]', ' ', text)\n",
    "    text = re.sub('\\s+', ' ', text).strip()  # 연속된 공백을 단일 공백으로 변환\n",
    "    return text"
   ]
  },
  {
   "cell_type": "code",
   "execution_count": 12,
   "id": "1a7746b0",
   "metadata": {},
   "outputs": [],
   "source": [
    "# 사업명 전처리\n",
    "all_shop_df_fin['납품요구건명_re'] = all_shop_df_fin['납품요구건명'].apply(clean_text)\n",
    "# all_shop_df_fin['납품요구건명_re'] = all_shop_df_fin['납품요구건명_re'].str.replace('초등학교','').str.replace('중학교','').str.replace('고등학교','')\n",
    "all_shop_df_fin['납품요구건명_re'] = all_shop_df_fin['납품요구건명_re'].str.strip()\n",
    "\n",
    "all_shop_df_fin['납품요구건명_re'] = all_shop_df_fin['납품요구건명_re'].str.split().apply(lambda x: [kw for kw in x if len(kw) > 1]) ## 글자수 1 제외\n",
    "all_shop_df_fin['납품요구건명_re'] = all_shop_df_fin['납품요구건명_re'].apply((' ').join)"
   ]
  },
  {
   "cell_type": "code",
   "execution_count": 13,
   "id": "d92577b6",
   "metadata": {},
   "outputs": [],
   "source": [
    "# 수요기관 필터링\n",
    "dist_nm = pd.Series(all_shop_df_fin[all_shop_df_fin['수요기관지역명'].str.split(' ').str[1].notnull()]['수요기관지역명'].str.split(' ').str[1].unique())\n",
    "dist_nm = np.where(dist_nm.apply(len)<=2,dist_nm,dist_nm.str[:-1])"
   ]
  },
  {
   "cell_type": "code",
   "execution_count": 14,
   "id": "1cb2aa1f",
   "metadata": {},
   "outputs": [
    {
     "data": {
      "text/html": [
       "<div>\n",
       "<style scoped>\n",
       "    .dataframe tbody tr th:only-of-type {\n",
       "        vertical-align: middle;\n",
       "    }\n",
       "\n",
       "    .dataframe tbody tr th {\n",
       "        vertical-align: top;\n",
       "    }\n",
       "\n",
       "    .dataframe thead th {\n",
       "        text-align: right;\n",
       "    }\n",
       "</style>\n",
       "<table border=\"1\" class=\"dataframe\">\n",
       "  <thead>\n",
       "    <tr style=\"text-align: right;\">\n",
       "      <th></th>\n",
       "      <th>키워드</th>\n",
       "      <th>빈도수</th>\n",
       "    </tr>\n",
       "  </thead>\n",
       "  <tbody>\n",
       "    <tr>\n",
       "      <th>4</th>\n",
       "      <td>인조잔디</td>\n",
       "      <td>1018</td>\n",
       "    </tr>\n",
       "    <tr>\n",
       "      <th>2</th>\n",
       "      <td>관급자재</td>\n",
       "      <td>578</td>\n",
       "    </tr>\n",
       "    <tr>\n",
       "      <th>3</th>\n",
       "      <td>구입</td>\n",
       "      <td>313</td>\n",
       "    </tr>\n",
       "    <tr>\n",
       "      <th>5</th>\n",
       "      <td>구매</td>\n",
       "      <td>183</td>\n",
       "    </tr>\n",
       "    <tr>\n",
       "      <th>24</th>\n",
       "      <td>운동장</td>\n",
       "      <td>135</td>\n",
       "    </tr>\n",
       "    <tr>\n",
       "      <th>...</th>\n",
       "      <td>...</td>\n",
       "      <td>...</td>\n",
       "    </tr>\n",
       "    <tr>\n",
       "      <th>697</th>\n",
       "      <td>황산리</td>\n",
       "      <td>1</td>\n",
       "    </tr>\n",
       "    <tr>\n",
       "      <th>696</th>\n",
       "      <td>고아</td>\n",
       "      <td>1</td>\n",
       "    </tr>\n",
       "    <tr>\n",
       "      <th>695</th>\n",
       "      <td>청운파크골프장</td>\n",
       "      <td>1</td>\n",
       "    </tr>\n",
       "    <tr>\n",
       "      <th>693</th>\n",
       "      <td>호어린이공원</td>\n",
       "      <td>1</td>\n",
       "    </tr>\n",
       "    <tr>\n",
       "      <th>1585</th>\n",
       "      <td>건국고등학교</td>\n",
       "      <td>1</td>\n",
       "    </tr>\n",
       "  </tbody>\n",
       "</table>\n",
       "<p>1586 rows × 2 columns</p>\n",
       "</div>"
      ],
      "text/plain": [
       "          키워드   빈도수\n",
       "4        인조잔디  1018\n",
       "2        관급자재   578\n",
       "3          구입   313\n",
       "5          구매   183\n",
       "24        운동장   135\n",
       "...       ...   ...\n",
       "697       황산리     1\n",
       "696        고아     1\n",
       "695   청운파크골프장     1\n",
       "693    호어린이공원     1\n",
       "1585   건국고등학교     1\n",
       "\n",
       "[1586 rows x 2 columns]"
      ]
     },
     "execution_count": 14,
     "metadata": {},
     "output_type": "execute_result"
    }
   ],
   "source": [
    "# 전체 키워드 데이터셋\n",
    "mapping_keywd_all = list(chain(*all_shop_df_fin['납품요구건명_re'].str.split(' '))) ## 전체 키워드\n",
    "mapping_keywd_df = pd.DataFrame(Counter(mapping_keywd_all).items(),columns=['키워드','빈도수'])\n",
    "mapping_keywd_df = mapping_keywd_df[mapping_keywd_df['키워드'].apply(len)!=1].reset_index(drop=True)\n",
    "mapping_keywd_df.sort_values('빈도수',ascending=False)"
   ]
  },
  {
   "cell_type": "code",
   "execution_count": 15,
   "id": "c11c5e8a",
   "metadata": {},
   "outputs": [
    {
     "name": "stdout",
     "output_type": "stream",
     "text": [
      "1등급 키워드 :  ['인조잔디', '관급자재', '구입', '구매', '운동장', '조성공사', '관급', '공사', '테니스장', '게이트볼장', '조성사업', '체육시설', '교체공사', '조성', '정비공사', '풋살장']\n",
      "2등급 키워드 :  ['축구장', '설치']\n",
      "3등급 키워드 :  ['개선공사', '파크골프장', '족구장', '교체']\n",
      "4등급 키워드 :  ['설치공사', '보수공사', '조달구매', '개보수공사', '다목적구장', '환경개선', '정비사업', '환경개선공사', '토목']\n",
      "5등급 키워드 :  ['개선사업', '시설개선사업', '건축', '개선', '시설개선공사', '보수', '물품', '체육공원', '정비', '개소', '조달', '다목적', '시설개선', '잔디', '신축공사', '부대', '연병장', '추가', '요청', '조경', '사업', '생활체육공원']\n",
      "기타 키워드 :  ['구장', '시설', '생활체육시설', '어린이공원', '교체사업', '개보수', '관련', '위한', '실내게이트볼장', '단계', '관급자', '인조잔디운동장', '배수판', '노후시설', '일원', '차분', '야구장', '토목공사', '신축', '인조잔디조성공사', '구입의뢰', '기타공사', '증설공사', '따른', '스포츠타운', '인조잔디외', '리모델링', '체육', '김영훈', '트랙조성', '조경공사', '당진', '시행', '치수과', '조리마을', '그라운드골프장', '일산중', '운동장환경개선', '공공하수처리시설', '공공체육시설', '근린공원', '설치사업', '기초생활거점조성사업', '재정비사업', '사단', '관급자관급', '고가하부', '하부', '재정비공사', '수해복구공사', '체육진흥과', '우수조달', '해운대수목원', '대보수', '학년도', '비가림시설', '울타리', '배드민턴장', '건립', '옥외', '본부', '관급자재구입', '확장', '여단', '휀스', '시설물', '학교운동장', '친환경', '건축공사', '환경개선사업', '탄성포장재', '트랙', '노후', '조달구입', '인조', '보조경기장', '본원', '구매설치', '스포츠파크', '수지아르피아', '중랑천', '정선종합운동장', '광복공원', '보조구장', '트랙보수', '공원시설', '남산레포츠공원', '정구장', '운동공간', '자재', '충전재', '시설공사', '체육시설관리과', '다목적체육관', '환경친화적', '재조성', '안빈', '파크골프연습장', '종합운동장', '인조잔대', '실외', '기타시설공사', '체육관', '개축공사', '코트', '미래학교', '장수면', '성곡리', '비가림', '그린스마트', '개체공사', '원주캠퍼스', '바닥', '남악고', '아침체인지', '변경', '군단', '무안공설운동장', '사령부', '살곶이체육공원시설', '광장', '버들어린이공원', '납품', '인조잔디구장', '관급자설치관급자재', '포병여단', '복지', '재조성공사', '백운포체육공원', '구축', '기갑여단', '피해복구', '배수로', '사회인야구장', '시설보수공사', '대치초', '춘천초', '서울정목초', '축구종합센터', '소계체육공원', '인조잔디포장', '두호', '국립수산과학원', '노후인조잔디', '풋살경기장', '북방면', '년게이트볼장보수사업', '교내', '기계', '기능보강', '외부', '간성족구장', '구입의', '화명고가교', '시설정비사업', '관인고등학교', '전천후', '기능보강공사', '문화체육과', '창녕국민체육센터', '구매계약', '그라운드', '건립공사', '수변공원', '조달물품', '운동시설설치공사', '회전교차로', '골프연습장', '교체공사에', '인조잔디공사', '교량하부', '삼남', '내야', '증평생활야구장', '토목시설', '궁도장', '관사', '문무아파트', '오산대학교', '편의시설', '용지면', '우수조달물품', '헬기레펠', '지구', '모형탑', '명품탄천', '관급자설치', '테니스', '미산면', '부사교', '체육관신축', '보조', '현대차드림볼파크', '안평게이트볼장', '설악동', '시립테니스장', '건의', '창고', '도원체육공원', '화채마을', '희망봉', '포항제철고등학교', '차수', '노후시설물', '완도군', '잔디교체', '금강스포츠공원', '송호고', '발주', '고창', '주변', '한내근린공원', '기장', '와우코리요공원', '운동부', '그린스마트스쿨', '하천', '청주교대', '포장', '바닥재', '가곡야구장', '함안스포츠타운', '망성면', '화순홍수조절지파크골프장조성사업', '봉무', '교체공사에따른', '둔내종합체육공원', '소향공원', '일광유원지', '바람근린공원', '북방', '동림교', '웅천생활체육공원', '인곡산업단지', '음성', '전천후게이트볼장', '보라동', '완산생활체육공원', '반구전문농공단지', '국립공주대학교', '재해복구공사', '부대공사', '파주중', '금강초', '부산개성중학교', '평택중', '자율계획사업', '학교공간', '다정다감', '서울디지텍고등학교', '잠실야구장', '체육시설내', '다양한', '실내', '대전제일고등학교', '이천세무고', '이설', '정왕동', '한반도면', '북면', '사업을', '덕적', '포장공사', '둔치', '갑천', '송정체육공원', '노후체육시설', '응봉공원', '이차산', '원삼면', '주차장', '재생공사', '노해공원', '복지대대', '조성관련', '산양게이트볼장', '포곡대교', '한경면', '우레탄', '생태공원', '장승배기', '석관중', '삼선초', '목포하당초', '박해나', '어린이놀이터', '시설물정비', '포함', '칠서', '낭성면', '주경기장', '무주중', '바닥보수', '하산곡동', '소동', '한천', '컨테이너박스', '기로리', '입장', '풍기', '계약', '오성공원', '공원', '증축공사', '인조운동장', '잠신중', '테라스', '야외', '외부환경', '충격흡수배수판', '친환경운동장', '성암공원', '일반', '양덕', '도로', '이호어린이공원', '유지관리공사', '펜스', '상산고등학교', '물품구입', '그린', '내수야구장', '금속재울타리', '옥외용벤치', '농구장', '야구부', '하천시설물', '야외무대', '성남종합운동장', '오산고등학교', '우수', '이전', '야구연습장', '아이들파크', '본오', '안계고테니스장보수공사', '재조성을', '스터디룸', '비품', '군수교', '체력단련장', '기자재', '어울렁더울렁센터', '인조잔디조성', '재주문', '조성을', '전자', '여수공고', '내응전천후게이트볼장', '명지늘봄스쿨', '놀이공간', '모듈러교실', '구매건', '어린이', '혁신도시', '신동초', '부안초', '훈련장', '녹지개선공사', '이나라', '남강고', '관광체육과', '놀이터', '간사교', '약목면', '서부리', '도산면', '청소년문화의집', '구향공원', '그린스마트미래학교', '부평고', '용상족구장', '진녹색', '개축', '화북', '세종', '교사', '석금산어린이공원', '북경주', '장병체력단련시설', '청도고등학교', '폴리텍대학', '주민개방형', '경남도립거창대학', '사면', '이리동중', '계양대교', '구성면', '송죽', '주민쉼터', '남계리', '연녹색', '광주수창초', '청소년수련관', '우천면', '응봉체육공원', '상번천리', '서호', '유원지', '간이골프장', '남한산성면', '전천파크골프장', '장지공원', '랜드마크시티', '송정풋살구장', '삼장', '여울공원', '죽도', '성서운동장', '인조잔디교체공사', '상도', '맨발산책로', '남지국민체육센터', '조경정비', '야외테니스장', '건축조경', '시설정비', '재건축공사', '칠원읍', '학동마을', '생초체육공원', '담양시장', '루프탑가든형', '쌈지공원', '레미콘', '티박스', '운교', '상남게이트볼장', '변경계약', '가곡리', '중리제', '초안산근린공원', '남천', '화도읍', '서상', '해누리체육공원', '설치용', '신당야구장', '둔포체육공원', '화산체육공원', '페어웨어', '파크골프', '삼정자공원', '화원', '본리리', '두척동', '귤현차량기지', '충주', '여수캠퍼스', '은혜중', '경주', '이유미', '고잔공원', '활공장', '대룡산', '해미', '구좌읍', '보드장', '장명동말고개공원족구장바닥인조잔디구입설치', '스케이트', '전면', '부경고등학교', '송정동', '금성초등학교', '판암차량기지', '정구', '구입건의', '삼계리', '내부정비공사', '관급잔디', '주민숙원사업', '국도', '호선', '격파장', '특항단', '부지조성공사', '이순신테니스장', '대월면', '물향기공원', '연일읍민', '포항야구장', '시설정비공사', '무한천체육공원', '호우피해', '임실', '복구공사', '아산시', '상도리', '인라인', '나병윤', '보행로', '토목과', '매트', '관중석', '강구대게축구장', '단월레포츠공원', '학교체육및안전시설조성사업', '대명중학교', '추가분', '당하게이트볼장', '방림', '신도시', '서탄금암게이트볼장', '조성공사에', '동명대학교', '풋살장조성사업', '임실군', '잿골', '하단부', '철거공사', '서생체육공원', '안전센터', '월드컵', '환경사업소', '성동전력', '이동형', '토건운영부', '서울본토건', '소흘', '훈련', '체육시설게이트볼장', '남부사업소', '부산환경공단', '삼동면민운동장', '맹동체육공원', '동삼동', '홍천읍', '시설보강사업', '상남테니스장', '보은국민여가캠핑장', '자연휴식체험장', '대황강', '부안', '공무원교육원', '괴강관광지축구장시설정비공사', '농산물공영도매시장', '추천대공원', '환경공단', '명지사업소', '대비', '전국체전', '원흥테니스장', '용하운동장', '우곡면', '관광자원화사업', '물놀이장', '화랑공원', '간성게이트볼장', '책장', '화장실', '축구전용구장', '낙성대지구', '신양중', '신세종빛드림건설본부', '용담', '도서관', '조성물품', '장난감', '맘쓰허그', '팔마보조경기장', '장애인게이트볼장', '정림리', '진해야구장', '난지체육공원', '스톤네트', '메쉬형울타리', '학교운동부', '광동중', '사회인', '건설', '제곡리', '남면', '중앙공원', '달빛공원', '설악중', '제조설치납품', '통합', '목도초', '조경석', '현리광장', '당산어린이공원', '충북산업과학고', '고등학교', '압해게이트볼장', '명천동', '여단본부', '중흥근린공원', '경문고등학교', '규격확장', '공설운동장', '군민운동장', '원통생활체육공원', '용안', '경비단', '익산', '성주파크골프장', '낙동강변', '게이트봄ㄹ장', '도드리놀이공원', '영성', '청운공원', '흥양천변', '마운딩', '망월', '중평어린이공원', '해그늘', '언양게이트볼장설치공사', '목포시', '뉴딜사업', '도시재생', '여본', '탐진강', '광석초등학교', '중대', '중면', '지곡동', '유수지', '건강마당근린공원', '구룡포문화복지센터', '개방형', '달성보', '탄천변', '조종테니스장', '바닥교체공사', '평지곡내', '가재울근린공원', '화촌면', '운중체육공원', '지붕교체', '상남중', '함양읍', '노후토목', '현내공설운동장', '교직원', '중산체육공원', '병원', '하대리', '길공원', '세인고등학교', '문수족구장', '인조구장', '나비', '율현공원', '생활체육과', '산수근린공원', '친환경운동장조성', '광적생활체육공원', '로그', '운동장재조성', '하청스포츠타운야구장', '용동근린공원', '소양강파크골프장', '흙콘크리트', '동네체육시설', '장림배수지', '문수국제양궁장', '수원북중', '홍윤정', '띠잔디', '체육시설개선사업', '삼성근린공원', '자연휴양림', '백운산', '원오교', '백석생활체육공원', '두서미호공공공지조성사업', '목포부주초등학교', '용소게이트볼장', '대지면', '단지', '판암주공', '웅상체육공원', '진영공설운동장', '잔디구장', '필드하키장', '공원과', '철원여고', '영월', '순창', '연천초', '목포영산초등학교', '마정산업단지', '체육진흥팀', '군위소프트테니스장환경개선공사', '고창북중학교', '연초중', '단본부', '운천중학교', '검단파크골프장', '등구정', '노들나루공원', '인더스밸리산업단지', '아화중', '교성지구', '론볼장', '죽율체육공원', '합일초', '조교파크골프장', '춘양면', '근무지원대', '불펜연습장', '군위군', '정정', '남선공원', '물품조달요청', '골드', '인조잔디구매', '중고등학교', '동북', '우수조달제품', '목포연산초', '소이생활체육공원', '수정', '화산초등학교', '은대초', '인조잔디등', '부춘동', '간이체육활동공간조성공사', '목포애향초', '사면정비', '파형강관', '신설대체이전', '철성고등학교', '목포백련초', '형곡공원', '이전공사', '가양', '장계중', '신설대체이전학교', '죽변운동장', '힐링파크', '동문', '소화초등학교', '수원농생명과학고', '이호동', '원곡중학교', '배정미래고등학교', '연호생활체육공원', '내항', '세경고등학교', '만경중학교', '함박공원', '정남중학교', '외삼족구장', '동광초', '불은초등학교', '실내운동장', '영광스포티움', '잔여분', '야음족궂아', '생태', '두륜산', '목포유달초등학교', '요구', '경희중', '빛가람동', '부산외고', '무동풋살장', '야구연습체육관', '서산지청', '효명고', '용호고등학교', '복지센터', '백운면', '백운테니스장', '산유게이트볼장', '웅촌덕현마을체육시설설치공사', '금일', '본부대', '아라초', '확장공사에', '보산초', '춘복산', '서울금동초', '화진중', '주민공동이용시설', '새뜰마을', '남노송동', '울산종합운동장', '조성공사를', '황령리', '확충사업', '현북', '주문건의', '구축에', '강변풋살구장', '은척면', '석축옹벽', '불암산', '복합체육관', '조경공사용', '풍향문화관', '삼사풋살장', '조달요청', '출입문', '앙성커뮤니티이음센터신축공사', '봉남면', '공병대대', '율곡농공단지', '육상훈련장', '순천조례초등학교', '반지어울림운동장', '선우공원', '관악산', '서원구장', '마산게이트볼연합회', '옥상', '생비량', '뱃터공원', '송계마을', '번지', '야탑동', '비산체육공원', '차황', '김경욱', '생태하천과', '우수저류시설', '신천', '동천동', '파크골프장용', '공촌유수지', '동부그린', '금호강변야구장', '검단동', '감곡생활체육공원', '훼손지복구사업', '첨단산업단지', '경상중학교', '제천체육관', '물속광장', '청라호수공원', '의뢰', '문화공원', '우곡문화공원', '제천산업고', '안성', '양지', '쉼터', '화목개', '공병단', '인조잔디구입의', '중앙기독중학교', '율면고등학교', '장애인테니스장시설개선공사', '테마원', '녹청공원', '모란야구장', '도시숲', '구룡리', '이원면', '구수곡자연휴양림', '중앙체육공원', '단지게이트볼장', '샘실', '대수선공사', '홈플레이트', '시각장애인', '콘크리트', '대불체육공원', '특공연대', '신례원초등학교', '군지여단', '정미', '이우진', '정비시행', '소프트테니스장', '현서게이트볼장', '벌교', '잔디교체공사', '신도안', '부남면', '초지', '길상면', '쌍구형', '공운교', '경관시설', '반송정수장', '현풍', '갈월놀이공원', '방촌', '문체', '남가람', '벌교생태공원', '자재구임', '삼계야구장', '리틀야구장', '탄성포장', '청호웰빙공원', '팔탄면', '가평야구장', '여량게이트볼장', '설악생활체육공원', '재해예방사업', '원심천', '노후잔디', '동구산', '부석면', '청평테니스장', '보차도용콘크리트블록', '기흥동', '물품구매', '테니스연습장', '강서개화축구장', '대덕대학교', '경북체육중고등학교', '포승레포츠공원', '청용리', '횡성읍', '공간조성사업', '아동어드벤처', '대율캠핑장', '발코니', '강림', '강림면', '확장공사', '송내파크골프장', '동일공고', '당말멀티파크', '현신근린공원', '스포츠존', '내부', '영등공원', '정왕테니스장', '실외체육시설', '신길공원', '활용', '영주교육지원청', '신안신의중', '이창환', '아양근린공원', '관리임대성', '기업고등학교', '가칭', '설악야구장', '리모델링공사', '매봉공원', '구포생활체육공원', '칠연지구', '보완공사', '주변정비공사', '사계절썰매장', '이리북중', '공릉중학교', '소규모', '사업비', '율곡고', '주민건강증진공간', '화순제일초', '남율', '석적읍', '순천금당고', '관금', '집행', '시흥공원', '재설치', '다사', '지리산생태체험단지', '한가람고', '장유고등학교', '달천운동장', '미래센터', '팔덕다용도경기장', '타석', '광주북성중', '구매요청건', '건대부중', '포곡테니스장', '조경시설물', '화랑오토캠핑장', '보천마을', '서울동산고등학교', '만들기사업', '스포츠클럽', '운영학교', '농소운동장', '제품', '신림중학교', '보완사업', '고산자연휴양림', '삼각산중학교', '원주삼육중학교', '광희중학교', '시민개방형체육시설조성사업', '시설보완공사', '실내놀이터', '혜윰공원', '시설보안공사', '남사게이트볼장', '실내환경', '시설녹지대', '상대원', '하갈동', '개보수사업', '초계대공원', '달성군민운동장', '충주중', '담장교체', '내수읍', '세천', '가창', '장수공원', '서북구', '아주중', '덕암천', '대전외국인학교', '서오릉근린공원', '남지체육공원', '이건형', '대야동', '운동장환경개선공사', '서울행당초', '갈현', '창선', '육상트랙', '하도리', '음성테니스장', '자혜근린공원', '성동고등학교', '스틸', '플룸관', '철망', '신안공설운동장', '클라이밍장', '연희중학교', '필드', '생활편의관', '한국외대', '희망체육공원', '해룡산단', '김전분교', '구산어린이공원', '망덕배드민턴장', '운동기구', '스포츠', '우기리', '자주도하', '공병여단', '전동초', '정원', '화원게이트볼장', '광탄', '채운면', '주거대', '증개축공사', '김천부곡게이트볼장', '마산중앙중', '다목적구장조성공사', '지세포중학교', '응봉아파트', '모충공원', '체육장', '노인정', '성암국제무역고등학교', '어두항', '설치자재', '줄포자동차공업고등학교', '시설보수', '창원상남초', '대보수사업', '유성중', '서울공업고등학교', '인도잔디포장', '양양중', '공주', '서울양진초등학교', '따른자재', '공사에', '공원화', '어촌뉴딜사업', '퍼걸러', '남양주체육문화센터', '감물전천후게이트볼장', '용원족구장', '장암면', '관급자재구매', '오남호수공원', '농암', '비안면테니스장확장공사', '만석공원', '풍각면복합체육시설건립사업', '삽교고등학교', '대정숲', '증설', '영북테니스장', '익산고', '관급자내', '광남고', '체육관개축', '관리도로', '유소년', '맹준영', '산림', '동대근린공원', '장승중학교', '재송중학교', '운산고등학교', '광양서초', '영암종합운동장', '도계늑구테니스장정비공사관급자재', '문현초등학교', '동부지역', '이촌한강공원', '대진고', '정비용', '중하어린이공원', '축구복합문화센터', '별내체육공원', '추가구입', '보강공사', '상봉중학교', '석교중', '수륜면', '선린대학교', '가좌울공원', '벽천분수', '가좌이음숲', '신파리', '목포정명여자고등학교', '지원사업', '조달청', '납품요청', '서울영신초등학교', '대행', '대동', '보수작업', '관급구매', '곤지암', '설치작업', '춘장대사택', '미력면', '광주석산고', '동명중학교', '구입설치', '충전재포함', '남평', '대륜고등학교', '지석천', '남면생활체육공원', '조성공서', '서울남성초', '현대화사업', '시공원', '서울신구초등학교', '양명초', '고현게이트볼장', '성라테니스장', '성지중학교', '이창룡', '담당자', '호저면', '챌린지', '강화', '역량', '만종리', '수백리', '금산산업고등학교', '가남체육공원', '국립소록도병원', '목포덕인중학교', '공근면', '미호강체육공원', '환경개선관련', '석수골', '달미', '해원초', '동주중학교', '보길중', '우석고등학교', '패드', '중화고등학교', '초안산근린공원놀이및운동공간', '내손체육공원', '축구', '환경조성', '소공원', '고무칩', '코르크', '대연캠퍼스', '동화초', '외야', '센트럴파크', '바닥교체', '용곡중학교', '언남중', '대신고등학교', '이천중학교', '재배정', '시민공원', '안정', '광도', '토목조경공사', '구매계약체결', '문화광장', '부항면', '문호리', '강원사대부고', '소야초', '옥산생활체육공원', '경북고등학교', '봉의고', '별빛공원', '서부지역', '운동장개선', '용동중학교', '춘포다목적운동장개보수공사', '청계면', '공사용자재', '택지개발사업', '검단', '공공디자인사업', '상상공원', '광원리', '내면', '은산면', '경기아이누리놀이터', '햇빛어린이공원', '인성초등학교', '한강공원', '보수정비공사', '시민을', '잔디구입', '충남고', '충남삼성고등학교', '금오게이트볼장', '대전송촌고', '대전가오고', '홍은중', '수선', '인창고등학교', '공원시설관리팀', '빛가람중', '돔구장', '부여종합운동장', '빛가람초', '성무생활체육시설', '송정남근린공원', '대해초', '안창', '지상주차장', '보수사업', '문화근린공원', '봉학지구', '정천면', '생활환경정비사업', '새릉골어린이공원', '중구게이트볼장', '오리어린이공원', '옥곡동', '어린이놀이시설', '양주도담학교', '야외다목적공간', '미래관', '경계석', '바닥개선', '대대', '법면', '살곶이체육공원', '고삼면', '효암고등학교', '조달구', '부안면', '작은섬공원', '송정배수지공원', '발안바이오과학고', '신둔면', '이천시설봉공원히딩크드림필드축구장개보수공사', '야구실내연습장', '북평', '정읍고', '분성체육공원', '설츠', '콘서트홀', '성남아트센터', '거로마을', '강원외국어고등학교', '사염공원', '볼음', '농촌중심지', '병곡면', '서울대청초등학교', '고흥동초', '도산리', '벌곡면', '장전근린공원', '일로읍', '용역', '재활용폐기물처리', '포항환여풋살장', '현산중', '서울봉래초등학교', '서울장충초등학교', '건국중학교', '활성화사업', '천안야구장', '건설사업', '회천', '자원순환센터', '꿈나무근린공원', '야외공연장', '안동역사', '소프트볼연습장', '서울신정고', '연경장', '전북대학교', '경북도청신도시', '경비대', '해안', '해안경비단', '고덕생활축구장', '대학본부', '인제', '부평리', '미리내', '특수재난훈련센터', '특화시설', '전지훈련', '송암', '관리대대', '교통섬', '재정비', '김제중', '골프장', '색달체육공원', '배명고등학교', '지방하천', '제민천', '가산중', '청주대학교', '송정복합체육센터', '에어돔', '김제중학교', '근덕면교가리전천후게이트볼장관급자재', '주민참여형', '양덕게이트볼장', '모란근린공원', '남천면', '인조잔디교체', '평창중', '금화', '원미공원', '국립김천숲속야영장', '승봉리', '자월면', '생활관', '취사식당', '의창테니스장', '영등포고등학교', '수해복구', '천안초등학교', '태백', '어울림체육관', '어르신', '철산게이트볼장', '홍제게이트볼장', '완도중', '부대시설', '대마산단', '신호공원', '건축토목공사', '휴게정원', '유지관리', '덕아웃', '구의야구장', '캠핑장', '힐링', '고원', '전용체육공간', '서울금북초등학교', '안덕게이트볼장', '건립사업', '제천', '스틸그레이팅', '시민운동장', '석수대림아파트', '양산캠퍼스', '간호대학', '복합문화센터', '평은면', '삼향농공단지', '운영', '페스타', '자라섬', '비가림막', '영주', '동의고', '양오', '도구머리근린공원', '태안중학교', '매호동', '인조야구장', '살곶이체육공원시설전면개선공사', '산황동', '무학초', '불암산스포츠타운', '영천', '공급', '황령산레포츠공원', '옥상녹화사업', '부안반다비체육센터', '삼산고', '면보수', '풋살구장', '월드컵경기장', '마을회관', '수도권순환도로', '양주시', '나산면', '확장사업', '중전파크골프장', '영원면게이트볼장데크공사및인조잔디재설치공사', '방공단', '마을만들기사업', '삼구동마을', '신축이전공사', '실내족구장', '통폐합', '태백중', '덕산중학교', '양덕초등학교', '간이운동장', '유니온파크', '계약의뢰', '지사울공원', '양구읍', '이서', '고아', '청운파크골프장', '완도', '호어린이공원', '화순온천', '노후관광지재상사업', '풍납족구장', '관급자재조달구매', '호체육공원', '동탄', '군산기계공고', '한림족구장', '군산신풍초', '당정중', '군산고', '황산리', '동부양산', '옥포', '하천변', '포천시', '반려견', '지천생태공원', '교체에', '청석게이트볼장', '주민편의시설', '양재근린공원', '강변', '부창동', '진주중학교', '삼진운동장', '수유중', '조성용', '부곡여중', '변경구입', '야외게이트볼장', '공원녹지과', '평해', '기흥레스피아', '상대초등학교', '범서굴화종합체육시설', '청도천체육시설', '순천왕운중', '상면생활체육공원', '기타', '청구고등학교', '사곡중학교', '아리랑마을', '병점중학교', '상북면민운동장', '야탑', '잔디운동장', '삼계근린공원어린이놀이터포장교체사업관급자재', '대부둑공원', '구매요청', '노학동', '대산읍', '스탠드', '노래동산', '산토끼', '누리길', '임석천', '용접철망외', '예방', '기능개선공사', '중대재해', '체육시설탄성포장재', '신명중학교', '산북게이트볼장', '서울주소방서', '상무평화공원', '월송리', '경기장', '명륜근린공원', '도민체전', '건설공사', '월드컵대교', '강릉제일고', '하천정비사업', '공릉지구', '공릉천', '야구시설', '야로중학교', '당곡주', '강변리틀야구장', '권역단위거점개발사업', '지급자재', '막구조물', '반려동물', '대구공고', '성주호', '생태둔치', '가야곡', '인헌고', '제주시청소년야영장', '광양중학교', '신림게이트볼장', '금암', '레저스포츠시설', '전주공고', '망치', '내촌면', '여자축구장', '추가구매', '진선여중', '전체', '풋살장시설물', '교육문화센터', '건국고등학교']\n"
     ]
    }
   ],
   "source": [
    "# 종합쇼핑몰 기준 중요키워드 추출\n",
    "print('1등급 키워드 : ', list(mapping_keywd_df[mapping_keywd_df['빈도수'] >= 50].sort_values('빈도수',ascending=False)['키워드']))\n",
    "print('2등급 키워드 : ', list(mapping_keywd_df[(mapping_keywd_df['빈도수'] < 50) & (mapping_keywd_df['빈도수'] >= 40)].sort_values('빈도수',ascending=False)['키워드']))\n",
    "print('3등급 키워드 : ', list(mapping_keywd_df[(mapping_keywd_df['빈도수'] < 40) & (mapping_keywd_df['빈도수'] >= 30)].sort_values('빈도수',ascending=False)['키워드']))\n",
    "print('4등급 키워드 : ', list(mapping_keywd_df[(mapping_keywd_df['빈도수'] < 30) & (mapping_keywd_df['빈도수'] >= 20)].sort_values('빈도수',ascending=False)['키워드']))\n",
    "print('5등급 키워드 : ', list(mapping_keywd_df[(mapping_keywd_df['빈도수'] < 20) & (mapping_keywd_df['빈도수'] >= 10)].sort_values('빈도수',ascending=False)['키워드']))\n",
    "print('기타 키워드 : ', list(mapping_keywd_df[(mapping_keywd_df['빈도수'] < 10)].sort_values('빈도수',ascending=False)['키워드']))"
   ]
  },
  {
   "cell_type": "code",
   "execution_count": 16,
   "id": "ea85d99c",
   "metadata": {},
   "outputs": [],
   "source": [
    "# 빈도수 키워드\n",
    "freq_kwd = ('|').join(list(mapping_keywd_df[(mapping_keywd_df['빈도수'] < 10)]['키워드']))"
   ]
  },
  {
   "cell_type": "markdown",
   "id": "4875e3bd",
   "metadata": {},
   "source": [
    "#### 지자체 세부사업별 예산서"
   ]
  },
  {
   "cell_type": "code",
   "execution_count": 17,
   "id": "34c530df",
   "metadata": {},
   "outputs": [],
   "source": [
    "# 빅쿼리에서 불러오기\n",
    "budget_df_today = get_dataframe_from_bigquery('budget','budget_df_0' + today,bigquerykey_path)\n",
    "budget_df_ytday = get_dataframe_from_bigquery('budget','budget_df_0' + ytday,bigquerykey_path)"
   ]
  },
  {
   "cell_type": "code",
   "execution_count": 18,
   "id": "57d2a9ec",
   "metadata": {},
   "outputs": [
    {
     "data": {
      "text/html": [
       "<div>\n",
       "<style scoped>\n",
       "    .dataframe tbody tr th:only-of-type {\n",
       "        vertical-align: middle;\n",
       "    }\n",
       "\n",
       "    .dataframe tbody tr th {\n",
       "        vertical-align: top;\n",
       "    }\n",
       "\n",
       "    .dataframe thead th {\n",
       "        text-align: right;\n",
       "    }\n",
       "</style>\n",
       "<table border=\"1\" class=\"dataframe\">\n",
       "  <thead>\n",
       "    <tr style=\"text-align: right;\">\n",
       "      <th></th>\n",
       "      <th>회계연도</th>\n",
       "      <th>지역코드</th>\n",
       "      <th>지역명</th>\n",
       "      <th>자치단체코드</th>\n",
       "      <th>자치단체명</th>\n",
       "      <th>회계구분명</th>\n",
       "      <th>세부사업코드</th>\n",
       "      <th>세부사업명</th>\n",
       "      <th>집행일자</th>\n",
       "      <th>예산현액</th>\n",
       "      <th>지출액</th>\n",
       "      <th>편성액</th>\n",
       "      <th>분야명</th>\n",
       "      <th>부문명</th>\n",
       "      <th>행정자치단체코드</th>\n",
       "    </tr>\n",
       "  </thead>\n",
       "  <tbody>\n",
       "  </tbody>\n",
       "</table>\n",
       "</div>"
      ],
      "text/plain": [
       "Empty DataFrame\n",
       "Columns: [회계연도, 지역코드, 지역명, 자치단체코드, 자치단체명, 회계구분명, 세부사업코드, 세부사업명, 집행일자, 예산현액, 지출액, 편성액, 분야명, 부문명, 행정자치단체코드]\n",
       "Index: []"
      ]
     },
     "execution_count": 18,
     "metadata": {},
     "output_type": "execute_result"
    }
   ],
   "source": [
    "# 종료 사업\n",
    "budget_df_delete_temp1 = budget_df_ytday[budget_df_ytday['세부사업코드'].isin(set(budget_df_ytday['세부사업코드']) - set(budget_df_today['세부사업코드']))].reset_index(drop=True)\n",
    "budget_df_delete_temp2 = budget_df_ytday[budget_df_ytday['세부사업명'].isin(set(budget_df_ytday['세부사업명']) - set(budget_df_today['세부사업명']))].reset_index(drop=True)\n",
    "budget_df_delete = pd.concat([budget_df_delete_temp1,budget_df_delete_temp2],axis=0).drop_duplicates().reset_index(drop=True)\n",
    "budget_df_delete"
   ]
  },
  {
   "cell_type": "code",
   "execution_count": 19,
   "id": "5c58a66c",
   "metadata": {},
   "outputs": [
    {
     "data": {
      "text/html": [
       "<div>\n",
       "<style scoped>\n",
       "    .dataframe tbody tr th:only-of-type {\n",
       "        vertical-align: middle;\n",
       "    }\n",
       "\n",
       "    .dataframe tbody tr th {\n",
       "        vertical-align: top;\n",
       "    }\n",
       "\n",
       "    .dataframe thead th {\n",
       "        text-align: right;\n",
       "    }\n",
       "</style>\n",
       "<table border=\"1\" class=\"dataframe\">\n",
       "  <thead>\n",
       "    <tr style=\"text-align: right;\">\n",
       "      <th></th>\n",
       "      <th>회계연도</th>\n",
       "      <th>지역코드</th>\n",
       "      <th>지역명</th>\n",
       "      <th>자치단체코드</th>\n",
       "      <th>자치단체명</th>\n",
       "      <th>회계구분명</th>\n",
       "      <th>세부사업코드</th>\n",
       "      <th>세부사업명</th>\n",
       "      <th>집행일자</th>\n",
       "      <th>예산현액</th>\n",
       "      <th>지출액</th>\n",
       "      <th>편성액</th>\n",
       "      <th>분야명</th>\n",
       "      <th>부문명</th>\n",
       "      <th>행정자치단체코드</th>\n",
       "    </tr>\n",
       "  </thead>\n",
       "  <tbody>\n",
       "    <tr>\n",
       "      <th>0</th>\n",
       "      <td>2024</td>\n",
       "      <td>1100000</td>\n",
       "      <td>서울</td>\n",
       "      <td>1114000</td>\n",
       "      <td>서울성동구</td>\n",
       "      <td>일반회계</td>\n",
       "      <td>30300002024300CF</td>\n",
       "      <td>옥정문화관 체육시설 환경개선</td>\n",
       "      <td>20240821</td>\n",
       "      <td>300000000</td>\n",
       "      <td>0</td>\n",
       "      <td>300000000</td>\n",
       "      <td>문화및관광</td>\n",
       "      <td>체육</td>\n",
       "      <td>3030000</td>\n",
       "    </tr>\n",
       "    <tr>\n",
       "      <th>1</th>\n",
       "      <td>2024</td>\n",
       "      <td>2600000</td>\n",
       "      <td>부산</td>\n",
       "      <td>2614000</td>\n",
       "      <td>부산영도구</td>\n",
       "      <td>일반회계</td>\n",
       "      <td>32800002024300AA</td>\n",
       "      <td>아미르공원 맨발산책로 조성사업</td>\n",
       "      <td>20240821</td>\n",
       "      <td>300000000</td>\n",
       "      <td>0</td>\n",
       "      <td>300000000</td>\n",
       "      <td>국토및지역개발</td>\n",
       "      <td>지역및도시</td>\n",
       "      <td>3280000</td>\n",
       "    </tr>\n",
       "    <tr>\n",
       "      <th>2</th>\n",
       "      <td>2024</td>\n",
       "      <td>2600000</td>\n",
       "      <td>부산</td>\n",
       "      <td>2622000</td>\n",
       "      <td>부산강서구</td>\n",
       "      <td>일반회계</td>\n",
       "      <td>33600002024300B2</td>\n",
       "      <td>옛터어린이공원 환경 개선사업</td>\n",
       "      <td>20240821</td>\n",
       "      <td>200000000</td>\n",
       "      <td>0</td>\n",
       "      <td>200000000</td>\n",
       "      <td>국토및지역개발</td>\n",
       "      <td>지역및도시</td>\n",
       "      <td>3360000</td>\n",
       "    </tr>\n",
       "    <tr>\n",
       "      <th>3</th>\n",
       "      <td>2024</td>\n",
       "      <td>4100000</td>\n",
       "      <td>경기</td>\n",
       "      <td>4134000</td>\n",
       "      <td>경기화성시</td>\n",
       "      <td>일반회계</td>\n",
       "      <td>55300002024302DB</td>\n",
       "      <td>동탄1지구 개나리공원 일원 도로 정비</td>\n",
       "      <td>20240821</td>\n",
       "      <td>500000000</td>\n",
       "      <td>0</td>\n",
       "      <td>500000000</td>\n",
       "      <td>교통및물류</td>\n",
       "      <td>도로</td>\n",
       "      <td>5530000</td>\n",
       "    </tr>\n",
       "  </tbody>\n",
       "</table>\n",
       "</div>"
      ],
      "text/plain": [
       "   회계연도     지역코드 지역명   자치단체코드  자치단체명 회계구분명            세부사업코드  \\\n",
       "0  2024  1100000  서울  1114000  서울성동구  일반회계  30300002024300CF   \n",
       "1  2024  2600000  부산  2614000  부산영도구  일반회계  32800002024300AA   \n",
       "2  2024  2600000  부산  2622000  부산강서구  일반회계  33600002024300B2   \n",
       "3  2024  4100000  경기  4134000  경기화성시  일반회계  55300002024302DB   \n",
       "\n",
       "                  세부사업명      집행일자       예산현액  지출액        편성액      분야명    부문명  \\\n",
       "0       옥정문화관 체육시설 환경개선  20240821  300000000    0  300000000    문화및관광     체육   \n",
       "1      아미르공원 맨발산책로 조성사업  20240821  300000000    0  300000000  국토및지역개발  지역및도시   \n",
       "2       옛터어린이공원 환경 개선사업  20240821  200000000    0  200000000  국토및지역개발  지역및도시   \n",
       "3  동탄1지구 개나리공원 일원 도로 정비  20240821  500000000    0  500000000    교통및물류     도로   \n",
       "\n",
       "  행정자치단체코드  \n",
       "0  3030000  \n",
       "1  3280000  \n",
       "2  3360000  \n",
       "3  5530000  "
      ]
     },
     "execution_count": 19,
     "metadata": {},
     "output_type": "execute_result"
    }
   ],
   "source": [
    "# 새로 추가된 사업\n",
    "budget_df_new_temp1 = budget_df_today[~budget_df_today['세부사업코드'].isin(budget_df_ytday['세부사업코드'])].reset_index(drop=True).reset_index(drop=True)\n",
    "budget_df_new_temp2 = budget_df_today[~budget_df_today['세부사업명'].isin(budget_df_ytday['세부사업명'])].reset_index(drop=True).reset_index(drop=True)\n",
    "budget_df_new = pd.concat([budget_df_new_temp1,budget_df_new_temp2],axis=0).drop_duplicates().reset_index(drop=True)\n",
    "budget_df_new"
   ]
  },
  {
   "cell_type": "code",
   "execution_count": 20,
   "id": "30e45e37",
   "metadata": {},
   "outputs": [],
   "source": [
    "# 필요키워드1\n",
    "need_kwd1 = '학교|초등학교|중학교|고등학교|대학교|다목적|운동장|종합운동장|공원|체육|체육공원|체육시설|체육센터|스포츠|스포츠센터|놀이시설|연병장|축구장|족구장|야구장|풋살장|배드민턴장|테니스장|게이트볼장|하키장'\n",
    "\n",
    "# 필요키워드2\n",
    "need_kwd2 = '개선|교체|보수|공사|구매|구입|설치|정비|조성'\n",
    "\n",
    "# 필요키워드3\n",
    "need_kwd3 = '인조잔디'\n",
    "\n",
    "# 제외키워드\n",
    "except_kwd = 'CCTV|cctv|LED|led|가로등|가속기|간접등|간판|개방|검진|경관|계단|골프장|관리|광고|교량|교실|교육|교차로|균열|그늘막|그림|급수관|급식|난방기|내진|냉방기|네트워크|노상|노점|농기계|단열|데이터|도로개설|도로방음벽|도로정비|도로확장|도서관|디자인|뚜껑|막구조물|맨홀|모노레일|모니터링|미끄럼|미세먼지|미술|방송|방수|방음|방음벽|배면도로|배수|버스|법률자문|벤치|벽화|보건|보도블럭|보상|보일러|보행자도로|복지|볼라드|분묘|불법|빗물받이|사용료|사워실|살포|생육환경|석면|선홈통|소프트웨어|수도|수로|수목표찰|수영장|스크린|스프링클러|승강기|시계탑|시스템|식수대|신호등|안심벨|안전|약수터|억제제|역량|연결도로|예방|예술|오염|옹벽|요양기관|운영|울타리|위생|위험수목|유아|육교|음성안내|음악|의자|인양기|인터넷|입학|자료|자전거|저장고|저장장치|전광판|전기|전신주|전통시장|정화|정화조|조도|조명|조형물|조화기|주차장|줄눈|진로진학|진입도로|창고|창출|처우|철거|취업|치안|카메라|카약|통학로|파고라|펜스|폐기물|폐열|포충기|풀장|풍차|하수|하수관로|하수도|하천|학습|행사|화장|화장실|활성화|횡단보도|휀스|흡연'"
   ]
  },
  {
   "cell_type": "code",
   "execution_count": 21,
   "id": "850c2fc9",
   "metadata": {},
   "outputs": [],
   "source": [
    "budget_df_today = budget_df_today[((budget_df_today['세부사업명'].str.contains(need_kwd1) & \n",
    "                                  budget_df_today['세부사업명'].str.contains(need_kwd2)) &\n",
    "                                  ~budget_df_today['세부사업명'].str.contains(except_kwd)) |\n",
    "                                  budget_df_today['세부사업명'].str.contains(need_kwd3)\n",
    "                                  ].reset_index(drop=True)"
   ]
  },
  {
   "cell_type": "code",
   "execution_count": 22,
   "id": "0e639df9",
   "metadata": {},
   "outputs": [],
   "source": [
    "# 사업명 전처리\n",
    "budget_df_today['세부사업명_re'] = budget_df_today['세부사업명'].apply(clean_text)\n",
    "# budget_df_today['세부사업명_re'] = budget_df_today['세부사업명_re'].str.replace('초등학교','').str.replace('중학교','').str.replace('고등학교','')\n",
    "budget_df_today['세부사업명_re'] = budget_df_today['세부사업명_re'].str.strip()\n",
    "\n",
    "budget_df_today['세부사업명_re'] = budget_df_today['세부사업명_re'].str.split().apply(lambda x: [kw for kw in x if len(kw) > 1]) ## 글자수 1 제외\n",
    "budget_df_today['세부사업명_re'] = budget_df_today['세부사업명_re'].apply((' ').join)"
   ]
  },
  {
   "cell_type": "code",
   "execution_count": 23,
   "id": "447d8aef",
   "metadata": {},
   "outputs": [],
   "source": [
    "# 해당 지역 추출\n",
    "filtered_budget_df_temp1 = budget_df_today[budget_df_today['자치단체명'].str.contains(('|').join(dist_nm))].reset_index(drop=True)\n",
    "filtered_budget_df_temp2 = budget_df_today[budget_df_today['자치단체명'].str.contains('본청')].reset_index(drop=True)\n",
    "\n",
    "filtered_budget_df_today = pd.concat([filtered_budget_df_temp1,filtered_budget_df_temp2],axis=0).reset_index(drop=True)"
   ]
  },
  {
   "cell_type": "markdown",
   "id": "13b0c4a4",
   "metadata": {},
   "source": [
    "#### 지자체 종합쇼핑몰 전처리"
   ]
  },
  {
   "cell_type": "code",
   "execution_count": 24,
   "id": "2ad08b9b",
   "metadata": {},
   "outputs": [],
   "source": [
    "# Initialize the dictionary for split keywords\n",
    "shop_split_kwd = {}\n",
    "for i in range(all_shop_df_fin['납품요구건명_re'].str.split().apply(len).max()):\n",
    "    shop_split_kwd['kwd_' + str(i)] = all_shop_df_fin['납품요구건명_re'].str.split().str[i]"
   ]
  },
  {
   "cell_type": "code",
   "execution_count": 25,
   "id": "e9f6c74a",
   "metadata": {},
   "outputs": [],
   "source": [
    "# 매핑데이터셋\n",
    "mapping_merge_df = []"
   ]
  },
  {
   "cell_type": "code",
   "execution_count": 26,
   "id": "5460a3ac",
   "metadata": {},
   "outputs": [],
   "source": [
    "# 종합쇼핑몰 납품요구건명 split 키워드 순서대로 맵핑\n",
    "# Initialize the list to store the results\n",
    "prep_budget_df_today = filtered_budget_df_today.copy()\n",
    "prep_all_shop_df_fin = all_shop_df_fin.copy()\n",
    "\n",
    "# Iterate over each keyword column\n",
    "for i in range(len(shop_split_kwd)):\n",
    "    keyword_column = 'kwd_' + str(i)\n",
    "    \n",
    "    # Get unique non-null keywords\n",
    "    shop_split_kwd_temp = shop_split_kwd[keyword_column].dropna().unique()\n",
    "\n",
    "    prep_budget_df_today[keyword_column] = prep_budget_df_today['세부사업명_re'].apply(lambda x: ' '.join(re.findall('|'.join(shop_split_kwd_temp), x)))\n",
    "    prep_budget_df_today[keyword_column] = prep_budget_df_today[keyword_column].str.strip()\n",
    "    prep_budget_df_today[keyword_column] = prep_budget_df_today[keyword_column].str.split().apply(lambda x : ' '.join(sorted(set(x)))).str.strip()\n",
    "\n",
    "    prep_all_shop_df_fin[keyword_column] = prep_all_shop_df_fin['납품요구건명_re'].apply(lambda x: ' '.join(re.findall('|'.join(shop_split_kwd_temp), x)))\n",
    "    prep_all_shop_df_fin[keyword_column] = prep_all_shop_df_fin[keyword_column].str.strip()\n",
    "    prep_all_shop_df_fin[keyword_column] = prep_all_shop_df_fin[keyword_column].str.split().apply(lambda x : ' '.join(sorted(set(x)))).str.strip()\n",
    "\n",
    "    mapping_merge_df_temp = pd.merge(\n",
    "            prep_budget_df_today[(prep_budget_df_today[keyword_column] != '') & ~(prep_budget_df_today[keyword_column].isnull())][['지역명','자치단체명','세부사업코드','세부사업명', '세부사업명_re', keyword_column]].reset_index(drop=True),\n",
    "            prep_all_shop_df_fin[(prep_all_shop_df_fin[keyword_column] != '') & ~(prep_all_shop_df_fin[keyword_column].isnull())][['수요기관명','수요기관지역명','납품요구건명', '납품요구건명_re', keyword_column]].reset_index(drop=True),\n",
    "            how='left',\n",
    "            on=keyword_column\n",
    "            ).drop_duplicates().reset_index(drop=True)\n",
    "    \n",
    "    # Append the temporary DataFrame to the results list\n",
    "    mapping_merge_df.append(mapping_merge_df_temp)"
   ]
  },
  {
   "cell_type": "code",
   "execution_count": 27,
   "id": "b8713d0d",
   "metadata": {},
   "outputs": [],
   "source": [
    "# 종합쇼핑몰 지역 키워드 맵핑 - 세부사업명 지역 및 해당지역 추출\n",
    "# Initialize the columns for district keywords\n",
    "prep_budget_df_today = filtered_budget_df_today.copy()\n",
    "prep_all_shop_df_fin = all_shop_df_fin.copy()\n",
    "\n",
    "sig_pat = '|'.join(dist_nm)\n",
    "\n",
    "prep_budget_df_today['kwd_sig'] = prep_budget_df_today['세부사업명_re'].apply(lambda x: ' '.join(re.findall(sig_pat, x)))\n",
    "prep_budget_df_today['kwd_sig'] = prep_budget_df_today['kwd_sig'].str.strip()\n",
    "prep_budget_df_today['kwd_sig'] = prep_budget_df_today['kwd_sig'].str.split()\n",
    "prep_budget_df_today = prep_budget_df_today.explode('kwd_sig')\n",
    "\n",
    "prep_all_shop_df_fin['kwd_sig'] = prep_all_shop_df_fin['납품요구건명_re'].apply(lambda x: ' '.join(re.findall(sig_pat, x)))\n",
    "prep_all_shop_df_fin['kwd_sig'] = prep_all_shop_df_fin['kwd_sig'].str.strip()\n",
    "prep_all_shop_df_fin['kwd_sig'] = prep_all_shop_df_fin['kwd_sig'].str.split()\n",
    "prep_all_shop_df_fin = prep_all_shop_df_fin.explode('kwd_sig')\n",
    "\n",
    "mapping_merge_df_sig = pd.merge(\n",
    "    prep_budget_df_today[(prep_budget_df_today['kwd_sig'] != '') & ~(prep_budget_df_today['kwd_sig'].isnull())][['지역명','자치단체명','세부사업코드','세부사업명', '세부사업명_re', 'kwd_sig']].reset_index(drop=True),\n",
    "    prep_all_shop_df_fin[(prep_all_shop_df_fin['kwd_sig'] != '') & ~(prep_all_shop_df_fin['kwd_sig'].isnull())][['수요기관명','수요기관지역명','납품요구건명', '납품요구건명_re', 'kwd_sig']].reset_index(drop=True),\n",
    "    how='left',\n",
    "    on='kwd_sig'\n",
    "    ).drop_duplicates().reset_index(drop=True)\n",
    "\n",
    "# Append the district keywords DataFrame to the results list\n",
    "mapping_merge_df.append(mapping_merge_df_sig)"
   ]
  },
  {
   "cell_type": "code",
   "execution_count": 28,
   "id": "57d09abc",
   "metadata": {},
   "outputs": [],
   "source": [
    "# 종합쇼핑몰 지역 키워드 맵핑 - 세부사업명 지역 및 해당지역 읍면동 추출\n",
    "# Initialize the columns for district keywords\n",
    "prep_budget_df_today = filtered_budget_df_today.copy()\n",
    "prep_all_shop_df_fin = all_shop_df_fin.copy()\n",
    "\n",
    "emd_pat = '|'.join(set(emd_code_list))\n",
    "\n",
    "prep_budget_df_today['kwd_emd'] = prep_budget_df_today['세부사업명_re'].apply(lambda x: ' '.join(re.findall(emd_pat, x)))\n",
    "prep_budget_df_today['kwd_emd'] = prep_budget_df_today['kwd_emd'].str.strip()\n",
    "prep_budget_df_today['kwd_emd'] = prep_budget_df_today['kwd_emd'].str.split()\n",
    "prep_budget_df_today = prep_budget_df_today.explode('kwd_emd')\n",
    "\n",
    "prep_all_shop_df_fin['kwd_emd'] = prep_all_shop_df_fin['납품요구건명_re'].apply(lambda x: ' '.join(re.findall(emd_pat, x)))\n",
    "prep_all_shop_df_fin['kwd_emd'] = prep_all_shop_df_fin['kwd_emd'].str.strip()\n",
    "prep_all_shop_df_fin['kwd_emd'] = prep_all_shop_df_fin['kwd_emd'].str.split()\n",
    "prep_all_shop_df_fin = prep_all_shop_df_fin.explode('kwd_emd')\n",
    "\n",
    "mapping_merge_df_emd = pd.merge(\n",
    "    prep_budget_df_today[(prep_budget_df_today['kwd_emd'] != '') & ~(prep_budget_df_today['kwd_emd'].isnull())][['지역명','자치단체명','세부사업코드','세부사업명', '세부사업명_re', 'kwd_emd']].reset_index(drop=True),\n",
    "    prep_all_shop_df_fin[(prep_all_shop_df_fin['kwd_emd'] != '') & ~(prep_all_shop_df_fin['kwd_emd'].isnull())][['수요기관명','수요기관지역명','납품요구건명', '납품요구건명_re', 'kwd_emd']].reset_index(drop=True),\n",
    "    how='left',\n",
    "    on='kwd_emd'\n",
    "    ).drop_duplicates().reset_index(drop=True)\n",
    "\n",
    "# Append the district keywords DataFrame to the results list\n",
    "mapping_merge_df.append(mapping_merge_df_emd)"
   ]
  },
  {
   "cell_type": "code",
   "execution_count": 29,
   "id": "284748cd",
   "metadata": {},
   "outputs": [],
   "source": [
    "# 필요키워드 앞부분 추출\n",
    "need_kwd_split = list(set(chain(*all_shop_df_fin['납품요구건명_re'].apply(lambda x: re.split(need_kwd1,x)).apply(''.join).str.split())))\n",
    "need_kwd_split_list = list(pd.Series(need_kwd_split)[pd.Series(need_kwd_split).apply(len) >= 2])"
   ]
  },
  {
   "cell_type": "code",
   "execution_count": 30,
   "id": "e927a558",
   "metadata": {},
   "outputs": [],
   "source": [
    "# 종합쇼핑몰 지역 키워드 맵핑 - 필요키워드 앞부분 매핑\n",
    "# Initialize the columns for district keywords\n",
    "prep_budget_df_today = filtered_budget_df_today.copy()\n",
    "prep_all_shop_df_fin = all_shop_df_fin.copy()\n",
    "\n",
    "kwd_split_pat = '|'.join(set(need_kwd_split_list))\n",
    "\n",
    "prep_budget_df_today['kwd_need_split'] = prep_budget_df_today['세부사업명_re'].apply(lambda x: ' '.join(re.findall(kwd_split_pat, x)))\n",
    "prep_budget_df_today['kwd_need_split'] = prep_budget_df_today['kwd_need_split'].str.strip()\n",
    "prep_budget_df_today['kwd_need_split'] = prep_budget_df_today['kwd_need_split'].str.split()\n",
    "prep_budget_df_today = prep_budget_df_today.explode('kwd_need_split')\n",
    "\n",
    "prep_all_shop_df_fin['kwd_need_split'] = prep_all_shop_df_fin['납품요구건명_re'].apply(lambda x: ' '.join(re.findall(kwd_split_pat, x)))\n",
    "prep_all_shop_df_fin['kwd_need_split'] = prep_all_shop_df_fin['kwd_need_split'].str.strip()\n",
    "prep_all_shop_df_fin['kwd_need_split'] = prep_all_shop_df_fin['kwd_need_split'].str.split()\n",
    "prep_all_shop_df_fin = prep_all_shop_df_fin.explode('kwd_need_split')\n",
    "\n",
    "mapping_merge_df_need_split = pd.merge(\n",
    "    prep_budget_df_today[(prep_budget_df_today['kwd_need_split'] != '') & ~(prep_budget_df_today['kwd_need_split'].isnull())][['지역명','자치단체명','세부사업코드','세부사업명', '세부사업명_re', 'kwd_need_split']].reset_index(drop=True),\n",
    "    prep_all_shop_df_fin[(prep_all_shop_df_fin['kwd_need_split'] != '') & ~(prep_all_shop_df_fin['kwd_need_split'].isnull())][['수요기관명','수요기관지역명','납품요구건명', '납품요구건명_re', 'kwd_need_split']].reset_index(drop=True),\n",
    "    how='left',\n",
    "    on='kwd_need_split'\n",
    "    ).drop_duplicates().reset_index(drop=True)\n",
    "\n",
    "# Append the district keywords DataFrame to the results list\n",
    "mapping_merge_df.append(mapping_merge_df_need_split)"
   ]
  },
  {
   "cell_type": "code",
   "execution_count": 31,
   "id": "cde0487c",
   "metadata": {},
   "outputs": [],
   "source": [
    "# 종합쇼핑몰 지역 키워드 맵핑 - 필요키워드 매핑\n",
    "# Initialize the columns for district keywords\n",
    "prep_budget_df_today = filtered_budget_df_today.copy()\n",
    "prep_all_shop_df_fin = all_shop_df_fin.copy()\n",
    "\n",
    "prep_budget_df_today['kwd_need'] = prep_budget_df_today['세부사업명_re'].apply(lambda x: ' '.join(re.findall(need_kwd1, x)))\n",
    "prep_budget_df_today['kwd_need'] = prep_budget_df_today['kwd_need'].str.strip()\n",
    "prep_budget_df_today['kwd_need'] = prep_budget_df_today['kwd_need'].str.split()\n",
    "prep_budget_df_today = prep_budget_df_today.explode('kwd_need')\n",
    "\n",
    "prep_all_shop_df_fin['kwd_need'] = prep_all_shop_df_fin['납품요구건명_re'].apply(lambda x: ' '.join(re.findall(need_kwd1, x)))\n",
    "prep_all_shop_df_fin['kwd_need'] = prep_all_shop_df_fin['kwd_need'].str.strip()\n",
    "prep_all_shop_df_fin['kwd_need'] = prep_all_shop_df_fin['kwd_need'].str.split()\n",
    "prep_all_shop_df_fin = prep_all_shop_df_fin.explode('kwd_need')\n",
    "\n",
    "mapping_merge_df_need = pd.merge(\n",
    "    prep_budget_df_today[(prep_budget_df_today['kwd_need'] != '') & ~(prep_budget_df_today['kwd_need'].isnull())][['지역명','자치단체명','세부사업코드','세부사업명', '세부사업명_re', 'kwd_need']].reset_index(drop=True),\n",
    "    prep_all_shop_df_fin[(prep_all_shop_df_fin['kwd_need'] != '') & ~(prep_all_shop_df_fin['kwd_need'].isnull())][['수요기관명','수요기관지역명','납품요구건명', '납품요구건명_re', 'kwd_need']].reset_index(drop=True),\n",
    "    how='left',\n",
    "    on='kwd_need'\n",
    "    ).drop_duplicates().reset_index(drop=True)\n",
    "\n",
    "# Append the district keywords DataFrame to the results list\n",
    "mapping_merge_df.append(mapping_merge_df_need)"
   ]
  },
  {
   "cell_type": "code",
   "execution_count": 32,
   "id": "02dd0133",
   "metadata": {},
   "outputs": [],
   "source": [
    "# 키워드별 데이터셋 병합\n",
    "mapping_merge_df_fin = pd.concat(mapping_merge_df, axis=0).drop_duplicates()\n",
    "mapping_merge_df_fin = mapping_merge_df_fin[~mapping_merge_df_fin['납품요구건명'].isnull()].reset_index(drop=True)"
   ]
  },
  {
   "cell_type": "code",
   "execution_count": 33,
   "id": "9e008c9f",
   "metadata": {},
   "outputs": [],
   "source": [
    "# 모든 키워드 합\n",
    "kwd_columns = ['kwd_0','kwd_1','kwd_2','kwd_3','kwd_4','kwd_5','kwd_6','kwd_7','kwd_8','kwd_sig','kwd_emd','kwd_need_split','kwd_need']\n",
    "mapping_merge_df_fin['all_kwd'] = mapping_merge_df_fin[kwd_columns].apply(lambda x : (' ').join(x.dropna()),axis=1)\n",
    "mapping_merge_df_fin['all_kwd'] = mapping_merge_df_fin['all_kwd'].str.strip()\n",
    "mapping_merge_df_fin['all_kwd'] = mapping_merge_df_fin['all_kwd'].str.split().apply(lambda x : ' '.join(sorted(set(x)))).str.strip()\n",
    "mapping_merge_df_fin.drop(columns=kwd_columns, inplace=True)"
   ]
  },
  {
   "cell_type": "code",
   "execution_count": 34,
   "id": "1caf9053",
   "metadata": {},
   "outputs": [],
   "source": [
    "# 지역명 추출1\n",
    "mapping_merge_df_fin['수요기관지역명_split1'] = mapping_merge_df_fin['수요기관지역명'].str.split().str[0]\n",
    "\n",
    "# Define the replacements\n",
    "replacements = {\n",
    "    '전라북도': '전북',\n",
    "    '전라남도': '전남',\n",
    "    '경상북도': '경북',\n",
    "    '경상남도': '경남',\n",
    "    '충청북도': '충북',\n",
    "    '충청남도': '충남'\n",
    "}\n",
    "\n",
    "# Apply the replacements\n",
    "mapping_merge_df_fin['수요기관지역명_split1'] = mapping_merge_df_fin['수요기관지역명_split1'].replace(replacements)\n",
    "mapping_merge_df_fin['수요기관지역명_split1'] = mapping_merge_df_fin['수요기관지역명_split1'].str[:2]"
   ]
  },
  {
   "cell_type": "code",
   "execution_count": 35,
   "id": "ea763a88",
   "metadata": {},
   "outputs": [],
   "source": [
    "# 지역명 추출2\n",
    "mapping_merge_df_fin['수요기관지역명_split2'] = mapping_merge_df_fin['수요기관지역명'].str.split().str[1]\n",
    "dist_sig_pat = '|'.join(mapping_merge_df_fin['수요기관지역명_split2'].dropna().unique())\n",
    "\n",
    "mapping_merge_df_fin['자치단체명_re'] = mapping_merge_df_fin['자치단체명'].apply(lambda x: ' '.join(re.findall(dist_sig_pat, x)))\n",
    "mapping_merge_df_fin['자치단체명_re'] = mapping_merge_df_fin['자치단체명_re'].str.strip()\n",
    "mapping_merge_df_fin['자치단체명_re'] = mapping_merge_df_fin['자치단체명_re'].str.split()\n",
    "mapping_merge_df_fin = mapping_merge_df_fin.explode('자치단체명_re')"
   ]
  },
  {
   "cell_type": "code",
   "execution_count": 36,
   "id": "dd218810",
   "metadata": {},
   "outputs": [],
   "source": [
    "# 제외 지역 제거\n",
    "filtered_mapping_merge_df_fin = mapping_merge_df_fin[mapping_merge_df_fin['자치단체명_re']!=''].drop_duplicates().reset_index(drop=True)"
   ]
  },
  {
   "cell_type": "code",
   "execution_count": 37,
   "id": "b6532a94",
   "metadata": {},
   "outputs": [],
   "source": [
    "# 지역 일치 확인1\n",
    "mapping_merge_df_fin_temp1 = filtered_mapping_merge_df_fin[filtered_mapping_merge_df_fin['지역명']==filtered_mapping_merge_df_fin['수요기관지역명_split1']].drop_duplicates().reset_index(drop=True)\n",
    "mapping_merge_df_fin_temp1 = mapping_merge_df_fin_temp1[mapping_merge_df_fin_temp1['자치단체명'].str.contains('|'.join(mapping_merge_df_fin_temp1['수요기관지역명_split2'].dropna().unique()))].drop_duplicates().reset_index(drop=True)\n",
    "mapping_merge_df_fin_temp1 = mapping_merge_df_fin_temp1[mapping_merge_df_fin_temp1['자치단체명_re']==mapping_merge_df_fin_temp1['수요기관지역명_split2']].drop_duplicates().reset_index(drop=True)\n",
    "\n",
    "# 본청 포함 확인\n",
    "mapping_merge_df_fin_temp2 = filtered_mapping_merge_df_fin[filtered_mapping_merge_df_fin['자치단체명'].str.contains('본청')].drop_duplicates().reset_index(drop=True)\n",
    "\n",
    "# 데이터 병합\n",
    "mapping_merge_df_final = pd.concat([mapping_merge_df_fin_temp1,mapping_merge_df_fin_temp2], axis=0).drop_duplicates().reset_index(drop=True)"
   ]
  },
  {
   "cell_type": "code",
   "execution_count": 38,
   "id": "8fccd4a4",
   "metadata": {},
   "outputs": [],
   "source": [
    "# 그룹화할 컬럼 리스트\n",
    "group_cols = ['지역명', '자치단체명', '세부사업코드', '세부사업명', '세부사업명_re', '수요기관명', '수요기관지역명', '납품요구건명', '납품요구건명_re','수요기관지역명_split1', '자치단체명_re', '수요기관지역명_split2']\n",
    "\n",
    "# 그룹화 및 all_kwd 컬럼 조인\n",
    "mapping_merge_df_final_grp = mapping_merge_df_final.groupby(group_cols).agg({'all_kwd': ' '.join}).reset_index()\n",
    "mapping_merge_df_final_grp['all_kwd'] = mapping_merge_df_final_grp['all_kwd'].str.strip()\n",
    "mapping_merge_df_final_grp['all_kwd'] = mapping_merge_df_final_grp['all_kwd'].str.split().apply(lambda x : ' '.join(sorted(set(x)))).str.strip()"
   ]
  },
  {
   "cell_type": "code",
   "execution_count": 39,
   "id": "644dea3b",
   "metadata": {},
   "outputs": [],
   "source": [
    "# 필요키워드 기준\n",
    "mapping_merge_df_final_grp['세부사업명_키워드1'] = mapping_merge_df_final_grp['세부사업명'].apply(lambda x: ' '.join(re.findall(need_kwd1, x)))\n",
    "mapping_merge_df_final_grp['납품요구건명_키워드1'] = mapping_merge_df_final_grp['납품요구건명'].apply(lambda x: ' '.join(re.findall(need_kwd1, x)))\n",
    "\n",
    "# 사업명 지역 추출\n",
    "mapping_merge_df_final_grp['세부사업명_지역'] = mapping_merge_df_final_grp['세부사업명'].apply(lambda x: ' '.join(re.findall(emd_pat, x)))\n",
    "mapping_merge_df_final_grp['납품요구건명_지역'] = mapping_merge_df_final_grp['납품요구건명'].apply(lambda x: ' '.join(re.findall(emd_pat, x)))\n",
    "\n",
    "# 필요키워드 패턴 기준\n",
    "need_kwd_pat = '\\w+' + ('|\\w+').join(need_kwd1.split('|'))\n",
    "\n",
    "mapping_merge_df_final_grp['세부사업명_키워드2'] = mapping_merge_df_final_grp['세부사업명'].apply(lambda x: ' '.join(re.findall(need_kwd_pat, x)))\n",
    "mapping_merge_df_final_grp['납품요구건명_키워드2'] = mapping_merge_df_final_grp['납품요구건명'].apply(lambda x: ' '.join(re.findall(need_kwd_pat, x)))"
   ]
  },
  {
   "cell_type": "code",
   "execution_count": 40,
   "id": "2dbb6dba",
   "metadata": {},
   "outputs": [],
   "source": [
    "def check_inclusion1(row):\n",
    "    set1 = set(row['세부사업명_키워드1'])\n",
    "    set2 = set(row['납품요구건명_키워드1'])\n",
    "    return bool(set1 & set2)"
   ]
  },
  {
   "cell_type": "code",
   "execution_count": 41,
   "id": "80c2b4d1",
   "metadata": {},
   "outputs": [],
   "source": [
    "# 필요키워드 모두 없는것 제외\n",
    "mapping_merge_df_final_grp_temp1 = mapping_merge_df_final_grp[(mapping_merge_df_final_grp['세부사업명_키워드1']!='')&(mapping_merge_df_final_grp['납품요구건명_키워드1']!='')].reset_index(drop=True)\n",
    "\n",
    "# 필요키워드 포함여부 확인\n",
    "mapping_merge_df_final_grp_temp1['세부사업명_키워드1'] = mapping_merge_df_final_grp_temp1['세부사업명_키워드1'].str.split() ## 키워드별 정리\n",
    "mapping_merge_df_final_grp_temp1['납품요구건명_키워드1'] = mapping_merge_df_final_grp_temp1['납품요구건명_키워드1'].str.split() ## 키워드별 정리\n",
    "\n",
    "mapping_merge_df_final_grp_temp1 = mapping_merge_df_final_grp_temp1[mapping_merge_df_final_grp_temp1.apply(check_inclusion1,axis=1)].reset_index(drop=True)\n",
    "\n",
    "mapping_merge_df_final_grp_temp1['세부사업명_키워드1'] = mapping_merge_df_final_grp_temp1['세부사업명_키워드1'].apply(lambda x : ' '.join(sorted(set(x)))).str.strip()\n",
    "mapping_merge_df_final_grp_temp1['납품요구건명_키워드1'] = mapping_merge_df_final_grp_temp1['납품요구건명_키워드1'].apply(lambda x : ' '.join(sorted(set(x)))).str.strip()"
   ]
  },
  {
   "cell_type": "code",
   "execution_count": 42,
   "id": "35cf7de7",
   "metadata": {},
   "outputs": [],
   "source": [
    "def check_inclusion_dist(row):\n",
    "    set1 = set(row['세부사업명_지역'])\n",
    "    set2 = set(row['납품요구건명_지역'])\n",
    "    return bool(set1 & set2)"
   ]
  },
  {
   "cell_type": "code",
   "execution_count": 43,
   "id": "2b1db702",
   "metadata": {},
   "outputs": [],
   "source": [
    "# 지역 없는것 제외\n",
    "mapping_merge_df_final_grp_temp2 = mapping_merge_df_final_grp[(mapping_merge_df_final_grp['세부사업명_지역']!='')&(mapping_merge_df_final_grp['납품요구건명_지역']!='')].reset_index(drop=True)\n",
    "\n",
    "# 사업명 지역 포함여부 확인\n",
    "mapping_merge_df_final_grp_temp2['세부사업명_지역'] = mapping_merge_df_final_grp_temp2['세부사업명_지역'].str.split()\n",
    "mapping_merge_df_final_grp_temp2['납품요구건명_지역'] = mapping_merge_df_final_grp_temp2['납품요구건명_지역'].str.split()\n",
    "\n",
    "mapping_merge_df_final_grp_temp2 = mapping_merge_df_final_grp_temp2[mapping_merge_df_final_grp_temp2.apply(check_inclusion_dist,axis=1)].reset_index(drop=True)\n",
    "\n",
    "mapping_merge_df_final_grp_temp2['세부사업명_지역'] = mapping_merge_df_final_grp_temp2['세부사업명_지역'].apply(lambda x : ' '.join(sorted(set(x)))).str.strip() ## 키워드별 정리\n",
    "mapping_merge_df_final_grp_temp2['납품요구건명_지역'] = mapping_merge_df_final_grp_temp2['납품요구건명_지역'].apply(lambda x : ' '.join(sorted(set(x)))).str.strip() ## 키워드별 정리"
   ]
  },
  {
   "cell_type": "code",
   "execution_count": 44,
   "id": "001c6098",
   "metadata": {},
   "outputs": [],
   "source": [
    "def check_inclusion2(row):\n",
    "    set1 = set(row['세부사업명_키워드2'])\n",
    "    set2 = set(row['납품요구건명_키워드2'])\n",
    "    return bool(set1 & set2)"
   ]
  },
  {
   "cell_type": "code",
   "execution_count": 45,
   "id": "9721ad33",
   "metadata": {},
   "outputs": [],
   "source": [
    "# 필요키워드패턴 모두 없는것 제외\n",
    "mapping_merge_df_final_grp_temp3 = mapping_merge_df_final_grp[(mapping_merge_df_final_grp['세부사업명_키워드2']!='')&(mapping_merge_df_final_grp['납품요구건명_키워드2']!='')].reset_index(drop=True)\n",
    "\n",
    "# 필요키워드 패턴 포함여부 확인\n",
    "mapping_merge_df_final_grp_temp3['세부사업명_키워드2'] = mapping_merge_df_final_grp_temp3['세부사업명_키워드2'].str.split() ## 키워드별 정리\n",
    "mapping_merge_df_final_grp_temp3['납품요구건명_키워드2'] = mapping_merge_df_final_grp_temp3['납품요구건명_키워드2'].str.split() ## 키워드별 정리\n",
    "\n",
    "mapping_merge_df_final_grp_temp3 = mapping_merge_df_final_grp_temp3[mapping_merge_df_final_grp_temp3.apply(check_inclusion2,axis=1)].reset_index(drop=True)\n",
    "\n",
    "mapping_merge_df_final_grp_temp3['세부사업명_키워드2'] = mapping_merge_df_final_grp_temp3['세부사업명_키워드2'].apply(lambda x : ' '.join(sorted(set(x)))).str.strip()\n",
    "mapping_merge_df_final_grp_temp3['납품요구건명_키워드2'] = mapping_merge_df_final_grp_temp3['납품요구건명_키워드2'].apply(lambda x : ' '.join(sorted(set(x)))).str.strip()"
   ]
  },
  {
   "cell_type": "code",
   "execution_count": 46,
   "id": "5c1b5846",
   "metadata": {},
   "outputs": [],
   "source": [
    "# 필터링 데이터셋 병합\n",
    "mapping_merge_df_final_grp_fin = pd.concat([mapping_merge_df_final_grp_temp1,mapping_merge_df_final_grp_temp2,mapping_merge_df_final_grp_temp3]).drop_duplicates().reset_index(drop=True)"
   ]
  },
  {
   "cell_type": "code",
   "execution_count": 47,
   "id": "9d92bdf7",
   "metadata": {},
   "outputs": [],
   "source": [
    "# 모든 키워드 합 중복 제거\n",
    "kwd_columns = ['all_kwd','세부사업명_키워드1', '납품요구건명_키워드1', '세부사업명_지역', '납품요구건명_지역', '세부사업명_키워드2', '납품요구건명_키워드2']\n",
    "mapping_merge_df_final_grp_fin['all_kwd_fin'] = mapping_merge_df_final_grp_fin[kwd_columns].apply(lambda x : (' ').join(x.dropna()),axis=1)\n",
    "mapping_merge_df_final_grp_fin['all_kwd_fin'] = mapping_merge_df_final_grp_fin['all_kwd_fin'].str.strip()\n",
    "mapping_merge_df_final_grp_fin['all_kwd_fin'] = mapping_merge_df_final_grp_fin['all_kwd_fin'].str.split().apply(lambda x : ' '.join(sorted(set(x)))).str.strip()\n",
    "# mapping_merge_df_final_grp_fin.drop(columns=kwd_columns, inplace\n",
    "# =True)\n",
    "\n",
    "mapping_merge_df_final_grp_fin = mapping_merge_df_final_grp_fin.drop_duplicates(['지역명', '자치단체명', '세부사업코드', '세부사업명', '세부사업명_re', '수요기관명', '수요기관지역명',\n",
    "                                                                                 '납품요구건명', '납품요구건명_re', '수요기관지역명_split1', '자치단체명_re', '수요기관지역명_split2', 'all_kwd_fin']).reset_index(drop=True)"
   ]
  },
  {
   "cell_type": "code",
   "execution_count": 48,
   "id": "9494704a",
   "metadata": {},
   "outputs": [],
   "source": [
    "# 최종필터링1 - 지역 일치\n",
    "mapping_merge_df_final_grp_fin_temp1 = mapping_merge_df_final_grp_fin[(mapping_merge_df_final_grp_fin['세부사업명_지역']!='') & (mapping_merge_df_final_grp_fin['납품요구건명_지역']!='')]\n",
    "mapping_merge_df_final_grp_fin_temp1 = mapping_merge_df_final_grp_fin_temp1[mapping_merge_df_final_grp_fin_temp1['세부사업명_지역']==mapping_merge_df_final_grp_fin_temp1['납품요구건명_지역']]"
   ]
  },
  {
   "cell_type": "code",
   "execution_count": 49,
   "id": "20c975a6",
   "metadata": {},
   "outputs": [],
   "source": [
    "# 최종필터링2 - 필수키워드 패턴 포함 & 지역 불일치 제거\n",
    "mapping_merge_df_final_grp_fin_temp2 = mapping_merge_df_final_grp_fin[(mapping_merge_df_final_grp_fin['세부사업명_키워드2']!='')&(mapping_merge_df_final_grp_fin['납품요구건명_키워드2']!='')].reset_index(drop=True)\n",
    "\n",
    "# 필요키워드 패턴 포함여부 확인\n",
    "mapping_merge_df_final_grp_fin_temp2['세부사업명_키워드2'] = mapping_merge_df_final_grp_fin_temp2['세부사업명_키워드2'].str.split() ## 키워드별 정리\n",
    "mapping_merge_df_final_grp_fin_temp2['납품요구건명_키워드2'] = mapping_merge_df_final_grp_fin_temp2['납품요구건명_키워드2'].str.split() ## 키워드별 정리\n",
    "\n",
    "mapping_merge_df_final_grp_fin_temp2 = mapping_merge_df_final_grp_fin_temp2[mapping_merge_df_final_grp_fin_temp2.apply(check_inclusion2,axis=1)].reset_index(drop=True)\n",
    "\n",
    "mapping_merge_df_final_grp_fin_temp2['세부사업명_키워드2'] = mapping_merge_df_final_grp_fin_temp2['세부사업명_키워드2'].apply(lambda x : ' '.join(sorted(set(x)))).str.strip()\n",
    "mapping_merge_df_final_grp_fin_temp2['납품요구건명_키워드2'] = mapping_merge_df_final_grp_fin_temp2['납품요구건명_키워드2'].apply(lambda x : ' '.join(sorted(set(x)))).str.strip()\n",
    "\n",
    "# 지역 불일치 제거\n",
    "mapping_merge_df_final_grp_fin_temp2 = mapping_merge_df_final_grp_fin_temp2[mapping_merge_df_final_grp_fin_temp2['세부사업명_지역']==mapping_merge_df_final_grp_fin_temp2['납품요구건명_지역']]"
   ]
  },
  {
   "cell_type": "code",
   "execution_count": 50,
   "id": "5120db74",
   "metadata": {},
   "outputs": [],
   "source": [
    "# 최종 필터링 데이터셋\n",
    "mapping_merge_df_final_grp_final = pd.concat([mapping_merge_df_final_grp_fin_temp1,mapping_merge_df_final_grp_fin_temp2]).drop_duplicates().reset_index(drop=True)\n",
    "mapping_merge_df_final_grp_final.drop(columns = 'all_kwd', inplace=True)"
   ]
  },
  {
   "cell_type": "code",
   "execution_count": 51,
   "id": "48cbf22f",
   "metadata": {},
   "outputs": [],
   "source": [
    "mapping_merge_df_final_grp_final.to_csv('C:\\py_src\\midoproject\\data/filtered_mapping_budget_df.csv', encoding='utf-8-sig')"
   ]
  },
  {
   "cell_type": "code",
   "execution_count": 52,
   "id": "418b5c02",
   "metadata": {},
   "outputs": [],
   "source": [
    "# 종합쇼핑몰 기준 필터링\n",
    "bid_cd1 = list(budget_df_today[budget_df_today['세부사업코드'].isin(mapping_merge_df_final_grp_final['세부사업코드'])]['세부사업코드'])\n",
    "bid_cd2 = list(budget_df_today[budget_df_today['세부사업명'].isin(mapping_merge_df_final_grp_final['세부사업명'])]['세부사업코드'])"
   ]
  },
  {
   "cell_type": "code",
   "execution_count": 53,
   "id": "6e28988a",
   "metadata": {},
   "outputs": [],
   "source": [
    "budget_df_today_fin = budget_df_today[~budget_df_today['세부사업코드'].isin(set(bid_cd1 + bid_cd2))].drop_duplicates().reset_index(drop=True)"
   ]
  },
  {
   "cell_type": "code",
   "execution_count": 54,
   "id": "ccfaa85d",
   "metadata": {},
   "outputs": [],
   "source": [
    "# 중요 사업 체크\n",
    "budget_df_today_final = pd.concat([budget_df_today_fin[budget_df_today_fin['세부사업명'].str.contains('인조잔디')],\n",
    "                                   budget_df_today_fin[~budget_df_today_fin['세부사업명'].str.contains('인조잔디')]],axis=0).reset_index(drop=True)"
   ]
  },
  {
   "cell_type": "code",
   "execution_count": 55,
   "id": "df586b0e",
   "metadata": {},
   "outputs": [],
   "source": [
    "# 최종데이터셋\n",
    "budget_df_today_final = budget_df_today_final[['회계연도', '집행일자', '지역명', '자치단체명', '회계구분명', '세부사업명','예산현액', '지출액', '편성액', '분야명', '부문명']].drop_duplicates().reset_index(drop=True)\n",
    "budget_df_delete = budget_df_delete[['회계연도', '집행일자', '지역명', '자치단체명', '회계구분명', '세부사업명','예산현액', '지출액', '편성액', '분야명', '부문명']].drop_duplicates().reset_index(drop=True)\n",
    "budget_df_new = budget_df_new[['회계연도', '집행일자', '지역명', '자치단체명', '회계구분명', '세부사업명','예산현액', '지출액', '편성액', '분야명', '부문명']].drop_duplicates().reset_index(drop=True)"
   ]
  },
  {
   "cell_type": "code",
   "execution_count": 56,
   "id": "913d0209",
   "metadata": {},
   "outputs": [
    {
     "name": "stdout",
     "output_type": "stream",
     "text": [
      "Data inserted into table budget_df_listup successfully.\n",
      "Data inserted into table budget_df_delete successfully.\n",
      "Data inserted into table budget_df_new successfully.\n"
     ]
    }
   ],
   "source": [
    "# 빅쿼리에 적재\n",
    "save_dataframe_to_bigquery(budget_df_today_final,'budget','budget_df_listup',bigquerykey_path)\n",
    "save_dataframe_to_bigquery(budget_df_delete,'budget','budget_df_delete',bigquerykey_path)\n",
    "save_dataframe_to_bigquery(budget_df_new,'budget','budget_df_new',bigquerykey_path)"
   ]
  }
 ],
 "metadata": {
  "kernelspec": {
   "display_name": "Python 3 (ipykernel)",
   "language": "python",
   "name": "python3"
  },
  "language_info": {
   "codemirror_mode": {
    "name": "ipython",
    "version": 3
   },
   "file_extension": ".py",
   "mimetype": "text/x-python",
   "name": "python",
   "nbconvert_exporter": "python",
   "pygments_lexer": "ipython3",
   "version": "3.8.19"
  }
 },
 "nbformat": 4,
 "nbformat_minor": 5
}
