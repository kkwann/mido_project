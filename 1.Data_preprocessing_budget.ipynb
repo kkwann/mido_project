{
 "cells": [
  {
   "cell_type": "code",
   "execution_count": 1,
   "id": "81fa5b7b-0d13-4592-b87c-523fcd4d8714",
   "metadata": {},
   "outputs": [],
   "source": [
    "import pandas as pd\n",
    "import numpy as np\n",
    "\n",
    "import re\n",
    "from itertools import chain\n",
    "from collections import Counter\n",
    "\n",
    "from google.cloud import bigquery\n",
    "from google.oauth2 import service_account\n",
    "\n",
    "from datetime import datetime, timedelta\n",
    "\n",
    "import requests\n",
    "import warnings\n",
    "from requests.packages.urllib3.exceptions import InsecureRequestWarning\n",
    "\n",
    "# InsecureRequestWarning 경고 무시\n",
    "warnings.simplefilter('ignore', InsecureRequestWarning)"
   ]
  },
  {
   "cell_type": "code",
   "execution_count": 2,
   "id": "de7792c0",
   "metadata": {},
   "outputs": [],
   "source": [
    "KEY_PATH = \".config/\"\n",
    "servicekey_path = KEY_PATH + \"serviceKey.json\" ## 빅쿼리 외 다른 API 활용 위해\n",
    "bigquerykey_path = KEY_PATH + \"mido-project-426906-31b49963ac97.json\"\n",
    "\n",
    "warnings.filterwarnings(\"ignore\")"
   ]
  },
  {
   "cell_type": "code",
   "execution_count": 3,
   "id": "e426681b",
   "metadata": {},
   "outputs": [],
   "source": [
    "# BigQuery 클라이언트 생성 함수\n",
    "def create_bigquery_client(key_path):\n",
    "    credentials = service_account.Credentials.from_service_account_file(key_path)\n",
    "    client = bigquery.Client(credentials=credentials, project=credentials.project_id)\n",
    "    return client"
   ]
  },
  {
   "cell_type": "code",
   "execution_count": 4,
   "id": "1ae8163d",
   "metadata": {},
   "outputs": [],
   "source": [
    "def save_dataframe_to_bigquery(df, dataset_id, table_id, key_path):\n",
    "    # BigQuery 클라이언트 객체 생성\n",
    "    client = create_bigquery_client(key_path)\n",
    "\n",
    "    # 테이블 레퍼런스 생성\n",
    "    table_ref = client.dataset(dataset_id).table(table_id)\n",
    "\n",
    "    # 데이터프레임을 BigQuery 테이블에 적재\n",
    "    job_config = bigquery.LoadJobConfig()\n",
    "    job_config.write_disposition = \"WRITE_TRUNCATE\"  # 기존 테이블 내용 삭제 후 삽입\n",
    "\n",
    "    job = client.load_table_from_dataframe(df, table_ref, job_config=job_config)\n",
    "    job.result()  # 작업 완료 대기\n",
    "\n",
    "    print(f\"Data inserted into table {table_id} successfully.\")"
   ]
  },
  {
   "cell_type": "code",
   "execution_count": 5,
   "id": "72805c5d",
   "metadata": {},
   "outputs": [],
   "source": [
    "def get_dataframe_from_bigquery(dataset_id, table_id, key_path):\n",
    "    # BigQuery 클라이언트 생성\n",
    "    client = create_bigquery_client(key_path)\n",
    "\n",
    "    # 테이블 레퍼런스 생성\n",
    "    table_ref = client.dataset(dataset_id).table(table_id)\n",
    "\n",
    "    # 테이블 데이터를 DataFrame으로 변환\n",
    "    df = client.list_rows(table_ref).to_dataframe()\n",
    "\n",
    "    return df"
   ]
  },
  {
   "cell_type": "code",
   "execution_count": 6,
   "id": "c8f939ce",
   "metadata": {},
   "outputs": [],
   "source": [
    "# 오늘 날짜\n",
    "today = datetime.today()#.strftime('%Y%m%d')\n",
    "\n",
    "# 어제 날짜 계산\n",
    "ytday = datetime.today() - timedelta(days=1)\n",
    "\n",
    "# 만약 어제, 오늘이 토요일(5) 또는 일요일(6)이라면, 그 전주 금요일로 변경\n",
    "if ytday.weekday() == 5:  # 토요일\n",
    "    ytday -= timedelta(days=1)\n",
    "elif ytday.weekday() == 6:  # 일요일\n",
    "    ytday -= timedelta(days=2)\n",
    "if today.weekday() == 5:  # 토요일\n",
    "    today -= timedelta(days=1)\n",
    "elif today.weekday() == 6:  # 일요일\n",
    "    today -= timedelta(days=2)\n",
    "\n",
    "# 'YYYYMMDD' 형식으로 변환\n",
    "ytday = ytday.strftime('%Y%m%d')\n",
    "today = today.strftime('%Y%m%d')"
   ]
  },
  {
   "cell_type": "markdown",
   "id": "edba1a69",
   "metadata": {},
   "source": [
    "#### 법정동코드"
   ]
  },
  {
   "cell_type": "code",
   "execution_count": 7,
   "id": "427babe8",
   "metadata": {},
   "outputs": [],
   "source": [
    "dist_code = pd.read_csv('C:\\py_src\\midoproject\\data/법정동코드 전체자료.csv',encoding='cp949')"
   ]
  },
  {
   "cell_type": "code",
   "execution_count": 8,
   "id": "62a39fcd",
   "metadata": {},
   "outputs": [],
   "source": [
    "dist_code_list = []\n",
    "for i in range(dist_code['법정동명'].str.split().apply(len).max()):\n",
    "    dist_code_temp = dist_code[dist_code['법정동명'].str.split().str[i].str[-1].isin(['읍','면','동','리','가','로']).dropna()]\n",
    "    dist_code_list.append([dist_code_temp['법정동명'].str.split().str[i].dropna().unique()])\n",
    "\n",
    "emd_code_list = list(chain(*chain(*dist_code_list)))"
   ]
  },
  {
   "cell_type": "markdown",
   "id": "604a6a0e",
   "metadata": {},
   "source": [
    "#### 종합쇼핑몰 납품상세내역"
   ]
  },
  {
   "cell_type": "code",
   "execution_count": 9,
   "id": "54c3efeb",
   "metadata": {},
   "outputs": [],
   "source": [
    "all_shop_df = get_dataframe_from_bigquery('g2b', 'shop_detail_df_all', bigquerykey_path)"
   ]
  },
  {
   "cell_type": "code",
   "execution_count": 10,
   "id": "a84ea0fe",
   "metadata": {},
   "outputs": [],
   "source": [
    "years = today[:-4]\n",
    "all_shop_df = all_shop_df[all_shop_df['납품요구접수일자'].str.split('-').str[0]==years].reset_index(drop=True)\n",
    "all_shop_df_fin = all_shop_df[['납품요구접수일자', '수요기관명', '납품요구건명', '업체명', '단가', '단위', '수량', '금액', '수요기관코드', '수요기관구분', '수요기관지역명','납품요구지청명']]\n",
    "all_shop_df_fin = all_shop_df_fin.sort_values(['납품요구접수일자'],ascending=False).reset_index(drop=True)"
   ]
  },
  {
   "cell_type": "code",
   "execution_count": 11,
   "id": "f2310ea0",
   "metadata": {},
   "outputs": [],
   "source": [
    "# 특수문자, 숫자, 영어 제거 함수 (연속된 공백을 단일 공백으로 변환 포함)\n",
    "def clean_text(text):\n",
    "    text = re.sub('[^ㄱ-ㅎㅏ-ㅣ가-힣\\s]', ' ', text)\n",
    "    text = re.sub('\\s+', ' ', text).strip()  # 연속된 공백을 단일 공백으로 변환\n",
    "    return text"
   ]
  },
  {
   "cell_type": "code",
   "execution_count": 12,
   "id": "1a7746b0",
   "metadata": {},
   "outputs": [],
   "source": [
    "# 사업명 전처리\n",
    "all_shop_df_fin['납품요구건명_re'] = all_shop_df_fin['납품요구건명'].apply(clean_text)\n",
    "# all_shop_df_fin['납품요구건명_re'] = all_shop_df_fin['납품요구건명_re'].str.replace('초등학교','').str.replace('중학교','').str.replace('고등학교','')\n",
    "all_shop_df_fin['납품요구건명_re'] = all_shop_df_fin['납품요구건명_re'].str.strip()\n",
    "\n",
    "all_shop_df_fin['납품요구건명_re'] = all_shop_df_fin['납품요구건명_re'].str.split().apply(lambda x: [kw for kw in x if len(kw) > 1]) ## 글자수 1 제외\n",
    "all_shop_df_fin['납품요구건명_re'] = all_shop_df_fin['납품요구건명_re'].apply((' ').join)"
   ]
  },
  {
   "cell_type": "code",
   "execution_count": 13,
   "id": "d92577b6",
   "metadata": {},
   "outputs": [],
   "source": [
    "# 수요기관 필터링\n",
    "dist_nm = pd.Series(all_shop_df_fin[all_shop_df_fin['수요기관지역명'].str.split(' ').str[1].notnull()]['수요기관지역명'].str.split(' ').str[1].unique())\n",
    "dist_nm = np.where(dist_nm.apply(len)<=2,dist_nm,dist_nm.str[:-1])"
   ]
  },
  {
   "cell_type": "code",
   "execution_count": 14,
   "id": "1cb2aa1f",
   "metadata": {},
   "outputs": [
    {
     "data": {
      "text/html": [
       "<div>\n",
       "<style scoped>\n",
       "    .dataframe tbody tr th:only-of-type {\n",
       "        vertical-align: middle;\n",
       "    }\n",
       "\n",
       "    .dataframe tbody tr th {\n",
       "        vertical-align: top;\n",
       "    }\n",
       "\n",
       "    .dataframe thead th {\n",
       "        text-align: right;\n",
       "    }\n",
       "</style>\n",
       "<table border=\"1\" class=\"dataframe\">\n",
       "  <thead>\n",
       "    <tr style=\"text-align: right;\">\n",
       "      <th></th>\n",
       "      <th>키워드</th>\n",
       "      <th>빈도수</th>\n",
       "    </tr>\n",
       "  </thead>\n",
       "  <tbody>\n",
       "    <tr>\n",
       "      <th>4</th>\n",
       "      <td>인조잔디</td>\n",
       "      <td>942</td>\n",
       "    </tr>\n",
       "    <tr>\n",
       "      <th>9</th>\n",
       "      <td>관급자재</td>\n",
       "      <td>526</td>\n",
       "    </tr>\n",
       "    <tr>\n",
       "      <th>15</th>\n",
       "      <td>구입</td>\n",
       "      <td>295</td>\n",
       "    </tr>\n",
       "    <tr>\n",
       "      <th>11</th>\n",
       "      <td>구매</td>\n",
       "      <td>168</td>\n",
       "    </tr>\n",
       "    <tr>\n",
       "      <th>13</th>\n",
       "      <td>운동장</td>\n",
       "      <td>125</td>\n",
       "    </tr>\n",
       "    <tr>\n",
       "      <th>...</th>\n",
       "      <td>...</td>\n",
       "      <td>...</td>\n",
       "    </tr>\n",
       "    <tr>\n",
       "      <th>745</th>\n",
       "      <td>동의고</td>\n",
       "      <td>1</td>\n",
       "    </tr>\n",
       "    <tr>\n",
       "      <th>746</th>\n",
       "      <td>전북대학교</td>\n",
       "      <td>1</td>\n",
       "    </tr>\n",
       "    <tr>\n",
       "      <th>747</th>\n",
       "      <td>대학본부</td>\n",
       "      <td>1</td>\n",
       "    </tr>\n",
       "    <tr>\n",
       "      <th>190</th>\n",
       "      <td>우석고등학교</td>\n",
       "      <td>1</td>\n",
       "    </tr>\n",
       "    <tr>\n",
       "      <th>1510</th>\n",
       "      <td>건국고등학교</td>\n",
       "      <td>1</td>\n",
       "    </tr>\n",
       "  </tbody>\n",
       "</table>\n",
       "<p>1511 rows × 2 columns</p>\n",
       "</div>"
      ],
      "text/plain": [
       "         키워드  빈도수\n",
       "4       인조잔디  942\n",
       "9       관급자재  526\n",
       "15        구입  295\n",
       "11        구매  168\n",
       "13       운동장  125\n",
       "...      ...  ...\n",
       "745      동의고    1\n",
       "746    전북대학교    1\n",
       "747     대학본부    1\n",
       "190   우석고등학교    1\n",
       "1510  건국고등학교    1\n",
       "\n",
       "[1511 rows x 2 columns]"
      ]
     },
     "execution_count": 14,
     "metadata": {},
     "output_type": "execute_result"
    }
   ],
   "source": [
    "# 전체 키워드 데이터셋\n",
    "mapping_keywd_all = list(chain(*all_shop_df_fin['납품요구건명_re'].str.split(' '))) ## 전체 키워드\n",
    "mapping_keywd_df = pd.DataFrame(Counter(mapping_keywd_all).items(),columns=['키워드','빈도수'])\n",
    "mapping_keywd_df = mapping_keywd_df[mapping_keywd_df['키워드'].apply(len)!=1].reset_index(drop=True)\n",
    "mapping_keywd_df.sort_values('빈도수',ascending=False)"
   ]
  },
  {
   "cell_type": "code",
   "execution_count": 15,
   "id": "c11c5e8a",
   "metadata": {},
   "outputs": [
    {
     "name": "stdout",
     "output_type": "stream",
     "text": [
      "1등급 키워드 :  ['인조잔디', '관급자재', '구입', '구매', '운동장', '조성공사', '관급', '공사', '테니스장', '조성사업', '게이트볼장', '체육시설', '정비공사', '교체공사']\n",
      "2등급 키워드 :  ['조성', '풋살장', '축구장', '설치']\n",
      "3등급 키워드 :  ['개선공사', '파크골프장', '족구장']\n",
      "4등급 키워드 :  ['설치공사', '교체', '보수공사', '환경개선', '환경개선공사', '토목', '조달구매', '개보수공사']\n",
      "5등급 키워드 :  ['정비사업', '다목적구장', '건축', '개선사업', '개선', '보수', '시설개선공사', '시설개선사업', '개소', '물품', '조달', '잔디', '연병장', '부대', '신축공사', '정비', '시설개선', '사업', '생활체육공원', '요청', '다목적', '조경', '체육공원']\n",
      "기타 키워드 :  ['교체사업', '추가', '어린이공원', '단계', '인조잔디운동장', '관련', '생활체육시설', '구장', '인조잔디조성공사', '개보수', '시설', '위한', '관급자', '신축', '실내게이트볼장', '차분', '따른', '야구장', '노후시설', '배수판', '공공체육시설', '시행', '리모델링', '치수과', '공공하수처리시설', '체육', '인조잔디외', '김영훈', '일산중', '기초생활거점조성사업', '구입의뢰', '운동장환경개선', '트랙조성', '설치사업', '토목공사', '증설공사', '당진', '그라운드골프장', '조경공사', '스포츠타운', '해운대수목원', '건립', '수해복구공사', '본부', '건축공사', '재정비사업', '대보수', '체육진흥과', '울타리', '사단', '근린공원', '확장', '비가림시설', '환경개선사업', '우수조달', '여단', '학교운동장', '재정비공사', '일원', '하부', '시설물', '배드민턴장', '기타공사', '관급자관급', '학년도', '친환경', '다목적체육관', '트랙', '조달구입', '운동공간', '구매설치', '광복공원', '본원', '파크골프연습장', '스포츠파크', '수지아르피아', '인조', '트랙보수', '환경친화적', '정구장', '체육시설관리과', '옥외', '재조성', '보조경기장', '시설공사', '고가하부', '안빈', '휀스', '자재', '공원시설', '아침체인지', '정선종합운동장', '관인고등학교', '백운포체육공원', '사령부', '기갑여단', '구입의', '실외', '관급자설치관급자재', '피해복구', '군단', '운동시설설치공사', '체육관', '코트', '납품', '그린스마트', '사회인야구장', '풋살경기장', '재조성공사', '관급자재구입', '변경', '미래학교', '기타시설공사', '탄성포장재', '살곶이체육공원시설', '축구종합센터', '국립수산과학원', '소계체육공원', '바닥', '버들어린이공원', '광장', '포병여단', '그라운드', '조달물품', '서울정목초', '교체공사에', '두호', '배수로', '구축', '회전교차로', '비가림', '성곡리', '장수면', '종합운동장', '창녕국민체육센터', '대치초', '북방면', '수변공원', '외부', '무안공설운동장', '인조잔디구장', '충전재', '조리마을', '보조구장', '노후인조잔디', '기계', '개축공사', '체육관신축', '교량하부', '사업을', '포장', '테니스', '고창', '주변', '명품탄천', '인조잔디공사', '삼남', '노후시설물', '설악동', '국립공주대학교', '완도군', '원주캠퍼스', '바닥재', '지구', '반구전문농공단지', '인조잔대', '희망봉', '문무아파트', '화채마을', '관사', '와우코리요공원', '토목시설', '일광유원지', '증평생활야구장', '다양한', '차수', '운동부', '포항제철고등학교', '건의', '우수조달물품', '덕적', '궁도장', '우레탄', '시립테니스장', '테라스', '공원', '전천후게이트볼장', '웅천생활체육공원', '증축공사', '인조운동장', '잠신중', '음성', '인곡산업단지', '야외', '풍기', '인조잔디포장', '외부환경', '동림교', '충격흡수배수판', '전천후', '북방', '바람근린공원', '그린스마트스쿨', '오성공원', '보라동', '포곡대교', '소동', '주경기장', '칠서', '기능보강', '중랑천', '둔치', '재해복구공사', '바닥보수', '하산곡동', '한천', '문화체육과', '포장공사', '골프연습장', '기능보강공사', '기로리', '입장', '컨테이너박스', '완산생활체육공원', '낭성면', '계약', '포함', '한내근린공원', '하천', '망성면', '석관중', '삼선초', '목포하당초', '가곡야구장', '박해나', '어린이놀이터', '갑천', '편의시설', '함안스포츠타운', '창고', '모형탑', '헬기레펠', '부사교', '내야', '보조', '현대차드림볼파크', '기장', '시설정비사업', '장승배기', '시설물정비', '노해공원', '노후체육시설', '응봉공원', '건립공사', '소향공원', '청주교대', '원삼면', '주차장', '재생공사', '둔내종합체육공원', '생태공원', '교체공사에따른', '복지대대', '조성관련', '산양게이트볼장', '한경면', '송정체육공원', '봉무', '화순홍수조절지파크골프장조성사업', '발주', '무주중', '우수', '그린', '화명고가교', '교내', '관급자설치', '노후', '금강초', '춘천초', '안계고테니스장보수공사', '관광체육과', '미산면', '부산개성중학교', '한반도면', '북면', '체육시설내', '야외무대', '기자재', '비품', '이천세무고', '대전제일고등학교', '안평게이트볼장', '평택중', '정왕동', '이호어린이공원', '아이들파크', '본오', '잠실야구장', '금강스포츠공원', '실내', '내수야구장', '구매건', '조성을', '서울디지텍고등학교', '다정다감', '잔디교체', '이설', '송호고', '학교공간', '자율계획사업', '부안초', '스터디룸', '성남종합운동장', '이나라', '용지면', '이전', '남악고', '년게이트볼장보수사업', '어울렁더울렁센터', '인조잔디조성', '파주중', '시설보수공사', '신동초', '친환경운동장', '양덕', '전자', '부대공사', '도원체육공원', '놀이터', '훈련장', '오산대학교', '재주문', '목도초', '확장공사에', '울산종합운동장', '설악중', '전천파크골프장', '아라초', '상남테니스장', '익산', '토목과', '현리광장', '나병윤', '구축에', '응봉체육공원', '용안', '남노송동', '랜드마크시티', '야구연습장', '경비단', '낙동강변', '명천동', '규격확장', '영성', '주문건의', '현북', '성주파크골프장', '압해게이트볼장', '도드리놀이공원', '달빛공원', '공설운동장', '원통생활체육공원', '조경석', '군민운동장', '확충사업', '여단본부', '사회인', '광동중', '고등학교', '중앙공원', '조성공사를', '춘복산', '개체공사', '무동풋살장', '백운테니스장', '송죽', '구성면', '장병체력단련시설', '북경주', '남계리', '약목면', '이리동중', '부산외고', '웅촌덕현마을체육시설설치공사', '백운면', '복지센터', '계양대교', '연녹색', '구향공원', '주민쉼터', '쌈지공원', '레미콘', '산유게이트볼장', '수정', '판암차량기지', '정구', '구입건의', '삼계리', '내부정비공사', '주민숙원사업', '금성초등학교', '전면', '대월면', '국도', '본부대', '호선', '진녹색', '용호고등학교', '효명고', '성서운동장', '서호', '야구연습체육관', '유원지', '간이골프장', '송정풋살구장', '삼장', '여울공원', '혁신도시', '제곡리', '어린이', '놀이공간', '죽도', '야외테니스장', '시설정비', '인조잔디교체공사', '개축', '칠원읍', '학동마을', '남지국민체육센터', '조경정비', '상도', '맨발산책로', '도산면', '서부리', '용상족구장', '간사교', '부평고', '그린스마트미래학교', '광주수창초', '교사', '건설', '두륜산', '남면', '영광스포티움', '시설보강사업', '매트', '신세종빛드림건설본부', '용담', '신도시', '동광초', '당하게이트볼장', '추가분', '서탄금암게이트볼장', '동명대학교', '조성공사에', '방림', '대명중학교', '불은초등학교', '학교체육및안전시설조성사업', '체육시설게이트볼장', '실내운동장', '맹동체육공원', '소화초등학교', '동삼동', '단월레포츠공원', '삼동면민운동장', '강구대게축구장', '관중석', '하단부', '철거공사', '서생체육공원', '인조잔디등', '환경사업소', '부산환경공단', '보은국민여가캠핑장', '풋살장조성사업', '외삼족구장', '임실군', '원곡중학교', '배정미래고등학교', '농산물공영도매시장', '내항', '괴강관광지축구장시설정비공사', '만경중학교', '간성게이트볼장', '세경고등학교', '화랑공원', '정림리', '부안', '대황강', '자연휴식체험장', '물놀이장', '진해야구장', '함박공원', '장애인게이트볼장', '금속재울타리', '맘쓰허그', '장난감', '도서관', '책장', '팔마보조경기장', '낙성대지구', '축구전용구장', '화장실', '홍천읍', '잿골', '정남중학교', '남부사업소', '소흘', '제조설치납품', '생태', '현내공설운동장', '병원', '목포백련초', '신설대체이전', '형곡공원', '신설대체이전학교', '함양읍', '지붕교체', '목포유달초등학교', '장계중', '이전공사', '가양', '가재울근린공원', '힐링파크', '화촌면', '안전센터', '평지곡내', '금일', '바닥교체공사', '화진중', '요구', '서울금동초', '주민공동이용시설', '청운공원', '당산어린이공원', '달성보', '마운딩', '충북산업과학고', '통합', '새뜰마을', '중산체육공원', '철성고등학교', '중평어린이공원', '구룡포문화복지센터', '서울본토건', '토건운영부', '이동형', '동문', '성동전력', '월드컵', '난지체육공원', '스톤네트', '메쉬형울타리', '중면', '부춘동', '건강마당근린공원', '유수지', '잔여분', '지곡동', '중대', '야음족궂아', '언양게이트볼장설치공사', '목포시', '이호동', '여본', '광석초등학교', '해그늘', '망월', '간이체육활동공간조성공사', '도시재생', '뉴딜사업', '목포애향초', '탐진강', '격파장', '펜스', '은대초', '금호강변야구장', '파크골프장용', '공촌유수지', '송계마을', '생비량', '순창', '차황', '검단동', '자재구임', '교성지구', '감곡생활체육공원', '동부그린', '김경욱', '골드', '생태하천과', '동천동', '마정산업단지', '특공연대', '현신근린공원', '공간조성사업', '아동어드벤처', '대율캠핑장', '확장공사', '송내파크골프장', '당말멀티파크', '동일공고', '비산체육공원', '번지', '야탑동', '이우진', '연천초', '뱃터공원', '정미', '우수저류시설', '신천', '봉남면', '훼손지복구사업', '관악산', '율곡농공단지', '순천조례초등학교', '론볼장', '중앙체육공원', '군위군', '첨단산업단지', '출입문', '제천체육관', '구수곡자연휴양림', '구룡리', '이원면', '단지게이트볼장', '샘실', '영월', '합일초', '선우공원', '마산게이트볼연합회', '소이생활체육공원', '서원구장', '공병대대', '반지어울림운동장', '물품구입', '풍향문화관', '옥상', '조경공사용', '조달요청', '삼사풋살장', '앙성커뮤니티이음센터신축공사', '우수조달제품', '목포연산초', '영등공원', '목포영산초등학교', '관리임대성', '현풍', '벌교', '쌍구형', '공운교', '부남면', '초지', '길상면', '경관시설', '강서개화축구장', '리틀야구장', '반송정수장', '갈월놀이공원', '방촌', '문체', '물품구매', '남가람', '가평야구장', '소프트테니스장', '청평테니스장', '설악생활체육공원', '기흥동', '보차도용콘크리트블록', '신도안', '잔디교체공사', '벌교생태공원', '삼계야구장', '여량게이트볼장', '현서게이트볼장', '부석면', '동구산', '재해예방사업', '원심천', '정비시행', '팔탄면', '횡성읍', '고창북중학교', '구포생활체육공원', '운천중학교', '단본부', '내부', '스포츠존', '연초중', '포승레포츠공원', '복합체육관', '경북체육중고등학교', '강림', '강림면', '군위소프트테니스장환경개선공사', '체육진흥팀', '청용리', '검단파크골프장', '등구정', '매봉공원', '리모델링공사', '노들나루공원', '설악야구장', '가칭', '기업고등학교', '인더스밸리산업단지', '정왕테니스장', '이창환', '신길공원', '탄성포장', '실외체육시설', '아양근린공원', '청호웰빙공원', '신안신의중', '도시숲', '불펜연습장', '수원농생명과학고', '고잔공원', '판암주공', '단지', '대지면', '경주', '활공장', '대룡산', '설치용', '해누리체육공원', '둔포체육공원', '장명동말고개공원족구장바닥인조잔디구입설치', '충주', '세종', '해미', '이유미', '파크골프', '임실', '동북', '띠잔디', '폴리텍대학', '수원북중', '주민개방형', '관급잔디', '특항단', '송정동', '잔디구장', '서상', '사면', '티박스', '상도리', '구좌읍', '진영공설운동장', '상남게이트볼장', '은혜중', '여수캠퍼스', '페어웨어', '노후잔디', '자연휴양림', '삼성근린공원', '보드장', '스케이트', '인라인', '체육시설개선사업', '물향기공원', '화산체육공원', '시설정비공사', '포항야구장', '복구공사', '호우피해', '화산초등학교', '무한천체육공원', '백운산', '원오교', '초안산근린공원', '두서미호공공공지조성사업', '변경계약', '중리제', '백석생활체육공원', '목포부주초등학교', '남천', '웅상체육공원', '용소게이트볼장', '화원', '본리리', '두척동', '귤현차량기지', '신당야구장', '삼정자공원', '경남도립거창대학', '연일읍민', '부지조성공사', '동네체육시설', '공원과', '대불체육공원', '녹청공원', '홍윤정', '장림배수지', '테마원', '흙콘크리트', '소양강파크골프장', '물속광장', '청라호수공원', '옥외용벤치', '필드하키장', '길공원', '용동근린공원', '죽율체육공원', '조교파크골프장', '콘크리트', '근무지원대', '춘양면', '신례원초등학교', '우곡문화공원', '문화공원', '정정', '의뢰', '남선공원', '군지여단', '모란야구장', '물품조달요청', '인조잔디구매', '추천대공원', '중고등학교', '양지', '게이트봄ㄹ장', '문수족구장', '나비', '쉼터', '화목개', '청소년문화의집', '산수근린공원', '생활체육과', '율현공원', '화북', '하대리', '철원여고', '청도고등학교', '인조구장', '석금산어린이공원', '문수국제양궁장', '장지공원', '루프탑가든형', '로그', '담양시장', '재건축공사', '건축조경', '남한산성면', '상번천리', '운동장재조성', '광적생활체육공원', '하청스포츠타운야구장', '공병단', '친환경운동장조성', '율면고등학교', '장애인테니스장시설개선공사', '중앙기독중학교', '인조잔디구입의', '우천면', '홈플레이트', '경계석', '우곡면', '외야', '대전가오고', '금오게이트볼장', '충남삼성고등학교', '홍은중', '대전송촌고', '충남고', '운동장개선', '용동중학교', '보수정비공사', '한강공원', '돔구장', '부여종합운동장', '청계면', '잔디구입', '수선', '경북고등학교', '동화초', '빛가람중', '대연캠퍼스', '부항면', '이천중학교', '모듈러교실', '명지늘봄스쿨', '바닥교체', '센트럴파크', '내손체육공원', '옥산생활체육공원', '축구', '구매계약체결', '용곡중학교', '환경조성', '소공원', '해원초', '서부지역', '공원시설관리팀', '춘포다목적운동장개보수공사', '어촌뉴딜사업', '공사용자재', '검단', '은산면', '상산고등학교', '납품요청', '서울영신초등학교', '맹준영', '산림', '동대근린공원', '목포정명여자고등학교', '보강공사', '유소년', '이촌한강공원', '남강고', '도계늑구테니스장정비공사관급자재', '문현초등학교', '택지개발사업', '가좌이음숲', '성무생활체육시설', '벽천분수', '빛가람초', '시민을', '환경개선관련', '상봉중학교', '인성초등학교', '광원리', '내면', '도로', '별빛공원', '달미', '석수골', '선린대학교', '공공디자인사업', '상상공원', '가좌울공원', '문화광장', '토목조경공사', '대신고등학교', '하도리', '한가람고', '사계절썰매장', '지리산생태체험단지', '순천금당고', '관금', '남율', '석적읍', '공릉중학교', '시흥공원', '이리북중', '율곡고', '재설치', '제품', '신림중학교', '농소운동장', '서울양진초등학교', '노인정', '언남중', '공원화', '시설보수', '대보수사업', '삽교고등학교', '육상트랙', '창선', '구매요청건', '건대부중', '포곡테니스장', '광주북성중', '서울동산고등학교', '조경시설물', '화랑오토캠핑장', '미래센터', '따른자재', '공사에', '달천운동장', '화순제일초', '주민건강증진공간', '보완사업', '하갈동', '시설보안공사', '시설녹지대', '상대원', '시민개방형체육시설조성사업', '광희중학교', '시설보완공사', '실내놀이터', '혜윰공원', '개보수사업', '초계대공원', '시민공원', '안정', '광도', '광남고', '대야동', '이건형', '서오릉근린공원', '아주중', '고산자연휴양림', '장수공원', '서북구', '덕암천', '내수읍', '대전외국인학교', '남지체육공원', '갈현', '삼각산중학교', '운동장환경개선공사', '서울행당초', '원주삼육중학교', '담장교체', '충주중', '동부지역', '재송중학교', '장승중학교', '설치자재', '창원상남초', '오남호수공원', '증설', '대정숲', '농암', '관급자재구매', '성암국제무역고등학교', '김천부곡게이트볼장', '구산어린이공원', '희망체육공원', '한국외대', '오산고등학교', '다목적구장조성공사', '마산중앙중', '클라이밍장', '익산고', '서울공업고등학교', '체육관개축', '양양중', '남사게이트볼장', '집행', '사업비', '소규모', '운영학교', '스포츠클럽', '가창', '세천', '다사', '장유고등학교', '타석', '팔덕다용도경기장', '달성군민운동장', '만들기사업', '보천마을', '스포츠', '반려견', '포천시', '증개축공사', '잔디운동장', '병점중학교', '상대초등학교', '용접철망외', '여수공고', '구매요청', '사곡중학교', '순천왕운중', '건국중학교', '복지', '포항환여풋살장', '서울장충초등학교', '서울대청초등학교', '건설사업', '경북도청신도시', '농구장', '망치', '권역단위거점개발사업', '수도권순환도로', '야구부', '대해초', '안창', '황령산레포츠공원', '유니온파크', '산황동', '양재근린공원', '지급자재', '완도', '공급', '간이운동장', '양덕초등학교', '남산레포츠공원', '막구조물', '실내환경', '추가구입', '영암종합운동장', '광주석산고', '춘장대사택', '구입설치', '충전재포함', '대륜고등학교', '남면생활체육공원', '서울남성초', '영등포고등학교', '미력면', '서울신구초등학교', '현대화사업', '시공원', '조성공서', '지석천', '남평', '보행로', '동명중학교', '양명초', '내응전천후게이트볼장', '미호강체육공원', '운산고등학교', '정비용', '중하어린이공원', '보수작업', '곤지암', '고현게이트볼장', '설치작업', '성지중학교', '국립소록도병원', '성라테니스장', '이창룡', '담당자', '챌린지', '강화', '역량', '수백리', '공근면', '만종리', '호저면', '대진고', '간성족구장', '패드', '우석고등학교', '봉의고', '중화고등학교', '코르크', '고무칩', '초안산근린공원놀이및운동공간', '보길중', '강원사대부고', '동주중학교', '문호리', '재배정', '소야초', '관급구매', '별내체육공원', '축구복합문화센터', '조달청', '가남체육공원', '목포덕인중학교', '금산산업고등학교', '대동', '대행', '구매계약', '지원사업', '인창고등학교', '신파리', '수륜면', '광양서초', '석교중', '햇빛어린이공원', '경기아이누리놀이터', '어두항', '퍼걸러', '대비', '고삼면', '문화근린공원', '미래관', '바닥개선', '꿈나무근린공원', '거로마을', '강원외국어고등학교', '자원순환센터', '사염공원', '회천', '고덕생활축구장', '소프트볼연습장', '서울신정고', '연경장', '경비대', '해안', '보수사업', '성남아트센터', '야외공연장', '콘서트홀', '효암고등학교', '이천시설봉공원히딩크드림필드축구장개보수공사', '야구실내연습장', '북평', '분성체육공원', '법면', '지상주차장', '대대', '봉학지구', '정천면', '생활환경정비사업', '오리어린이공원', '옥곡동', '중구게이트볼장', '설츠', '해안경비단', '안동역사', '남양주체육문화센터', '공원녹지과', '스탠드', '노래동산', '산토끼', '예방', '중대재해', '누리길', '임석천', '산북게이트볼장', '체육시설탄성포장재', '신명중학교', '기능개선공사', '노학동', '서울주소방서', '상무평화공원', '대부둑공원', '대산읍', '도구머리근린공원', '장전근린공원', '현산중', '도산리', '벌곡면', '고흥동초', '활성화사업', '농촌중심지', '병곡면', '천안야구장', '대학본부', '전북대학교', '동의고', '서울봉래초등학교', '양오', '일로읍', '용역', '재활용폐기물처리', '부안면', '조달구', '작은섬공원', '골프장', '에어돔', '특화시설', '전지훈련', '송암', '근덕면교가리전천후게이트볼장관급자재', '관리대대', '의창테니스장', '교통섬', '김제중학교', '생활관', '취사식당', '배명고등학교', '수해복구', '지방하천', '제민천', '색달체육공원', '국립김천숲속야영장', '발안바이오과학고', '보완공사', '전국체전', '관광자원화사업', '칠연지구', '안성', '주변정비공사', '관리도로', '인조잔디교체', '평창중', '원미공원', '승봉리', '자월면', '금화', '주민참여형', '양덕게이트볼장', '남천면', '송정복합체육센터', '가산중', '천안초등학교', '건립사업', '철산게이트볼장', '홍제게이트볼장', '캠핑장', '힐링', '고원', '태백', '부대시설', '대마산단', '유지관리', '덕아웃', '구의야구장', '완도중', '부평리', '인제', '송정배수지공원', '신호공원', '건축토목공사', '안덕게이트볼장', '서울금북초등학교', '복합문화센터', '삼향농공단지', '녹지개선공사', '어울림체육관', '제천', '석수대림아파트', '운영', '영주', '페스타', '자라섬', '평은면', '전용체육공간', '어르신', '비가림막', '기흥레스피아', '상북면민운동장', '아리랑마을', '부곡여중', '옥포', '군산고', '호체육공원', '동탄', '당정중', '풍납족구장', '관급자재조달구매', '군산기계공고', '살곶이체육공원', '한림족구장', '송정남근린공원', '군산신풍초', '자주도하', '공병여단', '전동초', '강변', '조성용', '월드컵경기장', '청운파크골프장', '교체에', '청석게이트볼장', '태안중학교', '지사울공원', '이서', '지천생태공원', '호어린이공원', '황산리', '고아', '화순온천', '노후관광지재상사업', '진주중학교', '동부양산', '삼진운동장', '수유중', '우기리', '채운면', '지세포중학교', '광탄', '플룸관', '철망', '신안공설운동장', '용원족구장', '연희중학교', '비안면테니스장확장공사', '관급자내', '줄포자동차공업고등학교', '감물전천후게이트볼장', '만석공원', '영북테니스장', '풍각면복합체육시설건립사업', '유성중', '인도잔디포장', '공주', '스틸', '필드', '성암공원', '자혜근린공원', '정원', '화원게이트볼장', '응봉아파트', '주거대', '운동기구', '망덕배드민턴장', '생활편의관', '해룡산단', '모충공원', '체육장', '성동고등학교', '장암면', '김전분교', '음성테니스장', '계약의뢰', '풋살구장', '기타', '여자축구장', '전주공고', '추가구매', '진선여중', '금암', '레저스포츠시설', '전체', '이차산', '강변리틀야구장', '건설공사', '월드컵대교', '야구시설', '야로중학교', '하천정비사업', '공릉지구', '공릉천', '인헌고', '내촌면', '면보수', '교육문화센터', '청구고등학교', '야탑', '범서굴화종합체육시설', '상면생활체육공원', '청도천체육시설', '월송리', '평해', '제주시청소년야영장', '삼계근린공원어린이놀이터포장교체사업관급자재', '경기장', '도민체전', '광양중학교', '신림게이트볼장', '가야곡', '풋살장시설물', '당곡주', '강릉제일고', '생태둔치', '성주호', '실내족구장', '양주시', '마을회관', '매호동', '불암산스포츠타운', '무학초', '영천', '옥상녹화사업', '부안반다비체육센터', '인조야구장', '살곶이체육공원시설전면개선공사', '주민편의시설', '하천변', '삼산고', '부창동', '태백중', '통폐합', '신축이전공사', '영원면게이트볼장데크공사및인조잔디재설치공사', '반려동물', '명륜근린공원', '야외게이트볼장', '양구읍', '재조성을', '대구공고', '변경구입', '방공단', '확장사업', '중전파크골프장', '마을만들기사업', '삼구동마을', '나산면', '덕산중학교', '건국고등학교']\n"
     ]
    }
   ],
   "source": [
    "# 종합쇼핑몰 기준 중요키워드 추출\n",
    "print('1등급 키워드 : ', list(mapping_keywd_df[mapping_keywd_df['빈도수'] >= 50].sort_values('빈도수',ascending=False)['키워드']))\n",
    "print('2등급 키워드 : ', list(mapping_keywd_df[(mapping_keywd_df['빈도수'] < 50) & (mapping_keywd_df['빈도수'] >= 40)].sort_values('빈도수',ascending=False)['키워드']))\n",
    "print('3등급 키워드 : ', list(mapping_keywd_df[(mapping_keywd_df['빈도수'] < 40) & (mapping_keywd_df['빈도수'] >= 30)].sort_values('빈도수',ascending=False)['키워드']))\n",
    "print('4등급 키워드 : ', list(mapping_keywd_df[(mapping_keywd_df['빈도수'] < 30) & (mapping_keywd_df['빈도수'] >= 20)].sort_values('빈도수',ascending=False)['키워드']))\n",
    "print('5등급 키워드 : ', list(mapping_keywd_df[(mapping_keywd_df['빈도수'] < 20) & (mapping_keywd_df['빈도수'] >= 10)].sort_values('빈도수',ascending=False)['키워드']))\n",
    "print('기타 키워드 : ', list(mapping_keywd_df[(mapping_keywd_df['빈도수'] < 10)].sort_values('빈도수',ascending=False)['키워드']))"
   ]
  },
  {
   "cell_type": "code",
   "execution_count": 16,
   "id": "ea85d99c",
   "metadata": {},
   "outputs": [],
   "source": [
    "# 빈도수 키워드\n",
    "freq_kwd = ('|').join(list(mapping_keywd_df[(mapping_keywd_df['빈도수'] < 10)]['키워드']))"
   ]
  },
  {
   "cell_type": "markdown",
   "id": "4875e3bd",
   "metadata": {},
   "source": [
    "#### 지자체 세부사업별 예산서"
   ]
  },
  {
   "cell_type": "code",
   "execution_count": 17,
   "id": "34c530df",
   "metadata": {},
   "outputs": [],
   "source": [
    "# 빅쿼리에서 불러오기\n",
    "budget_df_today = get_dataframe_from_bigquery('budget','budget_df_0' + today,bigquerykey_path)\n",
    "budget_df_ytday = get_dataframe_from_bigquery('budget','budget_df_0' + ytday,bigquerykey_path)"
   ]
  },
  {
   "cell_type": "code",
   "execution_count": 18,
   "id": "57d2a9ec",
   "metadata": {},
   "outputs": [
    {
     "data": {
      "text/html": [
       "<div>\n",
       "<style scoped>\n",
       "    .dataframe tbody tr th:only-of-type {\n",
       "        vertical-align: middle;\n",
       "    }\n",
       "\n",
       "    .dataframe tbody tr th {\n",
       "        vertical-align: top;\n",
       "    }\n",
       "\n",
       "    .dataframe thead th {\n",
       "        text-align: right;\n",
       "    }\n",
       "</style>\n",
       "<table border=\"1\" class=\"dataframe\">\n",
       "  <thead>\n",
       "    <tr style=\"text-align: right;\">\n",
       "      <th></th>\n",
       "      <th>회계연도</th>\n",
       "      <th>지역코드</th>\n",
       "      <th>지역명</th>\n",
       "      <th>자치단체코드</th>\n",
       "      <th>자치단체명</th>\n",
       "      <th>회계구분명</th>\n",
       "      <th>세부사업코드</th>\n",
       "      <th>세부사업명</th>\n",
       "      <th>집행일자</th>\n",
       "      <th>예산현액</th>\n",
       "      <th>지출액</th>\n",
       "      <th>편성액</th>\n",
       "      <th>분야명</th>\n",
       "      <th>부문명</th>\n",
       "      <th>행정자치단체코드</th>\n",
       "    </tr>\n",
       "  </thead>\n",
       "  <tbody>\n",
       "    <tr>\n",
       "      <th>0</th>\n",
       "      <td>2024</td>\n",
       "      <td>4100000</td>\n",
       "      <td>경기</td>\n",
       "      <td>4123000</td>\n",
       "      <td>경기남양주시</td>\n",
       "      <td>일반회계</td>\n",
       "      <td>3990000202330235</td>\n",
       "      <td>진접읍 장현배드민턴장 시설개선사업</td>\n",
       "      <td>20240731</td>\n",
       "      <td>808820000</td>\n",
       "      <td>0</td>\n",
       "      <td>0</td>\n",
       "      <td>문화및관광</td>\n",
       "      <td>체육</td>\n",
       "      <td>3990000</td>\n",
       "    </tr>\n",
       "  </tbody>\n",
       "</table>\n",
       "</div>"
      ],
      "text/plain": [
       "   회계연도     지역코드 지역명   자치단체코드   자치단체명 회계구분명            세부사업코드  \\\n",
       "0  2024  4100000  경기  4123000  경기남양주시  일반회계  3990000202330235   \n",
       "\n",
       "                세부사업명      집행일자       예산현액  지출액  편성액    분야명 부문명 행정자치단체코드  \n",
       "0  진접읍 장현배드민턴장 시설개선사업  20240731  808820000    0    0  문화및관광  체육  3990000  "
      ]
     },
     "execution_count": 18,
     "metadata": {},
     "output_type": "execute_result"
    }
   ],
   "source": [
    "# 종료 사업\n",
    "budget_df_delete_temp1 = budget_df_ytday[budget_df_ytday['세부사업코드'].isin(set(budget_df_ytday['세부사업코드']) - set(budget_df_today['세부사업코드']))].reset_index(drop=True)\n",
    "budget_df_delete_temp2 = budget_df_ytday[budget_df_ytday['세부사업명'].isin(set(budget_df_ytday['세부사업명']) - set(budget_df_today['세부사업명']))].reset_index(drop=True)\n",
    "budget_df_delete = pd.concat([budget_df_delete_temp1,budget_df_delete_temp2],axis=0).drop_duplicates().reset_index(drop=True)\n",
    "budget_df_delete"
   ]
  },
  {
   "cell_type": "code",
   "execution_count": 19,
   "id": "5c58a66c",
   "metadata": {},
   "outputs": [
    {
     "data": {
      "text/html": [
       "<div>\n",
       "<style scoped>\n",
       "    .dataframe tbody tr th:only-of-type {\n",
       "        vertical-align: middle;\n",
       "    }\n",
       "\n",
       "    .dataframe tbody tr th {\n",
       "        vertical-align: top;\n",
       "    }\n",
       "\n",
       "    .dataframe thead th {\n",
       "        text-align: right;\n",
       "    }\n",
       "</style>\n",
       "<table border=\"1\" class=\"dataframe\">\n",
       "  <thead>\n",
       "    <tr style=\"text-align: right;\">\n",
       "      <th></th>\n",
       "      <th>회계연도</th>\n",
       "      <th>지역코드</th>\n",
       "      <th>지역명</th>\n",
       "      <th>자치단체코드</th>\n",
       "      <th>자치단체명</th>\n",
       "      <th>회계구분명</th>\n",
       "      <th>세부사업코드</th>\n",
       "      <th>세부사업명</th>\n",
       "      <th>집행일자</th>\n",
       "      <th>예산현액</th>\n",
       "      <th>지출액</th>\n",
       "      <th>편성액</th>\n",
       "      <th>분야명</th>\n",
       "      <th>부문명</th>\n",
       "      <th>행정자치단체코드</th>\n",
       "    </tr>\n",
       "  </thead>\n",
       "  <tbody>\n",
       "    <tr>\n",
       "      <th>0</th>\n",
       "      <td>2024</td>\n",
       "      <td>2900000</td>\n",
       "      <td>광주</td>\n",
       "      <td>2915000</td>\n",
       "      <td>광주광산구</td>\n",
       "      <td>일반회계</td>\n",
       "      <td>3630000202430144</td>\n",
       "      <td>생태근린공원걷고싶은공원길조성</td>\n",
       "      <td>20240801</td>\n",
       "      <td>200000000</td>\n",
       "      <td>0</td>\n",
       "      <td>200000000</td>\n",
       "      <td>국토및지역개발</td>\n",
       "      <td>지역및도시</td>\n",
       "      <td>3630000</td>\n",
       "    </tr>\n",
       "    <tr>\n",
       "      <th>1</th>\n",
       "      <td>2024</td>\n",
       "      <td>4500000</td>\n",
       "      <td>전북</td>\n",
       "      <td>4578000</td>\n",
       "      <td>전북부안군</td>\n",
       "      <td>일반회계</td>\n",
       "      <td>47900002024300AD</td>\n",
       "      <td>전북 서해안 유네스코 세계지질공원 디스커버리 센터 조성</td>\n",
       "      <td>20240801</td>\n",
       "      <td>1000000000</td>\n",
       "      <td>0</td>\n",
       "      <td>1000000000</td>\n",
       "      <td>환경</td>\n",
       "      <td>환경보호일반</td>\n",
       "      <td>4791000</td>\n",
       "    </tr>\n",
       "    <tr>\n",
       "      <th>2</th>\n",
       "      <td>2024</td>\n",
       "      <td>4100000</td>\n",
       "      <td>경기</td>\n",
       "      <td>4123000</td>\n",
       "      <td>경기남양주시</td>\n",
       "      <td>일반회계</td>\n",
       "      <td>3990000202330235</td>\n",
       "      <td>진접읍 장현배드민턴장 시설개선</td>\n",
       "      <td>20240801</td>\n",
       "      <td>808820000</td>\n",
       "      <td>270000000</td>\n",
       "      <td>0</td>\n",
       "      <td>문화및관광</td>\n",
       "      <td>체육</td>\n",
       "      <td>3990000</td>\n",
       "    </tr>\n",
       "  </tbody>\n",
       "</table>\n",
       "</div>"
      ],
      "text/plain": [
       "   회계연도     지역코드 지역명   자치단체코드   자치단체명 회계구분명            세부사업코드  \\\n",
       "0  2024  2900000  광주  2915000   광주광산구  일반회계  3630000202430144   \n",
       "1  2024  4500000  전북  4578000   전북부안군  일반회계  47900002024300AD   \n",
       "2  2024  4100000  경기  4123000  경기남양주시  일반회계  3990000202330235   \n",
       "\n",
       "                            세부사업명      집행일자        예산현액        지출액  \\\n",
       "0                 생태근린공원걷고싶은공원길조성  20240801   200000000          0   \n",
       "1  전북 서해안 유네스코 세계지질공원 디스커버리 센터 조성  20240801  1000000000          0   \n",
       "2                진접읍 장현배드민턴장 시설개선  20240801   808820000  270000000   \n",
       "\n",
       "          편성액      분야명     부문명 행정자치단체코드  \n",
       "0   200000000  국토및지역개발   지역및도시  3630000  \n",
       "1  1000000000       환경  환경보호일반  4791000  \n",
       "2           0    문화및관광      체육  3990000  "
      ]
     },
     "execution_count": 19,
     "metadata": {},
     "output_type": "execute_result"
    }
   ],
   "source": [
    "# 새로 추가된 사업\n",
    "budget_df_new_temp1 = budget_df_today[~budget_df_today['세부사업코드'].isin(budget_df_ytday['세부사업코드'])].reset_index(drop=True).reset_index(drop=True)\n",
    "budget_df_new_temp2 = budget_df_today[~budget_df_today['세부사업명'].isin(budget_df_ytday['세부사업명'])].reset_index(drop=True).reset_index(drop=True)\n",
    "budget_df_new = pd.concat([budget_df_new_temp1,budget_df_new_temp2],axis=0).drop_duplicates().reset_index(drop=True)\n",
    "budget_df_new"
   ]
  },
  {
   "cell_type": "code",
   "execution_count": 20,
   "id": "30e45e37",
   "metadata": {},
   "outputs": [],
   "source": [
    "# 필요키워드1\n",
    "need_kwd1 = '학교|초등학교|중학교|고등학교|대학교|다목적|운동장|종합운동장|공원|체육|체육공원|체육시설|체육센터|스포츠|스포츠센터|놀이시설|연병장|축구장|족구장|야구장|풋살장|배드민턴장|테니스장|게이트볼장|하키장'\n",
    "\n",
    "# 필요키워드2\n",
    "need_kwd2 = '개선|교체|보수|공사|구매|구입|설치|정비|조성'\n",
    "\n",
    "# 필요키워드3\n",
    "need_kwd3 = '인조잔디'\n",
    "\n",
    "# 제외키워드\n",
    "except_kwd = 'CCTV|cctv|LED|led|가로등|가속기|간접등|간판|개방|검진|경관|계단|골프장|관리|광고|교량|교실|교육|교차로|균열|그늘막|그림|급수관|급식|난방기|내진|냉방기|네트워크|노상|노점|농기계|단열|데이터|도로개설|도로방음벽|도로정비|도로확장|도서관|디자인|뚜껑|막구조물|맨홀|모노레일|모니터링|미끄럼|미세먼지|미술|방송|방수|방음|방음벽|배면도로|배수|버스|법률자문|벤치|벽화|보건|보도블럭|보상|보일러|보행자도로|복지|볼라드|분묘|불법|빗물받이|사용료|사워실|살포|생육환경|석면|선홈통|소프트웨어|수도|수로|수목표찰|수영장|스크린|스프링클러|승강기|시계탑|시스템|식수대|신호등|안심벨|안전|약수터|억제제|역량|연결도로|예방|예술|오염|옹벽|요양기관|운영|울타리|위생|위험수목|유아|육교|음성안내|음악|의자|인양기|인터넷|입학|자료|자전거|저장고|저장장치|전광판|전기|전신주|전통시장|정화|정화조|조도|조명|조형물|조화기|주차장|줄눈|진로진학|진입도로|창고|창출|처우|철거|취업|치안|카메라|카약|통학로|파고라|펜스|폐기물|폐열|포충기|풀장|풍차|하수|하수관로|하수도|하천|학습|행사|화장|화장실|활성화|횡단보도|휀스|흡연'"
   ]
  },
  {
   "cell_type": "code",
   "execution_count": 21,
   "id": "850c2fc9",
   "metadata": {},
   "outputs": [],
   "source": [
    "budget_df_today = budget_df_today[((budget_df_today['세부사업명'].str.contains(need_kwd1) & \n",
    "                                  budget_df_today['세부사업명'].str.contains(need_kwd2)) &\n",
    "                                  ~budget_df_today['세부사업명'].str.contains(except_kwd)) |\n",
    "                                  budget_df_today['세부사업명'].str.contains(need_kwd3)\n",
    "                                  ].reset_index(drop=True)"
   ]
  },
  {
   "cell_type": "code",
   "execution_count": 22,
   "id": "0e639df9",
   "metadata": {},
   "outputs": [],
   "source": [
    "# 사업명 전처리\n",
    "budget_df_today['세부사업명_re'] = budget_df_today['세부사업명'].apply(clean_text)\n",
    "# budget_df_today['세부사업명_re'] = budget_df_today['세부사업명_re'].str.replace('초등학교','').str.replace('중학교','').str.replace('고등학교','')\n",
    "budget_df_today['세부사업명_re'] = budget_df_today['세부사업명_re'].str.strip()\n",
    "\n",
    "budget_df_today['세부사업명_re'] = budget_df_today['세부사업명_re'].str.split().apply(lambda x: [kw for kw in x if len(kw) > 1]) ## 글자수 1 제외\n",
    "budget_df_today['세부사업명_re'] = budget_df_today['세부사업명_re'].apply((' ').join)"
   ]
  },
  {
   "cell_type": "code",
   "execution_count": 23,
   "id": "447d8aef",
   "metadata": {},
   "outputs": [],
   "source": [
    "# 해당 지역 추출\n",
    "filtered_budget_df_temp1 = budget_df_today[budget_df_today['자치단체명'].str.contains(('|').join(dist_nm))].reset_index(drop=True)\n",
    "filtered_budget_df_temp2 = budget_df_today[budget_df_today['자치단체명'].str.contains('본청')].reset_index(drop=True)\n",
    "\n",
    "filtered_budget_df_today = pd.concat([filtered_budget_df_temp1,filtered_budget_df_temp2],axis=0).reset_index(drop=True)"
   ]
  },
  {
   "cell_type": "markdown",
   "id": "13b0c4a4",
   "metadata": {},
   "source": [
    "#### 지자체 종합쇼핑몰 전처리"
   ]
  },
  {
   "cell_type": "code",
   "execution_count": 24,
   "id": "2ad08b9b",
   "metadata": {},
   "outputs": [],
   "source": [
    "# Initialize the dictionary for split keywords\n",
    "shop_split_kwd = {}\n",
    "for i in range(all_shop_df_fin['납품요구건명_re'].str.split().apply(len).max()):\n",
    "    shop_split_kwd['kwd_' + str(i)] = all_shop_df_fin['납품요구건명_re'].str.split().str[i]"
   ]
  },
  {
   "cell_type": "code",
   "execution_count": 25,
   "id": "e9f6c74a",
   "metadata": {},
   "outputs": [],
   "source": [
    "# 매핑데이터셋\n",
    "mapping_merge_df = []"
   ]
  },
  {
   "cell_type": "code",
   "execution_count": 26,
   "id": "5460a3ac",
   "metadata": {},
   "outputs": [],
   "source": [
    "# 종합쇼핑몰 납품요구건명 split 키워드 순서대로 맵핑\n",
    "# Initialize the list to store the results\n",
    "prep_budget_df_today = filtered_budget_df_today.copy()\n",
    "prep_all_shop_df_fin = all_shop_df_fin.copy()\n",
    "\n",
    "# Iterate over each keyword column\n",
    "for i in range(len(shop_split_kwd)):\n",
    "    keyword_column = 'kwd_' + str(i)\n",
    "    \n",
    "    # Get unique non-null keywords\n",
    "    shop_split_kwd_temp = shop_split_kwd[keyword_column].dropna().unique()\n",
    "\n",
    "    prep_budget_df_today[keyword_column] = prep_budget_df_today['세부사업명_re'].apply(lambda x: ' '.join(re.findall('|'.join(shop_split_kwd_temp), x)))\n",
    "    prep_budget_df_today[keyword_column] = prep_budget_df_today[keyword_column].str.strip()\n",
    "    prep_budget_df_today[keyword_column] = prep_budget_df_today[keyword_column].str.split().apply(lambda x : ' '.join(sorted(set(x)))).str.strip()\n",
    "\n",
    "    prep_all_shop_df_fin[keyword_column] = prep_all_shop_df_fin['납품요구건명_re'].apply(lambda x: ' '.join(re.findall('|'.join(shop_split_kwd_temp), x)))\n",
    "    prep_all_shop_df_fin[keyword_column] = prep_all_shop_df_fin[keyword_column].str.strip()\n",
    "    prep_all_shop_df_fin[keyword_column] = prep_all_shop_df_fin[keyword_column].str.split().apply(lambda x : ' '.join(sorted(set(x)))).str.strip()\n",
    "\n",
    "    mapping_merge_df_temp = pd.merge(\n",
    "            prep_budget_df_today[(prep_budget_df_today[keyword_column] != '') & ~(prep_budget_df_today[keyword_column].isnull())][['지역명','자치단체명','세부사업코드','세부사업명', '세부사업명_re', keyword_column]].reset_index(drop=True),\n",
    "            prep_all_shop_df_fin[(prep_all_shop_df_fin[keyword_column] != '') & ~(prep_all_shop_df_fin[keyword_column].isnull())][['수요기관명','수요기관지역명','납품요구건명', '납품요구건명_re', keyword_column]].reset_index(drop=True),\n",
    "            how='left',\n",
    "            on=keyword_column\n",
    "            ).drop_duplicates().reset_index(drop=True)\n",
    "    \n",
    "    # Append the temporary DataFrame to the results list\n",
    "    mapping_merge_df.append(mapping_merge_df_temp)"
   ]
  },
  {
   "cell_type": "code",
   "execution_count": 27,
   "id": "b8713d0d",
   "metadata": {},
   "outputs": [],
   "source": [
    "# 종합쇼핑몰 지역 키워드 맵핑 - 세부사업명 지역 및 해당지역 추출\n",
    "# Initialize the columns for district keywords\n",
    "prep_budget_df_today = filtered_budget_df_today.copy()\n",
    "prep_all_shop_df_fin = all_shop_df_fin.copy()\n",
    "\n",
    "sig_pat = '|'.join(dist_nm)\n",
    "\n",
    "prep_budget_df_today['kwd_sig'] = prep_budget_df_today['세부사업명_re'].apply(lambda x: ' '.join(re.findall(sig_pat, x)))\n",
    "prep_budget_df_today['kwd_sig'] = prep_budget_df_today['kwd_sig'].str.strip()\n",
    "prep_budget_df_today['kwd_sig'] = prep_budget_df_today['kwd_sig'].str.split()\n",
    "prep_budget_df_today = prep_budget_df_today.explode('kwd_sig')\n",
    "\n",
    "prep_all_shop_df_fin['kwd_sig'] = prep_all_shop_df_fin['납품요구건명_re'].apply(lambda x: ' '.join(re.findall(sig_pat, x)))\n",
    "prep_all_shop_df_fin['kwd_sig'] = prep_all_shop_df_fin['kwd_sig'].str.strip()\n",
    "prep_all_shop_df_fin['kwd_sig'] = prep_all_shop_df_fin['kwd_sig'].str.split()\n",
    "prep_all_shop_df_fin = prep_all_shop_df_fin.explode('kwd_sig')\n",
    "\n",
    "mapping_merge_df_sig = pd.merge(\n",
    "    prep_budget_df_today[(prep_budget_df_today['kwd_sig'] != '') & ~(prep_budget_df_today['kwd_sig'].isnull())][['지역명','자치단체명','세부사업코드','세부사업명', '세부사업명_re', 'kwd_sig']].reset_index(drop=True),\n",
    "    prep_all_shop_df_fin[(prep_all_shop_df_fin['kwd_sig'] != '') & ~(prep_all_shop_df_fin['kwd_sig'].isnull())][['수요기관명','수요기관지역명','납품요구건명', '납품요구건명_re', 'kwd_sig']].reset_index(drop=True),\n",
    "    how='left',\n",
    "    on='kwd_sig'\n",
    "    ).drop_duplicates().reset_index(drop=True)\n",
    "\n",
    "# Append the district keywords DataFrame to the results list\n",
    "mapping_merge_df.append(mapping_merge_df_sig)"
   ]
  },
  {
   "cell_type": "code",
   "execution_count": 28,
   "id": "57d09abc",
   "metadata": {},
   "outputs": [],
   "source": [
    "# 종합쇼핑몰 지역 키워드 맵핑 - 세부사업명 지역 및 해당지역 읍면동 추출\n",
    "# Initialize the columns for district keywords\n",
    "prep_budget_df_today = filtered_budget_df_today.copy()\n",
    "prep_all_shop_df_fin = all_shop_df_fin.copy()\n",
    "\n",
    "emd_pat = '|'.join(set(emd_code_list))\n",
    "\n",
    "prep_budget_df_today['kwd_emd'] = prep_budget_df_today['세부사업명_re'].apply(lambda x: ' '.join(re.findall(emd_pat, x)))\n",
    "prep_budget_df_today['kwd_emd'] = prep_budget_df_today['kwd_emd'].str.strip()\n",
    "prep_budget_df_today['kwd_emd'] = prep_budget_df_today['kwd_emd'].str.split()\n",
    "prep_budget_df_today = prep_budget_df_today.explode('kwd_emd')\n",
    "\n",
    "prep_all_shop_df_fin['kwd_emd'] = prep_all_shop_df_fin['납품요구건명_re'].apply(lambda x: ' '.join(re.findall(emd_pat, x)))\n",
    "prep_all_shop_df_fin['kwd_emd'] = prep_all_shop_df_fin['kwd_emd'].str.strip()\n",
    "prep_all_shop_df_fin['kwd_emd'] = prep_all_shop_df_fin['kwd_emd'].str.split()\n",
    "prep_all_shop_df_fin = prep_all_shop_df_fin.explode('kwd_emd')\n",
    "\n",
    "mapping_merge_df_emd = pd.merge(\n",
    "    prep_budget_df_today[(prep_budget_df_today['kwd_emd'] != '') & ~(prep_budget_df_today['kwd_emd'].isnull())][['지역명','자치단체명','세부사업코드','세부사업명', '세부사업명_re', 'kwd_emd']].reset_index(drop=True),\n",
    "    prep_all_shop_df_fin[(prep_all_shop_df_fin['kwd_emd'] != '') & ~(prep_all_shop_df_fin['kwd_emd'].isnull())][['수요기관명','수요기관지역명','납품요구건명', '납품요구건명_re', 'kwd_emd']].reset_index(drop=True),\n",
    "    how='left',\n",
    "    on='kwd_emd'\n",
    "    ).drop_duplicates().reset_index(drop=True)\n",
    "\n",
    "# Append the district keywords DataFrame to the results list\n",
    "mapping_merge_df.append(mapping_merge_df_emd)"
   ]
  },
  {
   "cell_type": "code",
   "execution_count": 29,
   "id": "284748cd",
   "metadata": {},
   "outputs": [],
   "source": [
    "# 필요키워드 앞부분 추출\n",
    "need_kwd_split = list(set(chain(*all_shop_df_fin['납품요구건명_re'].apply(lambda x: re.split(need_kwd1,x)).apply(''.join).str.split())))\n",
    "need_kwd_split_list = list(pd.Series(need_kwd_split)[pd.Series(need_kwd_split).apply(len) >= 2])"
   ]
  },
  {
   "cell_type": "code",
   "execution_count": 30,
   "id": "e927a558",
   "metadata": {},
   "outputs": [],
   "source": [
    "# 종합쇼핑몰 지역 키워드 맵핑 - 필요키워드 앞부분 매핑\n",
    "# Initialize the columns for district keywords\n",
    "prep_budget_df_today = filtered_budget_df_today.copy()\n",
    "prep_all_shop_df_fin = all_shop_df_fin.copy()\n",
    "\n",
    "kwd_split_pat = '|'.join(set(need_kwd_split_list))\n",
    "\n",
    "prep_budget_df_today['kwd_need_split'] = prep_budget_df_today['세부사업명_re'].apply(lambda x: ' '.join(re.findall(kwd_split_pat, x)))\n",
    "prep_budget_df_today['kwd_need_split'] = prep_budget_df_today['kwd_need_split'].str.strip()\n",
    "prep_budget_df_today['kwd_need_split'] = prep_budget_df_today['kwd_need_split'].str.split()\n",
    "prep_budget_df_today = prep_budget_df_today.explode('kwd_need_split')\n",
    "\n",
    "prep_all_shop_df_fin['kwd_need_split'] = prep_all_shop_df_fin['납품요구건명_re'].apply(lambda x: ' '.join(re.findall(kwd_split_pat, x)))\n",
    "prep_all_shop_df_fin['kwd_need_split'] = prep_all_shop_df_fin['kwd_need_split'].str.strip()\n",
    "prep_all_shop_df_fin['kwd_need_split'] = prep_all_shop_df_fin['kwd_need_split'].str.split()\n",
    "prep_all_shop_df_fin = prep_all_shop_df_fin.explode('kwd_need_split')\n",
    "\n",
    "mapping_merge_df_need_split = pd.merge(\n",
    "    prep_budget_df_today[(prep_budget_df_today['kwd_need_split'] != '') & ~(prep_budget_df_today['kwd_need_split'].isnull())][['지역명','자치단체명','세부사업코드','세부사업명', '세부사업명_re', 'kwd_need_split']].reset_index(drop=True),\n",
    "    prep_all_shop_df_fin[(prep_all_shop_df_fin['kwd_need_split'] != '') & ~(prep_all_shop_df_fin['kwd_need_split'].isnull())][['수요기관명','수요기관지역명','납품요구건명', '납품요구건명_re', 'kwd_need_split']].reset_index(drop=True),\n",
    "    how='left',\n",
    "    on='kwd_need_split'\n",
    "    ).drop_duplicates().reset_index(drop=True)\n",
    "\n",
    "# Append the district keywords DataFrame to the results list\n",
    "mapping_merge_df.append(mapping_merge_df_need_split)"
   ]
  },
  {
   "cell_type": "code",
   "execution_count": 31,
   "id": "cde0487c",
   "metadata": {},
   "outputs": [],
   "source": [
    "# 종합쇼핑몰 지역 키워드 맵핑 - 필요키워드 매핑\n",
    "# Initialize the columns for district keywords\n",
    "prep_budget_df_today = filtered_budget_df_today.copy()\n",
    "prep_all_shop_df_fin = all_shop_df_fin.copy()\n",
    "\n",
    "prep_budget_df_today['kwd_need'] = prep_budget_df_today['세부사업명_re'].apply(lambda x: ' '.join(re.findall(need_kwd1, x)))\n",
    "prep_budget_df_today['kwd_need'] = prep_budget_df_today['kwd_need'].str.strip()\n",
    "prep_budget_df_today['kwd_need'] = prep_budget_df_today['kwd_need'].str.split()\n",
    "prep_budget_df_today = prep_budget_df_today.explode('kwd_need')\n",
    "\n",
    "prep_all_shop_df_fin['kwd_need'] = prep_all_shop_df_fin['납품요구건명_re'].apply(lambda x: ' '.join(re.findall(need_kwd1, x)))\n",
    "prep_all_shop_df_fin['kwd_need'] = prep_all_shop_df_fin['kwd_need'].str.strip()\n",
    "prep_all_shop_df_fin['kwd_need'] = prep_all_shop_df_fin['kwd_need'].str.split()\n",
    "prep_all_shop_df_fin = prep_all_shop_df_fin.explode('kwd_need')\n",
    "\n",
    "mapping_merge_df_need = pd.merge(\n",
    "    prep_budget_df_today[(prep_budget_df_today['kwd_need'] != '') & ~(prep_budget_df_today['kwd_need'].isnull())][['지역명','자치단체명','세부사업코드','세부사업명', '세부사업명_re', 'kwd_need']].reset_index(drop=True),\n",
    "    prep_all_shop_df_fin[(prep_all_shop_df_fin['kwd_need'] != '') & ~(prep_all_shop_df_fin['kwd_need'].isnull())][['수요기관명','수요기관지역명','납품요구건명', '납품요구건명_re', 'kwd_need']].reset_index(drop=True),\n",
    "    how='left',\n",
    "    on='kwd_need'\n",
    "    ).drop_duplicates().reset_index(drop=True)\n",
    "\n",
    "# Append the district keywords DataFrame to the results list\n",
    "mapping_merge_df.append(mapping_merge_df_need)"
   ]
  },
  {
   "cell_type": "code",
   "execution_count": 32,
   "id": "02dd0133",
   "metadata": {},
   "outputs": [],
   "source": [
    "# 키워드별 데이터셋 병합\n",
    "mapping_merge_df_fin = pd.concat(mapping_merge_df, axis=0).drop_duplicates()\n",
    "mapping_merge_df_fin = mapping_merge_df_fin[~mapping_merge_df_fin['납품요구건명'].isnull()].reset_index(drop=True)"
   ]
  },
  {
   "cell_type": "code",
   "execution_count": 33,
   "id": "9e008c9f",
   "metadata": {},
   "outputs": [],
   "source": [
    "# 모든 키워드 합\n",
    "kwd_columns = ['kwd_0','kwd_1','kwd_2','kwd_3','kwd_4','kwd_5','kwd_6','kwd_7','kwd_8','kwd_sig','kwd_emd','kwd_need_split','kwd_need']\n",
    "mapping_merge_df_fin['all_kwd'] = mapping_merge_df_fin[kwd_columns].apply(lambda x : (' ').join(x.dropna()),axis=1)\n",
    "mapping_merge_df_fin['all_kwd'] = mapping_merge_df_fin['all_kwd'].str.strip()\n",
    "mapping_merge_df_fin['all_kwd'] = mapping_merge_df_fin['all_kwd'].str.split().apply(lambda x : ' '.join(sorted(set(x)))).str.strip()\n",
    "mapping_merge_df_fin.drop(columns=kwd_columns, inplace=True)"
   ]
  },
  {
   "cell_type": "code",
   "execution_count": 34,
   "id": "1caf9053",
   "metadata": {},
   "outputs": [],
   "source": [
    "# 지역명 추출1\n",
    "mapping_merge_df_fin['수요기관지역명_split1'] = mapping_merge_df_fin['수요기관지역명'].str.split().str[0]\n",
    "\n",
    "# Define the replacements\n",
    "replacements = {\n",
    "    '전라북도': '전북',\n",
    "    '전라남도': '전남',\n",
    "    '경상북도': '경북',\n",
    "    '경상남도': '경남',\n",
    "    '충청북도': '충북',\n",
    "    '충청남도': '충남'\n",
    "}\n",
    "\n",
    "# Apply the replacements\n",
    "mapping_merge_df_fin['수요기관지역명_split1'] = mapping_merge_df_fin['수요기관지역명_split1'].replace(replacements)\n",
    "mapping_merge_df_fin['수요기관지역명_split1'] = mapping_merge_df_fin['수요기관지역명_split1'].str[:2]"
   ]
  },
  {
   "cell_type": "code",
   "execution_count": 35,
   "id": "ea763a88",
   "metadata": {},
   "outputs": [],
   "source": [
    "# 지역명 추출2\n",
    "mapping_merge_df_fin['수요기관지역명_split2'] = mapping_merge_df_fin['수요기관지역명'].str.split().str[1]\n",
    "dist_sig_pat = '|'.join(mapping_merge_df_fin['수요기관지역명_split2'].dropna().unique())\n",
    "\n",
    "mapping_merge_df_fin['자치단체명_re'] = mapping_merge_df_fin['자치단체명'].apply(lambda x: ' '.join(re.findall(dist_sig_pat, x)))\n",
    "mapping_merge_df_fin['자치단체명_re'] = mapping_merge_df_fin['자치단체명_re'].str.strip()\n",
    "mapping_merge_df_fin['자치단체명_re'] = mapping_merge_df_fin['자치단체명_re'].str.split()\n",
    "mapping_merge_df_fin = mapping_merge_df_fin.explode('자치단체명_re')"
   ]
  },
  {
   "cell_type": "code",
   "execution_count": 36,
   "id": "dd218810",
   "metadata": {},
   "outputs": [],
   "source": [
    "# 제외 지역 제거\n",
    "filtered_mapping_merge_df_fin = mapping_merge_df_fin[mapping_merge_df_fin['자치단체명_re']!=''].drop_duplicates().reset_index(drop=True)"
   ]
  },
  {
   "cell_type": "code",
   "execution_count": 37,
   "id": "b6532a94",
   "metadata": {},
   "outputs": [],
   "source": [
    "# 지역 일치 확인1\n",
    "mapping_merge_df_fin_temp1 = filtered_mapping_merge_df_fin[filtered_mapping_merge_df_fin['지역명']==filtered_mapping_merge_df_fin['수요기관지역명_split1']].drop_duplicates().reset_index(drop=True)\n",
    "mapping_merge_df_fin_temp1 = mapping_merge_df_fin_temp1[mapping_merge_df_fin_temp1['자치단체명'].str.contains('|'.join(mapping_merge_df_fin_temp1['수요기관지역명_split2'].dropna().unique()))].drop_duplicates().reset_index(drop=True)\n",
    "mapping_merge_df_fin_temp1 = mapping_merge_df_fin_temp1[mapping_merge_df_fin_temp1['자치단체명_re']==mapping_merge_df_fin_temp1['수요기관지역명_split2']].drop_duplicates().reset_index(drop=True)\n",
    "\n",
    "# 본청 포함 확인\n",
    "mapping_merge_df_fin_temp2 = filtered_mapping_merge_df_fin[filtered_mapping_merge_df_fin['자치단체명'].str.contains('본청')].drop_duplicates().reset_index(drop=True)\n",
    "\n",
    "# 데이터 병합\n",
    "mapping_merge_df_final = pd.concat([mapping_merge_df_fin_temp1,mapping_merge_df_fin_temp2], axis=0).drop_duplicates().reset_index(drop=True)"
   ]
  },
  {
   "cell_type": "code",
   "execution_count": 38,
   "id": "8fccd4a4",
   "metadata": {},
   "outputs": [],
   "source": [
    "# 그룹화할 컬럼 리스트\n",
    "group_cols = ['지역명', '자치단체명', '세부사업코드', '세부사업명', '세부사업명_re', '수요기관명', '수요기관지역명', '납품요구건명', '납품요구건명_re','수요기관지역명_split1', '자치단체명_re', '수요기관지역명_split2']\n",
    "\n",
    "# 그룹화 및 all_kwd 컬럼 조인\n",
    "mapping_merge_df_final_grp = mapping_merge_df_final.groupby(group_cols).agg({'all_kwd': ' '.join}).reset_index()\n",
    "mapping_merge_df_final_grp['all_kwd'] = mapping_merge_df_final_grp['all_kwd'].str.strip()\n",
    "mapping_merge_df_final_grp['all_kwd'] = mapping_merge_df_final_grp['all_kwd'].str.split().apply(lambda x : ' '.join(sorted(set(x)))).str.strip()"
   ]
  },
  {
   "cell_type": "code",
   "execution_count": 39,
   "id": "644dea3b",
   "metadata": {},
   "outputs": [],
   "source": [
    "# 필요키워드 기준\n",
    "mapping_merge_df_final_grp['세부사업명_키워드1'] = mapping_merge_df_final_grp['세부사업명'].apply(lambda x: ' '.join(re.findall(need_kwd1, x)))\n",
    "mapping_merge_df_final_grp['납품요구건명_키워드1'] = mapping_merge_df_final_grp['납품요구건명'].apply(lambda x: ' '.join(re.findall(need_kwd1, x)))\n",
    "\n",
    "# 사업명 지역 추출\n",
    "mapping_merge_df_final_grp['세부사업명_지역'] = mapping_merge_df_final_grp['세부사업명'].apply(lambda x: ' '.join(re.findall(emd_pat, x)))\n",
    "mapping_merge_df_final_grp['납품요구건명_지역'] = mapping_merge_df_final_grp['납품요구건명'].apply(lambda x: ' '.join(re.findall(emd_pat, x)))\n",
    "\n",
    "# 필요키워드 패턴 기준\n",
    "need_kwd_pat = '\\w+' + ('|\\w+').join(need_kwd1.split('|'))\n",
    "\n",
    "mapping_merge_df_final_grp['세부사업명_키워드2'] = mapping_merge_df_final_grp['세부사업명'].apply(lambda x: ' '.join(re.findall(need_kwd_pat, x)))\n",
    "mapping_merge_df_final_grp['납품요구건명_키워드2'] = mapping_merge_df_final_grp['납품요구건명'].apply(lambda x: ' '.join(re.findall(need_kwd_pat, x)))"
   ]
  },
  {
   "cell_type": "code",
   "execution_count": 40,
   "id": "2dbb6dba",
   "metadata": {},
   "outputs": [],
   "source": [
    "def check_inclusion1(row):\n",
    "    set1 = set(row['세부사업명_키워드1'])\n",
    "    set2 = set(row['납품요구건명_키워드1'])\n",
    "    return bool(set1 & set2)"
   ]
  },
  {
   "cell_type": "code",
   "execution_count": 41,
   "id": "80c2b4d1",
   "metadata": {},
   "outputs": [],
   "source": [
    "# 필요키워드 모두 없는것 제외\n",
    "mapping_merge_df_final_grp_temp1 = mapping_merge_df_final_grp[(mapping_merge_df_final_grp['세부사업명_키워드1']!='')&(mapping_merge_df_final_grp['납품요구건명_키워드1']!='')].reset_index(drop=True)\n",
    "\n",
    "# 필요키워드 포함여부 확인\n",
    "mapping_merge_df_final_grp_temp1['세부사업명_키워드1'] = mapping_merge_df_final_grp_temp1['세부사업명_키워드1'].str.split() ## 키워드별 정리\n",
    "mapping_merge_df_final_grp_temp1['납품요구건명_키워드1'] = mapping_merge_df_final_grp_temp1['납품요구건명_키워드1'].str.split() ## 키워드별 정리\n",
    "\n",
    "mapping_merge_df_final_grp_temp1 = mapping_merge_df_final_grp_temp1[mapping_merge_df_final_grp_temp1.apply(check_inclusion1,axis=1)].reset_index(drop=True)\n",
    "\n",
    "mapping_merge_df_final_grp_temp1['세부사업명_키워드1'] = mapping_merge_df_final_grp_temp1['세부사업명_키워드1'].apply(lambda x : ' '.join(sorted(set(x)))).str.strip()\n",
    "mapping_merge_df_final_grp_temp1['납품요구건명_키워드1'] = mapping_merge_df_final_grp_temp1['납품요구건명_키워드1'].apply(lambda x : ' '.join(sorted(set(x)))).str.strip()"
   ]
  },
  {
   "cell_type": "code",
   "execution_count": 42,
   "id": "35cf7de7",
   "metadata": {},
   "outputs": [],
   "source": [
    "def check_inclusion_dist(row):\n",
    "    set1 = set(row['세부사업명_지역'])\n",
    "    set2 = set(row['납품요구건명_지역'])\n",
    "    return bool(set1 & set2)"
   ]
  },
  {
   "cell_type": "code",
   "execution_count": 43,
   "id": "2b1db702",
   "metadata": {},
   "outputs": [],
   "source": [
    "# 지역 없는것 제외\n",
    "mapping_merge_df_final_grp_temp2 = mapping_merge_df_final_grp[(mapping_merge_df_final_grp['세부사업명_지역']!='')&(mapping_merge_df_final_grp['납품요구건명_지역']!='')].reset_index(drop=True)\n",
    "\n",
    "# 사업명 지역 포함여부 확인\n",
    "mapping_merge_df_final_grp_temp2['세부사업명_지역'] = mapping_merge_df_final_grp_temp2['세부사업명_지역'].str.split()\n",
    "mapping_merge_df_final_grp_temp2['납품요구건명_지역'] = mapping_merge_df_final_grp_temp2['납품요구건명_지역'].str.split()\n",
    "\n",
    "mapping_merge_df_final_grp_temp2 = mapping_merge_df_final_grp_temp2[mapping_merge_df_final_grp_temp2.apply(check_inclusion_dist,axis=1)].reset_index(drop=True)\n",
    "\n",
    "mapping_merge_df_final_grp_temp2['세부사업명_지역'] = mapping_merge_df_final_grp_temp2['세부사업명_지역'].apply(lambda x : ' '.join(sorted(set(x)))).str.strip() ## 키워드별 정리\n",
    "mapping_merge_df_final_grp_temp2['납품요구건명_지역'] = mapping_merge_df_final_grp_temp2['납품요구건명_지역'].apply(lambda x : ' '.join(sorted(set(x)))).str.strip() ## 키워드별 정리"
   ]
  },
  {
   "cell_type": "code",
   "execution_count": 44,
   "id": "001c6098",
   "metadata": {},
   "outputs": [],
   "source": [
    "def check_inclusion2(row):\n",
    "    set1 = set(row['세부사업명_키워드2'])\n",
    "    set2 = set(row['납품요구건명_키워드2'])\n",
    "    return bool(set1 & set2)"
   ]
  },
  {
   "cell_type": "code",
   "execution_count": 45,
   "id": "9721ad33",
   "metadata": {},
   "outputs": [],
   "source": [
    "# 필요키워드패턴 모두 없는것 제외\n",
    "mapping_merge_df_final_grp_temp3 = mapping_merge_df_final_grp[(mapping_merge_df_final_grp['세부사업명_키워드2']!='')&(mapping_merge_df_final_grp['납품요구건명_키워드2']!='')].reset_index(drop=True)\n",
    "\n",
    "# 필요키워드 패턴 포함여부 확인\n",
    "mapping_merge_df_final_grp_temp3['세부사업명_키워드2'] = mapping_merge_df_final_grp_temp3['세부사업명_키워드2'].str.split() ## 키워드별 정리\n",
    "mapping_merge_df_final_grp_temp3['납품요구건명_키워드2'] = mapping_merge_df_final_grp_temp3['납품요구건명_키워드2'].str.split() ## 키워드별 정리\n",
    "\n",
    "mapping_merge_df_final_grp_temp3 = mapping_merge_df_final_grp_temp3[mapping_merge_df_final_grp_temp3.apply(check_inclusion2,axis=1)].reset_index(drop=True)\n",
    "\n",
    "mapping_merge_df_final_grp_temp3['세부사업명_키워드2'] = mapping_merge_df_final_grp_temp3['세부사업명_키워드2'].apply(lambda x : ' '.join(sorted(set(x)))).str.strip()\n",
    "mapping_merge_df_final_grp_temp3['납품요구건명_키워드2'] = mapping_merge_df_final_grp_temp3['납품요구건명_키워드2'].apply(lambda x : ' '.join(sorted(set(x)))).str.strip()"
   ]
  },
  {
   "cell_type": "code",
   "execution_count": 46,
   "id": "5c1b5846",
   "metadata": {},
   "outputs": [],
   "source": [
    "# 필터링 데이터셋 병합\n",
    "mapping_merge_df_final_grp_fin = pd.concat([mapping_merge_df_final_grp_temp1,mapping_merge_df_final_grp_temp2,mapping_merge_df_final_grp_temp3]).drop_duplicates().reset_index(drop=True)"
   ]
  },
  {
   "cell_type": "code",
   "execution_count": 47,
   "id": "9d92bdf7",
   "metadata": {},
   "outputs": [],
   "source": [
    "# 모든 키워드 합 중복 제거\n",
    "kwd_columns = ['all_kwd','세부사업명_키워드1', '납품요구건명_키워드1', '세부사업명_지역', '납품요구건명_지역', '세부사업명_키워드2', '납품요구건명_키워드2']\n",
    "mapping_merge_df_final_grp_fin['all_kwd_fin'] = mapping_merge_df_final_grp_fin[kwd_columns].apply(lambda x : (' ').join(x.dropna()),axis=1)\n",
    "mapping_merge_df_final_grp_fin['all_kwd_fin'] = mapping_merge_df_final_grp_fin['all_kwd_fin'].str.strip()\n",
    "mapping_merge_df_final_grp_fin['all_kwd_fin'] = mapping_merge_df_final_grp_fin['all_kwd_fin'].str.split().apply(lambda x : ' '.join(sorted(set(x)))).str.strip()\n",
    "# mapping_merge_df_final_grp_fin.drop(columns=kwd_columns, inplace\n",
    "# =True)\n",
    "\n",
    "mapping_merge_df_final_grp_fin = mapping_merge_df_final_grp_fin.drop_duplicates(['지역명', '자치단체명', '세부사업코드', '세부사업명', '세부사업명_re', '수요기관명', '수요기관지역명',\n",
    "                                                                                 '납품요구건명', '납품요구건명_re', '수요기관지역명_split1', '자치단체명_re', '수요기관지역명_split2', 'all_kwd_fin']).reset_index(drop=True)"
   ]
  },
  {
   "cell_type": "code",
   "execution_count": 48,
   "id": "9494704a",
   "metadata": {},
   "outputs": [],
   "source": [
    "# 최종필터링1 - 지역 일치\n",
    "mapping_merge_df_final_grp_fin_temp1 = mapping_merge_df_final_grp_fin[(mapping_merge_df_final_grp_fin['세부사업명_지역']!='') & (mapping_merge_df_final_grp_fin['납품요구건명_지역']!='')]\n",
    "mapping_merge_df_final_grp_fin_temp1 = mapping_merge_df_final_grp_fin_temp1[mapping_merge_df_final_grp_fin_temp1['세부사업명_지역']==mapping_merge_df_final_grp_fin_temp1['납품요구건명_지역']]"
   ]
  },
  {
   "cell_type": "code",
   "execution_count": 49,
   "id": "20c975a6",
   "metadata": {},
   "outputs": [],
   "source": [
    "# 최종필터링2 - 필수키워드 패턴 포함 & 지역 불일치 제거\n",
    "mapping_merge_df_final_grp_fin_temp2 = mapping_merge_df_final_grp_fin[(mapping_merge_df_final_grp_fin['세부사업명_키워드2']!='')&(mapping_merge_df_final_grp_fin['납품요구건명_키워드2']!='')].reset_index(drop=True)\n",
    "\n",
    "# 필요키워드 패턴 포함여부 확인\n",
    "mapping_merge_df_final_grp_fin_temp2['세부사업명_키워드2'] = mapping_merge_df_final_grp_fin_temp2['세부사업명_키워드2'].str.split() ## 키워드별 정리\n",
    "mapping_merge_df_final_grp_fin_temp2['납품요구건명_키워드2'] = mapping_merge_df_final_grp_fin_temp2['납품요구건명_키워드2'].str.split() ## 키워드별 정리\n",
    "\n",
    "mapping_merge_df_final_grp_fin_temp2 = mapping_merge_df_final_grp_fin_temp2[mapping_merge_df_final_grp_fin_temp2.apply(check_inclusion2,axis=1)].reset_index(drop=True)\n",
    "\n",
    "mapping_merge_df_final_grp_fin_temp2['세부사업명_키워드2'] = mapping_merge_df_final_grp_fin_temp2['세부사업명_키워드2'].apply(lambda x : ' '.join(sorted(set(x)))).str.strip()\n",
    "mapping_merge_df_final_grp_fin_temp2['납품요구건명_키워드2'] = mapping_merge_df_final_grp_fin_temp2['납품요구건명_키워드2'].apply(lambda x : ' '.join(sorted(set(x)))).str.strip()\n",
    "\n",
    "# 지역 불일치 제거\n",
    "mapping_merge_df_final_grp_fin_temp2 = mapping_merge_df_final_grp_fin_temp2[mapping_merge_df_final_grp_fin_temp2['세부사업명_지역']==mapping_merge_df_final_grp_fin_temp2['납품요구건명_지역']]"
   ]
  },
  {
   "cell_type": "code",
   "execution_count": 50,
   "id": "5120db74",
   "metadata": {},
   "outputs": [],
   "source": [
    "# 최종 필터링 데이터셋\n",
    "mapping_merge_df_final_grp_final = pd.concat([mapping_merge_df_final_grp_fin_temp1,mapping_merge_df_final_grp_fin_temp2]).drop_duplicates().reset_index(drop=True)\n",
    "mapping_merge_df_final_grp_final.drop(columns = 'all_kwd', inplace=True)"
   ]
  },
  {
   "cell_type": "code",
   "execution_count": 51,
   "id": "48cbf22f",
   "metadata": {},
   "outputs": [],
   "source": [
    "mapping_merge_df_final_grp_final.to_csv('C:\\py_src\\midoproject\\data/filtered_mapping_budget_df.csv', encoding='utf-8-sig')"
   ]
  },
  {
   "cell_type": "code",
   "execution_count": 52,
   "id": "418b5c02",
   "metadata": {},
   "outputs": [],
   "source": [
    "# 종합쇼핑몰 기준 필터링\n",
    "bid_cd1 = list(budget_df_today[budget_df_today['세부사업코드'].isin(mapping_merge_df_final_grp_final['세부사업코드'])]['세부사업코드'])\n",
    "bid_cd2 = list(budget_df_today[budget_df_today['세부사업명'].isin(mapping_merge_df_final_grp_final['세부사업명'])]['세부사업코드'])"
   ]
  },
  {
   "cell_type": "code",
   "execution_count": 53,
   "id": "6e28988a",
   "metadata": {},
   "outputs": [],
   "source": [
    "budget_df_today_fin = budget_df_today[~budget_df_today['세부사업코드'].isin(set(bid_cd1 + bid_cd2))].drop_duplicates().reset_index(drop=True)"
   ]
  },
  {
   "cell_type": "code",
   "execution_count": 54,
   "id": "ccfaa85d",
   "metadata": {},
   "outputs": [],
   "source": [
    "# 중요 사업 체크\n",
    "budget_df_today_final = pd.concat([budget_df_today_fin[budget_df_today_fin['세부사업명'].str.contains('인조잔디')],\n",
    "                                   budget_df_today_fin[~budget_df_today_fin['세부사업명'].str.contains('인조잔디')]],axis=0).reset_index(drop=True)"
   ]
  },
  {
   "cell_type": "code",
   "execution_count": 55,
   "id": "df586b0e",
   "metadata": {},
   "outputs": [],
   "source": [
    "# 최종데이터셋\n",
    "budget_df_today_final = budget_df_today_final[['회계연도', '집행일자', '지역명', '자치단체명', '회계구분명', '세부사업명','예산현액', '지출액', '편성액', '분야명', '부문명']].drop_duplicates().reset_index(drop=True)\n",
    "budget_df_delete = budget_df_delete[['회계연도', '집행일자', '지역명', '자치단체명', '회계구분명', '세부사업명','예산현액', '지출액', '편성액', '분야명', '부문명']].drop_duplicates().reset_index(drop=True)\n",
    "budget_df_new = budget_df_new[['회계연도', '집행일자', '지역명', '자치단체명', '회계구분명', '세부사업명','예산현액', '지출액', '편성액', '분야명', '부문명']].drop_duplicates().reset_index(drop=True)"
   ]
  },
  {
   "cell_type": "code",
   "execution_count": 56,
   "id": "913d0209",
   "metadata": {},
   "outputs": [
    {
     "name": "stdout",
     "output_type": "stream",
     "text": [
      "Data inserted into table budget_df_listup successfully.\n",
      "Data inserted into table budget_df_delete successfully.\n",
      "Data inserted into table budget_df_new successfully.\n"
     ]
    }
   ],
   "source": [
    "# 빅쿼리에 적재\n",
    "save_dataframe_to_bigquery(budget_df_today_final,'budget','budget_df_listup',bigquerykey_path)\n",
    "save_dataframe_to_bigquery(budget_df_delete,'budget','budget_df_delete',bigquerykey_path)\n",
    "save_dataframe_to_bigquery(budget_df_new,'budget','budget_df_new',bigquerykey_path)"
   ]
  }
 ],
 "metadata": {
  "kernelspec": {
   "display_name": "Python 3 (ipykernel)",
   "language": "python",
   "name": "python3"
  },
  "language_info": {
   "codemirror_mode": {
    "name": "ipython",
    "version": 3
   },
   "file_extension": ".py",
   "mimetype": "text/x-python",
   "name": "python",
   "nbconvert_exporter": "python",
   "pygments_lexer": "ipython3",
   "version": "3.8.19"
  }
 },
 "nbformat": 4,
 "nbformat_minor": 5
}
