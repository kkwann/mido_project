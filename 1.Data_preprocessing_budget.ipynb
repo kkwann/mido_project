{
 "cells": [
  {
   "cell_type": "code",
   "execution_count": 1,
   "id": "81fa5b7b-0d13-4592-b87c-523fcd4d8714",
   "metadata": {},
   "outputs": [],
   "source": [
    "import pandas as pd\n",
    "import numpy as np\n",
    "\n",
    "import re\n",
    "from itertools import chain\n",
    "from collections import Counter\n",
    "\n",
    "from google.cloud import bigquery\n",
    "from google.oauth2 import service_account\n",
    "\n",
    "from datetime import datetime, timedelta\n",
    "\n",
    "import requests\n",
    "import warnings\n",
    "from requests.packages.urllib3.exceptions import InsecureRequestWarning\n",
    "\n",
    "# InsecureRequestWarning 경고 무시\n",
    "warnings.simplefilter('ignore', InsecureRequestWarning)"
   ]
  },
  {
   "cell_type": "code",
   "execution_count": 2,
   "id": "de7792c0",
   "metadata": {},
   "outputs": [],
   "source": [
    "KEY_PATH = \".config/\"\n",
    "servicekey_path = KEY_PATH + \"serviceKey.json\" ## 빅쿼리 외 다른 API 활용 위해\n",
    "bigquerykey_path = KEY_PATH + \"mido-project-426906-31b49963ac97.json\"\n",
    "\n",
    "warnings.filterwarnings(\"ignore\")"
   ]
  },
  {
   "cell_type": "code",
   "execution_count": 3,
   "id": "e426681b",
   "metadata": {},
   "outputs": [],
   "source": [
    "# BigQuery 클라이언트 생성 함수\n",
    "def create_bigquery_client(key_path):\n",
    "    credentials = service_account.Credentials.from_service_account_file(key_path)\n",
    "    client = bigquery.Client(credentials=credentials, project=credentials.project_id)\n",
    "    return client"
   ]
  },
  {
   "cell_type": "code",
   "execution_count": 4,
   "id": "1ae8163d",
   "metadata": {},
   "outputs": [],
   "source": [
    "def save_dataframe_to_bigquery(df, dataset_id, table_id, key_path):\n",
    "    # BigQuery 클라이언트 객체 생성\n",
    "    client = create_bigquery_client(key_path)\n",
    "\n",
    "    # 테이블 레퍼런스 생성\n",
    "    table_ref = client.dataset(dataset_id).table(table_id)\n",
    "\n",
    "    # 데이터프레임을 BigQuery 테이블에 적재\n",
    "    job_config = bigquery.LoadJobConfig()\n",
    "    job_config.write_disposition = \"WRITE_TRUNCATE\"  # 기존 테이블 내용 삭제 후 삽입\n",
    "\n",
    "    job = client.load_table_from_dataframe(df, table_ref, job_config=job_config)\n",
    "    job.result()  # 작업 완료 대기\n",
    "\n",
    "    print(f\"Data inserted into table {table_id} successfully.\")"
   ]
  },
  {
   "cell_type": "code",
   "execution_count": 5,
   "id": "72805c5d",
   "metadata": {},
   "outputs": [],
   "source": [
    "def get_dataframe_from_bigquery(dataset_id, table_id, key_path):\n",
    "    # BigQuery 클라이언트 생성\n",
    "    client = create_bigquery_client(key_path)\n",
    "\n",
    "    # 테이블 레퍼런스 생성\n",
    "    table_ref = client.dataset(dataset_id).table(table_id)\n",
    "\n",
    "    # 테이블 데이터를 DataFrame으로 변환\n",
    "    df = client.list_rows(table_ref).to_dataframe()\n",
    "\n",
    "    return df"
   ]
  },
  {
   "cell_type": "code",
   "execution_count": 6,
   "id": "c8f939ce",
   "metadata": {},
   "outputs": [],
   "source": [
    "# 오늘 날짜\n",
    "today = datetime.today()#.strftime('%Y%m%d')\n",
    "\n",
    "# 어제 날짜 계산\n",
    "ytday = datetime.today() - timedelta(days=1)\n",
    "\n",
    "# 만약 어제, 오늘이 토요일(5) 또는 일요일(6)이라면, 그 전주 금요일로 변경\n",
    "if ytday.weekday() == 5:  # 토요일\n",
    "    ytday -= timedelta(days=1)\n",
    "elif ytday.weekday() == 6:  # 일요일\n",
    "    ytday -= timedelta(days=2)\n",
    "if today.weekday() == 5:  # 토요일\n",
    "    today -= timedelta(days=1)\n",
    "elif today.weekday() == 6:  # 일요일\n",
    "    today -= timedelta(days=2)\n",
    "\n",
    "# 'YYYYMMDD' 형식으로 변환\n",
    "ytday = ytday.strftime('%Y%m%d')\n",
    "today = today.strftime('%Y%m%d')"
   ]
  },
  {
   "cell_type": "markdown",
   "id": "edba1a69",
   "metadata": {},
   "source": [
    "#### 법정동코드"
   ]
  },
  {
   "cell_type": "code",
   "execution_count": 7,
   "id": "427babe8",
   "metadata": {},
   "outputs": [],
   "source": [
    "dist_code = pd.read_csv('C:\\py_src\\midoproject\\data/법정동코드 전체자료.csv',encoding='cp949')"
   ]
  },
  {
   "cell_type": "code",
   "execution_count": 8,
   "id": "62a39fcd",
   "metadata": {},
   "outputs": [],
   "source": [
    "dist_code_list = []\n",
    "for i in range(dist_code['법정동명'].str.split().apply(len).max()):\n",
    "    dist_code_temp = dist_code[dist_code['법정동명'].str.split().str[i].str[-1].isin(['읍','면','동','리','가','로']).dropna()]\n",
    "    dist_code_list.append([dist_code_temp['법정동명'].str.split().str[i].dropna().unique()])\n",
    "\n",
    "emd_code_list = list(chain(*chain(*dist_code_list)))"
   ]
  },
  {
   "cell_type": "markdown",
   "id": "604a6a0e",
   "metadata": {},
   "source": [
    "#### 종합쇼핑몰 납품상세내역"
   ]
  },
  {
   "cell_type": "code",
   "execution_count": 9,
   "id": "54c3efeb",
   "metadata": {},
   "outputs": [],
   "source": [
    "all_shop_df = get_dataframe_from_bigquery('g2b', 'shop_detail_df_all', bigquerykey_path)"
   ]
  },
  {
   "cell_type": "code",
   "execution_count": 10,
   "id": "a84ea0fe",
   "metadata": {},
   "outputs": [],
   "source": [
    "years = today[:-4]\n",
    "all_shop_df = all_shop_df[all_shop_df['납품요구접수일자'].str.split('-').str[0]==years].reset_index(drop=True)\n",
    "all_shop_df_fin = all_shop_df[['납품요구접수일자', '수요기관명', '납품요구건명', '업체명', '단가', '단위', '수량', '금액', '수요기관코드', '수요기관구분', '수요기관지역명','납품요구지청명']]\n",
    "all_shop_df_fin = all_shop_df_fin.sort_values(['납품요구접수일자'],ascending=False).reset_index(drop=True)"
   ]
  },
  {
   "cell_type": "code",
   "execution_count": 11,
   "id": "f2310ea0",
   "metadata": {},
   "outputs": [],
   "source": [
    "# 특수문자, 숫자, 영어 제거 함수 (연속된 공백을 단일 공백으로 변환 포함)\n",
    "def clean_text(text):\n",
    "    text = re.sub('[^ㄱ-ㅎㅏ-ㅣ가-힣\\s]', ' ', text)\n",
    "    text = re.sub('\\s+', ' ', text).strip()  # 연속된 공백을 단일 공백으로 변환\n",
    "    return text"
   ]
  },
  {
   "cell_type": "code",
   "execution_count": 12,
   "id": "1a7746b0",
   "metadata": {},
   "outputs": [],
   "source": [
    "# 사업명 전처리\n",
    "all_shop_df_fin['납품요구건명_re'] = all_shop_df_fin['납품요구건명'].apply(clean_text)\n",
    "# all_shop_df_fin['납품요구건명_re'] = all_shop_df_fin['납품요구건명_re'].str.replace('초등학교','').str.replace('중학교','').str.replace('고등학교','')\n",
    "all_shop_df_fin['납품요구건명_re'] = all_shop_df_fin['납품요구건명_re'].str.strip()\n",
    "\n",
    "all_shop_df_fin['납품요구건명_re'] = all_shop_df_fin['납품요구건명_re'].str.split().apply(lambda x: [kw for kw in x if len(kw) > 1]) ## 글자수 1 제외\n",
    "all_shop_df_fin['납품요구건명_re'] = all_shop_df_fin['납품요구건명_re'].apply((' ').join)"
   ]
  },
  {
   "cell_type": "code",
   "execution_count": 13,
   "id": "d92577b6",
   "metadata": {},
   "outputs": [],
   "source": [
    "# 수요기관 필터링\n",
    "dist_nm = pd.Series(all_shop_df_fin[all_shop_df_fin['수요기관지역명'].str.split(' ').str[1].notnull()]['수요기관지역명'].str.split(' ').str[1].unique())\n",
    "dist_nm = np.where(dist_nm.apply(len)<=2,dist_nm,dist_nm.str[:-1])"
   ]
  },
  {
   "cell_type": "code",
   "execution_count": 14,
   "id": "1cb2aa1f",
   "metadata": {},
   "outputs": [
    {
     "data": {
      "text/html": [
       "<div>\n",
       "<style scoped>\n",
       "    .dataframe tbody tr th:only-of-type {\n",
       "        vertical-align: middle;\n",
       "    }\n",
       "\n",
       "    .dataframe tbody tr th {\n",
       "        vertical-align: top;\n",
       "    }\n",
       "\n",
       "    .dataframe thead th {\n",
       "        text-align: right;\n",
       "    }\n",
       "</style>\n",
       "<table border=\"1\" class=\"dataframe\">\n",
       "  <thead>\n",
       "    <tr style=\"text-align: right;\">\n",
       "      <th></th>\n",
       "      <th>키워드</th>\n",
       "      <th>빈도수</th>\n",
       "    </tr>\n",
       "  </thead>\n",
       "  <tbody>\n",
       "    <tr>\n",
       "      <th>0</th>\n",
       "      <td>인조잔디</td>\n",
       "      <td>956</td>\n",
       "    </tr>\n",
       "    <tr>\n",
       "      <th>3</th>\n",
       "      <td>관급자재</td>\n",
       "      <td>535</td>\n",
       "    </tr>\n",
       "    <tr>\n",
       "      <th>62</th>\n",
       "      <td>구입</td>\n",
       "      <td>295</td>\n",
       "    </tr>\n",
       "    <tr>\n",
       "      <th>53</th>\n",
       "      <td>구매</td>\n",
       "      <td>168</td>\n",
       "    </tr>\n",
       "    <tr>\n",
       "      <th>45</th>\n",
       "      <td>운동장</td>\n",
       "      <td>125</td>\n",
       "    </tr>\n",
       "    <tr>\n",
       "      <th>...</th>\n",
       "      <td>...</td>\n",
       "      <td>...</td>\n",
       "    </tr>\n",
       "    <tr>\n",
       "      <th>652</th>\n",
       "      <td>나산면</td>\n",
       "      <td>1</td>\n",
       "    </tr>\n",
       "    <tr>\n",
       "      <th>651</th>\n",
       "      <td>실내족구장</td>\n",
       "      <td>1</td>\n",
       "    </tr>\n",
       "    <tr>\n",
       "      <th>650</th>\n",
       "      <td>양주시</td>\n",
       "      <td>1</td>\n",
       "    </tr>\n",
       "    <tr>\n",
       "      <th>649</th>\n",
       "      <td>방공단</td>\n",
       "      <td>1</td>\n",
       "    </tr>\n",
       "    <tr>\n",
       "      <th>1521</th>\n",
       "      <td>건국고등학교</td>\n",
       "      <td>1</td>\n",
       "    </tr>\n",
       "  </tbody>\n",
       "</table>\n",
       "<p>1522 rows × 2 columns</p>\n",
       "</div>"
      ],
      "text/plain": [
       "         키워드  빈도수\n",
       "0       인조잔디  956\n",
       "3       관급자재  535\n",
       "62        구입  295\n",
       "53        구매  168\n",
       "45       운동장  125\n",
       "...      ...  ...\n",
       "652      나산면    1\n",
       "651    실내족구장    1\n",
       "650      양주시    1\n",
       "649      방공단    1\n",
       "1521  건국고등학교    1\n",
       "\n",
       "[1522 rows x 2 columns]"
      ]
     },
     "execution_count": 14,
     "metadata": {},
     "output_type": "execute_result"
    }
   ],
   "source": [
    "# 전체 키워드 데이터셋\n",
    "mapping_keywd_all = list(chain(*all_shop_df_fin['납품요구건명_re'].str.split(' '))) ## 전체 키워드\n",
    "mapping_keywd_df = pd.DataFrame(Counter(mapping_keywd_all).items(),columns=['키워드','빈도수'])\n",
    "mapping_keywd_df = mapping_keywd_df[mapping_keywd_df['키워드'].apply(len)!=1].reset_index(drop=True)\n",
    "mapping_keywd_df.sort_values('빈도수',ascending=False)"
   ]
  },
  {
   "cell_type": "code",
   "execution_count": 15,
   "id": "c11c5e8a",
   "metadata": {},
   "outputs": [
    {
     "name": "stdout",
     "output_type": "stream",
     "text": [
      "1등급 키워드 :  ['인조잔디', '관급자재', '구입', '구매', '운동장', '조성공사', '공사', '관급', '테니스장', '조성사업', '체육시설', '게이트볼장', '정비공사', '교체공사', '조성']\n",
      "2등급 키워드 :  ['풋살장', '설치', '축구장']\n",
      "3등급 키워드 :  ['개선공사', '파크골프장', '족구장']\n",
      "4등급 키워드 :  ['설치공사', '교체', '보수공사', '환경개선', '토목', '조달구매', '다목적구장', '환경개선공사', '정비사업', '개보수공사']\n",
      "5등급 키워드 :  ['개선사업', '건축', '시설개선공사', '개선', '보수', '시설개선사업', '개소', '물품', '조달', '다목적', '잔디', '정비', '부대', '신축공사', '시설개선', '체육공원', '연병장', '조경', '사업', '생활체육공원', '요청']\n",
      "기타 키워드 :  ['교체사업', '단계', '인조잔디운동장', '구장', '관련', '추가', '생활체육시설', '어린이공원', '신축', '인조잔디조성공사', '실내게이트볼장', '개보수', '위한', '시설', '차분', '관급자', '노후시설', '배수판', '야구장', '따른', '증설공사', '토목공사', '구입의뢰', '일산중', '트랙조성', '인조잔디외', '시행', '설치사업', '조경공사', '김영훈', '체육', '당진', '기초생활거점조성사업', '공공하수처리시설', '그라운드골프장', '운동장환경개선', '치수과', '공공체육시설', '리모델링', '울타리', '기타공사', '우수조달', '확장', '관급자재구입', '재정비사업', '근린공원', '학년도', '재정비공사', '환경개선사업', '하부', '본부', '건축공사', '학교운동장', '여단', '체육진흥과', '배드민턴장', '사단', '대보수', '비가림시설', '시설물', '관급자관급', '건립', '스포츠타운', '일원', '옥외', '해운대수목원', '수해복구공사', '트랙', '수지아르피아', '운동공간', '파크골프연습장', '재조성', '휀스', '다목적체육관', '남산레포츠공원', '시설공사', '고가하부', '자재', '체육시설관리과', '정구장', '환경친화적', '광복공원', '트랙보수', '조달구입', '인조', '안빈', '본원', '스포츠파크', '구매설치', '보조경기장', '친환경', '재조성공사', '백운포체육공원', '조달물품', '아침체인지', '국립수산과학원', '창녕국민체육센터', '피해복구', '대치초', '코트', '구매계약', '두호', '보조구장', '노후인조잔디', '납품', '체육관', '기타시설공사', '관급자설치관급자재', '사령부', '기갑여단', '공원시설', '그린스마트', '군단', '실외', '관인고등학교', '풋살경기장', '구입의', '사회인야구장', '미래학교', '변경', '그라운드', '광장', '서울정목초', '북방면', '기계', '탄성포장재', '인조잔디구장', '조리마을', '교체공사에', '충전재', '운동시설설치공사', '소계체육공원', '정선종합운동장', '살곶이체육공원시설', '수변공원', '외부', '축구종합센터', '개축공사', '포병여단', '회전교차로', '성곡리', '버들어린이공원', '배수로', '비가림', '바닥', '장수면', '무안공설운동장', '종합운동장', '구축', '금강초', '원삼면', '건의', '기자재', '조성을', '구매건', '비품', '설악동', '화채마을', '청주교대', '주차장', '부산개성중학교', '스터디룸', '둔치', '증평생활야구장', '노후시설물', '재생공사', '노해공원', '인조잔디공사', '지구', '교내', '포항제철고등학교', '운동부', '내수야구장', '재해복구공사', '소향공원', '시설물정비', '이나라', '계약', '도원체육공원', '바람근린공원', '삼남', '교량하부', '원주캠퍼스', '북방', '포함', '놀이터', '한천', '포곡대교', '발주', '소동', '명품탄천', '중랑천', '노후체육시설', '응봉공원', '사업을', '다양한', '테니스', '덕적', '훈련장', '하산곡동', '건립공사', '궁도장', '우수조달물품', '체육관신축', '차수', '희망봉', '국립공주대학교', '포장공사', '둔내종합체육공원', '일광유원지', '기장', '현대차드림볼파크', '보조', '내야', '부사교', '헬기레펠', '모형탑', '창고', '파주중', '놀이공간', '어린이', '혁신도시', '펜스', '석관중', '삼선초', '편의시설', '목포하당초', '함안스포츠타운', '망성면', '물품구입', '금속재울타리', '하천', '바닥보수', '갑천', '시설정비사업', '어린이놀이터', '무주중', '박해나', '가곡야구장', '한내근린공원', '화순홍수조절지파크골프장조성사업', '주경기장', '한경면', '그린스마트스쿨', '교체공사에따른', '남악고', '복지대대', '어울렁더울렁센터', '조성관련', '포장', '기능보강', '산양게이트볼장', '문무아파트', '관사', '토목시설', '반구전문농공단지', '송정체육공원', '칠서', '인조잔대', '바닥재', '와우코리요공원', '시립테니스장', '우레탄', '화명고가교', '시설보수공사', '생태공원', '완도군', '장승배기', '고창', '주변', '봉무', '춘천초', '평택중', '인곡산업단지', '전자', '이천세무고', '입장', '친환경운동장', '서울디지텍고등학교', '안계고테니스장보수공사', '다정다감', '학교공간', '인조잔디조성', '자율계획사업', '음성', '증축공사', '본오', '잔디교체', '야외무대', '낭성면', '송호고', '인조잔디포장', '잠실야구장', '완산생활체육공원', '전천후게이트볼장', '풍기', '충격흡수배수판', '금강스포츠공원', '용지면', '부대공사', '웅천생활체육공원', '안평게이트볼장', '기로리', '야외', '테라스', '우수', '오성공원', '성남종합운동장', '이설', '정왕동', '기능보강공사', '공원', '외부환경', '년게이트볼장보수사업', '체육시설내', '양덕', '그린', '동림교', '신동초', '대전제일고등학교', '부안초', '오산대학교', '미산면', '골프연습장', '인조운동장', '컨테이너박스', '잠신중', '실내', '이전', '보라동', '이호어린이공원', '관급자설치', '노후', '전천후', '한반도면', '북면', '아이들파크', '관광체육과', '문화체육과', '장병체력단련시설', '이리동중', '화장실', '용상족구장', '전면', '우곡면', '계양대교', '금성초등학교', '북경주', '정구', '송죽', '축구전용구장', '약목면', '중면', '구성면', '쌈지공원', '레미콘', '남계리', '중대', '농산물공영도매시장', '환경사업소', '구입건의', '삼계리', '월드컵', '내부정비공사', '난지체육공원', '스톤네트', '주민숙원사업', '메쉬형울타리', '지곡동', '주민쉼터', '성동전력', '판암차량기지', '여수캠퍼스', '소흘', '이동형', '남천', '호우피해', '복구공사', '삼동면민운동장', '신도시', '서생체육공원', '변경계약', '중리제', '초안산근린공원', '맹동체육공원', '학교체육및안전시설조성사업', '대명중학교', '추가분', '삼정자공원', '토건운영부', '신당야구장', '귤현차량기지', '당하게이트볼장', '화원', '본리리', '화산체육공원', '페어웨어', '조성공사에', '동명대학교', '인조잔디교체', '방림', '두척동', '무한천체육공원', '단월레포츠공원', '물향기공원', '강구대게축구장', '보은국민여가캠핑장', '시설보강사업', '대월면', '국도', '호선', '서울본토건', '격파장', '안전센터', '간사교', '대비', '체육시설게이트볼장', '남부사업소', '부산환경공단', '동삼동', '철거공사', '전국체전', '하단부', '인라인', '스케이트', '추천대공원', '보드장', '포항야구장', '시설정비공사', '매트', '관중석', '괴강관광지축구장시설정비공사', '성서운동장', '진녹색', '익산', '건설', '현내공설운동장', '명천동', '장난감', '탐진강', '경비단', '재주문', '맘쓰허그', '여단본부', '광동중', '고등학교', '용안', '풋살장조성사업', '영성', '도드리놀이공원', '장애인게이트볼장', '낙동강변', '서탄금암게이트볼장', '병원', '성주파크골프장', '진해야구장', '구룡포문화복지센터', '중평어린이공원', '간성게이트볼장', '제곡리', '임실군', '중산체육공원', '잿골', '가재울근린공원', '화촌면', '홍천읍', '달성보', '마운딩', '당산어린이공원', '평지곡내', '충북산업과학고', '청운공원', '신세종빛드림건설본부', '팔마보조경기장', '통합', '남면', '책장', '도서관', '제조설치납품', '현리광장', '용담', '조경석', '달빛공원', '목도초', '설악중', '중앙공원', '사회인', '압해게이트볼장', '정림리', '건강마당근린공원', '개축', '시설정비', '남지국민체육센터', '조경정비', '삼장', '망월', '광석초등학교', '여울공원', '바닥교체공사', '인조잔디교체공사', '광주수창초', '교사', '도산면', '학동마을', '서부리', '부안', '낙성대지구', '뉴딜사업', '도시재생', '언양게이트볼장설치공사', '유수지', '연녹색', '구향공원', '부평고', '그린스마트미래학교', '야외테니스장', '칠원읍', '공설운동장', '랜드마크시티', '화랑공원', '물놀이장', '자연휴식체험장', '지붕교체', '함양읍', '대황강', '규격확장', '군민운동장', '원통생활체육공원', '해그늘', '상남테니스장', '목포시', '맨발산책로', '토목과', '나병윤', '응봉체육공원', '송정풋살구장', '전천파크골프장', '서호', '유원지', '여본', '간이골프장', '죽도', '상도', '장명동말고개공원족구장바닥인조잔디구입설치', '도시숲', '은혜중', '세종', '홍윤정', '공원과', '죽율체육공원', '조교파크골프장', '근무지원대', '춘양면', '합일초', '론볼장', '영월', '우수조달제품', '목포연산초', '골드', '정정', '남선공원', '물품조달요청', '소이생활체육공원', '불펜연습장', '용동근린공원', '필드하키장', '장림배수지', '율현공원', '띠잔디', '수원북중', '문수족구장', '문수국제양궁장', '인조구장', '나비', '산수근린공원', '생활체육과', '동네체육시설', '로그', '운동장재조성', '친환경운동장조성', '하청스포츠타운야구장', '광적생활체육공원', '소양강파크골프장', '흙콘크리트', '군위군', '인조잔디구매', '중고등학교', '개체공사', '팔탄면', '가평야구장', '청평테니스장', '재해예방사업', '원심천', '설악생활체육공원', '여량게이트볼장', '노후잔디', '정비시행', '동구산', '부석면', '현서게이트볼장', '잔디교체공사', '신도안', '소프트테니스장', '남가람', '리틀야구장', '청호웰빙공원', '동북', '단본부', '교성지구', '순창', '마정산업단지', '목포영산초등학교', '연천초', '체육진흥팀', '군위소프트테니스장환경개선공사', '연초중', '탄성포장', '고창북중학교', '검단파크골프장', '운천중학교', '등구정', '노들나루공원', '인더스밸리산업단지', '복합체육관', '잔디구장', '진영공설운동장', '웅상체육공원', '힐링파크', '목포애향초', '철성고등학교', '형곡공원', '신설대체이전', '목포백련초', '목포유달초등학교', '신설대체이전학교', '생태', '간이체육활동공간조성공사', '두륜산', '장계중', '이전공사', '가양', '화진중', '요구', '서울금동초', '소화초등학교', '이호동', '새뜰마을', '함박공원', '배정미래고등학교', '원곡중학교', '만경중학교', '내항', '세경고등학교', '정남중학교', '외삼족구장', '동광초', '야음족궂아', '불은초등학교', '실내운동장', '영광스포티움', '인조잔디등', '동문', '부춘동', '잔여분', '주민공동이용시설', '남노송동', '판암주공', '자연휴양림', '화산초등학교', '수원농생명과학고', '수정', '체육시설개선사업', '삼성근린공원', '본부대', '금일', '백운산', '산유게이트볼장', '원오교', '백석생활체육공원', '두서미호공공공지조성사업', '목포부주초등학교', '용소게이트볼장', '대지면', '단지', '은대초', '웅촌덕현마을체육시설설치공사', '춘복산', '아라초', '울산종합운동장', '조성공사를', '확충사업', '현북', '주문건의', '구축에', '확장공사에', '야구연습장', '백운테니스장', '야구연습체육관', '무동풋살장', '부산외고', '효명고', '복지센터', '백운면', '용호고등학교', '벌교', '보차도용콘크리트블록', '기흥동', '양지', '신례원초등학교', '의뢰', '군지여단', '홈플레이트', '모란야구장', '옥외용벤치', '길공원', '청소년문화의집', '문화공원', '화북', '철원여고', '청도고등학교', '쉼터', '화목개', '상번천리', '남한산성면', '우곡문화공원', '특공연대', '게이트봄ㄹ장', '제천체육관', '율곡농공단지', '구수곡자연휴양림', '훼손지복구사업', '첨단산업단지', '구룡리', '이원면', '중앙체육공원', '단지게이트볼장', '청라호수공원', '샘실', '금화', '콘크리트', '대불체육공원', '녹청공원', '테마원', '물속광장', '석금산어린이공원', '하대리', '마산게이트볼연합회', '경주', '임실', '활공장', '대룡산', '고잔공원', '상남게이트볼장', '서상', '파크골프', '상도리', '사면', '구좌읍', '해누리체육공원', '설치용', '둔포체육공원', '해미', '이유미', '충주', '티박스', '연일읍민', '우천면', '장지공원', '건축조경', '재건축공사', '담양시장', '루프탑가든형', '율면고등학교', '공병단', '장애인테니스장시설개선공사', '인조잔디구입의', '부지조성공사', '중앙기독중학교', '폴리텍대학', '주민개방형', '송정동', '관급잔디', '특항단', '경남도립거창대학', '순천조례초등학교', '서원구장', '벌교생태공원', '청용리', '설악야구장', '구포생활체육공원', '리모델링공사', '매봉공원', '기업고등학교', '가칭', '경북체육중고등학교', '횡성읍', '갈월놀이공원', '관리임대성', '영등공원', '강림', '강림면', '포승레포츠공원', '내부', '스포츠존', '방촌', '신안신의중', '송내파크골프장', '공운교', '삼계야구장', '경관시설', '반송정수장', '초지', '길상면', '부남면', '쌍구형', '현풍', '강서개화축구장', '이창환', '정왕테니스장', '아양근린공원', '실외체육시설', '신길공원', '문체', '물품구매', '확장공사', '공간조성사업', '공병대대', '조경공사용', '차황', '송계마을', '생비량', '금호강변야구장', '검단동', '삼사풋살장', '조달요청', '옥상', '우수저류시설', '풍향문화관', '봉남면', '출입문', '앙성커뮤니티이음센터신축공사', '반지어울림운동장', '선우공원', '관악산', '신천', '생태하천과', '아동어드벤처', '뱃터공원', '대율캠핑장', '동일공고', '당말멀티파크', '현신근린공원', '자재구임', '비산체육공원', '이우진', '정미', '김경욱', '번지', '야탑동', '감곡생활체육공원', '동천동', '파크골프장용', '공촌유수지', '동부그린', '평창중', '연경장', '주민참여형', '충남삼성고등학교', '부여종합운동장', '청계면', '성무생활체육시설', '운동장개선', '용동중학교', '잔디구입', '수선', '공원시설관리팀', '시민을', '빛가람초', '빛가람중', '보수정비공사', '한강공원', '춘포다목적운동장개보수공사', '인성초등학교', '돔구장', '금오게이트볼장', '상봉중학교', '홍은중', '환경조성', '소공원', '내손체육공원', '옥산생활체육공원', '구매계약체결', '용곡중학교', '외야', '경북고등학교', '대연캠퍼스', '동화초', '해원초', '서부지역', '대전가오고', '대전송촌고', '충남고', '환경개선관련', '선린대학교', '센트럴파크', '동대근린공원', '서울영신초등학교', '목포정명여자고등학교', '보강공사', '유소년', '남강고', '영암종합운동장', '운산고등학교', '도계늑구테니스장정비공사관급자재', '이촌한강공원', '재송중학교', '장승중학교', '문현초등학교', '동부지역', '정비용', '중하어린이공원', '납품요청', '산림', '공공디자인사업', '맹준영', '상상공원', '광원리', '내면', '공사용자재', '택지개발사업', '검단', '은산면', '별빛공원', '달미', '석수골', '도로', '가좌울공원', '벽천분수', '가좌이음숲', '상산고등학교', '축구', '바닥교체', '원미공원', '제품', '관금', '순천금당고', '시흥공원', '남율', '석적읍', '공릉중학교', '율곡고', '이리북중', '주민건강증진공간', '농소운동장', '한가람고', '달천운동장', '덕암천', '내수읍', '장수공원', '신림중학교', '재설치', '보완사업', '지리산생태체험단지', '따른자재', '공사에', '공원화', '노인정', '하도리', '구매요청건', '건대부중', '광주북성중', '미래센터', '조경시설물', '화랑오토캠핑장', '서울동산고등학교', '서울양진초등학교', '화순제일초', '사계절썰매장', '서북구', '고산자연휴양림', '명지늘봄스쿨', '시민개방형체육시설조성사업', '시설녹지대', '상대원', '광희중학교', '시설보완공사', '광남고', '시민공원', '안정', '광도', '언남중', '대신고등학교', '이천중학교', '토목조경공사', '문화광장', '부항면', '모듈러교실', '시설보안공사', '혜윰공원', '대전외국인학교', '실내놀이터', '아주중', '남지체육공원', '원주삼육중학교', '갈현', '서오릉근린공원', '담장교체', '충주중', '운동장환경개선공사', '서울행당초', '이건형', '대야동', '삼각산중학교', '개보수사업', '초계대공원', '하갈동', '보수작업', '곤지암', '미호강체육공원', '성암국제무역고등학교', '클라이밍장', '스포츠', '구산어린이공원', '희망체육공원', '오산고등학교', '다목적구장조성공사', '마산중앙중', '김천부곡게이트볼장', '완도', '산황동', '수도권순환도로', '안창', '공급', '반려견', '포천시', '한국외대', '관급자재구매', '양재근린공원', '농암', '팔덕다용도경기장', '장유고등학교', '가창', '세천', '다사', '실내환경', '남사게이트볼장', '서울공업고등학교', '양양중', '창원상남초', '설치자재', '익산고', '오남호수공원', '증설', '대정숲', '황령산레포츠공원', '증개축공사', '이창룡', '서울장충초등학교', '복지', '건설사업', '경북도청신도시', '포항환여풋살장', '건국중학교', '야외다목적공간', '양주도담학교', '볼음', '신둔면', '어린이놀이시설', '새릉골어린이공원', '정읍고', '휴게정원', '간호대학', '양산캠퍼스', '서울대청초등학교', '순천왕운중', '야구부', '여수공고', '대해초', '유니온파크', '간이운동장', '양덕초등학교', '막구조물', '지급자재', '권역단위거점개발사업', '망치', '농구장', '잔디운동장', '병점중학교', '사곡중학교', '상대초등학교', '구매요청', '용접철망외', '타석', '달성군민운동장', '스포츠클럽', '서울남성초', '조성공서', '지석천', '남평', '보행로', '현대화사업', '시공원', '미력면', '영등포고등학교', '수백리', '공근면', '가남체육공원', '만종리', '호저면', '금산산업고등학교', '목포덕인중학교', '서울신구초등학교', '남면생활체육공원', '운영학교', '대륜고등학교', '담당자', '챌린지', '강화', '역량', '성지중학교', '성라테니스장', '양명초', '설치작업', '국립소록도병원', '고현게이트볼장', '광주석산고', '동명중학교', '춘장대사택', '구입설치', '충전재포함', '석교중', '관급구매', '대진고', '신파리', '중화고등학교', '봉의고', '소야초', '문호리', '재배정', '내응전천후게이트볼장', '동주중학교', '강원사대부고', '만들기사업', '보천마을', '추가구입', '체육관개축', '집행', '사업비', '소규모', '간성족구장', '초안산근린공원놀이및운동공간', '고무칩', '별내체육공원', '수륜면', '인창고등학교', '광양서초', '햇빛어린이공원', '경기아이누리놀이터', '축구복합문화센터', '대동', '코르크', '대행', '조달청', '지원사업', '보길중', '패드', '우석고등학교', '포곡테니스장', '창선', '육상트랙', '자원순환센터', '바닥개선', '거로마을', '강원외국어고등학교', '회천', '미리내', '경비대', '해안', '해안경비단', '고덕생활축구장', '소프트볼연습장', '서울신정고', '야외공연장', '안동역사', '대학본부', '전북대학교', '경계석', '미래관', '천안야구장', '사염공원', '지상주차장', '대대', '오리어린이공원', '옥곡동', '고삼면', '보수사업', '문화근린공원', '분성체육공원', '설츠', '콘서트홀', '성남아트센터', '봉학지구', '정천면', '생활환경정비사업', '꿈나무근린공원', '고흥동초', '활성화사업', '상북면민운동장', '예방', '스탠드', '노래동산', '산토끼', '도구머리근린공원', '공원녹지과', '대부둑공원', '서울주소방서', '기능개선공사', '노학동', '상무평화공원', '기흥레스피아', '청도천체육시설', '야탑', '아리랑마을', '기타', '중대재해', '대산읍', '농촌중심지', '임석천', '병곡면', '도산리', '벌곡면', '장전근린공원', '일로읍', '동의고', '용역', '재활용폐기물처리', '현산중', '양오', '서울봉래초등학교', '체육시설탄성포장재', '신명중학교', '산북게이트볼장', '누리길', '법면', '중구게이트볼장', '북평', '색달체육공원', '생활관', '취사식당', '김제중학교', '보완공사', '국립김천숲속야영장', '가산중', '배명고등학교', '송정복합체육센터', '수해복구', '지방하천', '제민천', '천안초등학교', '석수대림아파트', '녹지개선공사', '건립사업', '관리대대', '골프장', '야구실내연습장', '교통섬', '양덕게이트볼장', '남천면', '승봉리', '자월면', '관광자원화사업', '칠연지구', '안성', '주변정비공사', '관리도로', '근덕면교가리전천후게이트볼장관급자재', '의창테니스장', '에어돔', '특화시설', '전지훈련', '송암', '복합문화센터', '삼향농공단지', '어울림체육관', '제천', '홍제게이트볼장', '건축토목공사', '철산게이트볼장', '유지관리', '덕아웃', '구의야구장', '송정배수지공원', '조달구', '부안면', '발안바이오과학고', '작은섬공원', '부평리', '인제', '효암고등학교', '이천시설봉공원히딩크드림필드축구장개보수공사', '신호공원', '태백', '고원', '서울금북초등학교', '안덕게이트볼장', '전용체육공간', '어르신', '비가림막', '영주', '평은면', '운영', '힐링', '페스타', '자라섬', '완도중', '부대시설', '대마산단', '캠핑장', '청구고등학교', '상면생활체육공원', '영북테니스장', '자주도하', '송정남근린공원', '풍납족구장', '관급자재조달구매', '군산고', '군산기계공고', '살곶이체육공원', '당정중', '전동초', '한림족구장', '군산신풍초', '광탄', '응봉아파트', '주거대', '우기리', '채운면', '공병여단', '동탄', '화원게이트볼장', '호체육공원', '태안중학교', '청운파크골프장', '삼진운동장', '수유중', '동부양산', '호어린이공원', '황산리', '고아', '조성용', '부곡여중', '강변', '옥포', '화순온천', '노후관광지재상사업', '진주중학교', '정원', '지세포중학교', '범서굴화종합체육시설', '장암면', '줄포자동차공업고등학교', '감물전천후게이트볼장', '남양주체육문화센터', '유성중', '삽교고등학교', '관급자내', '퍼걸러', '어촌뉴딜사업', '어두항', '비안면테니스장확장공사', '만석공원', '시설보수', '대보수사업', '인도잔디포장', '공주', '풍각면복합체육시설건립사업', '필드', '운동기구', '용원족구장', '망덕배드민턴장', '자혜근린공원', '연희중학교', '생활편의관', '해룡산단', '모충공원', '스틸', '플룸관', '철망', '신안공설운동장', '음성테니스장', '성암공원', '성동고등학교', '김전분교', '체육장', '지천생태공원', '계약의뢰', '월드컵경기장', '여자축구장', '가야곡', '건설공사', '월드컵대교', '강변리틀야구장', '당곡주', '야구시설', '야로중학교', '하천정비사업', '공릉지구', '공릉천', '생태둔치', '성주호', '강릉제일고', '이차산', '반려동물', '전주공고', '내촌면', '풋살구장', '교육문화센터', '삼계근린공원어린이놀이터포장교체사업관급자재', '광양중학교', '제주시청소년야영장', '경기장', '도민체전', '월송리', '평해', '신림게이트볼장', '전체', '금암', '인헌고', '레저스포츠시설', '추가구매', '진선여중', '풋살장시설물', '명륜근린공원', '야외게이트볼장', '양구읍', '재조성을', '살곶이체육공원시설전면개선공사', '무학초', '인조야구장', '불암산스포츠타운', '옥상녹화사업', '부안반다비체육센터', '교체에', '청석게이트볼장', '삼산고', '부창동', '지사울공원', '이서', '주민편의시설', '하천변', '면보수', '영천', '매호동', '마을회관', '통폐합', '대구공고', '변경구입', '확장사업', '중전파크골프장', '영원면게이트볼장데크공사및인조잔디재설치공사', '신축이전공사', '태백중', '방공단', '덕산중학교', '마을만들기사업', '삼구동마을', '나산면', '실내족구장', '양주시', '건국고등학교']\n"
     ]
    }
   ],
   "source": [
    "# 종합쇼핑몰 기준 중요키워드 추출\n",
    "print('1등급 키워드 : ', list(mapping_keywd_df[mapping_keywd_df['빈도수'] >= 50].sort_values('빈도수',ascending=False)['키워드']))\n",
    "print('2등급 키워드 : ', list(mapping_keywd_df[(mapping_keywd_df['빈도수'] < 50) & (mapping_keywd_df['빈도수'] >= 40)].sort_values('빈도수',ascending=False)['키워드']))\n",
    "print('3등급 키워드 : ', list(mapping_keywd_df[(mapping_keywd_df['빈도수'] < 40) & (mapping_keywd_df['빈도수'] >= 30)].sort_values('빈도수',ascending=False)['키워드']))\n",
    "print('4등급 키워드 : ', list(mapping_keywd_df[(mapping_keywd_df['빈도수'] < 30) & (mapping_keywd_df['빈도수'] >= 20)].sort_values('빈도수',ascending=False)['키워드']))\n",
    "print('5등급 키워드 : ', list(mapping_keywd_df[(mapping_keywd_df['빈도수'] < 20) & (mapping_keywd_df['빈도수'] >= 10)].sort_values('빈도수',ascending=False)['키워드']))\n",
    "print('기타 키워드 : ', list(mapping_keywd_df[(mapping_keywd_df['빈도수'] < 10)].sort_values('빈도수',ascending=False)['키워드']))"
   ]
  },
  {
   "cell_type": "code",
   "execution_count": 16,
   "id": "ea85d99c",
   "metadata": {},
   "outputs": [],
   "source": [
    "# 빈도수 키워드\n",
    "freq_kwd = ('|').join(list(mapping_keywd_df[(mapping_keywd_df['빈도수'] < 10)]['키워드']))"
   ]
  },
  {
   "cell_type": "markdown",
   "id": "4875e3bd",
   "metadata": {},
   "source": [
    "#### 지자체 세부사업별 예산서"
   ]
  },
  {
   "cell_type": "code",
   "execution_count": 17,
   "id": "34c530df",
   "metadata": {},
   "outputs": [],
   "source": [
    "# 빅쿼리에서 불러오기\n",
    "budget_df_today = get_dataframe_from_bigquery('budget','budget_df_0' + today,bigquerykey_path)\n",
    "budget_df_ytday = get_dataframe_from_bigquery('budget','budget_df_0' + ytday,bigquerykey_path)"
   ]
  },
  {
   "cell_type": "code",
   "execution_count": 18,
   "id": "57d2a9ec",
   "metadata": {},
   "outputs": [
    {
     "data": {
      "text/html": [
       "<div>\n",
       "<style scoped>\n",
       "    .dataframe tbody tr th:only-of-type {\n",
       "        vertical-align: middle;\n",
       "    }\n",
       "\n",
       "    .dataframe tbody tr th {\n",
       "        vertical-align: top;\n",
       "    }\n",
       "\n",
       "    .dataframe thead th {\n",
       "        text-align: right;\n",
       "    }\n",
       "</style>\n",
       "<table border=\"1\" class=\"dataframe\">\n",
       "  <thead>\n",
       "    <tr style=\"text-align: right;\">\n",
       "      <th></th>\n",
       "      <th>회계연도</th>\n",
       "      <th>지역코드</th>\n",
       "      <th>지역명</th>\n",
       "      <th>자치단체코드</th>\n",
       "      <th>자치단체명</th>\n",
       "      <th>회계구분명</th>\n",
       "      <th>세부사업코드</th>\n",
       "      <th>세부사업명</th>\n",
       "      <th>집행일자</th>\n",
       "      <th>예산현액</th>\n",
       "      <th>지출액</th>\n",
       "      <th>편성액</th>\n",
       "      <th>분야명</th>\n",
       "      <th>부문명</th>\n",
       "      <th>행정자치단체코드</th>\n",
       "    </tr>\n",
       "  </thead>\n",
       "  <tbody>\n",
       "  </tbody>\n",
       "</table>\n",
       "</div>"
      ],
      "text/plain": [
       "Empty DataFrame\n",
       "Columns: [회계연도, 지역코드, 지역명, 자치단체코드, 자치단체명, 회계구분명, 세부사업코드, 세부사업명, 집행일자, 예산현액, 지출액, 편성액, 분야명, 부문명, 행정자치단체코드]\n",
       "Index: []"
      ]
     },
     "execution_count": 18,
     "metadata": {},
     "output_type": "execute_result"
    }
   ],
   "source": [
    "# 종료 사업\n",
    "budget_df_delete_temp1 = budget_df_ytday[budget_df_ytday['세부사업코드'].isin(set(budget_df_ytday['세부사업코드']) - set(budget_df_today['세부사업코드']))].reset_index(drop=True)\n",
    "budget_df_delete_temp2 = budget_df_ytday[budget_df_ytday['세부사업명'].isin(set(budget_df_ytday['세부사업명']) - set(budget_df_today['세부사업명']))].reset_index(drop=True)\n",
    "budget_df_delete = pd.concat([budget_df_delete_temp1,budget_df_delete_temp2],axis=0).drop_duplicates().reset_index(drop=True)\n",
    "budget_df_delete"
   ]
  },
  {
   "cell_type": "code",
   "execution_count": 19,
   "id": "5c58a66c",
   "metadata": {},
   "outputs": [
    {
     "data": {
      "text/html": [
       "<div>\n",
       "<style scoped>\n",
       "    .dataframe tbody tr th:only-of-type {\n",
       "        vertical-align: middle;\n",
       "    }\n",
       "\n",
       "    .dataframe tbody tr th {\n",
       "        vertical-align: top;\n",
       "    }\n",
       "\n",
       "    .dataframe thead th {\n",
       "        text-align: right;\n",
       "    }\n",
       "</style>\n",
       "<table border=\"1\" class=\"dataframe\">\n",
       "  <thead>\n",
       "    <tr style=\"text-align: right;\">\n",
       "      <th></th>\n",
       "      <th>회계연도</th>\n",
       "      <th>지역코드</th>\n",
       "      <th>지역명</th>\n",
       "      <th>자치단체코드</th>\n",
       "      <th>자치단체명</th>\n",
       "      <th>회계구분명</th>\n",
       "      <th>세부사업코드</th>\n",
       "      <th>세부사업명</th>\n",
       "      <th>집행일자</th>\n",
       "      <th>예산현액</th>\n",
       "      <th>지출액</th>\n",
       "      <th>편성액</th>\n",
       "      <th>분야명</th>\n",
       "      <th>부문명</th>\n",
       "      <th>행정자치단체코드</th>\n",
       "    </tr>\n",
       "  </thead>\n",
       "  <tbody>\n",
       "    <tr>\n",
       "      <th>0</th>\n",
       "      <td>2024</td>\n",
       "      <td>1100000</td>\n",
       "      <td>서울</td>\n",
       "      <td>1121000</td>\n",
       "      <td>서울노원구</td>\n",
       "      <td>일반회계</td>\n",
       "      <td>310000020243010F</td>\n",
       "      <td>화랑대철도공원 정비</td>\n",
       "      <td>20240805</td>\n",
       "      <td>400000000</td>\n",
       "      <td>0</td>\n",
       "      <td>0</td>\n",
       "      <td>환경</td>\n",
       "      <td>자연</td>\n",
       "      <td>3100000</td>\n",
       "    </tr>\n",
       "    <tr>\n",
       "      <th>1</th>\n",
       "      <td>2024</td>\n",
       "      <td>4700000</td>\n",
       "      <td>경북</td>\n",
       "      <td>4715000</td>\n",
       "      <td>경북구미시</td>\n",
       "      <td>일반회계</td>\n",
       "      <td>50800002024301AE</td>\n",
       "      <td>선산비봉공원정비사업</td>\n",
       "      <td>20240805</td>\n",
       "      <td>1019800000</td>\n",
       "      <td>0</td>\n",
       "      <td>1019800000</td>\n",
       "      <td>환경</td>\n",
       "      <td>자연</td>\n",
       "      <td>5080000</td>\n",
       "    </tr>\n",
       "    <tr>\n",
       "      <th>2</th>\n",
       "      <td>2024</td>\n",
       "      <td>4700000</td>\n",
       "      <td>경북</td>\n",
       "      <td>4715000</td>\n",
       "      <td>경북구미시</td>\n",
       "      <td>일반회계</td>\n",
       "      <td>50800002024301A7</td>\n",
       "      <td>국가산업3단지다목적복합센터조성사업</td>\n",
       "      <td>20240805</td>\n",
       "      <td>2000000000</td>\n",
       "      <td>0</td>\n",
       "      <td>2000000000</td>\n",
       "      <td>교통및물류</td>\n",
       "      <td>대중교통ㆍ물류등기타</td>\n",
       "      <td>5080000</td>\n",
       "    </tr>\n",
       "  </tbody>\n",
       "</table>\n",
       "</div>"
      ],
      "text/plain": [
       "   회계연도     지역코드 지역명   자치단체코드  자치단체명 회계구분명            세부사업코드  \\\n",
       "0  2024  1100000  서울  1121000  서울노원구  일반회계  310000020243010F   \n",
       "1  2024  4700000  경북  4715000  경북구미시  일반회계  50800002024301AE   \n",
       "2  2024  4700000  경북  4715000  경북구미시  일반회계  50800002024301A7   \n",
       "\n",
       "                세부사업명      집행일자        예산현액  지출액         편성액    분야명  \\\n",
       "0         화랑대철도공원 정비   20240805   400000000    0           0     환경   \n",
       "1          선산비봉공원정비사업  20240805  1019800000    0  1019800000     환경   \n",
       "2  국가산업3단지다목적복합센터조성사업  20240805  2000000000    0  2000000000  교통및물류   \n",
       "\n",
       "          부문명 행정자치단체코드  \n",
       "0          자연  3100000  \n",
       "1          자연  5080000  \n",
       "2  대중교통ㆍ물류등기타  5080000  "
      ]
     },
     "execution_count": 19,
     "metadata": {},
     "output_type": "execute_result"
    }
   ],
   "source": [
    "# 새로 추가된 사업\n",
    "budget_df_new_temp1 = budget_df_today[~budget_df_today['세부사업코드'].isin(budget_df_ytday['세부사업코드'])].reset_index(drop=True).reset_index(drop=True)\n",
    "budget_df_new_temp2 = budget_df_today[~budget_df_today['세부사업명'].isin(budget_df_ytday['세부사업명'])].reset_index(drop=True).reset_index(drop=True)\n",
    "budget_df_new = pd.concat([budget_df_new_temp1,budget_df_new_temp2],axis=0).drop_duplicates().reset_index(drop=True)\n",
    "budget_df_new"
   ]
  },
  {
   "cell_type": "code",
   "execution_count": 20,
   "id": "30e45e37",
   "metadata": {},
   "outputs": [],
   "source": [
    "# 필요키워드1\n",
    "need_kwd1 = '학교|초등학교|중학교|고등학교|대학교|다목적|운동장|종합운동장|공원|체육|체육공원|체육시설|체육센터|스포츠|스포츠센터|놀이시설|연병장|축구장|족구장|야구장|풋살장|배드민턴장|테니스장|게이트볼장|하키장'\n",
    "\n",
    "# 필요키워드2\n",
    "need_kwd2 = '개선|교체|보수|공사|구매|구입|설치|정비|조성'\n",
    "\n",
    "# 필요키워드3\n",
    "need_kwd3 = '인조잔디'\n",
    "\n",
    "# 제외키워드\n",
    "except_kwd = 'CCTV|cctv|LED|led|가로등|가속기|간접등|간판|개방|검진|경관|계단|골프장|관리|광고|교량|교실|교육|교차로|균열|그늘막|그림|급수관|급식|난방기|내진|냉방기|네트워크|노상|노점|농기계|단열|데이터|도로개설|도로방음벽|도로정비|도로확장|도서관|디자인|뚜껑|막구조물|맨홀|모노레일|모니터링|미끄럼|미세먼지|미술|방송|방수|방음|방음벽|배면도로|배수|버스|법률자문|벤치|벽화|보건|보도블럭|보상|보일러|보행자도로|복지|볼라드|분묘|불법|빗물받이|사용료|사워실|살포|생육환경|석면|선홈통|소프트웨어|수도|수로|수목표찰|수영장|스크린|스프링클러|승강기|시계탑|시스템|식수대|신호등|안심벨|안전|약수터|억제제|역량|연결도로|예방|예술|오염|옹벽|요양기관|운영|울타리|위생|위험수목|유아|육교|음성안내|음악|의자|인양기|인터넷|입학|자료|자전거|저장고|저장장치|전광판|전기|전신주|전통시장|정화|정화조|조도|조명|조형물|조화기|주차장|줄눈|진로진학|진입도로|창고|창출|처우|철거|취업|치안|카메라|카약|통학로|파고라|펜스|폐기물|폐열|포충기|풀장|풍차|하수|하수관로|하수도|하천|학습|행사|화장|화장실|활성화|횡단보도|휀스|흡연'"
   ]
  },
  {
   "cell_type": "code",
   "execution_count": 21,
   "id": "850c2fc9",
   "metadata": {},
   "outputs": [],
   "source": [
    "budget_df_today = budget_df_today[((budget_df_today['세부사업명'].str.contains(need_kwd1) & \n",
    "                                  budget_df_today['세부사업명'].str.contains(need_kwd2)) &\n",
    "                                  ~budget_df_today['세부사업명'].str.contains(except_kwd)) |\n",
    "                                  budget_df_today['세부사업명'].str.contains(need_kwd3)\n",
    "                                  ].reset_index(drop=True)"
   ]
  },
  {
   "cell_type": "code",
   "execution_count": 22,
   "id": "0e639df9",
   "metadata": {},
   "outputs": [],
   "source": [
    "# 사업명 전처리\n",
    "budget_df_today['세부사업명_re'] = budget_df_today['세부사업명'].apply(clean_text)\n",
    "# budget_df_today['세부사업명_re'] = budget_df_today['세부사업명_re'].str.replace('초등학교','').str.replace('중학교','').str.replace('고등학교','')\n",
    "budget_df_today['세부사업명_re'] = budget_df_today['세부사업명_re'].str.strip()\n",
    "\n",
    "budget_df_today['세부사업명_re'] = budget_df_today['세부사업명_re'].str.split().apply(lambda x: [kw for kw in x if len(kw) > 1]) ## 글자수 1 제외\n",
    "budget_df_today['세부사업명_re'] = budget_df_today['세부사업명_re'].apply((' ').join)"
   ]
  },
  {
   "cell_type": "code",
   "execution_count": 23,
   "id": "447d8aef",
   "metadata": {},
   "outputs": [],
   "source": [
    "# 해당 지역 추출\n",
    "filtered_budget_df_temp1 = budget_df_today[budget_df_today['자치단체명'].str.contains(('|').join(dist_nm))].reset_index(drop=True)\n",
    "filtered_budget_df_temp2 = budget_df_today[budget_df_today['자치단체명'].str.contains('본청')].reset_index(drop=True)\n",
    "\n",
    "filtered_budget_df_today = pd.concat([filtered_budget_df_temp1,filtered_budget_df_temp2],axis=0).reset_index(drop=True)"
   ]
  },
  {
   "cell_type": "markdown",
   "id": "13b0c4a4",
   "metadata": {},
   "source": [
    "#### 지자체 종합쇼핑몰 전처리"
   ]
  },
  {
   "cell_type": "code",
   "execution_count": 24,
   "id": "2ad08b9b",
   "metadata": {},
   "outputs": [],
   "source": [
    "# Initialize the dictionary for split keywords\n",
    "shop_split_kwd = {}\n",
    "for i in range(all_shop_df_fin['납품요구건명_re'].str.split().apply(len).max()):\n",
    "    shop_split_kwd['kwd_' + str(i)] = all_shop_df_fin['납품요구건명_re'].str.split().str[i]"
   ]
  },
  {
   "cell_type": "code",
   "execution_count": 25,
   "id": "e9f6c74a",
   "metadata": {},
   "outputs": [],
   "source": [
    "# 매핑데이터셋\n",
    "mapping_merge_df = []"
   ]
  },
  {
   "cell_type": "code",
   "execution_count": 26,
   "id": "5460a3ac",
   "metadata": {},
   "outputs": [],
   "source": [
    "# 종합쇼핑몰 납품요구건명 split 키워드 순서대로 맵핑\n",
    "# Initialize the list to store the results\n",
    "prep_budget_df_today = filtered_budget_df_today.copy()\n",
    "prep_all_shop_df_fin = all_shop_df_fin.copy()\n",
    "\n",
    "# Iterate over each keyword column\n",
    "for i in range(len(shop_split_kwd)):\n",
    "    keyword_column = 'kwd_' + str(i)\n",
    "    \n",
    "    # Get unique non-null keywords\n",
    "    shop_split_kwd_temp = shop_split_kwd[keyword_column].dropna().unique()\n",
    "\n",
    "    prep_budget_df_today[keyword_column] = prep_budget_df_today['세부사업명_re'].apply(lambda x: ' '.join(re.findall('|'.join(shop_split_kwd_temp), x)))\n",
    "    prep_budget_df_today[keyword_column] = prep_budget_df_today[keyword_column].str.strip()\n",
    "    prep_budget_df_today[keyword_column] = prep_budget_df_today[keyword_column].str.split().apply(lambda x : ' '.join(sorted(set(x)))).str.strip()\n",
    "\n",
    "    prep_all_shop_df_fin[keyword_column] = prep_all_shop_df_fin['납품요구건명_re'].apply(lambda x: ' '.join(re.findall('|'.join(shop_split_kwd_temp), x)))\n",
    "    prep_all_shop_df_fin[keyword_column] = prep_all_shop_df_fin[keyword_column].str.strip()\n",
    "    prep_all_shop_df_fin[keyword_column] = prep_all_shop_df_fin[keyword_column].str.split().apply(lambda x : ' '.join(sorted(set(x)))).str.strip()\n",
    "\n",
    "    mapping_merge_df_temp = pd.merge(\n",
    "            prep_budget_df_today[(prep_budget_df_today[keyword_column] != '') & ~(prep_budget_df_today[keyword_column].isnull())][['지역명','자치단체명','세부사업코드','세부사업명', '세부사업명_re', keyword_column]].reset_index(drop=True),\n",
    "            prep_all_shop_df_fin[(prep_all_shop_df_fin[keyword_column] != '') & ~(prep_all_shop_df_fin[keyword_column].isnull())][['수요기관명','수요기관지역명','납품요구건명', '납품요구건명_re', keyword_column]].reset_index(drop=True),\n",
    "            how='left',\n",
    "            on=keyword_column\n",
    "            ).drop_duplicates().reset_index(drop=True)\n",
    "    \n",
    "    # Append the temporary DataFrame to the results list\n",
    "    mapping_merge_df.append(mapping_merge_df_temp)"
   ]
  },
  {
   "cell_type": "code",
   "execution_count": 27,
   "id": "b8713d0d",
   "metadata": {},
   "outputs": [],
   "source": [
    "# 종합쇼핑몰 지역 키워드 맵핑 - 세부사업명 지역 및 해당지역 추출\n",
    "# Initialize the columns for district keywords\n",
    "prep_budget_df_today = filtered_budget_df_today.copy()\n",
    "prep_all_shop_df_fin = all_shop_df_fin.copy()\n",
    "\n",
    "sig_pat = '|'.join(dist_nm)\n",
    "\n",
    "prep_budget_df_today['kwd_sig'] = prep_budget_df_today['세부사업명_re'].apply(lambda x: ' '.join(re.findall(sig_pat, x)))\n",
    "prep_budget_df_today['kwd_sig'] = prep_budget_df_today['kwd_sig'].str.strip()\n",
    "prep_budget_df_today['kwd_sig'] = prep_budget_df_today['kwd_sig'].str.split()\n",
    "prep_budget_df_today = prep_budget_df_today.explode('kwd_sig')\n",
    "\n",
    "prep_all_shop_df_fin['kwd_sig'] = prep_all_shop_df_fin['납품요구건명_re'].apply(lambda x: ' '.join(re.findall(sig_pat, x)))\n",
    "prep_all_shop_df_fin['kwd_sig'] = prep_all_shop_df_fin['kwd_sig'].str.strip()\n",
    "prep_all_shop_df_fin['kwd_sig'] = prep_all_shop_df_fin['kwd_sig'].str.split()\n",
    "prep_all_shop_df_fin = prep_all_shop_df_fin.explode('kwd_sig')\n",
    "\n",
    "mapping_merge_df_sig = pd.merge(\n",
    "    prep_budget_df_today[(prep_budget_df_today['kwd_sig'] != '') & ~(prep_budget_df_today['kwd_sig'].isnull())][['지역명','자치단체명','세부사업코드','세부사업명', '세부사업명_re', 'kwd_sig']].reset_index(drop=True),\n",
    "    prep_all_shop_df_fin[(prep_all_shop_df_fin['kwd_sig'] != '') & ~(prep_all_shop_df_fin['kwd_sig'].isnull())][['수요기관명','수요기관지역명','납품요구건명', '납품요구건명_re', 'kwd_sig']].reset_index(drop=True),\n",
    "    how='left',\n",
    "    on='kwd_sig'\n",
    "    ).drop_duplicates().reset_index(drop=True)\n",
    "\n",
    "# Append the district keywords DataFrame to the results list\n",
    "mapping_merge_df.append(mapping_merge_df_sig)"
   ]
  },
  {
   "cell_type": "code",
   "execution_count": 28,
   "id": "57d09abc",
   "metadata": {},
   "outputs": [],
   "source": [
    "# 종합쇼핑몰 지역 키워드 맵핑 - 세부사업명 지역 및 해당지역 읍면동 추출\n",
    "# Initialize the columns for district keywords\n",
    "prep_budget_df_today = filtered_budget_df_today.copy()\n",
    "prep_all_shop_df_fin = all_shop_df_fin.copy()\n",
    "\n",
    "emd_pat = '|'.join(set(emd_code_list))\n",
    "\n",
    "prep_budget_df_today['kwd_emd'] = prep_budget_df_today['세부사업명_re'].apply(lambda x: ' '.join(re.findall(emd_pat, x)))\n",
    "prep_budget_df_today['kwd_emd'] = prep_budget_df_today['kwd_emd'].str.strip()\n",
    "prep_budget_df_today['kwd_emd'] = prep_budget_df_today['kwd_emd'].str.split()\n",
    "prep_budget_df_today = prep_budget_df_today.explode('kwd_emd')\n",
    "\n",
    "prep_all_shop_df_fin['kwd_emd'] = prep_all_shop_df_fin['납품요구건명_re'].apply(lambda x: ' '.join(re.findall(emd_pat, x)))\n",
    "prep_all_shop_df_fin['kwd_emd'] = prep_all_shop_df_fin['kwd_emd'].str.strip()\n",
    "prep_all_shop_df_fin['kwd_emd'] = prep_all_shop_df_fin['kwd_emd'].str.split()\n",
    "prep_all_shop_df_fin = prep_all_shop_df_fin.explode('kwd_emd')\n",
    "\n",
    "mapping_merge_df_emd = pd.merge(\n",
    "    prep_budget_df_today[(prep_budget_df_today['kwd_emd'] != '') & ~(prep_budget_df_today['kwd_emd'].isnull())][['지역명','자치단체명','세부사업코드','세부사업명', '세부사업명_re', 'kwd_emd']].reset_index(drop=True),\n",
    "    prep_all_shop_df_fin[(prep_all_shop_df_fin['kwd_emd'] != '') & ~(prep_all_shop_df_fin['kwd_emd'].isnull())][['수요기관명','수요기관지역명','납품요구건명', '납품요구건명_re', 'kwd_emd']].reset_index(drop=True),\n",
    "    how='left',\n",
    "    on='kwd_emd'\n",
    "    ).drop_duplicates().reset_index(drop=True)\n",
    "\n",
    "# Append the district keywords DataFrame to the results list\n",
    "mapping_merge_df.append(mapping_merge_df_emd)"
   ]
  },
  {
   "cell_type": "code",
   "execution_count": 29,
   "id": "284748cd",
   "metadata": {},
   "outputs": [],
   "source": [
    "# 필요키워드 앞부분 추출\n",
    "need_kwd_split = list(set(chain(*all_shop_df_fin['납품요구건명_re'].apply(lambda x: re.split(need_kwd1,x)).apply(''.join).str.split())))\n",
    "need_kwd_split_list = list(pd.Series(need_kwd_split)[pd.Series(need_kwd_split).apply(len) >= 2])"
   ]
  },
  {
   "cell_type": "code",
   "execution_count": 30,
   "id": "e927a558",
   "metadata": {},
   "outputs": [],
   "source": [
    "# 종합쇼핑몰 지역 키워드 맵핑 - 필요키워드 앞부분 매핑\n",
    "# Initialize the columns for district keywords\n",
    "prep_budget_df_today = filtered_budget_df_today.copy()\n",
    "prep_all_shop_df_fin = all_shop_df_fin.copy()\n",
    "\n",
    "kwd_split_pat = '|'.join(set(need_kwd_split_list))\n",
    "\n",
    "prep_budget_df_today['kwd_need_split'] = prep_budget_df_today['세부사업명_re'].apply(lambda x: ' '.join(re.findall(kwd_split_pat, x)))\n",
    "prep_budget_df_today['kwd_need_split'] = prep_budget_df_today['kwd_need_split'].str.strip()\n",
    "prep_budget_df_today['kwd_need_split'] = prep_budget_df_today['kwd_need_split'].str.split()\n",
    "prep_budget_df_today = prep_budget_df_today.explode('kwd_need_split')\n",
    "\n",
    "prep_all_shop_df_fin['kwd_need_split'] = prep_all_shop_df_fin['납품요구건명_re'].apply(lambda x: ' '.join(re.findall(kwd_split_pat, x)))\n",
    "prep_all_shop_df_fin['kwd_need_split'] = prep_all_shop_df_fin['kwd_need_split'].str.strip()\n",
    "prep_all_shop_df_fin['kwd_need_split'] = prep_all_shop_df_fin['kwd_need_split'].str.split()\n",
    "prep_all_shop_df_fin = prep_all_shop_df_fin.explode('kwd_need_split')\n",
    "\n",
    "mapping_merge_df_need_split = pd.merge(\n",
    "    prep_budget_df_today[(prep_budget_df_today['kwd_need_split'] != '') & ~(prep_budget_df_today['kwd_need_split'].isnull())][['지역명','자치단체명','세부사업코드','세부사업명', '세부사업명_re', 'kwd_need_split']].reset_index(drop=True),\n",
    "    prep_all_shop_df_fin[(prep_all_shop_df_fin['kwd_need_split'] != '') & ~(prep_all_shop_df_fin['kwd_need_split'].isnull())][['수요기관명','수요기관지역명','납품요구건명', '납품요구건명_re', 'kwd_need_split']].reset_index(drop=True),\n",
    "    how='left',\n",
    "    on='kwd_need_split'\n",
    "    ).drop_duplicates().reset_index(drop=True)\n",
    "\n",
    "# Append the district keywords DataFrame to the results list\n",
    "mapping_merge_df.append(mapping_merge_df_need_split)"
   ]
  },
  {
   "cell_type": "code",
   "execution_count": 31,
   "id": "cde0487c",
   "metadata": {},
   "outputs": [],
   "source": [
    "# 종합쇼핑몰 지역 키워드 맵핑 - 필요키워드 매핑\n",
    "# Initialize the columns for district keywords\n",
    "prep_budget_df_today = filtered_budget_df_today.copy()\n",
    "prep_all_shop_df_fin = all_shop_df_fin.copy()\n",
    "\n",
    "prep_budget_df_today['kwd_need'] = prep_budget_df_today['세부사업명_re'].apply(lambda x: ' '.join(re.findall(need_kwd1, x)))\n",
    "prep_budget_df_today['kwd_need'] = prep_budget_df_today['kwd_need'].str.strip()\n",
    "prep_budget_df_today['kwd_need'] = prep_budget_df_today['kwd_need'].str.split()\n",
    "prep_budget_df_today = prep_budget_df_today.explode('kwd_need')\n",
    "\n",
    "prep_all_shop_df_fin['kwd_need'] = prep_all_shop_df_fin['납품요구건명_re'].apply(lambda x: ' '.join(re.findall(need_kwd1, x)))\n",
    "prep_all_shop_df_fin['kwd_need'] = prep_all_shop_df_fin['kwd_need'].str.strip()\n",
    "prep_all_shop_df_fin['kwd_need'] = prep_all_shop_df_fin['kwd_need'].str.split()\n",
    "prep_all_shop_df_fin = prep_all_shop_df_fin.explode('kwd_need')\n",
    "\n",
    "mapping_merge_df_need = pd.merge(\n",
    "    prep_budget_df_today[(prep_budget_df_today['kwd_need'] != '') & ~(prep_budget_df_today['kwd_need'].isnull())][['지역명','자치단체명','세부사업코드','세부사업명', '세부사업명_re', 'kwd_need']].reset_index(drop=True),\n",
    "    prep_all_shop_df_fin[(prep_all_shop_df_fin['kwd_need'] != '') & ~(prep_all_shop_df_fin['kwd_need'].isnull())][['수요기관명','수요기관지역명','납품요구건명', '납품요구건명_re', 'kwd_need']].reset_index(drop=True),\n",
    "    how='left',\n",
    "    on='kwd_need'\n",
    "    ).drop_duplicates().reset_index(drop=True)\n",
    "\n",
    "# Append the district keywords DataFrame to the results list\n",
    "mapping_merge_df.append(mapping_merge_df_need)"
   ]
  },
  {
   "cell_type": "code",
   "execution_count": 32,
   "id": "02dd0133",
   "metadata": {},
   "outputs": [],
   "source": [
    "# 키워드별 데이터셋 병합\n",
    "mapping_merge_df_fin = pd.concat(mapping_merge_df, axis=0).drop_duplicates()\n",
    "mapping_merge_df_fin = mapping_merge_df_fin[~mapping_merge_df_fin['납품요구건명'].isnull()].reset_index(drop=True)"
   ]
  },
  {
   "cell_type": "code",
   "execution_count": 33,
   "id": "9e008c9f",
   "metadata": {},
   "outputs": [],
   "source": [
    "# 모든 키워드 합\n",
    "kwd_columns = ['kwd_0','kwd_1','kwd_2','kwd_3','kwd_4','kwd_5','kwd_6','kwd_7','kwd_8','kwd_sig','kwd_emd','kwd_need_split','kwd_need']\n",
    "mapping_merge_df_fin['all_kwd'] = mapping_merge_df_fin[kwd_columns].apply(lambda x : (' ').join(x.dropna()),axis=1)\n",
    "mapping_merge_df_fin['all_kwd'] = mapping_merge_df_fin['all_kwd'].str.strip()\n",
    "mapping_merge_df_fin['all_kwd'] = mapping_merge_df_fin['all_kwd'].str.split().apply(lambda x : ' '.join(sorted(set(x)))).str.strip()\n",
    "mapping_merge_df_fin.drop(columns=kwd_columns, inplace=True)"
   ]
  },
  {
   "cell_type": "code",
   "execution_count": 34,
   "id": "1caf9053",
   "metadata": {},
   "outputs": [],
   "source": [
    "# 지역명 추출1\n",
    "mapping_merge_df_fin['수요기관지역명_split1'] = mapping_merge_df_fin['수요기관지역명'].str.split().str[0]\n",
    "\n",
    "# Define the replacements\n",
    "replacements = {\n",
    "    '전라북도': '전북',\n",
    "    '전라남도': '전남',\n",
    "    '경상북도': '경북',\n",
    "    '경상남도': '경남',\n",
    "    '충청북도': '충북',\n",
    "    '충청남도': '충남'\n",
    "}\n",
    "\n",
    "# Apply the replacements\n",
    "mapping_merge_df_fin['수요기관지역명_split1'] = mapping_merge_df_fin['수요기관지역명_split1'].replace(replacements)\n",
    "mapping_merge_df_fin['수요기관지역명_split1'] = mapping_merge_df_fin['수요기관지역명_split1'].str[:2]"
   ]
  },
  {
   "cell_type": "code",
   "execution_count": 35,
   "id": "ea763a88",
   "metadata": {},
   "outputs": [],
   "source": [
    "# 지역명 추출2\n",
    "mapping_merge_df_fin['수요기관지역명_split2'] = mapping_merge_df_fin['수요기관지역명'].str.split().str[1]\n",
    "dist_sig_pat = '|'.join(mapping_merge_df_fin['수요기관지역명_split2'].dropna().unique())\n",
    "\n",
    "mapping_merge_df_fin['자치단체명_re'] = mapping_merge_df_fin['자치단체명'].apply(lambda x: ' '.join(re.findall(dist_sig_pat, x)))\n",
    "mapping_merge_df_fin['자치단체명_re'] = mapping_merge_df_fin['자치단체명_re'].str.strip()\n",
    "mapping_merge_df_fin['자치단체명_re'] = mapping_merge_df_fin['자치단체명_re'].str.split()\n",
    "mapping_merge_df_fin = mapping_merge_df_fin.explode('자치단체명_re')"
   ]
  },
  {
   "cell_type": "code",
   "execution_count": 36,
   "id": "dd218810",
   "metadata": {},
   "outputs": [],
   "source": [
    "# 제외 지역 제거\n",
    "filtered_mapping_merge_df_fin = mapping_merge_df_fin[mapping_merge_df_fin['자치단체명_re']!=''].drop_duplicates().reset_index(drop=True)"
   ]
  },
  {
   "cell_type": "code",
   "execution_count": 37,
   "id": "b6532a94",
   "metadata": {},
   "outputs": [],
   "source": [
    "# 지역 일치 확인1\n",
    "mapping_merge_df_fin_temp1 = filtered_mapping_merge_df_fin[filtered_mapping_merge_df_fin['지역명']==filtered_mapping_merge_df_fin['수요기관지역명_split1']].drop_duplicates().reset_index(drop=True)\n",
    "mapping_merge_df_fin_temp1 = mapping_merge_df_fin_temp1[mapping_merge_df_fin_temp1['자치단체명'].str.contains('|'.join(mapping_merge_df_fin_temp1['수요기관지역명_split2'].dropna().unique()))].drop_duplicates().reset_index(drop=True)\n",
    "mapping_merge_df_fin_temp1 = mapping_merge_df_fin_temp1[mapping_merge_df_fin_temp1['자치단체명_re']==mapping_merge_df_fin_temp1['수요기관지역명_split2']].drop_duplicates().reset_index(drop=True)\n",
    "\n",
    "# 본청 포함 확인\n",
    "mapping_merge_df_fin_temp2 = filtered_mapping_merge_df_fin[filtered_mapping_merge_df_fin['자치단체명'].str.contains('본청')].drop_duplicates().reset_index(drop=True)\n",
    "\n",
    "# 데이터 병합\n",
    "mapping_merge_df_final = pd.concat([mapping_merge_df_fin_temp1,mapping_merge_df_fin_temp2], axis=0).drop_duplicates().reset_index(drop=True)"
   ]
  },
  {
   "cell_type": "code",
   "execution_count": 38,
   "id": "8fccd4a4",
   "metadata": {},
   "outputs": [],
   "source": [
    "# 그룹화할 컬럼 리스트\n",
    "group_cols = ['지역명', '자치단체명', '세부사업코드', '세부사업명', '세부사업명_re', '수요기관명', '수요기관지역명', '납품요구건명', '납품요구건명_re','수요기관지역명_split1', '자치단체명_re', '수요기관지역명_split2']\n",
    "\n",
    "# 그룹화 및 all_kwd 컬럼 조인\n",
    "mapping_merge_df_final_grp = mapping_merge_df_final.groupby(group_cols).agg({'all_kwd': ' '.join}).reset_index()\n",
    "mapping_merge_df_final_grp['all_kwd'] = mapping_merge_df_final_grp['all_kwd'].str.strip()\n",
    "mapping_merge_df_final_grp['all_kwd'] = mapping_merge_df_final_grp['all_kwd'].str.split().apply(lambda x : ' '.join(sorted(set(x)))).str.strip()"
   ]
  },
  {
   "cell_type": "code",
   "execution_count": 39,
   "id": "644dea3b",
   "metadata": {},
   "outputs": [],
   "source": [
    "# 필요키워드 기준\n",
    "mapping_merge_df_final_grp['세부사업명_키워드1'] = mapping_merge_df_final_grp['세부사업명'].apply(lambda x: ' '.join(re.findall(need_kwd1, x)))\n",
    "mapping_merge_df_final_grp['납품요구건명_키워드1'] = mapping_merge_df_final_grp['납품요구건명'].apply(lambda x: ' '.join(re.findall(need_kwd1, x)))\n",
    "\n",
    "# 사업명 지역 추출\n",
    "mapping_merge_df_final_grp['세부사업명_지역'] = mapping_merge_df_final_grp['세부사업명'].apply(lambda x: ' '.join(re.findall(emd_pat, x)))\n",
    "mapping_merge_df_final_grp['납품요구건명_지역'] = mapping_merge_df_final_grp['납품요구건명'].apply(lambda x: ' '.join(re.findall(emd_pat, x)))\n",
    "\n",
    "# 필요키워드 패턴 기준\n",
    "need_kwd_pat = '\\w+' + ('|\\w+').join(need_kwd1.split('|'))\n",
    "\n",
    "mapping_merge_df_final_grp['세부사업명_키워드2'] = mapping_merge_df_final_grp['세부사업명'].apply(lambda x: ' '.join(re.findall(need_kwd_pat, x)))\n",
    "mapping_merge_df_final_grp['납품요구건명_키워드2'] = mapping_merge_df_final_grp['납품요구건명'].apply(lambda x: ' '.join(re.findall(need_kwd_pat, x)))"
   ]
  },
  {
   "cell_type": "code",
   "execution_count": 40,
   "id": "2dbb6dba",
   "metadata": {},
   "outputs": [],
   "source": [
    "def check_inclusion1(row):\n",
    "    set1 = set(row['세부사업명_키워드1'])\n",
    "    set2 = set(row['납품요구건명_키워드1'])\n",
    "    return bool(set1 & set2)"
   ]
  },
  {
   "cell_type": "code",
   "execution_count": 41,
   "id": "80c2b4d1",
   "metadata": {},
   "outputs": [],
   "source": [
    "# 필요키워드 모두 없는것 제외\n",
    "mapping_merge_df_final_grp_temp1 = mapping_merge_df_final_grp[(mapping_merge_df_final_grp['세부사업명_키워드1']!='')&(mapping_merge_df_final_grp['납품요구건명_키워드1']!='')].reset_index(drop=True)\n",
    "\n",
    "# 필요키워드 포함여부 확인\n",
    "mapping_merge_df_final_grp_temp1['세부사업명_키워드1'] = mapping_merge_df_final_grp_temp1['세부사업명_키워드1'].str.split() ## 키워드별 정리\n",
    "mapping_merge_df_final_grp_temp1['납품요구건명_키워드1'] = mapping_merge_df_final_grp_temp1['납품요구건명_키워드1'].str.split() ## 키워드별 정리\n",
    "\n",
    "mapping_merge_df_final_grp_temp1 = mapping_merge_df_final_grp_temp1[mapping_merge_df_final_grp_temp1.apply(check_inclusion1,axis=1)].reset_index(drop=True)\n",
    "\n",
    "mapping_merge_df_final_grp_temp1['세부사업명_키워드1'] = mapping_merge_df_final_grp_temp1['세부사업명_키워드1'].apply(lambda x : ' '.join(sorted(set(x)))).str.strip()\n",
    "mapping_merge_df_final_grp_temp1['납품요구건명_키워드1'] = mapping_merge_df_final_grp_temp1['납품요구건명_키워드1'].apply(lambda x : ' '.join(sorted(set(x)))).str.strip()"
   ]
  },
  {
   "cell_type": "code",
   "execution_count": 42,
   "id": "35cf7de7",
   "metadata": {},
   "outputs": [],
   "source": [
    "def check_inclusion_dist(row):\n",
    "    set1 = set(row['세부사업명_지역'])\n",
    "    set2 = set(row['납품요구건명_지역'])\n",
    "    return bool(set1 & set2)"
   ]
  },
  {
   "cell_type": "code",
   "execution_count": 43,
   "id": "2b1db702",
   "metadata": {},
   "outputs": [],
   "source": [
    "# 지역 없는것 제외\n",
    "mapping_merge_df_final_grp_temp2 = mapping_merge_df_final_grp[(mapping_merge_df_final_grp['세부사업명_지역']!='')&(mapping_merge_df_final_grp['납품요구건명_지역']!='')].reset_index(drop=True)\n",
    "\n",
    "# 사업명 지역 포함여부 확인\n",
    "mapping_merge_df_final_grp_temp2['세부사업명_지역'] = mapping_merge_df_final_grp_temp2['세부사업명_지역'].str.split()\n",
    "mapping_merge_df_final_grp_temp2['납품요구건명_지역'] = mapping_merge_df_final_grp_temp2['납품요구건명_지역'].str.split()\n",
    "\n",
    "mapping_merge_df_final_grp_temp2 = mapping_merge_df_final_grp_temp2[mapping_merge_df_final_grp_temp2.apply(check_inclusion_dist,axis=1)].reset_index(drop=True)\n",
    "\n",
    "mapping_merge_df_final_grp_temp2['세부사업명_지역'] = mapping_merge_df_final_grp_temp2['세부사업명_지역'].apply(lambda x : ' '.join(sorted(set(x)))).str.strip() ## 키워드별 정리\n",
    "mapping_merge_df_final_grp_temp2['납품요구건명_지역'] = mapping_merge_df_final_grp_temp2['납품요구건명_지역'].apply(lambda x : ' '.join(sorted(set(x)))).str.strip() ## 키워드별 정리"
   ]
  },
  {
   "cell_type": "code",
   "execution_count": 44,
   "id": "001c6098",
   "metadata": {},
   "outputs": [],
   "source": [
    "def check_inclusion2(row):\n",
    "    set1 = set(row['세부사업명_키워드2'])\n",
    "    set2 = set(row['납품요구건명_키워드2'])\n",
    "    return bool(set1 & set2)"
   ]
  },
  {
   "cell_type": "code",
   "execution_count": 45,
   "id": "9721ad33",
   "metadata": {},
   "outputs": [],
   "source": [
    "# 필요키워드패턴 모두 없는것 제외\n",
    "mapping_merge_df_final_grp_temp3 = mapping_merge_df_final_grp[(mapping_merge_df_final_grp['세부사업명_키워드2']!='')&(mapping_merge_df_final_grp['납품요구건명_키워드2']!='')].reset_index(drop=True)\n",
    "\n",
    "# 필요키워드 패턴 포함여부 확인\n",
    "mapping_merge_df_final_grp_temp3['세부사업명_키워드2'] = mapping_merge_df_final_grp_temp3['세부사업명_키워드2'].str.split() ## 키워드별 정리\n",
    "mapping_merge_df_final_grp_temp3['납품요구건명_키워드2'] = mapping_merge_df_final_grp_temp3['납품요구건명_키워드2'].str.split() ## 키워드별 정리\n",
    "\n",
    "mapping_merge_df_final_grp_temp3 = mapping_merge_df_final_grp_temp3[mapping_merge_df_final_grp_temp3.apply(check_inclusion2,axis=1)].reset_index(drop=True)\n",
    "\n",
    "mapping_merge_df_final_grp_temp3['세부사업명_키워드2'] = mapping_merge_df_final_grp_temp3['세부사업명_키워드2'].apply(lambda x : ' '.join(sorted(set(x)))).str.strip()\n",
    "mapping_merge_df_final_grp_temp3['납품요구건명_키워드2'] = mapping_merge_df_final_grp_temp3['납품요구건명_키워드2'].apply(lambda x : ' '.join(sorted(set(x)))).str.strip()"
   ]
  },
  {
   "cell_type": "code",
   "execution_count": 46,
   "id": "5c1b5846",
   "metadata": {},
   "outputs": [],
   "source": [
    "# 필터링 데이터셋 병합\n",
    "mapping_merge_df_final_grp_fin = pd.concat([mapping_merge_df_final_grp_temp1,mapping_merge_df_final_grp_temp2,mapping_merge_df_final_grp_temp3]).drop_duplicates().reset_index(drop=True)"
   ]
  },
  {
   "cell_type": "code",
   "execution_count": 47,
   "id": "9d92bdf7",
   "metadata": {},
   "outputs": [],
   "source": [
    "# 모든 키워드 합 중복 제거\n",
    "kwd_columns = ['all_kwd','세부사업명_키워드1', '납품요구건명_키워드1', '세부사업명_지역', '납품요구건명_지역', '세부사업명_키워드2', '납품요구건명_키워드2']\n",
    "mapping_merge_df_final_grp_fin['all_kwd_fin'] = mapping_merge_df_final_grp_fin[kwd_columns].apply(lambda x : (' ').join(x.dropna()),axis=1)\n",
    "mapping_merge_df_final_grp_fin['all_kwd_fin'] = mapping_merge_df_final_grp_fin['all_kwd_fin'].str.strip()\n",
    "mapping_merge_df_final_grp_fin['all_kwd_fin'] = mapping_merge_df_final_grp_fin['all_kwd_fin'].str.split().apply(lambda x : ' '.join(sorted(set(x)))).str.strip()\n",
    "# mapping_merge_df_final_grp_fin.drop(columns=kwd_columns, inplace\n",
    "# =True)\n",
    "\n",
    "mapping_merge_df_final_grp_fin = mapping_merge_df_final_grp_fin.drop_duplicates(['지역명', '자치단체명', '세부사업코드', '세부사업명', '세부사업명_re', '수요기관명', '수요기관지역명',\n",
    "                                                                                 '납품요구건명', '납품요구건명_re', '수요기관지역명_split1', '자치단체명_re', '수요기관지역명_split2', 'all_kwd_fin']).reset_index(drop=True)"
   ]
  },
  {
   "cell_type": "code",
   "execution_count": 48,
   "id": "9494704a",
   "metadata": {},
   "outputs": [],
   "source": [
    "# 최종필터링1 - 지역 일치\n",
    "mapping_merge_df_final_grp_fin_temp1 = mapping_merge_df_final_grp_fin[(mapping_merge_df_final_grp_fin['세부사업명_지역']!='') & (mapping_merge_df_final_grp_fin['납품요구건명_지역']!='')]\n",
    "mapping_merge_df_final_grp_fin_temp1 = mapping_merge_df_final_grp_fin_temp1[mapping_merge_df_final_grp_fin_temp1['세부사업명_지역']==mapping_merge_df_final_grp_fin_temp1['납품요구건명_지역']]"
   ]
  },
  {
   "cell_type": "code",
   "execution_count": 49,
   "id": "20c975a6",
   "metadata": {},
   "outputs": [],
   "source": [
    "# 최종필터링2 - 필수키워드 패턴 포함 & 지역 불일치 제거\n",
    "mapping_merge_df_final_grp_fin_temp2 = mapping_merge_df_final_grp_fin[(mapping_merge_df_final_grp_fin['세부사업명_키워드2']!='')&(mapping_merge_df_final_grp_fin['납품요구건명_키워드2']!='')].reset_index(drop=True)\n",
    "\n",
    "# 필요키워드 패턴 포함여부 확인\n",
    "mapping_merge_df_final_grp_fin_temp2['세부사업명_키워드2'] = mapping_merge_df_final_grp_fin_temp2['세부사업명_키워드2'].str.split() ## 키워드별 정리\n",
    "mapping_merge_df_final_grp_fin_temp2['납품요구건명_키워드2'] = mapping_merge_df_final_grp_fin_temp2['납품요구건명_키워드2'].str.split() ## 키워드별 정리\n",
    "\n",
    "mapping_merge_df_final_grp_fin_temp2 = mapping_merge_df_final_grp_fin_temp2[mapping_merge_df_final_grp_fin_temp2.apply(check_inclusion2,axis=1)].reset_index(drop=True)\n",
    "\n",
    "mapping_merge_df_final_grp_fin_temp2['세부사업명_키워드2'] = mapping_merge_df_final_grp_fin_temp2['세부사업명_키워드2'].apply(lambda x : ' '.join(sorted(set(x)))).str.strip()\n",
    "mapping_merge_df_final_grp_fin_temp2['납품요구건명_키워드2'] = mapping_merge_df_final_grp_fin_temp2['납품요구건명_키워드2'].apply(lambda x : ' '.join(sorted(set(x)))).str.strip()\n",
    "\n",
    "# 지역 불일치 제거\n",
    "mapping_merge_df_final_grp_fin_temp2 = mapping_merge_df_final_grp_fin_temp2[mapping_merge_df_final_grp_fin_temp2['세부사업명_지역']==mapping_merge_df_final_grp_fin_temp2['납품요구건명_지역']]"
   ]
  },
  {
   "cell_type": "code",
   "execution_count": 50,
   "id": "5120db74",
   "metadata": {},
   "outputs": [],
   "source": [
    "# 최종 필터링 데이터셋\n",
    "mapping_merge_df_final_grp_final = pd.concat([mapping_merge_df_final_grp_fin_temp1,mapping_merge_df_final_grp_fin_temp2]).drop_duplicates().reset_index(drop=True)\n",
    "mapping_merge_df_final_grp_final.drop(columns = 'all_kwd', inplace=True)"
   ]
  },
  {
   "cell_type": "code",
   "execution_count": 51,
   "id": "48cbf22f",
   "metadata": {},
   "outputs": [],
   "source": [
    "mapping_merge_df_final_grp_final.to_csv('C:\\py_src\\midoproject\\data/filtered_mapping_budget_df.csv', encoding='utf-8-sig')"
   ]
  },
  {
   "cell_type": "code",
   "execution_count": 52,
   "id": "418b5c02",
   "metadata": {},
   "outputs": [],
   "source": [
    "# 종합쇼핑몰 기준 필터링\n",
    "bid_cd1 = list(budget_df_today[budget_df_today['세부사업코드'].isin(mapping_merge_df_final_grp_final['세부사업코드'])]['세부사업코드'])\n",
    "bid_cd2 = list(budget_df_today[budget_df_today['세부사업명'].isin(mapping_merge_df_final_grp_final['세부사업명'])]['세부사업코드'])"
   ]
  },
  {
   "cell_type": "code",
   "execution_count": 53,
   "id": "6e28988a",
   "metadata": {},
   "outputs": [],
   "source": [
    "budget_df_today_fin = budget_df_today[~budget_df_today['세부사업코드'].isin(set(bid_cd1 + bid_cd2))].drop_duplicates().reset_index(drop=True)"
   ]
  },
  {
   "cell_type": "code",
   "execution_count": 54,
   "id": "ccfaa85d",
   "metadata": {},
   "outputs": [],
   "source": [
    "# 중요 사업 체크\n",
    "budget_df_today_final = pd.concat([budget_df_today_fin[budget_df_today_fin['세부사업명'].str.contains('인조잔디')],\n",
    "                                   budget_df_today_fin[~budget_df_today_fin['세부사업명'].str.contains('인조잔디')]],axis=0).reset_index(drop=True)"
   ]
  },
  {
   "cell_type": "code",
   "execution_count": 55,
   "id": "df586b0e",
   "metadata": {},
   "outputs": [],
   "source": [
    "# 최종데이터셋\n",
    "budget_df_today_final = budget_df_today_final[['회계연도', '집행일자', '지역명', '자치단체명', '회계구분명', '세부사업명','예산현액', '지출액', '편성액', '분야명', '부문명']].drop_duplicates().reset_index(drop=True)\n",
    "budget_df_delete = budget_df_delete[['회계연도', '집행일자', '지역명', '자치단체명', '회계구분명', '세부사업명','예산현액', '지출액', '편성액', '분야명', '부문명']].drop_duplicates().reset_index(drop=True)\n",
    "budget_df_new = budget_df_new[['회계연도', '집행일자', '지역명', '자치단체명', '회계구분명', '세부사업명','예산현액', '지출액', '편성액', '분야명', '부문명']].drop_duplicates().reset_index(drop=True)"
   ]
  },
  {
   "cell_type": "code",
   "execution_count": 56,
   "id": "913d0209",
   "metadata": {},
   "outputs": [
    {
     "name": "stdout",
     "output_type": "stream",
     "text": [
      "Data inserted into table budget_df_listup successfully.\n",
      "Data inserted into table budget_df_delete successfully.\n",
      "Data inserted into table budget_df_new successfully.\n"
     ]
    }
   ],
   "source": [
    "# 빅쿼리에 적재\n",
    "save_dataframe_to_bigquery(budget_df_today_final,'budget','budget_df_listup',bigquerykey_path)\n",
    "save_dataframe_to_bigquery(budget_df_delete,'budget','budget_df_delete',bigquerykey_path)\n",
    "save_dataframe_to_bigquery(budget_df_new,'budget','budget_df_new',bigquerykey_path)"
   ]
  }
 ],
 "metadata": {
  "kernelspec": {
   "display_name": "Python 3 (ipykernel)",
   "language": "python",
   "name": "python3"
  },
  "language_info": {
   "codemirror_mode": {
    "name": "ipython",
    "version": 3
   },
   "file_extension": ".py",
   "mimetype": "text/x-python",
   "name": "python",
   "nbconvert_exporter": "python",
   "pygments_lexer": "ipython3",
   "version": "3.8.19"
  }
 },
 "nbformat": 4,
 "nbformat_minor": 5
}
