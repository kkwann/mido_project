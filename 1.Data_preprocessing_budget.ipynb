{
 "cells": [
  {
   "cell_type": "code",
   "execution_count": 1,
   "id": "81fa5b7b-0d13-4592-b87c-523fcd4d8714",
   "metadata": {},
   "outputs": [],
   "source": [
    "import pandas as pd\n",
    "import numpy as np\n",
    "\n",
    "import re\n",
    "from itertools import chain\n",
    "from collections import Counter\n",
    "\n",
    "from google.cloud import bigquery\n",
    "from google.oauth2 import service_account\n",
    "\n",
    "from datetime import datetime, timedelta\n",
    "\n",
    "import requests\n",
    "import warnings\n",
    "from requests.packages.urllib3.exceptions import InsecureRequestWarning\n",
    "\n",
    "# InsecureRequestWarning 경고 무시\n",
    "warnings.simplefilter('ignore', InsecureRequestWarning)"
   ]
  },
  {
   "cell_type": "code",
   "execution_count": 2,
   "id": "de7792c0",
   "metadata": {},
   "outputs": [],
   "source": [
    "KEY_PATH = \".config/\"\n",
    "servicekey_path = KEY_PATH + \"serviceKey.json\" ## 빅쿼리 외 다른 API 활용 위해\n",
    "bigquerykey_path = KEY_PATH + \"mido-project-426906-31b49963ac97.json\"\n",
    "\n",
    "warnings.filterwarnings(\"ignore\")"
   ]
  },
  {
   "cell_type": "code",
   "execution_count": 3,
   "id": "e426681b",
   "metadata": {},
   "outputs": [],
   "source": [
    "# BigQuery 클라이언트 생성 함수\n",
    "def create_bigquery_client(key_path):\n",
    "    credentials = service_account.Credentials.from_service_account_file(key_path)\n",
    "    client = bigquery.Client(credentials=credentials, project=credentials.project_id)\n",
    "    return client"
   ]
  },
  {
   "cell_type": "code",
   "execution_count": 4,
   "id": "1ae8163d",
   "metadata": {},
   "outputs": [],
   "source": [
    "def save_dataframe_to_bigquery(df, dataset_id, table_id, key_path):\n",
    "    # BigQuery 클라이언트 객체 생성\n",
    "    client = create_bigquery_client(key_path)\n",
    "\n",
    "    # 테이블 레퍼런스 생성\n",
    "    table_ref = client.dataset(dataset_id).table(table_id)\n",
    "\n",
    "    # 데이터프레임을 BigQuery 테이블에 적재\n",
    "    job_config = bigquery.LoadJobConfig()\n",
    "    job_config.write_disposition = \"WRITE_TRUNCATE\"  # 기존 테이블 내용 삭제 후 삽입\n",
    "\n",
    "    job = client.load_table_from_dataframe(df, table_ref, job_config=job_config)\n",
    "    job.result()  # 작업 완료 대기\n",
    "\n",
    "    print(f\"Data inserted into table {table_id} successfully.\")"
   ]
  },
  {
   "cell_type": "code",
   "execution_count": 5,
   "id": "72805c5d",
   "metadata": {},
   "outputs": [],
   "source": [
    "def get_dataframe_from_bigquery(dataset_id, table_id, key_path):\n",
    "    # BigQuery 클라이언트 생성\n",
    "    client = create_bigquery_client(key_path)\n",
    "\n",
    "    # 테이블 레퍼런스 생성\n",
    "    table_ref = client.dataset(dataset_id).table(table_id)\n",
    "\n",
    "    # 테이블 데이터를 DataFrame으로 변환\n",
    "    df = client.list_rows(table_ref).to_dataframe()\n",
    "\n",
    "    return df"
   ]
  },
  {
   "cell_type": "code",
   "execution_count": 6,
   "id": "c8f939ce",
   "metadata": {},
   "outputs": [],
   "source": [
    "# 오늘 날짜\n",
    "today = datetime.today()#.strftime('%Y%m%d')\n",
    "\n",
    "# 어제 날짜 계산\n",
    "ytday = datetime.today() - timedelta(days=1)\n",
    "\n",
    "# 만약 어제, 오늘이 토요일(5) 또는 일요일(6)이라면, 그 전주 금요일로 변경\n",
    "if ytday.weekday() == 5:  # 토요일\n",
    "    ytday -= timedelta(days=1)\n",
    "elif ytday.weekday() == 6:  # 일요일\n",
    "    ytday -= timedelta(days=2)\n",
    "if today.weekday() == 5:  # 토요일\n",
    "    today -= timedelta(days=1)\n",
    "elif today.weekday() == 6:  # 일요일\n",
    "    today -= timedelta(days=2)\n",
    "\n",
    "# 'YYYYMMDD' 형식으로 변환\n",
    "ytday = ytday.strftime('%Y%m%d')\n",
    "today = today.strftime('%Y%m%d')"
   ]
  },
  {
   "cell_type": "markdown",
   "id": "edba1a69",
   "metadata": {},
   "source": [
    "#### 법정동코드"
   ]
  },
  {
   "cell_type": "code",
   "execution_count": 7,
   "id": "427babe8",
   "metadata": {},
   "outputs": [],
   "source": [
    "dist_code = pd.read_csv('C:\\py_src\\midoproject\\data/법정동코드 전체자료.csv',encoding='cp949')"
   ]
  },
  {
   "cell_type": "code",
   "execution_count": 8,
   "id": "62a39fcd",
   "metadata": {},
   "outputs": [],
   "source": [
    "dist_code_list = []\n",
    "for i in range(dist_code['법정동명'].str.split().apply(len).max()):\n",
    "    dist_code_temp = dist_code[dist_code['법정동명'].str.split().str[i].str[-1].isin(['읍','면','동','리','가','로']).dropna()]\n",
    "    dist_code_list.append([dist_code_temp['법정동명'].str.split().str[i].dropna().unique()])\n",
    "\n",
    "emd_code_list = list(chain(*chain(*dist_code_list)))"
   ]
  },
  {
   "cell_type": "markdown",
   "id": "604a6a0e",
   "metadata": {},
   "source": [
    "#### 종합쇼핑몰 납품상세내역"
   ]
  },
  {
   "cell_type": "code",
   "execution_count": 9,
   "id": "54c3efeb",
   "metadata": {},
   "outputs": [],
   "source": [
    "all_shop_df = get_dataframe_from_bigquery('g2b', 'shop_detail_df_all', bigquerykey_path)"
   ]
  },
  {
   "cell_type": "code",
   "execution_count": 10,
   "id": "a84ea0fe",
   "metadata": {},
   "outputs": [],
   "source": [
    "years = today[:-4]\n",
    "all_shop_df = all_shop_df[all_shop_df['납품요구접수일자'].str.split('-').str[0]==years].reset_index(drop=True)\n",
    "all_shop_df_fin = all_shop_df[['납품요구접수일자', '수요기관명', '납품요구건명', '업체명', '단가', '단위', '수량', '금액', '수요기관코드', '수요기관구분', '수요기관지역명','납품요구지청명']]\n",
    "all_shop_df_fin = all_shop_df_fin.sort_values(['납품요구접수일자'],ascending=False).reset_index(drop=True)"
   ]
  },
  {
   "cell_type": "code",
   "execution_count": 11,
   "id": "f2310ea0",
   "metadata": {},
   "outputs": [],
   "source": [
    "# 특수문자, 숫자, 영어 제거 함수 (연속된 공백을 단일 공백으로 변환 포함)\n",
    "def clean_text(text):\n",
    "    text = re.sub('[^ㄱ-ㅎㅏ-ㅣ가-힣\\s]', ' ', text)\n",
    "    text = re.sub('\\s+', ' ', text).strip()  # 연속된 공백을 단일 공백으로 변환\n",
    "    return text"
   ]
  },
  {
   "cell_type": "code",
   "execution_count": 12,
   "id": "1a7746b0",
   "metadata": {},
   "outputs": [],
   "source": [
    "# 사업명 전처리\n",
    "all_shop_df_fin['납품요구건명_re'] = all_shop_df_fin['납품요구건명'].apply(clean_text)\n",
    "# all_shop_df_fin['납품요구건명_re'] = all_shop_df_fin['납품요구건명_re'].str.replace('초등학교','').str.replace('중학교','').str.replace('고등학교','')\n",
    "all_shop_df_fin['납품요구건명_re'] = all_shop_df_fin['납품요구건명_re'].str.strip()\n",
    "\n",
    "all_shop_df_fin['납품요구건명_re'] = all_shop_df_fin['납품요구건명_re'].str.split().apply(lambda x: [kw for kw in x if len(kw) > 1]) ## 글자수 1 제외\n",
    "all_shop_df_fin['납품요구건명_re'] = all_shop_df_fin['납품요구건명_re'].apply((' ').join)"
   ]
  },
  {
   "cell_type": "code",
   "execution_count": 13,
   "id": "d92577b6",
   "metadata": {},
   "outputs": [],
   "source": [
    "# 수요기관 필터링\n",
    "dist_nm = pd.Series(all_shop_df_fin[all_shop_df_fin['수요기관지역명'].str.split(' ').str[1].notnull()]['수요기관지역명'].str.split(' ').str[1].unique())\n",
    "dist_nm = np.where(dist_nm.apply(len)<=2,dist_nm,dist_nm.str[:-1])"
   ]
  },
  {
   "cell_type": "code",
   "execution_count": 14,
   "id": "1cb2aa1f",
   "metadata": {},
   "outputs": [
    {
     "data": {
      "text/html": [
       "<div>\n",
       "<style scoped>\n",
       "    .dataframe tbody tr th:only-of-type {\n",
       "        vertical-align: middle;\n",
       "    }\n",
       "\n",
       "    .dataframe tbody tr th {\n",
       "        vertical-align: top;\n",
       "    }\n",
       "\n",
       "    .dataframe thead th {\n",
       "        text-align: right;\n",
       "    }\n",
       "</style>\n",
       "<table border=\"1\" class=\"dataframe\">\n",
       "  <thead>\n",
       "    <tr style=\"text-align: right;\">\n",
       "      <th></th>\n",
       "      <th>키워드</th>\n",
       "      <th>빈도수</th>\n",
       "    </tr>\n",
       "  </thead>\n",
       "  <tbody>\n",
       "    <tr>\n",
       "      <th>4</th>\n",
       "      <td>인조잔디</td>\n",
       "      <td>974</td>\n",
       "    </tr>\n",
       "    <tr>\n",
       "      <th>3</th>\n",
       "      <td>관급자재</td>\n",
       "      <td>549</td>\n",
       "    </tr>\n",
       "    <tr>\n",
       "      <th>44</th>\n",
       "      <td>구입</td>\n",
       "      <td>302</td>\n",
       "    </tr>\n",
       "    <tr>\n",
       "      <th>5</th>\n",
       "      <td>구매</td>\n",
       "      <td>173</td>\n",
       "    </tr>\n",
       "    <tr>\n",
       "      <th>16</th>\n",
       "      <td>운동장</td>\n",
       "      <td>129</td>\n",
       "    </tr>\n",
       "    <tr>\n",
       "      <th>...</th>\n",
       "      <td>...</td>\n",
       "      <td>...</td>\n",
       "    </tr>\n",
       "    <tr>\n",
       "      <th>665</th>\n",
       "      <td>부창동</td>\n",
       "      <td>1</td>\n",
       "    </tr>\n",
       "    <tr>\n",
       "      <th>663</th>\n",
       "      <td>교체에</td>\n",
       "      <td>1</td>\n",
       "    </tr>\n",
       "    <tr>\n",
       "      <th>662</th>\n",
       "      <td>청석게이트볼장</td>\n",
       "      <td>1</td>\n",
       "    </tr>\n",
       "    <tr>\n",
       "      <th>661</th>\n",
       "      <td>태안중학교</td>\n",
       "      <td>1</td>\n",
       "    </tr>\n",
       "    <tr>\n",
       "      <th>1544</th>\n",
       "      <td>배정미래고등학교</td>\n",
       "      <td>1</td>\n",
       "    </tr>\n",
       "  </tbody>\n",
       "</table>\n",
       "<p>1545 rows × 2 columns</p>\n",
       "</div>"
      ],
      "text/plain": [
       "           키워드  빈도수\n",
       "4         인조잔디  974\n",
       "3         관급자재  549\n",
       "44          구입  302\n",
       "5           구매  173\n",
       "16         운동장  129\n",
       "...        ...  ...\n",
       "665        부창동    1\n",
       "663        교체에    1\n",
       "662    청석게이트볼장    1\n",
       "661      태안중학교    1\n",
       "1544  배정미래고등학교    1\n",
       "\n",
       "[1545 rows x 2 columns]"
      ]
     },
     "execution_count": 14,
     "metadata": {},
     "output_type": "execute_result"
    }
   ],
   "source": [
    "# 전체 키워드 데이터셋\n",
    "mapping_keywd_all = list(chain(*all_shop_df_fin['납품요구건명_re'].str.split(' '))) ## 전체 키워드\n",
    "mapping_keywd_df = pd.DataFrame(Counter(mapping_keywd_all).items(),columns=['키워드','빈도수'])\n",
    "mapping_keywd_df = mapping_keywd_df[mapping_keywd_df['키워드'].apply(len)!=1].reset_index(drop=True)\n",
    "mapping_keywd_df.sort_values('빈도수',ascending=False)"
   ]
  },
  {
   "cell_type": "code",
   "execution_count": 15,
   "id": "c11c5e8a",
   "metadata": {},
   "outputs": [
    {
     "name": "stdout",
     "output_type": "stream",
     "text": [
      "1등급 키워드 :  ['인조잔디', '관급자재', '구입', '구매', '운동장', '조성공사', '공사', '관급', '테니스장', '게이트볼장', '조성사업', '체육시설', '정비공사', '교체공사', '조성']\n",
      "2등급 키워드 :  ['풋살장', '축구장', '설치']\n",
      "3등급 키워드 :  ['개선공사', '파크골프장', '족구장']\n",
      "4등급 키워드 :  ['교체', '설치공사', '보수공사', '조달구매', '다목적구장', '환경개선', '환경개선공사', '토목', '정비사업', '개보수공사']\n",
      "5등급 키워드 :  ['개선사업', '건축', '시설개선공사', '개선', '체육공원', '물품', '보수', '시설개선사업', '조달', '개소', '정비', '다목적', '잔디', '시설개선', '부대', '연병장', '신축공사', '사업', '생활체육공원', '요청', '추가', '조경']\n",
      "기타 키워드 :  ['개보수', '단계', '관련', '교체사업', '생활체육시설', '어린이공원', '인조잔디운동장', '구장', '실내게이트볼장', '인조잔디조성공사', '차분', '위한', '신축', '시설', '일원', '관급자', '노후시설', '기타공사', '배수판', '야구장', '따른', '구입의뢰', '설치사업', '기초생활거점조성사업', '토목공사', '인조잔디외', '조경공사', '일산중', '체육', '트랙조성', '리모델링', '운동장환경개선', '김영훈', '시행', '증설공사', '공공체육시설', '당진', '조리마을', '공공하수처리시설', '그라운드골프장', '치수과', '체육진흥과', '건축공사', '하부', '사단', '여단', '건립', '휀스', '학교운동장', '학년도', '배드민턴장', '본부', '시설물', '우수조달', '수해복구공사', '비가림시설', '해운대수목원', '대보수', '관급자관급', '근린공원', '확장', '재정비사업', '울타리', '관급자재구입', '재정비공사', '환경개선사업', '옥외', '스포츠타운', '운동공간', '트랙보수', '안빈', '고가하부', '다목적체육관', '본원', '구매설치', '수지아르피아', '정선종합운동장', '조달구입', '친환경', '남산레포츠공원', '인조', '파크골프연습장', '재조성', '트랙', '광복공원', '환경친화적', '시설공사', '보조경기장', '체육시설관리과', '스포츠파크', '정구장', '자재', '재조성공사', '공원시설', '골프연습장', '기계', '수변공원', '문화체육과', '버들어린이공원', '그라운드', '포병여단', '실외', '군단', '보조구장', '개축공사', '두호', '외부', '조달물품', '인조잔디구장', '소계체육공원', '살곶이체육공원시설', '사회인야구장', '무안공설운동장', '운동시설설치공사', '교체공사에', '광장', '변경', '축구종합센터', '바닥', '납품', '체육관', '관급자설치관급자재', '종합운동장', '춘천초', '충전재', '기타시설공사', '비가림', '성곡리', '장수면', '노후인조잔디', '아침체인지', '사령부', '관인고등학교', '회전교차로', '풋살경기장', '기갑여단', '구입의', '백운포체육공원', '탄성포장재', '구매계약', '건립공사', '배수로', '대치초', '피해복구', '구축', '서울정목초', '국립수산과학원', '미래학교', '코트', '그린스마트', '창녕국민체육센터', '북방면', '시설물정비', '안평게이트볼장', '발주', '잔디교체', '노후체육시설', '응봉공원', '사업을', '오산대학교', '포함', '미산면', '도원체육공원', '금강스포츠공원', '인곡산업단지', '음성', '바람근린공원', '포곡대교', '친환경운동장', '관급자설치', '그린스마트스쿨', '덕적', '다양한', '송호고', '용지면', '전천후', '동림교', '북방', '명지늘봄스쿨', '원삼면', '원주캠퍼스', '부사교', '시립테니스장', '주변', '고창', '봉무', '완도군', '목포하당초', '와우코리요공원', '삼선초', '토목시설', '관사', '문무아파트', '석관중', '인조잔대', '바닥재', '헬기레펠', '모형탑', '창고', '시설정비사업', '어린이놀이터', '가곡야구장', '하천', '갑천', '망성면', '함안스포츠타운', '편의시설', '기장', '화순홍수조절지파크골프장조성사업', '한내근린공원', '박해나', '내야', '보조', '현대차드림볼파크', '반구전문농공단지', '장승배기', '생태공원', '우수조달물품', '희망봉', '청주교대', '차수', '체육관신축', '궁도장', '소향공원', '노해공원', '화채마을', '재생공사', '테니스', '주차장', '명품탄천', '교량하부', '삼남', '설악동', '조성관련', '우레탄', '지구', '운동부', '포항제철고등학교', '교체공사에따른', '포장', '둔내종합체육공원', '일광유원지', '한경면', '증평생활야구장', '산양게이트볼장', '인조잔디공사', '국립공주대학교', '송정체육공원', '노후시설물', '복지대대', '건의', '웅천생활체육공원', '공원', '부산개성중학교', '입장', '그린', '증축공사', '기로리', '기능보강공사', '인조운동장', '잠신중', '이천세무고', '한천', '년게이트볼장보수사업', '소동', '전자', '인조잔디조성', '놀이공간', '어린이', '혁신도시', '북면', '완산생활체육공원', '기능보강', '구매건', '내수야구장', '금속재울타리', '물품구입', '펜스', '오성공원', '양덕', '야외무대', '교내', '성남종합운동장', '중랑천', '둔치', '이전', '신동초', '부안초', '안계고테니스장보수공사', '풍기', '컨테이너박스', '재해복구공사', '시설보수공사', '평택중', '낭성면', '남악고', '어울렁더울렁센터', '스터디룸', '포장공사', '비품', '기자재', '금강초', '조성을', '테라스', '이설', '대전제일고등학교', '실내', '야구연습장', '야외', '체육시설내', '야구부', '이나라', '관광체육과', '남강고', '다정다감', '정왕동', '바닥보수', '파주중', '서울디지텍고등학교', '부대공사', '상산고등학교', '잠실야구장', '전천후게이트볼장', '모듈러교실', '계약', '훈련장', '한반도면', '우수', '학교공간', '놀이터', '외부환경', '충격흡수배수판', '무주중', '인조잔디포장', '본오', '아이들파크', '이호어린이공원', '칠서', '보라동', '하산곡동', '주경기장', '화명고가교', '자율계획사업', '녹지개선공사', '노후', '정림리', '구향공원', '장난감', '북경주', '물놀이장', '남지국민체육센터', '계양대교', '진녹색', '이리동중', '팔마보조경기장', '맘쓰허그', '조경정비', '남계리', '도산면', '개축', '서부리', '화랑공원', '간사교', '부평고', '용상족구장', '교사', '광주수창초', '연녹색', '장병체력단련시설', '그린스마트미래학교', '약목면', '함양읍', '구성면', '초안산근린공원', '인라인', '스케이트', '농산물공영도매시장', '우곡면', '추천대공원', '대비', '전국체전', '보드장', '물향기공원', '남천면', '중리제', '관광자원화사업', '송죽', '변경계약', '칠연지구', '안성', '승봉리', '자월면', '남천', '주변정비공사', '화원', '관리도로', '양덕게이트볼장', '본리리', '복구공사', '호우피해', '괴강관광지축구장시설정비공사', '무한천체육공원', '주민쉼터', '쌈지공원', '레미콘', '자연휴식체험장', '대황강', '금성초등학교', '판암차량기지', '정구', '진해야구장', '간성게이트볼장', '전면', '구입건의', '삼계리', '내부정비공사', '부안', '주민숙원사업', '국도', '도서관', '호선', '격파장', '대월면', '포항야구장', '시설정비공사', '인조잔디교체공사', '간이골프장', '책장', '충북산업과학고', '이동형', '토건운영부', '서울본토건', '체육시설게이트볼장', '남부사업소', '부산환경공단', '달성보', '안전센터', '소흘', '마운딩', '당산어린이공원', '청운공원', '삼동면민운동장', '달빛공원', '목도초', '동삼동', '단월레포츠공원', '철거공사', '중앙공원', '사회인', '하단부', '남면', '관중석', '강구대게축구장', '맹동체육공원', '제곡리', '서생체육공원', '학교체육및안전시설조성사업', '성동전력', '환경사업소', '가재울근린공원', '바닥교체공사', '탐진강', '병원', '망월', '해그늘', '지붕교체', '목포시', '광석초등학교', '구룡포문화복지센터', '언양게이트볼장설치공사', '여본', '중평어린이공원', '중산체육공원', '뉴딜사업', '도시재생', '중면', '화산체육공원', '현내공설운동장', '지곡동', '중대', '메쉬형울타리', '스톤네트', '난지체육공원', '월드컵', '화촌면', '유수지', '평지곡내', '건강마당근린공원', '건설', '통합', '성서운동장', '송정풋살구장', '토목과', '나병윤', '매트', '시설보강사업', '보은국민여가캠핑장', '응봉체육공원', '전천파크골프장', '상남테니스장', '풋살장조성사업', '임실군', '용담', '화장실', '랜드마크시티', '서호', '제조설치납품', '유원지', '야외테니스장', '시설정비', '축구전용구장', '낙성대지구', '장애인게이트볼장', '칠원읍', '학동마을', '삼장', '여울공원', '죽도', '상도', '맨발산책로', '홍천읍', '잿골', '신세종빛드림건설본부', '방림', '현리광장', '대명중학교', '조경석', '설악중', '익산', '용안', '신도시', '여단본부', '명천동', '경비단', '재주문', '영성', '도드리놀이공원', '압해게이트볼장', '추가분', '광동중', '고등학교', '낙동강변', '성주파크골프장', '군민운동장', '당하게이트볼장', '서탄금암게이트볼장', '공설운동장', '규격확장', '원통생활체육공원', '조성공사에', '동명대학교', '귤현차량기지', '대불체육공원', '페어웨어', '동북', '죽율체육공원', '조교파크골프장', '근무지원대', '춘양면', '불펜연습장', '군위군', '정정', '남선공원', '물품조달요청', '골드', '합일초', '소이생활체육공원', '우수조달제품', '목포연산초', '론볼장', '영월', '인조잔디구매', '공원과', '홍윤정', '용동근린공원', '친환경운동장조성', '문수족구장', '문수국제양궁장', '인조구장', '나비', '율현공원', '생활체육과', '산수근린공원', '하청스포츠타운야구장', '장림배수지', '광적생활체육공원', '로그', '운동장재조성', '필드하키장', '소양강파크골프장', '흙콘크리트', '동네체육시설', '중고등학교', '교성지구', '현서게이트볼장', '순창', '여량게이트볼장', '청평테니스장', '재해예방사업', '원심천', '설악생활체육공원', '개체공사', '노후잔디', '동구산', '부석면', '벌교', '벌교생태공원', '보차도용콘크리트블록', '기흥동', '삼계야구장', '잔디교체공사', '신도안', '소프트테니스장', '가평야구장', '복합체육관', '청호웰빙공원', '연초중', '목포영산초등학교', '연천초', '마정산업단지', '체육진흥팀', '군위소프트테니스장환경개선공사', '단본부', '고창북중학교', '검단파크골프장', '탄성포장', '등구정', '운천중학교', '인더스밸리산업단지', '노들나루공원', '정비시행', '리틀야구장', '팔탄면', '잔디구장', '수원북중', '띠잔디', '진영공설운동장', '목포애향초', '형곡공원', '신설대체이전', '목포백련초', '철성고등학교', '장계중', '목포유달초등학교', '이전공사', '가양', '힐링파크', '생태', '두륜산', '신설대체이전학교', '요구', '서울금동초', '화진중', '주민공동이용시설', '소화초등학교', '간이체육활동공간조성공사', '부춘동', '외삼족구장', '원곡중학교', '건국고등학교', '내항', '만경중학교', '세경고등학교', '정남중학교', '함박공원', '불은초등학교', '동문', '동광초', '실내운동장', '영광스포티움', '잔여분', '야음족궂아', '이호동', '인조잔디등', '새뜰마을', '남노송동', '조성공사를', '백석생활체육공원', '본부대', '수원농생명과학고', '체육시설개선사업', '삼성근린공원', '금일', '자연휴양림', '백운산', '원오교', '화산초등학교', '두서미호공공공지조성사업', '목포부주초등학교', '웅상체육공원', '용소게이트볼장', '대지면', '단지', '판암주공', '은대초', '수정', '춘복산', '야구연습체육관', '울산종합운동장', '확충사업', '현북', '주문건의', '구축에', '확장공사에', '아라초', '무동풋살장', '웅촌덕현마을체육시설설치공사', '부산외고', '효명고', '복지센터', '백운면', '용호고등학교', '백운테니스장', '산유게이트볼장', '남가람', '쌍구형', '신당야구장', '게이트봄ㄹ장', '청라호수공원', '옥외용벤치', '길공원', '양지', '인조잔디구입의', '중앙기독중학교', '철원여고', '장지공원', '쉼터', '화목개', '율면고등학교', '청소년문화의집', '화북', '석금산어린이공원', '상번천리', '남한산성면', '장애인테니스장시설개선공사', '물속광장', '테마원', '녹청공원', '콘크리트', '이원면', '훼손지복구사업', '첨단산업단지', '구수곡자연휴양림', '단지게이트볼장', '샘실', '도시숲', '금화', '특공연대', '신례원초등학교', '문화공원', '우곡문화공원', '홈플레이트', '모란야구장', '의뢰', '군지여단', '청도고등학교', '하대리', '공운교', '우천면', '서상', '해누리체육공원', '임실', '고잔공원', '활공장', '대룡산', '설치용', '둔포체육공원', '은혜중', '해미', '이유미', '여수캠퍼스', '장명동말고개공원족구장바닥인조잔디구입설치', '충주', '세종', '삼정자공원', '두척동', '상남게이트볼장', '구좌읍', '상도리', '주민개방형', '건축조경', '재건축공사', '담양시장', '루프탑가든형', '공병단', '경남도립거창대학', '폴리텍대학', '관급잔디', '경주', '특항단', '사면', '티박스', '부지조성공사', '연일읍민', '송정동', '파크골프', '구룡리', '제천체육관', '중앙체육공원', '마산게이트볼연합회', '리모델링공사', '매봉공원', '구포생활체육공원', '청용리', '횡성읍', '경북체육중고등학교', '포승레포츠공원', '공간조성사업', '아동어드벤처', '대율캠핑장', '내부', '스포츠존', '강림', '강림면', '확장공사', '송내파크골프장', '관리임대성', '가칭', '기업고등학교', '설악야구장', '정왕테니스장', '경관시설', '반송정수장', '부남면', '현풍', '초지', '길상면', '이창환', '아양근린공원', '강서개화축구장', '신안신의중', '갈월놀이공원', '방촌', '실외체육시설', '신길공원', '문체', '물품구매', '영등공원', '현신근린공원', '동일공고', '옥상', '동천동', '삼사풋살장', '조달요청', '봉남면', '출입문', '앙성커뮤니티이음센터신축공사', '조경공사용', '풍향문화관', '공촌유수지', '공병대대', '선우공원', '관악산', '순천조례초등학교', '율곡농공단지', '반지어울림운동장', '서원구장', '감곡생활체육공원', '파크골프장용', '당말멀티파크', '김경욱', '번지', '야탑동', '이우진', '뱃터공원', '정미', '비산체육공원', '자재구임', '생태하천과', '검단동', '우수저류시설', '신천', '송계마을', '생비량', '차황', '동부그린', '금호강변야구장', '원미공원', '장전근린공원', '주민참여형', '별빛공원', '택지개발사업', '검단', '가좌울공원', '벽천분수', '가좌이음숲', '선린대학교', '은산면', '달미', '대전가오고', '석수골', '환경개선관련', '상봉중학교', '공공디자인사업', '상상공원', '인성초등학교', '목포정명여자고등학교', '공사용자재', '도로', '내면', '광원리', '성무생활체육시설', '잔디구입', '수선', '공원시설관리팀', '운동장개선', '용동중학교', '빛가람초', '돔구장', '부여종합운동장', '청계면', '보수정비공사', '한강공원', '빛가람중', '시민을', '춘포다목적운동장개보수공사', '보강공사', '유소년', '납품요청', '양명초', '성라테니스장', '국립소록도병원', '이창룡', '담당자', '챌린지', '강화', '역량', '미호강체육공원', '동명중학교', '춘장대사택', '광주석산고', '구입설치', '충전재포함', '대륜고등학교', '서울남성초', '성지중학교', '설치작업', '서울영신초등학교', '고현게이트볼장', '맹준영', '산림', '동대근린공원', '문현초등학교', '이촌한강공원', '장승중학교', '재송중학교', '도계늑구테니스장정비공사관급자재', '운산고등학교', '동부지역', '영암종합운동장', '보수작업', '곤지암', '정비용', '중하어린이공원', '대전송촌고', '홍은중', '주민건강증진공간', '대야동', '아주중', '덕암천', '내수읍', '보완사업', '고산자연휴양림', '남지체육공원', '이건형', '원주삼육중학교', '충남고', '갈현', '서오릉근린공원', '담장교체', '충주중', '운동장환경개선공사', '서울행당초', '삼각산중학교', '대전외국인학교', '서북구', '장수공원', '율곡고', '이리북중', '재설치', '제품', '신림중학교', '남율', '석적읍', '화순제일초', '관금', '공릉중학교', '사계절썰매장', '지리산생태체험단지', '순천금당고', '시흥공원', '농소운동장', '달천운동장', '개보수사업', '초계대공원', '실내놀이터', '축구', '용곡중학교', '환경조성', '소공원', '내손체육공원', '바닥교체', '센트럴파크', '옥산생활체육공원', '서부지역', '외야', '경북고등학교', '동화초', '해원초', '대연캠퍼스', '금오게이트볼장', '충남삼성고등학교', '구매계약체결', '대신고등학교', '혜윰공원', '언남중', '시설보완공사', '시설녹지대', '상대원', '하갈동', '시민개방형체육시설조성사업', '광희중학교', '시설보안공사', '이천중학교', '시민공원', '안정', '광도', '광남고', '토목조경공사', '문화광장', '부항면', '남면생활체육공원', '영등포고등학교', '현대화사업', '순천왕운중', '막구조물', '지급자재', '권역단위거점개발사업', '망치', '농구장', '잔디운동장', '병점중학교', '상대초등학교', '시공원', '사곡중학교', '용접철망외', '여수공고', '구매요청', '복지', '건설사업', '경북도청신도시', '양덕초등학교', '간이운동장', '대해초', '증개축공사', '마산중앙중', '구산어린이공원', '희망체육공원', '한국외대', '김천부곡게이트볼장', '황령산레포츠공원', '완도', '산황동', '수도권순환도로', '공급', '반려견', '포천시', '유니온파크', '양재근린공원', '안창', '포항환여풋살장', '서울대청초등학교', '서울장충초등학교', '시민운동장', '조성물품', '신양중', '원흥테니스장', '명지사업소', '환경공단', '훈련', '학교운동부', '용하운동장', '탄천변', '개방형', '상남중', '교직원', '노후토목', '일반', '운중체육공원', '공무원교육원', '청주대학교', '건국중학교', '모란근린공원', '정읍고', '야외다목적공간', '양주도담학교', '신둔면', '어린이놀이시설', '새릉골어린이공원', '볼음', '휴게정원', '간호대학', '양산캠퍼스', '미리내', '스틸그레이팅', '특수재난훈련센터', '김제중', '재정비', '다목적구장조성공사', '오산고등학교', '스포츠', '수륜면', '축구복합문화센터', '별내체육공원', '석교중', '대동', '대행', '조달청', '지원사업', '햇빛어린이공원', '경기아이누리놀이터', '패드', '우석고등학교', '봉의고', '간성족구장', '코르크', '고무칩', '광양서초', '신파리', '보길중', '대진고', '보행로', '미력면', '조성공서', '지석천', '남평', '서울신구초등학교', '수백리', '공근면', '만종리', '호저면', '가남체육공원', '금산산업고등학교', '목포덕인중학교', '인창고등학교', '관급구매', '초안산근린공원놀이및운동공간', '중화고등학교', '클라이밍장', '가창', '다사', '실내환경', '남사게이트볼장', '달성군민운동장', '설치자재', '익산고', '창원상남초', '양양중', '서울공업고등학교', '오남호수공원', '증설', '대정숲', '농암', '관급자재구매', '성암국제무역고등학교', '세천', '보천마을', '문호리', '만들기사업', '재배정', '소야초', '내응전천후게이트볼장', '강원사대부고', '동주중학교', '장유고등학교', '추가구입', '체육관개축', '타석', '팔덕다용도경기장', '집행', '사업비', '소규모', '운영학교', '스포츠클럽', '한가람고', '화랑오토캠핑장', '인조잔디교체', '천안야구장', '야외공연장', '안동역사', '활성화사업', '농촌중심지', '병곡면', '대학본부', '전북대학교', '도산리', '지상주차장', '벌곡면', '고흥동초', '양오', '용역', '재활용폐기물처리', '현산중', '서울봉래초등학교', '고덕생활축구장', '서울신정고', '소프트볼연습장', '회천', '봉학지구', '정천면', '생활환경정비사업', '거로마을', '미래관', '자원순환센터', '꿈나무근린공원', '경계석', '바닥개선', '강원외국어고등학교', '사염공원', '연경장', '경비대', '해안', '해안경비단', '동의고', '일로읍', '산북게이트볼장', '청도천체육시설', '야탑', '아리랑마을', '상면생활체육공원', '기타', '청구고등학교', '범서굴화종합체육시설', '월송리', '평해', '제주시청소년야영장', '경기장', '도민체전', '삼계근린공원어린이놀이터포장교체사업관급자재', '광양중학교', '신림게이트볼장', '전체', '상북면민운동장', '상무평화공원', '예방', '대부둑공원', '중대재해', '누리길', '임석천', '도구머리근린공원', '공원녹지과', '대산읍', '스탠드', '노래동산', '산토끼', '체육시설탄성포장재', '신명중학교', '기흥레스피아', '기능개선공사', '노학동', '서울주소방서', '대대', '법면', '조경시설물', '건립사업', '지방하천', '제민천', '송정복합체육센터', '천안초등학교', '어울림체육관', '제천', '석수대림아파트', '복합문화센터', '오리어린이공원', '삼향농공단지', '평은면', '서울금북초등학교', '안덕게이트볼장', '운영', '페스타', '자라섬', '수해복구', '배명고등학교', '가산중', '교통섬', '평창중', '관리대대', '김제중학교', '에어돔', '특화시설', '전지훈련', '송암', '근덕면교가리전천후게이트볼장관급자재', '보완공사', '국립김천숲속야영장', '의창테니스장', '골프장', '색달체육공원', '생활관', '취사식당', '비가림막', '영주', '전용체육공간', '조달구', '효암고등학교', '발안바이오과학고', '송정배수지공원', '이천시설봉공원히딩크드림필드축구장개보수공사', '야구실내연습장', '북평', '고삼면', '중구게이트볼장', '옥곡동', '보수사업', '문화근린공원', '분성체육공원', '설츠', '콘서트홀', '성남아트센터', '부안면', '작은섬공원', '어르신', '인제', '완도중', '신호공원', '캠핑장', '힐링', '고원', '태백', '건축토목공사', '철산게이트볼장', '부대시설', '대마산단', '홍제게이트볼장', '유지관리', '덕아웃', '구의야구장', '부평리', '가야곡', '금암', '추가구매', '해룡산단', '우기리', '채운면', '응봉아파트', '주거대', '운동기구', '망덕배드민턴장', '자혜근린공원', '장암면', '진선여중', '생활편의관', '체육장', '필드', '김전분교', '성암공원', '스틸', '플룸관', '지세포중학교', '광탄', '화원게이트볼장', '정원', '호어린이공원', '전동초', '한림족구장', '자주도하', '공병여단', '살곶이체육공원', '송정남근린공원', '당정중', '군산신풍초', '호체육공원', '동탄', '군산기계공고', '풍납족구장', '관급자재조달구매', '군산고', '철망', '신안공설운동장', '모충공원', '시설보수', '감물전천후게이트볼장', '포곡테니스장', '광주북성중', '구매요청건', '건대부중', '미래센터', '육상트랙', '창선', '따른자재', '공사에', '공원화', '노인정', '하도리', '서울양진초등학교', '서울동산고등학교', '대보수사업', '어두항', '용원족구장', '어촌뉴딜사업', '성동고등학교', '음성테니스장', '연희중학교', '인도잔디포장', '공주', '남양주체육문화센터', '삽교고등학교', '관급자내', '유성중', '줄포자동차공업고등학교', '풍각면복합체육시설건립사업', '영북테니스장', '비안면테니스장확장공사', '만석공원', '퍼걸러', '수유중', '청운파크골프장', '부곡여중', '생태둔치', '강릉제일고', '야외게이트볼장', '양구읍', '재조성을', '대구공고', '반려동물', '명륜근린공원', '영원면게이트볼장데크공사및인조잔디재설치공사', '변경구입', '확장사업', '중전파크골프장', '실내족구장', '양주시', '덕산중학교', '신축이전공사', '성주호', '야로중학교', '태백중', '야구시설', '레저스포츠시설', '인헌고', '여자축구장', '풋살장시설물', '교육문화센터', '내촌면', '전주공고', '당곡주', '건설공사', '월드컵대교', '이차산', '강변리틀야구장', '하천정비사업', '공릉지구', '공릉천', '통폐합', '방공단', '조성용', '지사울공원', '면보수', '풋살구장', '월드컵경기장', '계약의뢰', '주민편의시설', '하천변', '화순온천', '노후관광지재상사업', '황산리', '고아', '강변', '옥포', '삼진운동장', '진주중학교', '동부양산', '이서', '지천생태공원', '마을만들기사업', '삼산고', '삼구동마을', '나산면', '마을회관', '매호동', '불암산스포츠타운', '영천', '옥상녹화사업', '부안반다비체육센터', '인조야구장', '살곶이체육공원시설전면개선공사', '무학초', '부창동', '교체에', '청석게이트볼장', '태안중학교', '배정미래고등학교']\n"
     ]
    }
   ],
   "source": [
    "# 종합쇼핑몰 기준 중요키워드 추출\n",
    "print('1등급 키워드 : ', list(mapping_keywd_df[mapping_keywd_df['빈도수'] >= 50].sort_values('빈도수',ascending=False)['키워드']))\n",
    "print('2등급 키워드 : ', list(mapping_keywd_df[(mapping_keywd_df['빈도수'] < 50) & (mapping_keywd_df['빈도수'] >= 40)].sort_values('빈도수',ascending=False)['키워드']))\n",
    "print('3등급 키워드 : ', list(mapping_keywd_df[(mapping_keywd_df['빈도수'] < 40) & (mapping_keywd_df['빈도수'] >= 30)].sort_values('빈도수',ascending=False)['키워드']))\n",
    "print('4등급 키워드 : ', list(mapping_keywd_df[(mapping_keywd_df['빈도수'] < 30) & (mapping_keywd_df['빈도수'] >= 20)].sort_values('빈도수',ascending=False)['키워드']))\n",
    "print('5등급 키워드 : ', list(mapping_keywd_df[(mapping_keywd_df['빈도수'] < 20) & (mapping_keywd_df['빈도수'] >= 10)].sort_values('빈도수',ascending=False)['키워드']))\n",
    "print('기타 키워드 : ', list(mapping_keywd_df[(mapping_keywd_df['빈도수'] < 10)].sort_values('빈도수',ascending=False)['키워드']))"
   ]
  },
  {
   "cell_type": "code",
   "execution_count": 16,
   "id": "ea85d99c",
   "metadata": {},
   "outputs": [],
   "source": [
    "# 빈도수 키워드\n",
    "freq_kwd = ('|').join(list(mapping_keywd_df[(mapping_keywd_df['빈도수'] < 10)]['키워드']))"
   ]
  },
  {
   "cell_type": "markdown",
   "id": "4875e3bd",
   "metadata": {},
   "source": [
    "#### 지자체 세부사업별 예산서"
   ]
  },
  {
   "cell_type": "code",
   "execution_count": 17,
   "id": "34c530df",
   "metadata": {},
   "outputs": [],
   "source": [
    "# 빅쿼리에서 불러오기\n",
    "budget_df_today = get_dataframe_from_bigquery('budget','budget_df_0' + today,bigquerykey_path)\n",
    "budget_df_ytday = get_dataframe_from_bigquery('budget','budget_df_0' + ytday,bigquerykey_path)"
   ]
  },
  {
   "cell_type": "code",
   "execution_count": 18,
   "id": "57d2a9ec",
   "metadata": {},
   "outputs": [
    {
     "data": {
      "text/html": [
       "<div>\n",
       "<style scoped>\n",
       "    .dataframe tbody tr th:only-of-type {\n",
       "        vertical-align: middle;\n",
       "    }\n",
       "\n",
       "    .dataframe tbody tr th {\n",
       "        vertical-align: top;\n",
       "    }\n",
       "\n",
       "    .dataframe thead th {\n",
       "        text-align: right;\n",
       "    }\n",
       "</style>\n",
       "<table border=\"1\" class=\"dataframe\">\n",
       "  <thead>\n",
       "    <tr style=\"text-align: right;\">\n",
       "      <th></th>\n",
       "      <th>회계연도</th>\n",
       "      <th>지역코드</th>\n",
       "      <th>지역명</th>\n",
       "      <th>자치단체코드</th>\n",
       "      <th>자치단체명</th>\n",
       "      <th>회계구분명</th>\n",
       "      <th>세부사업코드</th>\n",
       "      <th>세부사업명</th>\n",
       "      <th>집행일자</th>\n",
       "      <th>예산현액</th>\n",
       "      <th>지출액</th>\n",
       "      <th>편성액</th>\n",
       "      <th>분야명</th>\n",
       "      <th>부문명</th>\n",
       "      <th>행정자치단체코드</th>\n",
       "    </tr>\n",
       "  </thead>\n",
       "  <tbody>\n",
       "    <tr>\n",
       "      <th>0</th>\n",
       "      <td>2024</td>\n",
       "      <td>1100000</td>\n",
       "      <td>서울</td>\n",
       "      <td>1121000</td>\n",
       "      <td>서울노원구</td>\n",
       "      <td>일반회계</td>\n",
       "      <td>310000020243010F</td>\n",
       "      <td>화랑대철도공원 정비</td>\n",
       "      <td>20240808</td>\n",
       "      <td>400000000</td>\n",
       "      <td>0</td>\n",
       "      <td>0</td>\n",
       "      <td>환경</td>\n",
       "      <td>자연</td>\n",
       "      <td>3100000</td>\n",
       "    </tr>\n",
       "  </tbody>\n",
       "</table>\n",
       "</div>"
      ],
      "text/plain": [
       "   회계연도     지역코드 지역명   자치단체코드  자치단체명 회계구분명            세부사업코드        세부사업명  \\\n",
       "0  2024  1100000  서울  1121000  서울노원구  일반회계  310000020243010F  화랑대철도공원 정비    \n",
       "\n",
       "       집행일자       예산현액  지출액  편성액 분야명 부문명 행정자치단체코드  \n",
       "0  20240808  400000000    0    0  환경  자연  3100000  "
      ]
     },
     "execution_count": 18,
     "metadata": {},
     "output_type": "execute_result"
    }
   ],
   "source": [
    "# 종료 사업\n",
    "budget_df_delete_temp1 = budget_df_ytday[budget_df_ytday['세부사업코드'].isin(set(budget_df_ytday['세부사업코드']) - set(budget_df_today['세부사업코드']))].reset_index(drop=True)\n",
    "budget_df_delete_temp2 = budget_df_ytday[budget_df_ytday['세부사업명'].isin(set(budget_df_ytday['세부사업명']) - set(budget_df_today['세부사업명']))].reset_index(drop=True)\n",
    "budget_df_delete = pd.concat([budget_df_delete_temp1,budget_df_delete_temp2],axis=0).drop_duplicates().reset_index(drop=True)\n",
    "budget_df_delete"
   ]
  },
  {
   "cell_type": "code",
   "execution_count": 19,
   "id": "5c58a66c",
   "metadata": {},
   "outputs": [
    {
     "data": {
      "text/html": [
       "<div>\n",
       "<style scoped>\n",
       "    .dataframe tbody tr th:only-of-type {\n",
       "        vertical-align: middle;\n",
       "    }\n",
       "\n",
       "    .dataframe tbody tr th {\n",
       "        vertical-align: top;\n",
       "    }\n",
       "\n",
       "    .dataframe thead th {\n",
       "        text-align: right;\n",
       "    }\n",
       "</style>\n",
       "<table border=\"1\" class=\"dataframe\">\n",
       "  <thead>\n",
       "    <tr style=\"text-align: right;\">\n",
       "      <th></th>\n",
       "      <th>회계연도</th>\n",
       "      <th>지역코드</th>\n",
       "      <th>지역명</th>\n",
       "      <th>자치단체코드</th>\n",
       "      <th>자치단체명</th>\n",
       "      <th>회계구분명</th>\n",
       "      <th>세부사업코드</th>\n",
       "      <th>세부사업명</th>\n",
       "      <th>집행일자</th>\n",
       "      <th>예산현액</th>\n",
       "      <th>지출액</th>\n",
       "      <th>편성액</th>\n",
       "      <th>분야명</th>\n",
       "      <th>부문명</th>\n",
       "      <th>행정자치단체코드</th>\n",
       "    </tr>\n",
       "  </thead>\n",
       "  <tbody>\n",
       "  </tbody>\n",
       "</table>\n",
       "</div>"
      ],
      "text/plain": [
       "Empty DataFrame\n",
       "Columns: [회계연도, 지역코드, 지역명, 자치단체코드, 자치단체명, 회계구분명, 세부사업코드, 세부사업명, 집행일자, 예산현액, 지출액, 편성액, 분야명, 부문명, 행정자치단체코드]\n",
       "Index: []"
      ]
     },
     "execution_count": 19,
     "metadata": {},
     "output_type": "execute_result"
    }
   ],
   "source": [
    "# 새로 추가된 사업\n",
    "budget_df_new_temp1 = budget_df_today[~budget_df_today['세부사업코드'].isin(budget_df_ytday['세부사업코드'])].reset_index(drop=True).reset_index(drop=True)\n",
    "budget_df_new_temp2 = budget_df_today[~budget_df_today['세부사업명'].isin(budget_df_ytday['세부사업명'])].reset_index(drop=True).reset_index(drop=True)\n",
    "budget_df_new = pd.concat([budget_df_new_temp1,budget_df_new_temp2],axis=0).drop_duplicates().reset_index(drop=True)\n",
    "budget_df_new"
   ]
  },
  {
   "cell_type": "code",
   "execution_count": 20,
   "id": "30e45e37",
   "metadata": {},
   "outputs": [],
   "source": [
    "# 필요키워드1\n",
    "need_kwd1 = '학교|초등학교|중학교|고등학교|대학교|다목적|운동장|종합운동장|공원|체육|체육공원|체육시설|체육센터|스포츠|스포츠센터|놀이시설|연병장|축구장|족구장|야구장|풋살장|배드민턴장|테니스장|게이트볼장|하키장'\n",
    "\n",
    "# 필요키워드2\n",
    "need_kwd2 = '개선|교체|보수|공사|구매|구입|설치|정비|조성'\n",
    "\n",
    "# 필요키워드3\n",
    "need_kwd3 = '인조잔디'\n",
    "\n",
    "# 제외키워드\n",
    "except_kwd = 'CCTV|cctv|LED|led|가로등|가속기|간접등|간판|개방|검진|경관|계단|골프장|관리|광고|교량|교실|교육|교차로|균열|그늘막|그림|급수관|급식|난방기|내진|냉방기|네트워크|노상|노점|농기계|단열|데이터|도로개설|도로방음벽|도로정비|도로확장|도서관|디자인|뚜껑|막구조물|맨홀|모노레일|모니터링|미끄럼|미세먼지|미술|방송|방수|방음|방음벽|배면도로|배수|버스|법률자문|벤치|벽화|보건|보도블럭|보상|보일러|보행자도로|복지|볼라드|분묘|불법|빗물받이|사용료|사워실|살포|생육환경|석면|선홈통|소프트웨어|수도|수로|수목표찰|수영장|스크린|스프링클러|승강기|시계탑|시스템|식수대|신호등|안심벨|안전|약수터|억제제|역량|연결도로|예방|예술|오염|옹벽|요양기관|운영|울타리|위생|위험수목|유아|육교|음성안내|음악|의자|인양기|인터넷|입학|자료|자전거|저장고|저장장치|전광판|전기|전신주|전통시장|정화|정화조|조도|조명|조형물|조화기|주차장|줄눈|진로진학|진입도로|창고|창출|처우|철거|취업|치안|카메라|카약|통학로|파고라|펜스|폐기물|폐열|포충기|풀장|풍차|하수|하수관로|하수도|하천|학습|행사|화장|화장실|활성화|횡단보도|휀스|흡연'"
   ]
  },
  {
   "cell_type": "code",
   "execution_count": 21,
   "id": "850c2fc9",
   "metadata": {},
   "outputs": [],
   "source": [
    "budget_df_today = budget_df_today[((budget_df_today['세부사업명'].str.contains(need_kwd1) & \n",
    "                                  budget_df_today['세부사업명'].str.contains(need_kwd2)) &\n",
    "                                  ~budget_df_today['세부사업명'].str.contains(except_kwd)) |\n",
    "                                  budget_df_today['세부사업명'].str.contains(need_kwd3)\n",
    "                                  ].reset_index(drop=True)"
   ]
  },
  {
   "cell_type": "code",
   "execution_count": 22,
   "id": "0e639df9",
   "metadata": {},
   "outputs": [],
   "source": [
    "# 사업명 전처리\n",
    "budget_df_today['세부사업명_re'] = budget_df_today['세부사업명'].apply(clean_text)\n",
    "# budget_df_today['세부사업명_re'] = budget_df_today['세부사업명_re'].str.replace('초등학교','').str.replace('중학교','').str.replace('고등학교','')\n",
    "budget_df_today['세부사업명_re'] = budget_df_today['세부사업명_re'].str.strip()\n",
    "\n",
    "budget_df_today['세부사업명_re'] = budget_df_today['세부사업명_re'].str.split().apply(lambda x: [kw for kw in x if len(kw) > 1]) ## 글자수 1 제외\n",
    "budget_df_today['세부사업명_re'] = budget_df_today['세부사업명_re'].apply((' ').join)"
   ]
  },
  {
   "cell_type": "code",
   "execution_count": 23,
   "id": "447d8aef",
   "metadata": {},
   "outputs": [],
   "source": [
    "# 해당 지역 추출\n",
    "filtered_budget_df_temp1 = budget_df_today[budget_df_today['자치단체명'].str.contains(('|').join(dist_nm))].reset_index(drop=True)\n",
    "filtered_budget_df_temp2 = budget_df_today[budget_df_today['자치단체명'].str.contains('본청')].reset_index(drop=True)\n",
    "\n",
    "filtered_budget_df_today = pd.concat([filtered_budget_df_temp1,filtered_budget_df_temp2],axis=0).reset_index(drop=True)"
   ]
  },
  {
   "cell_type": "markdown",
   "id": "13b0c4a4",
   "metadata": {},
   "source": [
    "#### 지자체 종합쇼핑몰 전처리"
   ]
  },
  {
   "cell_type": "code",
   "execution_count": 24,
   "id": "2ad08b9b",
   "metadata": {},
   "outputs": [],
   "source": [
    "# Initialize the dictionary for split keywords\n",
    "shop_split_kwd = {}\n",
    "for i in range(all_shop_df_fin['납품요구건명_re'].str.split().apply(len).max()):\n",
    "    shop_split_kwd['kwd_' + str(i)] = all_shop_df_fin['납품요구건명_re'].str.split().str[i]"
   ]
  },
  {
   "cell_type": "code",
   "execution_count": 25,
   "id": "e9f6c74a",
   "metadata": {},
   "outputs": [],
   "source": [
    "# 매핑데이터셋\n",
    "mapping_merge_df = []"
   ]
  },
  {
   "cell_type": "code",
   "execution_count": 26,
   "id": "5460a3ac",
   "metadata": {},
   "outputs": [],
   "source": [
    "# 종합쇼핑몰 납품요구건명 split 키워드 순서대로 맵핑\n",
    "# Initialize the list to store the results\n",
    "prep_budget_df_today = filtered_budget_df_today.copy()\n",
    "prep_all_shop_df_fin = all_shop_df_fin.copy()\n",
    "\n",
    "# Iterate over each keyword column\n",
    "for i in range(len(shop_split_kwd)):\n",
    "    keyword_column = 'kwd_' + str(i)\n",
    "    \n",
    "    # Get unique non-null keywords\n",
    "    shop_split_kwd_temp = shop_split_kwd[keyword_column].dropna().unique()\n",
    "\n",
    "    prep_budget_df_today[keyword_column] = prep_budget_df_today['세부사업명_re'].apply(lambda x: ' '.join(re.findall('|'.join(shop_split_kwd_temp), x)))\n",
    "    prep_budget_df_today[keyword_column] = prep_budget_df_today[keyword_column].str.strip()\n",
    "    prep_budget_df_today[keyword_column] = prep_budget_df_today[keyword_column].str.split().apply(lambda x : ' '.join(sorted(set(x)))).str.strip()\n",
    "\n",
    "    prep_all_shop_df_fin[keyword_column] = prep_all_shop_df_fin['납품요구건명_re'].apply(lambda x: ' '.join(re.findall('|'.join(shop_split_kwd_temp), x)))\n",
    "    prep_all_shop_df_fin[keyword_column] = prep_all_shop_df_fin[keyword_column].str.strip()\n",
    "    prep_all_shop_df_fin[keyword_column] = prep_all_shop_df_fin[keyword_column].str.split().apply(lambda x : ' '.join(sorted(set(x)))).str.strip()\n",
    "\n",
    "    mapping_merge_df_temp = pd.merge(\n",
    "            prep_budget_df_today[(prep_budget_df_today[keyword_column] != '') & ~(prep_budget_df_today[keyword_column].isnull())][['지역명','자치단체명','세부사업코드','세부사업명', '세부사업명_re', keyword_column]].reset_index(drop=True),\n",
    "            prep_all_shop_df_fin[(prep_all_shop_df_fin[keyword_column] != '') & ~(prep_all_shop_df_fin[keyword_column].isnull())][['수요기관명','수요기관지역명','납품요구건명', '납품요구건명_re', keyword_column]].reset_index(drop=True),\n",
    "            how='left',\n",
    "            on=keyword_column\n",
    "            ).drop_duplicates().reset_index(drop=True)\n",
    "    \n",
    "    # Append the temporary DataFrame to the results list\n",
    "    mapping_merge_df.append(mapping_merge_df_temp)"
   ]
  },
  {
   "cell_type": "code",
   "execution_count": 27,
   "id": "b8713d0d",
   "metadata": {},
   "outputs": [],
   "source": [
    "# 종합쇼핑몰 지역 키워드 맵핑 - 세부사업명 지역 및 해당지역 추출\n",
    "# Initialize the columns for district keywords\n",
    "prep_budget_df_today = filtered_budget_df_today.copy()\n",
    "prep_all_shop_df_fin = all_shop_df_fin.copy()\n",
    "\n",
    "sig_pat = '|'.join(dist_nm)\n",
    "\n",
    "prep_budget_df_today['kwd_sig'] = prep_budget_df_today['세부사업명_re'].apply(lambda x: ' '.join(re.findall(sig_pat, x)))\n",
    "prep_budget_df_today['kwd_sig'] = prep_budget_df_today['kwd_sig'].str.strip()\n",
    "prep_budget_df_today['kwd_sig'] = prep_budget_df_today['kwd_sig'].str.split()\n",
    "prep_budget_df_today = prep_budget_df_today.explode('kwd_sig')\n",
    "\n",
    "prep_all_shop_df_fin['kwd_sig'] = prep_all_shop_df_fin['납품요구건명_re'].apply(lambda x: ' '.join(re.findall(sig_pat, x)))\n",
    "prep_all_shop_df_fin['kwd_sig'] = prep_all_shop_df_fin['kwd_sig'].str.strip()\n",
    "prep_all_shop_df_fin['kwd_sig'] = prep_all_shop_df_fin['kwd_sig'].str.split()\n",
    "prep_all_shop_df_fin = prep_all_shop_df_fin.explode('kwd_sig')\n",
    "\n",
    "mapping_merge_df_sig = pd.merge(\n",
    "    prep_budget_df_today[(prep_budget_df_today['kwd_sig'] != '') & ~(prep_budget_df_today['kwd_sig'].isnull())][['지역명','자치단체명','세부사업코드','세부사업명', '세부사업명_re', 'kwd_sig']].reset_index(drop=True),\n",
    "    prep_all_shop_df_fin[(prep_all_shop_df_fin['kwd_sig'] != '') & ~(prep_all_shop_df_fin['kwd_sig'].isnull())][['수요기관명','수요기관지역명','납품요구건명', '납품요구건명_re', 'kwd_sig']].reset_index(drop=True),\n",
    "    how='left',\n",
    "    on='kwd_sig'\n",
    "    ).drop_duplicates().reset_index(drop=True)\n",
    "\n",
    "# Append the district keywords DataFrame to the results list\n",
    "mapping_merge_df.append(mapping_merge_df_sig)"
   ]
  },
  {
   "cell_type": "code",
   "execution_count": 28,
   "id": "57d09abc",
   "metadata": {},
   "outputs": [],
   "source": [
    "# 종합쇼핑몰 지역 키워드 맵핑 - 세부사업명 지역 및 해당지역 읍면동 추출\n",
    "# Initialize the columns for district keywords\n",
    "prep_budget_df_today = filtered_budget_df_today.copy()\n",
    "prep_all_shop_df_fin = all_shop_df_fin.copy()\n",
    "\n",
    "emd_pat = '|'.join(set(emd_code_list))\n",
    "\n",
    "prep_budget_df_today['kwd_emd'] = prep_budget_df_today['세부사업명_re'].apply(lambda x: ' '.join(re.findall(emd_pat, x)))\n",
    "prep_budget_df_today['kwd_emd'] = prep_budget_df_today['kwd_emd'].str.strip()\n",
    "prep_budget_df_today['kwd_emd'] = prep_budget_df_today['kwd_emd'].str.split()\n",
    "prep_budget_df_today = prep_budget_df_today.explode('kwd_emd')\n",
    "\n",
    "prep_all_shop_df_fin['kwd_emd'] = prep_all_shop_df_fin['납품요구건명_re'].apply(lambda x: ' '.join(re.findall(emd_pat, x)))\n",
    "prep_all_shop_df_fin['kwd_emd'] = prep_all_shop_df_fin['kwd_emd'].str.strip()\n",
    "prep_all_shop_df_fin['kwd_emd'] = prep_all_shop_df_fin['kwd_emd'].str.split()\n",
    "prep_all_shop_df_fin = prep_all_shop_df_fin.explode('kwd_emd')\n",
    "\n",
    "mapping_merge_df_emd = pd.merge(\n",
    "    prep_budget_df_today[(prep_budget_df_today['kwd_emd'] != '') & ~(prep_budget_df_today['kwd_emd'].isnull())][['지역명','자치단체명','세부사업코드','세부사업명', '세부사업명_re', 'kwd_emd']].reset_index(drop=True),\n",
    "    prep_all_shop_df_fin[(prep_all_shop_df_fin['kwd_emd'] != '') & ~(prep_all_shop_df_fin['kwd_emd'].isnull())][['수요기관명','수요기관지역명','납품요구건명', '납품요구건명_re', 'kwd_emd']].reset_index(drop=True),\n",
    "    how='left',\n",
    "    on='kwd_emd'\n",
    "    ).drop_duplicates().reset_index(drop=True)\n",
    "\n",
    "# Append the district keywords DataFrame to the results list\n",
    "mapping_merge_df.append(mapping_merge_df_emd)"
   ]
  },
  {
   "cell_type": "code",
   "execution_count": 29,
   "id": "284748cd",
   "metadata": {},
   "outputs": [],
   "source": [
    "# 필요키워드 앞부분 추출\n",
    "need_kwd_split = list(set(chain(*all_shop_df_fin['납품요구건명_re'].apply(lambda x: re.split(need_kwd1,x)).apply(''.join).str.split())))\n",
    "need_kwd_split_list = list(pd.Series(need_kwd_split)[pd.Series(need_kwd_split).apply(len) >= 2])"
   ]
  },
  {
   "cell_type": "code",
   "execution_count": 30,
   "id": "e927a558",
   "metadata": {},
   "outputs": [],
   "source": [
    "# 종합쇼핑몰 지역 키워드 맵핑 - 필요키워드 앞부분 매핑\n",
    "# Initialize the columns for district keywords\n",
    "prep_budget_df_today = filtered_budget_df_today.copy()\n",
    "prep_all_shop_df_fin = all_shop_df_fin.copy()\n",
    "\n",
    "kwd_split_pat = '|'.join(set(need_kwd_split_list))\n",
    "\n",
    "prep_budget_df_today['kwd_need_split'] = prep_budget_df_today['세부사업명_re'].apply(lambda x: ' '.join(re.findall(kwd_split_pat, x)))\n",
    "prep_budget_df_today['kwd_need_split'] = prep_budget_df_today['kwd_need_split'].str.strip()\n",
    "prep_budget_df_today['kwd_need_split'] = prep_budget_df_today['kwd_need_split'].str.split()\n",
    "prep_budget_df_today = prep_budget_df_today.explode('kwd_need_split')\n",
    "\n",
    "prep_all_shop_df_fin['kwd_need_split'] = prep_all_shop_df_fin['납품요구건명_re'].apply(lambda x: ' '.join(re.findall(kwd_split_pat, x)))\n",
    "prep_all_shop_df_fin['kwd_need_split'] = prep_all_shop_df_fin['kwd_need_split'].str.strip()\n",
    "prep_all_shop_df_fin['kwd_need_split'] = prep_all_shop_df_fin['kwd_need_split'].str.split()\n",
    "prep_all_shop_df_fin = prep_all_shop_df_fin.explode('kwd_need_split')\n",
    "\n",
    "mapping_merge_df_need_split = pd.merge(\n",
    "    prep_budget_df_today[(prep_budget_df_today['kwd_need_split'] != '') & ~(prep_budget_df_today['kwd_need_split'].isnull())][['지역명','자치단체명','세부사업코드','세부사업명', '세부사업명_re', 'kwd_need_split']].reset_index(drop=True),\n",
    "    prep_all_shop_df_fin[(prep_all_shop_df_fin['kwd_need_split'] != '') & ~(prep_all_shop_df_fin['kwd_need_split'].isnull())][['수요기관명','수요기관지역명','납품요구건명', '납품요구건명_re', 'kwd_need_split']].reset_index(drop=True),\n",
    "    how='left',\n",
    "    on='kwd_need_split'\n",
    "    ).drop_duplicates().reset_index(drop=True)\n",
    "\n",
    "# Append the district keywords DataFrame to the results list\n",
    "mapping_merge_df.append(mapping_merge_df_need_split)"
   ]
  },
  {
   "cell_type": "code",
   "execution_count": 31,
   "id": "cde0487c",
   "metadata": {},
   "outputs": [],
   "source": [
    "# 종합쇼핑몰 지역 키워드 맵핑 - 필요키워드 매핑\n",
    "# Initialize the columns for district keywords\n",
    "prep_budget_df_today = filtered_budget_df_today.copy()\n",
    "prep_all_shop_df_fin = all_shop_df_fin.copy()\n",
    "\n",
    "prep_budget_df_today['kwd_need'] = prep_budget_df_today['세부사업명_re'].apply(lambda x: ' '.join(re.findall(need_kwd1, x)))\n",
    "prep_budget_df_today['kwd_need'] = prep_budget_df_today['kwd_need'].str.strip()\n",
    "prep_budget_df_today['kwd_need'] = prep_budget_df_today['kwd_need'].str.split()\n",
    "prep_budget_df_today = prep_budget_df_today.explode('kwd_need')\n",
    "\n",
    "prep_all_shop_df_fin['kwd_need'] = prep_all_shop_df_fin['납품요구건명_re'].apply(lambda x: ' '.join(re.findall(need_kwd1, x)))\n",
    "prep_all_shop_df_fin['kwd_need'] = prep_all_shop_df_fin['kwd_need'].str.strip()\n",
    "prep_all_shop_df_fin['kwd_need'] = prep_all_shop_df_fin['kwd_need'].str.split()\n",
    "prep_all_shop_df_fin = prep_all_shop_df_fin.explode('kwd_need')\n",
    "\n",
    "mapping_merge_df_need = pd.merge(\n",
    "    prep_budget_df_today[(prep_budget_df_today['kwd_need'] != '') & ~(prep_budget_df_today['kwd_need'].isnull())][['지역명','자치단체명','세부사업코드','세부사업명', '세부사업명_re', 'kwd_need']].reset_index(drop=True),\n",
    "    prep_all_shop_df_fin[(prep_all_shop_df_fin['kwd_need'] != '') & ~(prep_all_shop_df_fin['kwd_need'].isnull())][['수요기관명','수요기관지역명','납품요구건명', '납품요구건명_re', 'kwd_need']].reset_index(drop=True),\n",
    "    how='left',\n",
    "    on='kwd_need'\n",
    "    ).drop_duplicates().reset_index(drop=True)\n",
    "\n",
    "# Append the district keywords DataFrame to the results list\n",
    "mapping_merge_df.append(mapping_merge_df_need)"
   ]
  },
  {
   "cell_type": "code",
   "execution_count": 32,
   "id": "02dd0133",
   "metadata": {},
   "outputs": [],
   "source": [
    "# 키워드별 데이터셋 병합\n",
    "mapping_merge_df_fin = pd.concat(mapping_merge_df, axis=0).drop_duplicates()\n",
    "mapping_merge_df_fin = mapping_merge_df_fin[~mapping_merge_df_fin['납품요구건명'].isnull()].reset_index(drop=True)"
   ]
  },
  {
   "cell_type": "code",
   "execution_count": 33,
   "id": "9e008c9f",
   "metadata": {},
   "outputs": [],
   "source": [
    "# 모든 키워드 합\n",
    "kwd_columns = ['kwd_0','kwd_1','kwd_2','kwd_3','kwd_4','kwd_5','kwd_6','kwd_7','kwd_8','kwd_sig','kwd_emd','kwd_need_split','kwd_need']\n",
    "mapping_merge_df_fin['all_kwd'] = mapping_merge_df_fin[kwd_columns].apply(lambda x : (' ').join(x.dropna()),axis=1)\n",
    "mapping_merge_df_fin['all_kwd'] = mapping_merge_df_fin['all_kwd'].str.strip()\n",
    "mapping_merge_df_fin['all_kwd'] = mapping_merge_df_fin['all_kwd'].str.split().apply(lambda x : ' '.join(sorted(set(x)))).str.strip()\n",
    "mapping_merge_df_fin.drop(columns=kwd_columns, inplace=True)"
   ]
  },
  {
   "cell_type": "code",
   "execution_count": 34,
   "id": "1caf9053",
   "metadata": {},
   "outputs": [],
   "source": [
    "# 지역명 추출1\n",
    "mapping_merge_df_fin['수요기관지역명_split1'] = mapping_merge_df_fin['수요기관지역명'].str.split().str[0]\n",
    "\n",
    "# Define the replacements\n",
    "replacements = {\n",
    "    '전라북도': '전북',\n",
    "    '전라남도': '전남',\n",
    "    '경상북도': '경북',\n",
    "    '경상남도': '경남',\n",
    "    '충청북도': '충북',\n",
    "    '충청남도': '충남'\n",
    "}\n",
    "\n",
    "# Apply the replacements\n",
    "mapping_merge_df_fin['수요기관지역명_split1'] = mapping_merge_df_fin['수요기관지역명_split1'].replace(replacements)\n",
    "mapping_merge_df_fin['수요기관지역명_split1'] = mapping_merge_df_fin['수요기관지역명_split1'].str[:2]"
   ]
  },
  {
   "cell_type": "code",
   "execution_count": 35,
   "id": "ea763a88",
   "metadata": {},
   "outputs": [],
   "source": [
    "# 지역명 추출2\n",
    "mapping_merge_df_fin['수요기관지역명_split2'] = mapping_merge_df_fin['수요기관지역명'].str.split().str[1]\n",
    "dist_sig_pat = '|'.join(mapping_merge_df_fin['수요기관지역명_split2'].dropna().unique())\n",
    "\n",
    "mapping_merge_df_fin['자치단체명_re'] = mapping_merge_df_fin['자치단체명'].apply(lambda x: ' '.join(re.findall(dist_sig_pat, x)))\n",
    "mapping_merge_df_fin['자치단체명_re'] = mapping_merge_df_fin['자치단체명_re'].str.strip()\n",
    "mapping_merge_df_fin['자치단체명_re'] = mapping_merge_df_fin['자치단체명_re'].str.split()\n",
    "mapping_merge_df_fin = mapping_merge_df_fin.explode('자치단체명_re')"
   ]
  },
  {
   "cell_type": "code",
   "execution_count": 36,
   "id": "dd218810",
   "metadata": {},
   "outputs": [],
   "source": [
    "# 제외 지역 제거\n",
    "filtered_mapping_merge_df_fin = mapping_merge_df_fin[mapping_merge_df_fin['자치단체명_re']!=''].drop_duplicates().reset_index(drop=True)"
   ]
  },
  {
   "cell_type": "code",
   "execution_count": 37,
   "id": "b6532a94",
   "metadata": {},
   "outputs": [],
   "source": [
    "# 지역 일치 확인1\n",
    "mapping_merge_df_fin_temp1 = filtered_mapping_merge_df_fin[filtered_mapping_merge_df_fin['지역명']==filtered_mapping_merge_df_fin['수요기관지역명_split1']].drop_duplicates().reset_index(drop=True)\n",
    "mapping_merge_df_fin_temp1 = mapping_merge_df_fin_temp1[mapping_merge_df_fin_temp1['자치단체명'].str.contains('|'.join(mapping_merge_df_fin_temp1['수요기관지역명_split2'].dropna().unique()))].drop_duplicates().reset_index(drop=True)\n",
    "mapping_merge_df_fin_temp1 = mapping_merge_df_fin_temp1[mapping_merge_df_fin_temp1['자치단체명_re']==mapping_merge_df_fin_temp1['수요기관지역명_split2']].drop_duplicates().reset_index(drop=True)\n",
    "\n",
    "# 본청 포함 확인\n",
    "mapping_merge_df_fin_temp2 = filtered_mapping_merge_df_fin[filtered_mapping_merge_df_fin['자치단체명'].str.contains('본청')].drop_duplicates().reset_index(drop=True)\n",
    "\n",
    "# 데이터 병합\n",
    "mapping_merge_df_final = pd.concat([mapping_merge_df_fin_temp1,mapping_merge_df_fin_temp2], axis=0).drop_duplicates().reset_index(drop=True)"
   ]
  },
  {
   "cell_type": "code",
   "execution_count": 38,
   "id": "8fccd4a4",
   "metadata": {},
   "outputs": [],
   "source": [
    "# 그룹화할 컬럼 리스트\n",
    "group_cols = ['지역명', '자치단체명', '세부사업코드', '세부사업명', '세부사업명_re', '수요기관명', '수요기관지역명', '납품요구건명', '납품요구건명_re','수요기관지역명_split1', '자치단체명_re', '수요기관지역명_split2']\n",
    "\n",
    "# 그룹화 및 all_kwd 컬럼 조인\n",
    "mapping_merge_df_final_grp = mapping_merge_df_final.groupby(group_cols).agg({'all_kwd': ' '.join}).reset_index()\n",
    "mapping_merge_df_final_grp['all_kwd'] = mapping_merge_df_final_grp['all_kwd'].str.strip()\n",
    "mapping_merge_df_final_grp['all_kwd'] = mapping_merge_df_final_grp['all_kwd'].str.split().apply(lambda x : ' '.join(sorted(set(x)))).str.strip()"
   ]
  },
  {
   "cell_type": "code",
   "execution_count": 39,
   "id": "644dea3b",
   "metadata": {},
   "outputs": [],
   "source": [
    "# 필요키워드 기준\n",
    "mapping_merge_df_final_grp['세부사업명_키워드1'] = mapping_merge_df_final_grp['세부사업명'].apply(lambda x: ' '.join(re.findall(need_kwd1, x)))\n",
    "mapping_merge_df_final_grp['납품요구건명_키워드1'] = mapping_merge_df_final_grp['납품요구건명'].apply(lambda x: ' '.join(re.findall(need_kwd1, x)))\n",
    "\n",
    "# 사업명 지역 추출\n",
    "mapping_merge_df_final_grp['세부사업명_지역'] = mapping_merge_df_final_grp['세부사업명'].apply(lambda x: ' '.join(re.findall(emd_pat, x)))\n",
    "mapping_merge_df_final_grp['납품요구건명_지역'] = mapping_merge_df_final_grp['납품요구건명'].apply(lambda x: ' '.join(re.findall(emd_pat, x)))\n",
    "\n",
    "# 필요키워드 패턴 기준\n",
    "need_kwd_pat = '\\w+' + ('|\\w+').join(need_kwd1.split('|'))\n",
    "\n",
    "mapping_merge_df_final_grp['세부사업명_키워드2'] = mapping_merge_df_final_grp['세부사업명'].apply(lambda x: ' '.join(re.findall(need_kwd_pat, x)))\n",
    "mapping_merge_df_final_grp['납품요구건명_키워드2'] = mapping_merge_df_final_grp['납품요구건명'].apply(lambda x: ' '.join(re.findall(need_kwd_pat, x)))"
   ]
  },
  {
   "cell_type": "code",
   "execution_count": 40,
   "id": "2dbb6dba",
   "metadata": {},
   "outputs": [],
   "source": [
    "def check_inclusion1(row):\n",
    "    set1 = set(row['세부사업명_키워드1'])\n",
    "    set2 = set(row['납품요구건명_키워드1'])\n",
    "    return bool(set1 & set2)"
   ]
  },
  {
   "cell_type": "code",
   "execution_count": 41,
   "id": "80c2b4d1",
   "metadata": {},
   "outputs": [],
   "source": [
    "# 필요키워드 모두 없는것 제외\n",
    "mapping_merge_df_final_grp_temp1 = mapping_merge_df_final_grp[(mapping_merge_df_final_grp['세부사업명_키워드1']!='')&(mapping_merge_df_final_grp['납품요구건명_키워드1']!='')].reset_index(drop=True)\n",
    "\n",
    "# 필요키워드 포함여부 확인\n",
    "mapping_merge_df_final_grp_temp1['세부사업명_키워드1'] = mapping_merge_df_final_grp_temp1['세부사업명_키워드1'].str.split() ## 키워드별 정리\n",
    "mapping_merge_df_final_grp_temp1['납품요구건명_키워드1'] = mapping_merge_df_final_grp_temp1['납품요구건명_키워드1'].str.split() ## 키워드별 정리\n",
    "\n",
    "mapping_merge_df_final_grp_temp1 = mapping_merge_df_final_grp_temp1[mapping_merge_df_final_grp_temp1.apply(check_inclusion1,axis=1)].reset_index(drop=True)\n",
    "\n",
    "mapping_merge_df_final_grp_temp1['세부사업명_키워드1'] = mapping_merge_df_final_grp_temp1['세부사업명_키워드1'].apply(lambda x : ' '.join(sorted(set(x)))).str.strip()\n",
    "mapping_merge_df_final_grp_temp1['납품요구건명_키워드1'] = mapping_merge_df_final_grp_temp1['납품요구건명_키워드1'].apply(lambda x : ' '.join(sorted(set(x)))).str.strip()"
   ]
  },
  {
   "cell_type": "code",
   "execution_count": 42,
   "id": "35cf7de7",
   "metadata": {},
   "outputs": [],
   "source": [
    "def check_inclusion_dist(row):\n",
    "    set1 = set(row['세부사업명_지역'])\n",
    "    set2 = set(row['납품요구건명_지역'])\n",
    "    return bool(set1 & set2)"
   ]
  },
  {
   "cell_type": "code",
   "execution_count": 43,
   "id": "2b1db702",
   "metadata": {},
   "outputs": [],
   "source": [
    "# 지역 없는것 제외\n",
    "mapping_merge_df_final_grp_temp2 = mapping_merge_df_final_grp[(mapping_merge_df_final_grp['세부사업명_지역']!='')&(mapping_merge_df_final_grp['납품요구건명_지역']!='')].reset_index(drop=True)\n",
    "\n",
    "# 사업명 지역 포함여부 확인\n",
    "mapping_merge_df_final_grp_temp2['세부사업명_지역'] = mapping_merge_df_final_grp_temp2['세부사업명_지역'].str.split()\n",
    "mapping_merge_df_final_grp_temp2['납품요구건명_지역'] = mapping_merge_df_final_grp_temp2['납품요구건명_지역'].str.split()\n",
    "\n",
    "mapping_merge_df_final_grp_temp2 = mapping_merge_df_final_grp_temp2[mapping_merge_df_final_grp_temp2.apply(check_inclusion_dist,axis=1)].reset_index(drop=True)\n",
    "\n",
    "mapping_merge_df_final_grp_temp2['세부사업명_지역'] = mapping_merge_df_final_grp_temp2['세부사업명_지역'].apply(lambda x : ' '.join(sorted(set(x)))).str.strip() ## 키워드별 정리\n",
    "mapping_merge_df_final_grp_temp2['납품요구건명_지역'] = mapping_merge_df_final_grp_temp2['납품요구건명_지역'].apply(lambda x : ' '.join(sorted(set(x)))).str.strip() ## 키워드별 정리"
   ]
  },
  {
   "cell_type": "code",
   "execution_count": 44,
   "id": "001c6098",
   "metadata": {},
   "outputs": [],
   "source": [
    "def check_inclusion2(row):\n",
    "    set1 = set(row['세부사업명_키워드2'])\n",
    "    set2 = set(row['납품요구건명_키워드2'])\n",
    "    return bool(set1 & set2)"
   ]
  },
  {
   "cell_type": "code",
   "execution_count": 45,
   "id": "9721ad33",
   "metadata": {},
   "outputs": [],
   "source": [
    "# 필요키워드패턴 모두 없는것 제외\n",
    "mapping_merge_df_final_grp_temp3 = mapping_merge_df_final_grp[(mapping_merge_df_final_grp['세부사업명_키워드2']!='')&(mapping_merge_df_final_grp['납품요구건명_키워드2']!='')].reset_index(drop=True)\n",
    "\n",
    "# 필요키워드 패턴 포함여부 확인\n",
    "mapping_merge_df_final_grp_temp3['세부사업명_키워드2'] = mapping_merge_df_final_grp_temp3['세부사업명_키워드2'].str.split() ## 키워드별 정리\n",
    "mapping_merge_df_final_grp_temp3['납품요구건명_키워드2'] = mapping_merge_df_final_grp_temp3['납품요구건명_키워드2'].str.split() ## 키워드별 정리\n",
    "\n",
    "mapping_merge_df_final_grp_temp3 = mapping_merge_df_final_grp_temp3[mapping_merge_df_final_grp_temp3.apply(check_inclusion2,axis=1)].reset_index(drop=True)\n",
    "\n",
    "mapping_merge_df_final_grp_temp3['세부사업명_키워드2'] = mapping_merge_df_final_grp_temp3['세부사업명_키워드2'].apply(lambda x : ' '.join(sorted(set(x)))).str.strip()\n",
    "mapping_merge_df_final_grp_temp3['납품요구건명_키워드2'] = mapping_merge_df_final_grp_temp3['납품요구건명_키워드2'].apply(lambda x : ' '.join(sorted(set(x)))).str.strip()"
   ]
  },
  {
   "cell_type": "code",
   "execution_count": 46,
   "id": "5c1b5846",
   "metadata": {},
   "outputs": [],
   "source": [
    "# 필터링 데이터셋 병합\n",
    "mapping_merge_df_final_grp_fin = pd.concat([mapping_merge_df_final_grp_temp1,mapping_merge_df_final_grp_temp2,mapping_merge_df_final_grp_temp3]).drop_duplicates().reset_index(drop=True)"
   ]
  },
  {
   "cell_type": "code",
   "execution_count": 47,
   "id": "9d92bdf7",
   "metadata": {},
   "outputs": [],
   "source": [
    "# 모든 키워드 합 중복 제거\n",
    "kwd_columns = ['all_kwd','세부사업명_키워드1', '납품요구건명_키워드1', '세부사업명_지역', '납품요구건명_지역', '세부사업명_키워드2', '납품요구건명_키워드2']\n",
    "mapping_merge_df_final_grp_fin['all_kwd_fin'] = mapping_merge_df_final_grp_fin[kwd_columns].apply(lambda x : (' ').join(x.dropna()),axis=1)\n",
    "mapping_merge_df_final_grp_fin['all_kwd_fin'] = mapping_merge_df_final_grp_fin['all_kwd_fin'].str.strip()\n",
    "mapping_merge_df_final_grp_fin['all_kwd_fin'] = mapping_merge_df_final_grp_fin['all_kwd_fin'].str.split().apply(lambda x : ' '.join(sorted(set(x)))).str.strip()\n",
    "# mapping_merge_df_final_grp_fin.drop(columns=kwd_columns, inplace\n",
    "# =True)\n",
    "\n",
    "mapping_merge_df_final_grp_fin = mapping_merge_df_final_grp_fin.drop_duplicates(['지역명', '자치단체명', '세부사업코드', '세부사업명', '세부사업명_re', '수요기관명', '수요기관지역명',\n",
    "                                                                                 '납품요구건명', '납품요구건명_re', '수요기관지역명_split1', '자치단체명_re', '수요기관지역명_split2', 'all_kwd_fin']).reset_index(drop=True)"
   ]
  },
  {
   "cell_type": "code",
   "execution_count": 48,
   "id": "9494704a",
   "metadata": {},
   "outputs": [],
   "source": [
    "# 최종필터링1 - 지역 일치\n",
    "mapping_merge_df_final_grp_fin_temp1 = mapping_merge_df_final_grp_fin[(mapping_merge_df_final_grp_fin['세부사업명_지역']!='') & (mapping_merge_df_final_grp_fin['납품요구건명_지역']!='')]\n",
    "mapping_merge_df_final_grp_fin_temp1 = mapping_merge_df_final_grp_fin_temp1[mapping_merge_df_final_grp_fin_temp1['세부사업명_지역']==mapping_merge_df_final_grp_fin_temp1['납품요구건명_지역']]"
   ]
  },
  {
   "cell_type": "code",
   "execution_count": 49,
   "id": "20c975a6",
   "metadata": {},
   "outputs": [],
   "source": [
    "# 최종필터링2 - 필수키워드 패턴 포함 & 지역 불일치 제거\n",
    "mapping_merge_df_final_grp_fin_temp2 = mapping_merge_df_final_grp_fin[(mapping_merge_df_final_grp_fin['세부사업명_키워드2']!='')&(mapping_merge_df_final_grp_fin['납품요구건명_키워드2']!='')].reset_index(drop=True)\n",
    "\n",
    "# 필요키워드 패턴 포함여부 확인\n",
    "mapping_merge_df_final_grp_fin_temp2['세부사업명_키워드2'] = mapping_merge_df_final_grp_fin_temp2['세부사업명_키워드2'].str.split() ## 키워드별 정리\n",
    "mapping_merge_df_final_grp_fin_temp2['납품요구건명_키워드2'] = mapping_merge_df_final_grp_fin_temp2['납품요구건명_키워드2'].str.split() ## 키워드별 정리\n",
    "\n",
    "mapping_merge_df_final_grp_fin_temp2 = mapping_merge_df_final_grp_fin_temp2[mapping_merge_df_final_grp_fin_temp2.apply(check_inclusion2,axis=1)].reset_index(drop=True)\n",
    "\n",
    "mapping_merge_df_final_grp_fin_temp2['세부사업명_키워드2'] = mapping_merge_df_final_grp_fin_temp2['세부사업명_키워드2'].apply(lambda x : ' '.join(sorted(set(x)))).str.strip()\n",
    "mapping_merge_df_final_grp_fin_temp2['납품요구건명_키워드2'] = mapping_merge_df_final_grp_fin_temp2['납품요구건명_키워드2'].apply(lambda x : ' '.join(sorted(set(x)))).str.strip()\n",
    "\n",
    "# 지역 불일치 제거\n",
    "mapping_merge_df_final_grp_fin_temp2 = mapping_merge_df_final_grp_fin_temp2[mapping_merge_df_final_grp_fin_temp2['세부사업명_지역']==mapping_merge_df_final_grp_fin_temp2['납품요구건명_지역']]"
   ]
  },
  {
   "cell_type": "code",
   "execution_count": 50,
   "id": "5120db74",
   "metadata": {},
   "outputs": [],
   "source": [
    "# 최종 필터링 데이터셋\n",
    "mapping_merge_df_final_grp_final = pd.concat([mapping_merge_df_final_grp_fin_temp1,mapping_merge_df_final_grp_fin_temp2]).drop_duplicates().reset_index(drop=True)\n",
    "mapping_merge_df_final_grp_final.drop(columns = 'all_kwd', inplace=True)"
   ]
  },
  {
   "cell_type": "code",
   "execution_count": 51,
   "id": "48cbf22f",
   "metadata": {},
   "outputs": [],
   "source": [
    "mapping_merge_df_final_grp_final.to_csv('C:\\py_src\\midoproject\\data/filtered_mapping_budget_df.csv', encoding='utf-8-sig')"
   ]
  },
  {
   "cell_type": "code",
   "execution_count": 52,
   "id": "418b5c02",
   "metadata": {},
   "outputs": [],
   "source": [
    "# 종합쇼핑몰 기준 필터링\n",
    "bid_cd1 = list(budget_df_today[budget_df_today['세부사업코드'].isin(mapping_merge_df_final_grp_final['세부사업코드'])]['세부사업코드'])\n",
    "bid_cd2 = list(budget_df_today[budget_df_today['세부사업명'].isin(mapping_merge_df_final_grp_final['세부사업명'])]['세부사업코드'])"
   ]
  },
  {
   "cell_type": "code",
   "execution_count": 53,
   "id": "6e28988a",
   "metadata": {},
   "outputs": [],
   "source": [
    "budget_df_today_fin = budget_df_today[~budget_df_today['세부사업코드'].isin(set(bid_cd1 + bid_cd2))].drop_duplicates().reset_index(drop=True)"
   ]
  },
  {
   "cell_type": "code",
   "execution_count": 54,
   "id": "ccfaa85d",
   "metadata": {},
   "outputs": [],
   "source": [
    "# 중요 사업 체크\n",
    "budget_df_today_final = pd.concat([budget_df_today_fin[budget_df_today_fin['세부사업명'].str.contains('인조잔디')],\n",
    "                                   budget_df_today_fin[~budget_df_today_fin['세부사업명'].str.contains('인조잔디')]],axis=0).reset_index(drop=True)"
   ]
  },
  {
   "cell_type": "code",
   "execution_count": 55,
   "id": "df586b0e",
   "metadata": {},
   "outputs": [],
   "source": [
    "# 최종데이터셋\n",
    "budget_df_today_final = budget_df_today_final[['회계연도', '집행일자', '지역명', '자치단체명', '회계구분명', '세부사업명','예산현액', '지출액', '편성액', '분야명', '부문명']].drop_duplicates().reset_index(drop=True)\n",
    "budget_df_delete = budget_df_delete[['회계연도', '집행일자', '지역명', '자치단체명', '회계구분명', '세부사업명','예산현액', '지출액', '편성액', '분야명', '부문명']].drop_duplicates().reset_index(drop=True)\n",
    "budget_df_new = budget_df_new[['회계연도', '집행일자', '지역명', '자치단체명', '회계구분명', '세부사업명','예산현액', '지출액', '편성액', '분야명', '부문명']].drop_duplicates().reset_index(drop=True)"
   ]
  },
  {
   "cell_type": "code",
   "execution_count": 56,
   "id": "913d0209",
   "metadata": {},
   "outputs": [
    {
     "name": "stdout",
     "output_type": "stream",
     "text": [
      "Data inserted into table budget_df_listup successfully.\n",
      "Data inserted into table budget_df_delete successfully.\n",
      "Data inserted into table budget_df_new successfully.\n"
     ]
    }
   ],
   "source": [
    "# 빅쿼리에 적재\n",
    "save_dataframe_to_bigquery(budget_df_today_final,'budget','budget_df_listup',bigquerykey_path)\n",
    "save_dataframe_to_bigquery(budget_df_delete,'budget','budget_df_delete',bigquerykey_path)\n",
    "save_dataframe_to_bigquery(budget_df_new,'budget','budget_df_new',bigquerykey_path)"
   ]
  }
 ],
 "metadata": {
  "kernelspec": {
   "display_name": "Python 3 (ipykernel)",
   "language": "python",
   "name": "python3"
  },
  "language_info": {
   "codemirror_mode": {
    "name": "ipython",
    "version": 3
   },
   "file_extension": ".py",
   "mimetype": "text/x-python",
   "name": "python",
   "nbconvert_exporter": "python",
   "pygments_lexer": "ipython3",
   "version": "3.8.19"
  }
 },
 "nbformat": 4,
 "nbformat_minor": 5
}
